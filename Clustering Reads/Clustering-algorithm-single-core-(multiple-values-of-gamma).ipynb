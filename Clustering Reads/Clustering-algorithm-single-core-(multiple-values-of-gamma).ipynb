{
 "cells": [
  {
   "cell_type": "code",
   "execution_count": 1,
   "metadata": {},
   "outputs": [],
   "source": [
    "import numpy as np\n",
    "import pandas as pd \n",
    "import string\n",
    "import random\n",
    "import csv\n",
    "import time\n",
    "import math\n",
    "import multiset \n",
    "import plotly.express as px\n",
    "import json \n",
    "import pandas as pd "
   ]
  },
  {
   "cell_type": "markdown",
   "metadata": {},
   "source": [
    "## Reading Data Files "
   ]
  },
  {
   "cell_type": "code",
   "execution_count": 4,
   "metadata": {},
   "outputs": [],
   "source": [
    "# The target file includes the original sequences that encodes the data. \n",
    "with open('targetBlawat et al.LDPC.txt') as f:\n",
    "    reads = f.readlines()\n",
    "for i in range(0,len(reads)):\n",
    "    reads[i] = reads[i][0:len(reads[i])-1]\n",
    "# reads "
   ]
  },
  {
   "cell_type": "code",
   "execution_count": 5,
   "metadata": {},
   "outputs": [
    {
     "data": {
      "text/plain": [
       "9608"
      ]
     },
     "execution_count": 5,
     "metadata": {},
     "output_type": "execute_result"
    }
   ],
   "source": [
    "np.size(reads)"
   ]
  },
  {
   "cell_type": "code",
   "execution_count": 6,
   "metadata": {},
   "outputs": [],
   "source": [
    "# The errors_shuffled file include the erroneous copies shuffled. \n",
    "with open('errors_shuffled.txt') as f:\n",
    "    reads_err = f.readlines()\n",
    "for i in range(0,len(reads_err)):\n",
    "#     reads_err[i] = reads_err[i][0:len(reads_err[i])-1]\n",
    "    reads_err[i] = reads_err[i].strip()\n",
    "# reads_err"
   ]
  },
  {
   "cell_type": "code",
   "execution_count": 7,
   "metadata": {},
   "outputs": [
    {
     "data": {
      "text/plain": [
       "1161706"
      ]
     },
     "execution_count": 7,
     "metadata": {},
     "output_type": "execute_result"
    }
   ],
   "source": [
    "np.size(reads_err)"
   ]
  },
  {
   "cell_type": "code",
   "execution_count": 8,
   "metadata": {},
   "outputs": [],
   "source": [
    "# evyat.txt include the erroneous copies clustered and labeled. \n",
    "with open('evyat.txt') as f:\n",
    "    reads_cl = f.readlines()\n",
    "for i in range(0,len(reads_cl)):\n",
    "    reads_cl[i] = reads_cl[i].strip()\n",
    "# reads_cl"
   ]
  },
  {
   "cell_type": "markdown",
   "metadata": {},
   "source": [
    "# Functions\n"
   ]
  },
  {
   "cell_type": "code",
   "execution_count": 9,
   "metadata": {},
   "outputs": [],
   "source": [
    "def hash_fun_ind(x,a,w,l): \n",
    "    cnt = 0 \n",
    "    for i in range(0,len(x)):\n",
    "        if x[i] == a[cnt]:\n",
    "            cnt += 1  \n",
    "        else:\n",
    "            cnt = 0 \n",
    "        if cnt == w:\n",
    "            return i-w+1 \n",
    "    return -1\n",
    "\n",
    "def hash_fun(x,a,w,l):\n",
    "    ind = hash_fun_ind(x,a,w,l)\n",
    "    return x[ind:min(len(x),ind+w+l)]\n",
    "\n",
    "def ind_st(st):\n",
    "    #All 3-grams: AAA,AAG,AAC,AAT,AGA,AGC,...,TTA,TTG,TTC,TTT\n",
    "    # A-0, G-1, C-2, T-3\n",
    "    # index of CAT = Decimal representaion of (203)\n",
    "    N_q = {\"A\":0,\"C\":1,\"G\":2,\"T\":3}\n",
    "    dec = 0\n",
    "    for i in range(0,len(st)):\n",
    "        dec += N_q[st[i]]*(4**(len(st)-i-1))\n",
    "    return dec \n",
    "    \n",
    "def bin_sig(x,q):\n",
    "    bs = [0]*(4**q) \n",
    "    for i in range(0,len(x)-q+1):\n",
    "        st = x[i:i+q]\n",
    "        bs[ind_st(st)] = 1\n",
    "    return bs \n",
    "        \n",
    "def ham_dis(x,y):\n",
    "    dis = 0\n",
    "    for i in range(0,len(x)):\n",
    "        if(x[i]!= y[i]):\n",
    "            dis += 1\n",
    "    return dis \n",
    "\n",
    "def rand_perm(w):\n",
    "    return ''.join(random.choice('ACGT') for _ in range(w))\n",
    "\n",
    "def merge(x,y,parent):\n",
    "    parent[x]= min(parent[x],parent[y])\n",
    "    parent[y]= min(parent[x],parent[y])\n",
    "    return parent\n",
    "    \n",
    "def rep_find(inp,parent):\n",
    "    temp = inp\n",
    "    cnt = 0\n",
    "    while(parent[temp]!=temp and cnt<10):\n",
    "        cnt += 1\n",
    "        temp=parent[temp]\n",
    "    return temp \n",
    "\n",
    "def edit_dis(s1, s2):\n",
    "    m=len(s1)+1\n",
    "    n=len(s2)+1\n",
    "\n",
    "    tbl = {}\n",
    "    for i in range(m): tbl[i,0]=i\n",
    "    for j in range(n): tbl[0,j]=j\n",
    "    for i in range(1, m):\n",
    "        for j in range(1, n):\n",
    "            cost = 0 if s1[i-1] == s2[j-1] else 1\n",
    "            tbl[i,j] = min(tbl[i, j-1]+1, tbl[i-1, j]+1, tbl[i-1, j-1]+cost)\n",
    "\n",
    "    return tbl[i,j]\n",
    "\n",
    "def find_in_arr(el,parent):\n",
    "    cnt = 0\n",
    "    for i in range(0,len(parent)):\n",
    "        if parent[i] == el: \n",
    "            cnt += 1 \n",
    "    return cnt \n",
    "        \n",
    "def readFile(fileName):\n",
    "        fileObj = open(fileName, \"r\") #opens the file in read mode\n",
    "        words = fileObj.read().splitlines() #puts the file into an array\n",
    "        fileObj.close()\n",
    "        for i in range(0,len(words)):\n",
    "            words[i] = int(words[i])\n",
    "        return words\n",
    "\n",
    "def read_file_dict(array):\n",
    "    d = dict(enumerate(array.flatten()))\n",
    "    return d[0]\n",
    "    \n",
    "def display_parent(parent):\n",
    "    clstr = {}\n",
    "    for i in range(0,len(parent)):\n",
    "        clstr[i]=[]\n",
    "    for i in range(0,len(parent)):\n",
    "        clstr[rep_find(i,parent)].append(i)\n",
    "    return clstr\n",
    "\n",
    "def display_parent_ver2(parent,C_til_prev,parent_prev):\n",
    "    clstr = C_til_prev\n",
    "    for i in range(0,len(parent)):\n",
    "        if(parent[i]!=parent_prev[i]):\n",
    "#                 print(i,rep_find(i,parent_prev),clstr[rep_find(i,parent_prev)])\n",
    "            clstr[rep_find(i,parent)].extend(clstr[i])\n",
    "            clstr[rep_find(i,parent_prev)] = []\n",
    "    return clstr"
   ]
  },
  {
   "cell_type": "code",
   "execution_count": 10,
   "metadata": {},
   "outputs": [
    {
     "data": {
      "text/plain": [
       "23"
      ]
     },
     "execution_count": 10,
     "metadata": {},
     "output_type": "execute_result"
    }
   ],
   "source": [
    "q =  3\n",
    "x = \"AACCTCTAGACACACAACTATTAGTACCTATTATAAACACAACATAAGGTCAAGATAAGCAGAGA\"\n",
    "y = \"AACACGAAATAACACACCACGAAGAGACACGACACAACACAACAGAGCACAACAGAGCACAACAC\"\n",
    "ham_dis(bin_sig(x,q),bin_sig(y,q))"
   ]
  },
  {
   "cell_type": "code",
   "execution_count": 11,
   "metadata": {},
   "outputs": [
    {
     "data": {
      "text/plain": [
       "3"
      ]
     },
     "execution_count": 11,
     "metadata": {},
     "output_type": "execute_result"
    }
   ],
   "source": [
    "q"
   ]
  },
  {
   "cell_type": "code",
   "execution_count": 12,
   "metadata": {},
   "outputs": [
    {
     "data": {
      "text/plain": [
       "28"
      ]
     },
     "execution_count": 12,
     "metadata": {},
     "output_type": "execute_result"
    }
   ],
   "source": [
    "edit_dis(x,y)"
   ]
  },
  {
   "cell_type": "code",
   "execution_count": 13,
   "metadata": {},
   "outputs": [
    {
     "data": {
      "text/plain": [
       "7"
      ]
     },
     "execution_count": 13,
     "metadata": {},
     "output_type": "execute_result"
    }
   ],
   "source": [
    "x = reads_err[1]\n",
    "y = reads_err[215]\n",
    "ham_dis(bin_sig(x,q),bin_sig(y,q))"
   ]
  },
  {
   "cell_type": "code",
   "execution_count": 14,
   "metadata": {},
   "outputs": [
    {
     "data": {
      "text/plain": [
       "4"
      ]
     },
     "execution_count": 14,
     "metadata": {},
     "output_type": "execute_result"
    }
   ],
   "source": [
    "edit_dis(x,y)"
   ]
  },
  {
   "cell_type": "markdown",
   "metadata": {},
   "source": [
    "# Clustering Algorithm"
   ]
  },
  {
   "cell_type": "code",
   "execution_count": 15,
   "metadata": {},
   "outputs": [],
   "source": [
    "def rep_in_C(read,C_reps):\n",
    "    lower = 0;\n",
    "    upper = len(C_reps) - 1;\n",
    "    while (lower <= upper):\n",
    "        mid = lower + int((upper - lower) / 2)\n",
    "#         print(upper,mid)\n",
    "        res = -1\n",
    "        if (read == (C_reps[mid][0])):\n",
    "            return C_reps[mid][1]\n",
    "        if (read > (C_reps[mid][0])):\n",
    "            lower = mid + 1;\n",
    "        else:\n",
    "            upper = mid - 1;\n",
    "    return -1;\n",
    "\n",
    "def comp_clstrs(alg_clstr,org_clstr,gamma):\n",
    "    num_exist = 0\n",
    "    if(len(alg_clstr)>len(org_clstr)):\n",
    "#         print(alg_clstr)\n",
    "        return 0 \n",
    "    else:\n",
    "        for i in range(0,len(alg_clstr)):\n",
    "            flg_exist = 0\n",
    "            for j in range(0,len(org_clstr)):\n",
    "                if(reads_err[alg_clstr[i]] == org_clstr[j]):\n",
    "                    flg_exist = 1\n",
    "                    num_exist +=1\n",
    "                    break\n",
    "            if(flg_exist == 0):\n",
    "                return 0\n",
    "        if(num_exist < gamma*len(org_clstr)):\n",
    "            return 0\n",
    "            \n",
    "        return 1 \n",
    "    \n",
    "def calc_acrcy(clustering,C_dict,C_reps,gamma):\n",
    "#     clustering = display_parent(parent)\n",
    "    acrcy = 0\n",
    "    for i in range(0,len(clustering)):\n",
    "        if(len(clustering[i])>=1):\n",
    "            acrcy = acrcy + comp_clstrs(clustering[i],C_dict[rep_in_C(reads_err[clustering[i][0]],C_reps)],gamma)\n",
    "    return acrcy\n",
    "\n",
    "def min_max(val1,val2):\n",
    "    min_val = min(val1,val2)\n",
    "    max_val = max(val1,val2)\n",
    "    return min_val,max_val\n",
    "    "
   ]
  },
  {
   "cell_type": "code",
   "execution_count": 16,
   "metadata": {},
   "outputs": [],
   "source": [
    "# (Read, Cluster rep of the cluster to which the read belongs to)\n",
    "C_reps = []\n",
    "C_dict = {}\n",
    "rep = reads_cl[0]\n",
    "for i in range(1,len(reads_cl)):\n",
    "    if reads_cl[i] != \"\":\n",
    "        if reads_cl[i][0] == \"*\":\n",
    "            if(len(C_reps)>0):\n",
    "                C_dict[rep].pop()\n",
    "                C_reps.pop()\n",
    "            rep=reads_cl[i-1]\n",
    "            C_dict[rep]=[]\n",
    "        else:\n",
    "#             print(C_dict)\n",
    "            C_dict[rep].append(reads_cl[i])\n",
    "            C_reps.append((reads_cl[i],rep))\n",
    "C_reps.sort(key=lambda x:x[0])"
   ]
  },
  {
   "cell_type": "code",
   "execution_count": 17,
   "metadata": {},
   "outputs": [
    {
     "data": {
      "text/plain": [
       "[('AAAAAAACCGGAATATCAATCGAGCGAATGGGATACTACATTAAGGGATATCACTTGATCACAAG',\n",
       "  'AACGAAACCGGAATATCAATCGAGCGAATGGGATACTACATTAAGGGATATCACTTGATCACAAG'),\n",
       " ('AAAAAAAGGTGAACTCGAAGACGTTAACGATATGACCCGTCAATTAAATGACGTATACACTACT',\n",
       "  'AACTAAAGGTGAACTCGAAGATCGTTAACGATATGACCCGTCAATTAAATGACGTATACACTACT'),\n",
       " ('AAAAACACACTCAACGATACCTCTAACGGATAATCCGGTCACTAACATAAGAAGCACGCAAT',\n",
       "  'AACTACAAACACACTCAACGATACTCTAACGGATAATCCGGTCACTAACATAAGAAGCACGCAAT'),\n",
       " ('AAAAACACCAATCAGATAAGAGTATAAGAGATAAGAACATCTACGAATCCACGCAATATGACG',\n",
       "  'AACCAAACACCAATCAGATAAGAGTATAAGAGATAAGAACATCTACGAATCCACGCAATATGACG'),\n",
       " ('AAAAACACTTAGAAACATCAAGAGCAGCATATCTACCTCGAGTCCGTCTGCACACAACGTAGC',\n",
       "  'AACTAAACACTTAGAAACATCAAGAGCAGCATATCAACCTCGAGTCCGTCTGCACACAACGTAGC')]"
      ]
     },
     "execution_count": 17,
     "metadata": {},
     "output_type": "execute_result"
    }
   ],
   "source": [
    "C_reps[0:5]"
   ]
  },
  {
   "cell_type": "code",
   "execution_count": 18,
   "metadata": {},
   "outputs": [
    {
     "data": {
      "text/plain": [
       "['AATCTCTAGACACACAACTATTAGTACCTATTATAAACACAACATAAGGTCAAGATAAGCAGAGA',\n",
       " 'AACCTCTAGACACACAACTATTAGTACCTATTATAAACACAACATAAGGTCAAGATAAGCAGAGA',\n",
       " 'AACCTCTAGACACACAACTATTAGTACCTATTACAAACACAACATAAGGTCAAGATAAGCAGAGA',\n",
       " 'AACCTCTAGACACACAACTATTAGTACCTATTATAAACACAACATAAGGTCAAGATAAGCAGAGA',\n",
       " 'AACCTCTAGACAACACAACTATTAGTACCTATTATAAACACAACATAAGGTCAAGATAAGCAGAGA']"
      ]
     },
     "execution_count": 18,
     "metadata": {},
     "output_type": "execute_result"
    }
   ],
   "source": [
    "C_dict[list(C_dict.keys())[0]][0:5]"
   ]
  },
  {
   "cell_type": "code",
   "execution_count": 19,
   "metadata": {},
   "outputs": [],
   "source": [
    "# Precompute all the binary signatures\n",
    "q = 3\n",
    "bin_sig_arr  = [0]*(len(reads_err))\n",
    "for i in range(0,len(reads_err)):\n",
    "    bin_sig_arr[i]=bin_sig(reads_err[i],q)"
   ]
  },
  {
   "cell_type": "code",
   "execution_count": 65,
   "metadata": {
    "scrolled": true
   },
   "outputs": [
    {
     "name": "stdout",
     "output_type": "stream",
     "text": [
      "17.903571844100952 0 215162\n",
      "76.39730715751648 1 110813\n",
      "11.986342668533325 2 103003\n",
      "11.615623950958252 3 77918\n",
      "7.375612258911133 4 19030\n",
      "7.784294605255127 5 29409\n",
      "8.040971517562866 6 40521\n",
      "9.359636068344116 7 64207\n",
      "10.051790475845337 8 82391\n",
      "8.747482776641846 9 64987\n",
      "5.719127178192139 10 31950\n",
      "48.967026710510254 11 100241\n",
      "6.920154333114624 12 40032\n",
      "6.181757688522339 13 27316\n",
      "4.709018230438232 14 18754\n",
      "1.8206775188446045 15 191\n",
      "4.563801288604736 16 18885\n",
      "4.033775091171265 17 14527\n",
      "3.3507444858551025 18 11335\n",
      "3.0553882122039795 19 8636\n",
      "1.8114519119262695 20 413\n",
      "33.73562240600586 21 10765\n",
      "2.5763347148895264 22 5141\n",
      "3.272871494293213 23 8221\n",
      "1.6652321815490723 24 1725\n",
      "2.456578254699707 25 5922\n",
      "1.228353500366211 26 667\n",
      "2.609807014465332 27 5459\n",
      "1.3083515167236328 28 321\n",
      "1.682349681854248 29 1315\n",
      "2.5762126445770264 30 5138\n",
      "27.702231645584106 31 5239\n",
      "1.9320855140686035 32 3362\n",
      "1.7230048179626465 33 2570\n",
      "1.0499260425567627 34 392\n",
      "1.2200706005096436 35 1000\n",
      "1.2230448722839355 36 1031\n",
      "0.9897623062133789 37 128\n",
      "1.670454740524292 38 1830\n",
      "1.0207738876342773 39 365\n",
      "1.4620678424835205 40 1467\n",
      "26.665194272994995 41 925\n",
      "1.0168752670288086 42 392\n",
      "1.0144672393798828 43 198\n",
      "0.951615571975708 44 130\n",
      "1.2815816402435303 45 722\n",
      "1.0300848484039307 46 157\n",
      "1.2959067821502686 47 905\n",
      "0.9446835517883301 48 36\n",
      "1.1472573280334473 49 346\n",
      "1.281816005706787 50 998\n",
      "24.88603401184082 51 25\n",
      "1.4194235801696777 52 1120\n",
      "0.9818809032440186 53 211\n",
      "0.8892488479614258 54 31\n",
      "1.02949857711792 55 258\n",
      "0.9373672008514404 56 34\n",
      "1.0338122844696045 57 279\n",
      "0.9045076370239258 58 33\n",
      "0.9776713848114014 59 129\n",
      "0.9385488033294678 60 127\n",
      "23.183847188949585 61 306\n",
      "0.946990966796875 62 99\n",
      "0.9570035934448242 63 181\n",
      "0.8786425590515137 64 44\n",
      "0.9219779968261719 65 92\n",
      "0.9869909286499023 66 203\n",
      "0.9947555065155029 67 162\n",
      "0.9047684669494629 68 31\n",
      "1.005584955215454 69 213\n",
      "0.8686776161193848 70 16\n",
      "23.441041231155396 71 10\n",
      "0.9228475093841553 72 34\n",
      "0.893505334854126 73 3\n",
      "0.9266974925994873 74 65\n",
      "0.8988420963287354 75 27\n",
      "1.0076258182525635 76 118\n",
      "0.9120233058929443 77 9\n",
      "0.9952788352966309 78 101\n",
      "0.8909544944763184 79 17\n",
      "0.8698890209197998 80 6\n",
      "23.417173385620117 81 40\n",
      "0.8707401752471924 82 12\n",
      "0.902855396270752 83 47\n",
      "0.9114203453063965 84 59\n",
      "0.9252195358276367 85 57\n",
      "0.9237349033355713 86 79\n",
      "0.8497714996337891 87 6\n",
      "0.8970382213592529 88 47\n",
      "0.8612391948699951 89 2\n",
      "0.8906538486480713 90 23\n",
      "22.931299209594727 91 8\n",
      "0.8842856884002686 92 13\n",
      "0.8853104114532471 93 20\n",
      "0.8781068325042725 94 29\n",
      "0.8933796882629395 95 40\n",
      "0.8989489078521729 96 57\n",
      "0.9055874347686768 97 44\n",
      "0.8700528144836426 98 16\n",
      "1.005021572113037 99 9\n",
      "0.9738850593566895 100 4\n",
      "23.97330141067505 101 12\n",
      "0.9012255668640137 102 8\n",
      "0.9328277111053467 103 24\n",
      "0.9152960777282715 104 37\n",
      "0.8651471138000488 105 4\n",
      "0.9112823009490967 106 45\n",
      "0.9047586917877197 107 16\n",
      "0.8900542259216309 108 8\n",
      "0.9285430908203125 109 31\n",
      "0.8886871337890625 110 2\n",
      "26.91461944580078 111 1\n",
      "1.1793184280395508 112 2\n",
      "1.1813254356384277 113 0\n",
      "1.1810085773468018 114 25\n",
      "1.2103219032287598 115 15\n",
      "1.322519063949585 116 12\n",
      "1.2074644565582275 117 6\n",
      "1.2032508850097656 118 3\n",
      "1.2769815921783447 119 27\n",
      "1.2318227291107178 120 2\n",
      "39.79635405540466 121 2\n",
      "1.203455924987793 122 2\n",
      "1.2890009880065918 123 27\n",
      "1.198033332824707 124 0\n",
      "1.2444407939910889 125 3\n",
      "1.2448699474334717 126 10\n",
      "1.2825725078582764 127 4\n",
      "1.267195463180542 128 3\n",
      "1.224881649017334 129 4\n",
      "1.2833280563354492 130 2\n",
      "34.993812084198 131 2\n",
      "1.1612963676452637 132 12\n",
      "1.1266751289367676 133 1\n",
      "1.1479310989379883 134 7\n",
      "1.1361181735992432 135 0\n",
      "1.1229698657989502 136 7\n",
      "1.155191421508789 137 6\n",
      "1.152184247970581 138 7\n",
      "1.1306488513946533 139 1\n",
      "1.128000020980835 140 1\n",
      "33.79225540161133 141 2\n",
      "1.172154426574707 142 1\n",
      "1.1545062065124512 143 2\n",
      "1.1574442386627197 144 1\n",
      "1.181614875793457 145 0\n",
      "1.161787509918213 146 8\n",
      "1.2345004081726074 147 5\n",
      "1.2664527893066406 148 17\n",
      "1.169234275817871 149 0\n",
      "1.1607882976531982 150 4\n",
      "35.61125183105469 151 1\n",
      "1.2310776710510254 152 16\n",
      "1.1945405006408691 153 10\n",
      "1.1848385334014893 154 5\n",
      "1.203901767730713 155 1\n",
      "1.1844542026519775 156 6\n",
      "1.1979856491088867 157 2\n",
      "1.1828839778900146 158 4\n",
      "1.11720609664917 159 3\n",
      "1.1225383281707764 160 0\n",
      "35.317582845687866 161 0\n",
      "1.1816551685333252 162 4\n",
      "1.188323974609375 163 0\n",
      "1.250363826751709 164 1\n",
      "1.180332899093628 165 6\n",
      "1.2240393161773682 166 2\n",
      "1.1472938060760498 167 1\n",
      "1.1176724433898926 168 2\n",
      "1.1359024047851562 169 0\n",
      "1.1149771213531494 170 0\n",
      "33.76347637176514 171 17\n",
      "1.1563851833343506 172 7\n",
      "1.1335465908050537 173 0\n",
      "1.1179413795471191 174 0\n",
      "1.1127758026123047 175 0\n",
      "1.122305154800415 176 2\n",
      "1.137115716934204 177 3\n",
      "1.1565237045288086 178 11\n",
      "1.1552705764770508 179 1\n",
      "1.1199445724487305 180 1\n",
      "31.754337072372437 181 3\n",
      "0.887260913848877 182 0\n",
      "0.8894057273864746 183 2\n",
      "0.8594715595245361 184 3\n",
      "0.9094247817993164 185 3\n",
      "0.8909242153167725 186 7\n",
      "0.889765739440918 187 2\n",
      "1.0376644134521484 188 0\n",
      "1.060563325881958 189 1\n",
      "0.9227943420410156 190 2\n",
      "26.21092653274536 191 4\n",
      "0.9103639125823975 192 3\n",
      "0.9199826717376709 193 10\n",
      "0.9070641994476318 194 4\n",
      "0.8851652145385742 195 1\n",
      "0.9553165435791016 196 9\n",
      "0.8941779136657715 197 1\n",
      "0.9520103931427002 198 13\n",
      "0.8990013599395752 199 2\n",
      "0.8541543483734131 200 1\n",
      "24.517452239990234 201 1\n",
      "0.875429630279541 202 1\n",
      "0.8590712547302246 203 1\n",
      "0.864077091217041 204 7\n",
      "0.8675792217254639 205 0\n",
      "0.8956387042999268 206 1\n",
      "0.9598042964935303 207 0\n",
      "0.8956317901611328 208 2\n",
      "0.9143064022064209 209 0\n",
      "0.8772501945495605 210 1\n",
      "24.647799491882324 211 3\n",
      "0.8788466453552246 212 0\n",
      "0.9164750576019287 213 2\n",
      "0.8844089508056641 214 0\n",
      "0.8739886283874512 215 0\n",
      "0.9255225658416748 216 0\n",
      "0.881427526473999 217 0\n",
      "0.8968768119812012 218 0\n",
      "0.8742318153381348 219 3\n",
      "0.9260551929473877 220 15\n",
      "24.5346941947937 221 1\n",
      "0.86136794090271 222 1\n",
      "0.8592896461486816 223 0\n",
      "0.8660387992858887 224 1\n",
      "0.8661892414093018 225 2\n",
      "0.860321044921875 226 0\n",
      "0.8689160346984863 227 1\n",
      "0.8637268543243408 228 0\n",
      "0.8591012954711914 229 1\n",
      "0.8600940704345703 230 0\n",
      "24.114073276519775 231 1\n",
      "0.9114220142364502 232 0\n",
      "0.8870992660522461 233 1\n",
      "0.869251012802124 234 1\n",
      "0.9185435771942139 235 0\n",
      "0.9252285957336426 236 3\n",
      "0.9008612632751465 237 0\n",
      "0.859821081161499 238 0\n",
      "0.8956949710845947 239 0\n",
      "0.9234845638275146 240 3\n",
      "27.037981510162354 241 4\n",
      "0.894503116607666 242 1\n",
      "0.8939321041107178 243 1\n",
      "0.8884866237640381 244 1\n",
      "0.9230904579162598 245 2\n",
      "0.8952147960662842 246 0\n",
      "0.9276118278503418 247 1\n",
      "0.8840036392211914 248 1\n",
      "0.897564172744751 249 0\n",
      "0.9981684684753418 250 3\n",
      "25.37067198753357 251 0\n",
      "0.8583097457885742 252 0\n",
      "0.8651142120361328 253 2\n",
      "0.8649449348449707 254 0\n",
      "0.8725173473358154 255 0\n",
      "0.8665978908538818 256 0\n",
      "0.858994722366333 257 1\n",
      "0.8657748699188232 258 1\n",
      "0.8905401229858398 259 3\n",
      "0.8760826587677002 260 0\n",
      "25.087743282318115 261 2\n",
      "0.8759820461273193 262 3\n",
      "0.8660297393798828 263 2\n",
      "0.8607516288757324 264 0\n",
      "0.8580422401428223 265 0\n",
      "0.8719773292541504 266 1\n",
      "0.8715181350708008 267 0\n",
      "0.8654887676239014 268 0\n",
      "0.8582484722137451 269 0\n",
      "0.8741157054901123 270 0\n",
      "23.150978565216064 271 2\n",
      "0.8588407039642334 272 1\n",
      "0.866696834564209 273 0\n",
      "0.8622610569000244 274 0\n",
      "0.8650643825531006 275 0\n",
      "0.8581953048706055 276 0\n",
      "0.858217716217041 277 0\n",
      "0.8698456287384033 278 0\n",
      "0.8630721569061279 279 0\n",
      "0.8641362190246582 280 0\n",
      "23.182826280593872 281 0\n",
      "0.8654022216796875 282 0\n",
      "0.8719711303710938 283 1\n",
      "0.8781712055206299 284 2\n",
      "0.8615908622741699 285 0\n",
      "0.8573553562164307 286 0\n",
      "0.8757979869842529 287 0\n",
      "0.8434202671051025 288 0\n",
      "0.8600008487701416 289 0\n",
      "0.8626983165740967 290 0\n",
      "22.817343711853027 291 2\n",
      "0.8808116912841797 292 1\n",
      "0.8661267757415771 293 0\n",
      "0.8789064884185791 294 0\n",
      "0.8767621517181396 295 1\n",
      "0.9087874889373779 296 0\n",
      "0.9712672233581543 297 0\n",
      "0.9307441711425781 298 1\n",
      "0.8809964656829834 299 0\n",
      "0.8752830028533936 300 1\n",
      "24.192113161087036 301 1\n"
     ]
    }
   ],
   "source": [
    "reads_err_ind  = [0]*(len(reads_err))\n",
    "parent = [0]*(len(reads_err))\n",
    "for i in range(0,len(reads_err)):\n",
    "    reads_err_ind[i] = (i,reads_err[i]) \n",
    "    parent[i] = i\n",
    "\n",
    "C_til = display_parent(parent)\n",
    "acrcy_dict1 = {}\n",
    "acrcy_dict2 = {}\n",
    "acrcy_dict3 = {}\n",
    "acrcy_dict4 = {}\n",
    "acrcy_dict5 = {}\n",
    "\n",
    "time_itr_dict = {}\n",
    "# parent_dict = {}\n",
    "# parent_dict[0] = parent.copy() \n",
    "\n",
    "# DESIRED_ACRCY = 0.99\n",
    "gamma = 0.9\n",
    "card_C = len(reads)\n",
    "local_comm = 302\n",
    "\n",
    "q = 3\n",
    "th_high = 12\n",
    "th_low  = 8\n",
    "r = 6\n",
    "w = math.ceil(math.log(len(reads_err[0]),4))\n",
    "l = math.ceil(math.log(len(reads_err),4))\n",
    "\n",
    "lcl_step = 0\n",
    "\n",
    "\n",
    "for lcl_step in range(0,local_comm):\n",
    "# while(acrcy < DESIRED_ACRCY):   \n",
    "    time_start = time.time()\n",
    "\n",
    "    hash_select = [0]*(len(reads_err))    \n",
    "    for i in range(0,len(C_til)):\n",
    "        if(len(C_til[i])!=0):    \n",
    "            hash_select[random.choice(C_til[i])]=1\n",
    "            \n",
    "    a = rand_perm(w)\n",
    "    hash_C_til = [0]*(len(reads_err))\n",
    "    for i in range(0,len(reads_err_ind)):\n",
    "        if(hash_select[i]==0):\n",
    "            hash_C_til[i] = (i,\"\")\n",
    "        else:\n",
    "            hash_C_til[i] = (i,hash_fun(reads_err_ind[i][1],a,w,l))    \n",
    "    hash_C_til.sort(key=lambda x:x[1])\n",
    "\n",
    "    cnt = 0\n",
    "    for i in range(0,len(hash_C_til)-1):\n",
    "        if(hash_C_til[i][1] == \"\"):\n",
    "            continue \n",
    "        else:\n",
    "            if hash_C_til[i][1] == hash_C_til[i+1][1]:\n",
    "#                 if rep_find(i,parent) == rep_find(i+1,parent):\n",
    "#                     continue \n",
    "                x = reads_err[hash_C_til[i][0]]\n",
    "                y = reads_err[hash_C_til[i+1][0]]\n",
    "                if((ham_dis(bin_sig_arr[hash_C_til[i][0]],bin_sig_arr[hash_C_til[i+1][0]]) <= th_low) or ((ham_dis(bin_sig_arr[hash_C_til[i][0]],bin_sig_arr[hash_C_til[i+1][0]]) <= th_high) and edit_dis(x,y)<=r)):\n",
    "                    cnt +=  1                   \n",
    "                    min_temp,max_temp = min_max(rep_find(hash_C_til[i][0],parent),rep_find(hash_C_til[i+1][0],parent))                    \n",
    "                    C_til[min_temp].extend(C_til[max_temp])\n",
    "                    C_til[max_temp] = []        \n",
    "                    parent[max_temp] = min_temp                    \n",
    "\n",
    "    if lcl_step%10==1:\n",
    "        acrcy_dict1[lcl_step+1] = calc_acrcy(C_til,C_dict,C_reps,0.6)/card_C\n",
    "        acrcy_dict2[lcl_step+1] = calc_acrcy(C_til,C_dict,C_reps,0.7)/card_C\n",
    "        acrcy_dict3[lcl_step+1] = calc_acrcy(C_til,C_dict,C_reps,0.8)/card_C\n",
    "        acrcy_dict4[lcl_step+1] = calc_acrcy(C_til,C_dict,C_reps,0.9)/card_C\n",
    "        acrcy_dict5[lcl_step+1] = calc_acrcy(C_til,C_dict,C_reps,1)/card_C\n",
    "    \n",
    "#     parent_dict[lcl_step+1]=parent.copy()\n",
    "    \n",
    "    time_itr = time.time() - time_start\n",
    "    time_itr_dict[lcl_step+1]=time_itr\n",
    "    \n",
    "    print(time_itr,lcl_step,cnt)\n",
    "    \n",
    "#     lcl_step += 1"
   ]
  },
  {
   "cell_type": "code",
   "execution_count": 4,
   "metadata": {},
   "outputs": [],
   "source": [
    "# with open('time_itr_dict_12,8,6,300_clstr_dict.json', 'w') as fp:\n",
    "#     json.dump(time_itr_dict, fp)\n",
    "# with open('acrcy_dict_12,8,6,300,0.6_clstr_dict.json', 'w') as fp:\n",
    "#     json.dump(acrcy_dict1, fp)\n",
    "# with open('acrcy_dict_12,8,6,300,0.7_clstr_dict.json', 'w') as fp:\n",
    "#     json.dump(acrcy_dict2, fp)\n",
    "# with open('acrcy_dict_12,8,6,300,0.8_clstr_dict.json', 'w') as fp:\n",
    "#     json.dump(acrcy_dict3, fp)\n",
    "# with open('acrcy_dict_12,8,6,300,0.9_clstr_dict.json', 'w') as fp:\n",
    "#     json.dump(acrcy_dict4, fp)\n",
    "# with open('acrcy_dict_12,8,6,300,1_clstr_dict.json', 'w') as fp:\n",
    "#     json.dump(acrcy_dict5, fp)\n",
    "\n",
    "with open('acrcy_dict_12,8,6,300,0.6_clstr_dict.json') as f:\n",
    "    acrcy_dict1 = json.load(f)\n",
    "with open('acrcy_dict_12,8,6,300,0.7_clstr_dict.json') as f:\n",
    "    acrcy_dict2 = json.load(f)\n",
    "with open('acrcy_dict_12,8,6,300,0.8_clstr_dict.json') as f:\n",
    "    acrcy_dict3 = json.load(f)\n",
    "with open('acrcy_dict_12,8,6,300,0.9_clstr_dict.json') as f:\n",
    "    acrcy_dict4 = json.load(f)\n",
    "with open('acrcy_dict_12,8,6,300,1_clstr_dict.json') as f:\n",
    "    acrcy_dict5 = json.load(f)"
   ]
  },
  {
   "cell_type": "code",
   "execution_count": 66,
   "metadata": {},
   "outputs": [
    {
     "data": {
      "text/plain": [
       "1319.4379534721375"
      ]
     },
     "execution_count": 66,
     "metadata": {},
     "output_type": "execute_result"
    }
   ],
   "source": [
    "total_time = 0\n",
    "for i in range(1,len(time_itr_dict)+1):\n",
    "    total_time += time_itr_dict[i]\n",
    "total_time"
   ]
  },
  {
   "cell_type": "code",
   "execution_count": 14,
   "metadata": {},
   "outputs": [
    {
     "data": {
      "application/vnd.plotly.v1+json": {
       "config": {
        "plotlyServerURL": "https://plot.ly"
       },
       "data": [
        {
         "hovertemplate": "variable=0.6<br>keys=%{x}<br>value=%{y}<extra></extra>",
         "legendgroup": "0.6",
         "line": {
          "color": "#636efa",
          "dash": "solid"
         },
         "mode": "lines",
         "name": "0.6",
         "orientation": "v",
         "showlegend": true,
         "type": "scatter",
         "x": [
          "2",
          "12",
          "22",
          "32",
          "42",
          "52",
          "62",
          "72",
          "82",
          "92",
          "102",
          "112",
          "122",
          "132",
          "142",
          "152",
          "162",
          "172",
          "182",
          "192",
          "202",
          "212",
          "222",
          "232",
          "242",
          "252",
          "262",
          "272",
          "282",
          "292",
          "302"
         ],
         "xaxis": "x",
         "y": [
          0.29964612822647796,
          0.8507493755203996,
          0.966278101582015,
          0.992089925062448,
          0.9981265611990008,
          0.9992714404662781,
          0.9997918401332223,
          0.9997918401332223,
          0.9997918401332223,
          0.9997918401332223,
          0.9998959200666112,
          0.9998959200666112,
          0.9998959200666112,
          0.9998959200666112,
          0.9998959200666112,
          0.9998959200666112,
          0.9998959200666112,
          0.9998959200666112,
          0.9998959200666112,
          0.9998959200666112,
          0.9998959200666112,
          0.9996877601998335,
          0.9996877601998335,
          0.9996877601998335,
          0.9996877601998335,
          0.9996877601998335,
          0.9996877601998335,
          0.9996877601998335,
          0.9996877601998335,
          0.9996877601998335,
          0.9996877601998335
         ],
         "yaxis": "y"
        },
        {
         "hovertemplate": "variable=0.7<br>keys=%{x}<br>value=%{y}<extra></extra>",
         "legendgroup": "0.7",
         "line": {
          "color": "#EF553B",
          "dash": "solid"
         },
         "mode": "lines",
         "name": "0.7",
         "orientation": "v",
         "showlegend": true,
         "type": "scatter",
         "x": [
          "2",
          "12",
          "22",
          "32",
          "42",
          "52",
          "62",
          "72",
          "82",
          "92",
          "102",
          "112",
          "122",
          "132",
          "142",
          "152",
          "162",
          "172",
          "182",
          "192",
          "202",
          "212",
          "222",
          "232",
          "242",
          "252",
          "262",
          "272",
          "282",
          "292",
          "302"
         ],
         "xaxis": "x",
         "y": [
          0.2721690258118235,
          0.805578684429642,
          0.9473355537052456,
          0.9853247293921732,
          0.9961490424646128,
          0.9984388009991674,
          0.9994796003330558,
          0.9997918401332223,
          0.9997918401332223,
          0.9997918401332223,
          0.9998959200666112,
          0.9998959200666112,
          0.9998959200666112,
          0.9998959200666112,
          0.9998959200666112,
          0.9998959200666112,
          0.9998959200666112,
          0.9998959200666112,
          0.9998959200666112,
          0.9998959200666112,
          0.9998959200666112,
          0.9996877601998335,
          0.9996877601998335,
          0.9996877601998335,
          0.9996877601998335,
          0.9996877601998335,
          0.9996877601998335,
          0.9996877601998335,
          0.9996877601998335,
          0.9996877601998335,
          0.9996877601998335
         ],
         "yaxis": "y"
        },
        {
         "hovertemplate": "variable=0.8<br>keys=%{x}<br>value=%{y}<extra></extra>",
         "legendgroup": "0.8",
         "line": {
          "color": "#00cc96",
          "dash": "solid"
         },
         "mode": "lines",
         "name": "0.8",
         "orientation": "v",
         "showlegend": true,
         "type": "scatter",
         "x": [
          "2",
          "12",
          "22",
          "32",
          "42",
          "52",
          "62",
          "72",
          "82",
          "92",
          "102",
          "112",
          "122",
          "132",
          "142",
          "152",
          "162",
          "172",
          "182",
          "192",
          "202",
          "212",
          "222",
          "232",
          "242",
          "252",
          "262",
          "272",
          "282",
          "292",
          "302"
         ],
         "xaxis": "x",
         "y": [
          0.1808909242298085,
          0.6761032472939217,
          0.8891548709408826,
          0.9636761032472939,
          0.9895920066611157,
          0.9955245628642798,
          0.9985428809325562,
          0.9992714404662781,
          0.9995836802664446,
          0.9996877601998335,
          0.9998959200666112,
          0.9998959200666112,
          0.9998959200666112,
          0.9998959200666112,
          0.9998959200666112,
          0.9998959200666112,
          0.9998959200666112,
          0.9998959200666112,
          0.9998959200666112,
          0.9998959200666112,
          0.9998959200666112,
          0.9996877601998335,
          0.9996877601998335,
          0.9996877601998335,
          0.9996877601998335,
          0.9996877601998335,
          0.9996877601998335,
          0.9996877601998335,
          0.9996877601998335,
          0.9996877601998335,
          0.9996877601998335
         ],
         "yaxis": "y"
        },
        {
         "hovertemplate": "variable=0.9<br>keys=%{x}<br>value=%{y}<extra></extra>",
         "legendgroup": "0.9",
         "line": {
          "color": "#ab63fa",
          "dash": "solid"
         },
         "mode": "lines",
         "name": "0.9",
         "orientation": "v",
         "showlegend": true,
         "type": "scatter",
         "x": [
          "2",
          "12",
          "22",
          "32",
          "42",
          "52",
          "62",
          "72",
          "82",
          "92",
          "102",
          "112",
          "122",
          "132",
          "142",
          "152",
          "162",
          "172",
          "182",
          "192",
          "202",
          "212",
          "222",
          "232",
          "242",
          "252",
          "262",
          "272",
          "282",
          "292",
          "302"
         ],
         "xaxis": "x",
         "y": [
          0.03164029975020816,
          0.42787260616153205,
          0.7485428809325562,
          0.9065362198168193,
          0.9650291423813488,
          0.9818900915903414,
          0.9936511240632806,
          0.9969816819317235,
          0.9983347210657785,
          0.9993755203996669,
          0.9996877601998335,
          0.9997918401332223,
          0.9997918401332223,
          0.9997918401332223,
          0.9997918401332223,
          0.9997918401332223,
          0.9997918401332223,
          0.9997918401332223,
          0.9997918401332223,
          0.9997918401332223,
          0.9998959200666112,
          0.9996877601998335,
          0.9996877601998335,
          0.9996877601998335,
          0.9996877601998335,
          0.9996877601998335,
          0.9996877601998335,
          0.9996877601998335,
          0.9996877601998335,
          0.9996877601998335,
          0.9996877601998335
         ],
         "yaxis": "y"
        },
        {
         "hovertemplate": "variable=1.0<br>keys=%{x}<br>value=%{y}<extra></extra>",
         "legendgroup": "1.0",
         "line": {
          "color": "#FFA15A",
          "dash": "solid"
         },
         "mode": "lines",
         "name": "1.0",
         "orientation": "v",
         "showlegend": true,
         "type": "scatter",
         "x": [
          "2",
          "12",
          "22",
          "32",
          "42",
          "52",
          "62",
          "72",
          "82",
          "92",
          "102",
          "112",
          "122",
          "132",
          "142",
          "152",
          "162",
          "172",
          "182",
          "192",
          "202",
          "212",
          "222",
          "232",
          "242",
          "252",
          "262",
          "272",
          "282",
          "292",
          "302"
         ],
         "xaxis": "x",
         "y": [
          0.0013530391340549543,
          0.06910907577019151,
          0.2265820149875104,
          0.4203788509575354,
          0.5897169025811824,
          0.686511240632806,
          0.7852830974188176,
          0.8470024979184013,
          0.8747918401332223,
          0.8992506244796004,
          0.9175686927560366,
          0.9321398834304746,
          0.9403621981681932,
          0.9456702747710242,
          0.9498334721065779,
          0.9534762697751873,
          0.9578476269775187,
          0.9602414654454621,
          0.9626353039134055,
          0.9648209825145712,
          0.9689841798501249,
          0.9700249791840133,
          0.9716902581182348,
          0.9724188176519567,
          0.9736677768526228,
          0.9745004163197336,
          0.9752289758534555,
          0.9759575353871773,
          0.9760616153205662,
          0.9764779350541216,
          0.9769983347210658
         ],
         "yaxis": "y"
        }
       ],
       "layout": {
        "legend": {
         "title": {
          "text": "variable"
         },
         "tracegroupgap": 0
        },
        "margin": {
         "t": 60
        },
        "template": {
         "data": {
          "bar": [
           {
            "error_x": {
             "color": "#2a3f5f"
            },
            "error_y": {
             "color": "#2a3f5f"
            },
            "marker": {
             "line": {
              "color": "#E5ECF6",
              "width": 0.5
             }
            },
            "type": "bar"
           }
          ],
          "barpolar": [
           {
            "marker": {
             "line": {
              "color": "#E5ECF6",
              "width": 0.5
             }
            },
            "type": "barpolar"
           }
          ],
          "carpet": [
           {
            "aaxis": {
             "endlinecolor": "#2a3f5f",
             "gridcolor": "white",
             "linecolor": "white",
             "minorgridcolor": "white",
             "startlinecolor": "#2a3f5f"
            },
            "baxis": {
             "endlinecolor": "#2a3f5f",
             "gridcolor": "white",
             "linecolor": "white",
             "minorgridcolor": "white",
             "startlinecolor": "#2a3f5f"
            },
            "type": "carpet"
           }
          ],
          "choropleth": [
           {
            "colorbar": {
             "outlinewidth": 0,
             "ticks": ""
            },
            "type": "choropleth"
           }
          ],
          "contour": [
           {
            "colorbar": {
             "outlinewidth": 0,
             "ticks": ""
            },
            "colorscale": [
             [
              0,
              "#0d0887"
             ],
             [
              0.1111111111111111,
              "#46039f"
             ],
             [
              0.2222222222222222,
              "#7201a8"
             ],
             [
              0.3333333333333333,
              "#9c179e"
             ],
             [
              0.4444444444444444,
              "#bd3786"
             ],
             [
              0.5555555555555556,
              "#d8576b"
             ],
             [
              0.6666666666666666,
              "#ed7953"
             ],
             [
              0.7777777777777778,
              "#fb9f3a"
             ],
             [
              0.8888888888888888,
              "#fdca26"
             ],
             [
              1,
              "#f0f921"
             ]
            ],
            "type": "contour"
           }
          ],
          "contourcarpet": [
           {
            "colorbar": {
             "outlinewidth": 0,
             "ticks": ""
            },
            "type": "contourcarpet"
           }
          ],
          "heatmap": [
           {
            "colorbar": {
             "outlinewidth": 0,
             "ticks": ""
            },
            "colorscale": [
             [
              0,
              "#0d0887"
             ],
             [
              0.1111111111111111,
              "#46039f"
             ],
             [
              0.2222222222222222,
              "#7201a8"
             ],
             [
              0.3333333333333333,
              "#9c179e"
             ],
             [
              0.4444444444444444,
              "#bd3786"
             ],
             [
              0.5555555555555556,
              "#d8576b"
             ],
             [
              0.6666666666666666,
              "#ed7953"
             ],
             [
              0.7777777777777778,
              "#fb9f3a"
             ],
             [
              0.8888888888888888,
              "#fdca26"
             ],
             [
              1,
              "#f0f921"
             ]
            ],
            "type": "heatmap"
           }
          ],
          "heatmapgl": [
           {
            "colorbar": {
             "outlinewidth": 0,
             "ticks": ""
            },
            "colorscale": [
             [
              0,
              "#0d0887"
             ],
             [
              0.1111111111111111,
              "#46039f"
             ],
             [
              0.2222222222222222,
              "#7201a8"
             ],
             [
              0.3333333333333333,
              "#9c179e"
             ],
             [
              0.4444444444444444,
              "#bd3786"
             ],
             [
              0.5555555555555556,
              "#d8576b"
             ],
             [
              0.6666666666666666,
              "#ed7953"
             ],
             [
              0.7777777777777778,
              "#fb9f3a"
             ],
             [
              0.8888888888888888,
              "#fdca26"
             ],
             [
              1,
              "#f0f921"
             ]
            ],
            "type": "heatmapgl"
           }
          ],
          "histogram": [
           {
            "marker": {
             "colorbar": {
              "outlinewidth": 0,
              "ticks": ""
             }
            },
            "type": "histogram"
           }
          ],
          "histogram2d": [
           {
            "colorbar": {
             "outlinewidth": 0,
             "ticks": ""
            },
            "colorscale": [
             [
              0,
              "#0d0887"
             ],
             [
              0.1111111111111111,
              "#46039f"
             ],
             [
              0.2222222222222222,
              "#7201a8"
             ],
             [
              0.3333333333333333,
              "#9c179e"
             ],
             [
              0.4444444444444444,
              "#bd3786"
             ],
             [
              0.5555555555555556,
              "#d8576b"
             ],
             [
              0.6666666666666666,
              "#ed7953"
             ],
             [
              0.7777777777777778,
              "#fb9f3a"
             ],
             [
              0.8888888888888888,
              "#fdca26"
             ],
             [
              1,
              "#f0f921"
             ]
            ],
            "type": "histogram2d"
           }
          ],
          "histogram2dcontour": [
           {
            "colorbar": {
             "outlinewidth": 0,
             "ticks": ""
            },
            "colorscale": [
             [
              0,
              "#0d0887"
             ],
             [
              0.1111111111111111,
              "#46039f"
             ],
             [
              0.2222222222222222,
              "#7201a8"
             ],
             [
              0.3333333333333333,
              "#9c179e"
             ],
             [
              0.4444444444444444,
              "#bd3786"
             ],
             [
              0.5555555555555556,
              "#d8576b"
             ],
             [
              0.6666666666666666,
              "#ed7953"
             ],
             [
              0.7777777777777778,
              "#fb9f3a"
             ],
             [
              0.8888888888888888,
              "#fdca26"
             ],
             [
              1,
              "#f0f921"
             ]
            ],
            "type": "histogram2dcontour"
           }
          ],
          "mesh3d": [
           {
            "colorbar": {
             "outlinewidth": 0,
             "ticks": ""
            },
            "type": "mesh3d"
           }
          ],
          "parcoords": [
           {
            "line": {
             "colorbar": {
              "outlinewidth": 0,
              "ticks": ""
             }
            },
            "type": "parcoords"
           }
          ],
          "pie": [
           {
            "automargin": true,
            "type": "pie"
           }
          ],
          "scatter": [
           {
            "marker": {
             "colorbar": {
              "outlinewidth": 0,
              "ticks": ""
             }
            },
            "type": "scatter"
           }
          ],
          "scatter3d": [
           {
            "line": {
             "colorbar": {
              "outlinewidth": 0,
              "ticks": ""
             }
            },
            "marker": {
             "colorbar": {
              "outlinewidth": 0,
              "ticks": ""
             }
            },
            "type": "scatter3d"
           }
          ],
          "scattercarpet": [
           {
            "marker": {
             "colorbar": {
              "outlinewidth": 0,
              "ticks": ""
             }
            },
            "type": "scattercarpet"
           }
          ],
          "scattergeo": [
           {
            "marker": {
             "colorbar": {
              "outlinewidth": 0,
              "ticks": ""
             }
            },
            "type": "scattergeo"
           }
          ],
          "scattergl": [
           {
            "marker": {
             "colorbar": {
              "outlinewidth": 0,
              "ticks": ""
             }
            },
            "type": "scattergl"
           }
          ],
          "scattermapbox": [
           {
            "marker": {
             "colorbar": {
              "outlinewidth": 0,
              "ticks": ""
             }
            },
            "type": "scattermapbox"
           }
          ],
          "scatterpolar": [
           {
            "marker": {
             "colorbar": {
              "outlinewidth": 0,
              "ticks": ""
             }
            },
            "type": "scatterpolar"
           }
          ],
          "scatterpolargl": [
           {
            "marker": {
             "colorbar": {
              "outlinewidth": 0,
              "ticks": ""
             }
            },
            "type": "scatterpolargl"
           }
          ],
          "scatterternary": [
           {
            "marker": {
             "colorbar": {
              "outlinewidth": 0,
              "ticks": ""
             }
            },
            "type": "scatterternary"
           }
          ],
          "surface": [
           {
            "colorbar": {
             "outlinewidth": 0,
             "ticks": ""
            },
            "colorscale": [
             [
              0,
              "#0d0887"
             ],
             [
              0.1111111111111111,
              "#46039f"
             ],
             [
              0.2222222222222222,
              "#7201a8"
             ],
             [
              0.3333333333333333,
              "#9c179e"
             ],
             [
              0.4444444444444444,
              "#bd3786"
             ],
             [
              0.5555555555555556,
              "#d8576b"
             ],
             [
              0.6666666666666666,
              "#ed7953"
             ],
             [
              0.7777777777777778,
              "#fb9f3a"
             ],
             [
              0.8888888888888888,
              "#fdca26"
             ],
             [
              1,
              "#f0f921"
             ]
            ],
            "type": "surface"
           }
          ],
          "table": [
           {
            "cells": {
             "fill": {
              "color": "#EBF0F8"
             },
             "line": {
              "color": "white"
             }
            },
            "header": {
             "fill": {
              "color": "#C8D4E3"
             },
             "line": {
              "color": "white"
             }
            },
            "type": "table"
           }
          ]
         },
         "layout": {
          "annotationdefaults": {
           "arrowcolor": "#2a3f5f",
           "arrowhead": 0,
           "arrowwidth": 1
          },
          "autotypenumbers": "strict",
          "coloraxis": {
           "colorbar": {
            "outlinewidth": 0,
            "ticks": ""
           }
          },
          "colorscale": {
           "diverging": [
            [
             0,
             "#8e0152"
            ],
            [
             0.1,
             "#c51b7d"
            ],
            [
             0.2,
             "#de77ae"
            ],
            [
             0.3,
             "#f1b6da"
            ],
            [
             0.4,
             "#fde0ef"
            ],
            [
             0.5,
             "#f7f7f7"
            ],
            [
             0.6,
             "#e6f5d0"
            ],
            [
             0.7,
             "#b8e186"
            ],
            [
             0.8,
             "#7fbc41"
            ],
            [
             0.9,
             "#4d9221"
            ],
            [
             1,
             "#276419"
            ]
           ],
           "sequential": [
            [
             0,
             "#0d0887"
            ],
            [
             0.1111111111111111,
             "#46039f"
            ],
            [
             0.2222222222222222,
             "#7201a8"
            ],
            [
             0.3333333333333333,
             "#9c179e"
            ],
            [
             0.4444444444444444,
             "#bd3786"
            ],
            [
             0.5555555555555556,
             "#d8576b"
            ],
            [
             0.6666666666666666,
             "#ed7953"
            ],
            [
             0.7777777777777778,
             "#fb9f3a"
            ],
            [
             0.8888888888888888,
             "#fdca26"
            ],
            [
             1,
             "#f0f921"
            ]
           ],
           "sequentialminus": [
            [
             0,
             "#0d0887"
            ],
            [
             0.1111111111111111,
             "#46039f"
            ],
            [
             0.2222222222222222,
             "#7201a8"
            ],
            [
             0.3333333333333333,
             "#9c179e"
            ],
            [
             0.4444444444444444,
             "#bd3786"
            ],
            [
             0.5555555555555556,
             "#d8576b"
            ],
            [
             0.6666666666666666,
             "#ed7953"
            ],
            [
             0.7777777777777778,
             "#fb9f3a"
            ],
            [
             0.8888888888888888,
             "#fdca26"
            ],
            [
             1,
             "#f0f921"
            ]
           ]
          },
          "colorway": [
           "#636efa",
           "#EF553B",
           "#00cc96",
           "#ab63fa",
           "#FFA15A",
           "#19d3f3",
           "#FF6692",
           "#B6E880",
           "#FF97FF",
           "#FECB52"
          ],
          "font": {
           "color": "#2a3f5f"
          },
          "geo": {
           "bgcolor": "white",
           "lakecolor": "white",
           "landcolor": "#E5ECF6",
           "showlakes": true,
           "showland": true,
           "subunitcolor": "white"
          },
          "hoverlabel": {
           "align": "left"
          },
          "hovermode": "closest",
          "mapbox": {
           "style": "light"
          },
          "paper_bgcolor": "white",
          "plot_bgcolor": "#E5ECF6",
          "polar": {
           "angularaxis": {
            "gridcolor": "white",
            "linecolor": "white",
            "ticks": ""
           },
           "bgcolor": "#E5ECF6",
           "radialaxis": {
            "gridcolor": "white",
            "linecolor": "white",
            "ticks": ""
           }
          },
          "scene": {
           "xaxis": {
            "backgroundcolor": "#E5ECF6",
            "gridcolor": "white",
            "gridwidth": 2,
            "linecolor": "white",
            "showbackground": true,
            "ticks": "",
            "zerolinecolor": "white"
           },
           "yaxis": {
            "backgroundcolor": "#E5ECF6",
            "gridcolor": "white",
            "gridwidth": 2,
            "linecolor": "white",
            "showbackground": true,
            "ticks": "",
            "zerolinecolor": "white"
           },
           "zaxis": {
            "backgroundcolor": "#E5ECF6",
            "gridcolor": "white",
            "gridwidth": 2,
            "linecolor": "white",
            "showbackground": true,
            "ticks": "",
            "zerolinecolor": "white"
           }
          },
          "shapedefaults": {
           "line": {
            "color": "#2a3f5f"
           }
          },
          "ternary": {
           "aaxis": {
            "gridcolor": "white",
            "linecolor": "white",
            "ticks": ""
           },
           "baxis": {
            "gridcolor": "white",
            "linecolor": "white",
            "ticks": ""
           },
           "bgcolor": "#E5ECF6",
           "caxis": {
            "gridcolor": "white",
            "linecolor": "white",
            "ticks": ""
           }
          },
          "title": {
           "x": 0.05
          },
          "xaxis": {
           "automargin": true,
           "gridcolor": "white",
           "linecolor": "white",
           "ticks": "",
           "title": {
            "standoff": 15
           },
           "zerolinecolor": "white",
           "zerolinewidth": 2
          },
          "yaxis": {
           "automargin": true,
           "gridcolor": "white",
           "linecolor": "white",
           "ticks": "",
           "title": {
            "standoff": 15
           },
           "zerolinecolor": "white",
           "zerolinewidth": 2
          }
         }
        },
        "xaxis": {
         "anchor": "y",
         "domain": [
          0,
          1
         ],
         "title": {
          "text": "keys"
         }
        },
        "yaxis": {
         "anchor": "x",
         "domain": [
          0,
          1
         ],
         "title": {
          "text": "value"
         }
        }
       }
      },
      "text/html": [
       "<div>                            <div id=\"7f5e5650-5775-4353-a0f8-237f47eba242\" class=\"plotly-graph-div\" style=\"height:525px; width:100%;\"></div>            <script type=\"text/javascript\">                require([\"plotly\"], function(Plotly) {                    window.PLOTLYENV=window.PLOTLYENV || {};                                    if (document.getElementById(\"7f5e5650-5775-4353-a0f8-237f47eba242\")) {                    Plotly.newPlot(                        \"7f5e5650-5775-4353-a0f8-237f47eba242\",                        [{\"hovertemplate\": \"variable=0.6<br>keys=%{x}<br>value=%{y}<extra></extra>\", \"legendgroup\": \"0.6\", \"line\": {\"color\": \"#636efa\", \"dash\": \"solid\"}, \"mode\": \"lines\", \"name\": \"0.6\", \"orientation\": \"v\", \"showlegend\": true, \"type\": \"scatter\", \"x\": [\"2\", \"12\", \"22\", \"32\", \"42\", \"52\", \"62\", \"72\", \"82\", \"92\", \"102\", \"112\", \"122\", \"132\", \"142\", \"152\", \"162\", \"172\", \"182\", \"192\", \"202\", \"212\", \"222\", \"232\", \"242\", \"252\", \"262\", \"272\", \"282\", \"292\", \"302\"], \"xaxis\": \"x\", \"y\": [0.29964612822647796, 0.8507493755203996, 0.966278101582015, 0.992089925062448, 0.9981265611990008, 0.9992714404662781, 0.9997918401332223, 0.9997918401332223, 0.9997918401332223, 0.9997918401332223, 0.9998959200666112, 0.9998959200666112, 0.9998959200666112, 0.9998959200666112, 0.9998959200666112, 0.9998959200666112, 0.9998959200666112, 0.9998959200666112, 0.9998959200666112, 0.9998959200666112, 0.9998959200666112, 0.9996877601998335, 0.9996877601998335, 0.9996877601998335, 0.9996877601998335, 0.9996877601998335, 0.9996877601998335, 0.9996877601998335, 0.9996877601998335, 0.9996877601998335, 0.9996877601998335], \"yaxis\": \"y\"}, {\"hovertemplate\": \"variable=0.7<br>keys=%{x}<br>value=%{y}<extra></extra>\", \"legendgroup\": \"0.7\", \"line\": {\"color\": \"#EF553B\", \"dash\": \"solid\"}, \"mode\": \"lines\", \"name\": \"0.7\", \"orientation\": \"v\", \"showlegend\": true, \"type\": \"scatter\", \"x\": [\"2\", \"12\", \"22\", \"32\", \"42\", \"52\", \"62\", \"72\", \"82\", \"92\", \"102\", \"112\", \"122\", \"132\", \"142\", \"152\", \"162\", \"172\", \"182\", \"192\", \"202\", \"212\", \"222\", \"232\", \"242\", \"252\", \"262\", \"272\", \"282\", \"292\", \"302\"], \"xaxis\": \"x\", \"y\": [0.2721690258118235, 0.805578684429642, 0.9473355537052456, 0.9853247293921732, 0.9961490424646128, 0.9984388009991674, 0.9994796003330558, 0.9997918401332223, 0.9997918401332223, 0.9997918401332223, 0.9998959200666112, 0.9998959200666112, 0.9998959200666112, 0.9998959200666112, 0.9998959200666112, 0.9998959200666112, 0.9998959200666112, 0.9998959200666112, 0.9998959200666112, 0.9998959200666112, 0.9998959200666112, 0.9996877601998335, 0.9996877601998335, 0.9996877601998335, 0.9996877601998335, 0.9996877601998335, 0.9996877601998335, 0.9996877601998335, 0.9996877601998335, 0.9996877601998335, 0.9996877601998335], \"yaxis\": \"y\"}, {\"hovertemplate\": \"variable=0.8<br>keys=%{x}<br>value=%{y}<extra></extra>\", \"legendgroup\": \"0.8\", \"line\": {\"color\": \"#00cc96\", \"dash\": \"solid\"}, \"mode\": \"lines\", \"name\": \"0.8\", \"orientation\": \"v\", \"showlegend\": true, \"type\": \"scatter\", \"x\": [\"2\", \"12\", \"22\", \"32\", \"42\", \"52\", \"62\", \"72\", \"82\", \"92\", \"102\", \"112\", \"122\", \"132\", \"142\", \"152\", \"162\", \"172\", \"182\", \"192\", \"202\", \"212\", \"222\", \"232\", \"242\", \"252\", \"262\", \"272\", \"282\", \"292\", \"302\"], \"xaxis\": \"x\", \"y\": [0.1808909242298085, 0.6761032472939217, 0.8891548709408826, 0.9636761032472939, 0.9895920066611157, 0.9955245628642798, 0.9985428809325562, 0.9992714404662781, 0.9995836802664446, 0.9996877601998335, 0.9998959200666112, 0.9998959200666112, 0.9998959200666112, 0.9998959200666112, 0.9998959200666112, 0.9998959200666112, 0.9998959200666112, 0.9998959200666112, 0.9998959200666112, 0.9998959200666112, 0.9998959200666112, 0.9996877601998335, 0.9996877601998335, 0.9996877601998335, 0.9996877601998335, 0.9996877601998335, 0.9996877601998335, 0.9996877601998335, 0.9996877601998335, 0.9996877601998335, 0.9996877601998335], \"yaxis\": \"y\"}, {\"hovertemplate\": \"variable=0.9<br>keys=%{x}<br>value=%{y}<extra></extra>\", \"legendgroup\": \"0.9\", \"line\": {\"color\": \"#ab63fa\", \"dash\": \"solid\"}, \"mode\": \"lines\", \"name\": \"0.9\", \"orientation\": \"v\", \"showlegend\": true, \"type\": \"scatter\", \"x\": [\"2\", \"12\", \"22\", \"32\", \"42\", \"52\", \"62\", \"72\", \"82\", \"92\", \"102\", \"112\", \"122\", \"132\", \"142\", \"152\", \"162\", \"172\", \"182\", \"192\", \"202\", \"212\", \"222\", \"232\", \"242\", \"252\", \"262\", \"272\", \"282\", \"292\", \"302\"], \"xaxis\": \"x\", \"y\": [0.03164029975020816, 0.42787260616153205, 0.7485428809325562, 0.9065362198168193, 0.9650291423813488, 0.9818900915903414, 0.9936511240632806, 0.9969816819317235, 0.9983347210657785, 0.9993755203996669, 0.9996877601998335, 0.9997918401332223, 0.9997918401332223, 0.9997918401332223, 0.9997918401332223, 0.9997918401332223, 0.9997918401332223, 0.9997918401332223, 0.9997918401332223, 0.9997918401332223, 0.9998959200666112, 0.9996877601998335, 0.9996877601998335, 0.9996877601998335, 0.9996877601998335, 0.9996877601998335, 0.9996877601998335, 0.9996877601998335, 0.9996877601998335, 0.9996877601998335, 0.9996877601998335], \"yaxis\": \"y\"}, {\"hovertemplate\": \"variable=1.0<br>keys=%{x}<br>value=%{y}<extra></extra>\", \"legendgroup\": \"1.0\", \"line\": {\"color\": \"#FFA15A\", \"dash\": \"solid\"}, \"mode\": \"lines\", \"name\": \"1.0\", \"orientation\": \"v\", \"showlegend\": true, \"type\": \"scatter\", \"x\": [\"2\", \"12\", \"22\", \"32\", \"42\", \"52\", \"62\", \"72\", \"82\", \"92\", \"102\", \"112\", \"122\", \"132\", \"142\", \"152\", \"162\", \"172\", \"182\", \"192\", \"202\", \"212\", \"222\", \"232\", \"242\", \"252\", \"262\", \"272\", \"282\", \"292\", \"302\"], \"xaxis\": \"x\", \"y\": [0.0013530391340549543, 0.06910907577019151, 0.2265820149875104, 0.4203788509575354, 0.5897169025811824, 0.686511240632806, 0.7852830974188176, 0.8470024979184013, 0.8747918401332223, 0.8992506244796004, 0.9175686927560366, 0.9321398834304746, 0.9403621981681932, 0.9456702747710242, 0.9498334721065779, 0.9534762697751873, 0.9578476269775187, 0.9602414654454621, 0.9626353039134055, 0.9648209825145712, 0.9689841798501249, 0.9700249791840133, 0.9716902581182348, 0.9724188176519567, 0.9736677768526228, 0.9745004163197336, 0.9752289758534555, 0.9759575353871773, 0.9760616153205662, 0.9764779350541216, 0.9769983347210658], \"yaxis\": \"y\"}],                        {\"legend\": {\"title\": {\"text\": \"variable\"}, \"tracegroupgap\": 0}, \"margin\": {\"t\": 60}, \"template\": {\"data\": {\"bar\": [{\"error_x\": {\"color\": \"#2a3f5f\"}, \"error_y\": {\"color\": \"#2a3f5f\"}, \"marker\": {\"line\": {\"color\": \"#E5ECF6\", \"width\": 0.5}}, \"type\": \"bar\"}], \"barpolar\": [{\"marker\": {\"line\": {\"color\": \"#E5ECF6\", \"width\": 0.5}}, \"type\": \"barpolar\"}], \"carpet\": [{\"aaxis\": {\"endlinecolor\": \"#2a3f5f\", \"gridcolor\": \"white\", \"linecolor\": \"white\", \"minorgridcolor\": \"white\", \"startlinecolor\": \"#2a3f5f\"}, \"baxis\": {\"endlinecolor\": \"#2a3f5f\", \"gridcolor\": \"white\", \"linecolor\": \"white\", \"minorgridcolor\": \"white\", \"startlinecolor\": \"#2a3f5f\"}, \"type\": \"carpet\"}], \"choropleth\": [{\"colorbar\": {\"outlinewidth\": 0, \"ticks\": \"\"}, \"type\": \"choropleth\"}], \"contour\": [{\"colorbar\": {\"outlinewidth\": 0, \"ticks\": \"\"}, \"colorscale\": [[0.0, \"#0d0887\"], [0.1111111111111111, \"#46039f\"], [0.2222222222222222, \"#7201a8\"], [0.3333333333333333, \"#9c179e\"], [0.4444444444444444, \"#bd3786\"], [0.5555555555555556, \"#d8576b\"], [0.6666666666666666, \"#ed7953\"], [0.7777777777777778, \"#fb9f3a\"], [0.8888888888888888, \"#fdca26\"], [1.0, \"#f0f921\"]], \"type\": \"contour\"}], \"contourcarpet\": [{\"colorbar\": {\"outlinewidth\": 0, \"ticks\": \"\"}, \"type\": \"contourcarpet\"}], \"heatmap\": [{\"colorbar\": {\"outlinewidth\": 0, \"ticks\": \"\"}, \"colorscale\": [[0.0, \"#0d0887\"], [0.1111111111111111, \"#46039f\"], [0.2222222222222222, \"#7201a8\"], [0.3333333333333333, \"#9c179e\"], [0.4444444444444444, \"#bd3786\"], [0.5555555555555556, \"#d8576b\"], [0.6666666666666666, \"#ed7953\"], [0.7777777777777778, \"#fb9f3a\"], [0.8888888888888888, \"#fdca26\"], [1.0, \"#f0f921\"]], \"type\": \"heatmap\"}], \"heatmapgl\": [{\"colorbar\": {\"outlinewidth\": 0, \"ticks\": \"\"}, \"colorscale\": [[0.0, \"#0d0887\"], [0.1111111111111111, \"#46039f\"], [0.2222222222222222, \"#7201a8\"], [0.3333333333333333, \"#9c179e\"], [0.4444444444444444, \"#bd3786\"], [0.5555555555555556, \"#d8576b\"], [0.6666666666666666, \"#ed7953\"], [0.7777777777777778, \"#fb9f3a\"], [0.8888888888888888, \"#fdca26\"], [1.0, \"#f0f921\"]], \"type\": \"heatmapgl\"}], \"histogram\": [{\"marker\": {\"colorbar\": {\"outlinewidth\": 0, \"ticks\": \"\"}}, \"type\": \"histogram\"}], \"histogram2d\": [{\"colorbar\": {\"outlinewidth\": 0, \"ticks\": \"\"}, \"colorscale\": [[0.0, \"#0d0887\"], [0.1111111111111111, \"#46039f\"], [0.2222222222222222, \"#7201a8\"], [0.3333333333333333, \"#9c179e\"], [0.4444444444444444, \"#bd3786\"], [0.5555555555555556, \"#d8576b\"], [0.6666666666666666, \"#ed7953\"], [0.7777777777777778, \"#fb9f3a\"], [0.8888888888888888, \"#fdca26\"], [1.0, \"#f0f921\"]], \"type\": \"histogram2d\"}], \"histogram2dcontour\": [{\"colorbar\": {\"outlinewidth\": 0, \"ticks\": \"\"}, \"colorscale\": [[0.0, \"#0d0887\"], [0.1111111111111111, \"#46039f\"], [0.2222222222222222, \"#7201a8\"], [0.3333333333333333, \"#9c179e\"], [0.4444444444444444, \"#bd3786\"], [0.5555555555555556, \"#d8576b\"], [0.6666666666666666, \"#ed7953\"], [0.7777777777777778, \"#fb9f3a\"], [0.8888888888888888, \"#fdca26\"], [1.0, \"#f0f921\"]], \"type\": \"histogram2dcontour\"}], \"mesh3d\": [{\"colorbar\": {\"outlinewidth\": 0, \"ticks\": \"\"}, \"type\": \"mesh3d\"}], \"parcoords\": [{\"line\": {\"colorbar\": {\"outlinewidth\": 0, \"ticks\": \"\"}}, \"type\": \"parcoords\"}], \"pie\": [{\"automargin\": true, \"type\": \"pie\"}], \"scatter\": [{\"marker\": {\"colorbar\": {\"outlinewidth\": 0, \"ticks\": \"\"}}, \"type\": \"scatter\"}], \"scatter3d\": [{\"line\": {\"colorbar\": {\"outlinewidth\": 0, \"ticks\": \"\"}}, \"marker\": {\"colorbar\": {\"outlinewidth\": 0, \"ticks\": \"\"}}, \"type\": \"scatter3d\"}], \"scattercarpet\": [{\"marker\": {\"colorbar\": {\"outlinewidth\": 0, \"ticks\": \"\"}}, \"type\": \"scattercarpet\"}], \"scattergeo\": [{\"marker\": {\"colorbar\": {\"outlinewidth\": 0, \"ticks\": \"\"}}, \"type\": \"scattergeo\"}], \"scattergl\": [{\"marker\": {\"colorbar\": {\"outlinewidth\": 0, \"ticks\": \"\"}}, \"type\": \"scattergl\"}], \"scattermapbox\": [{\"marker\": {\"colorbar\": {\"outlinewidth\": 0, \"ticks\": \"\"}}, \"type\": \"scattermapbox\"}], \"scatterpolar\": [{\"marker\": {\"colorbar\": {\"outlinewidth\": 0, \"ticks\": \"\"}}, \"type\": \"scatterpolar\"}], \"scatterpolargl\": [{\"marker\": {\"colorbar\": {\"outlinewidth\": 0, \"ticks\": \"\"}}, \"type\": \"scatterpolargl\"}], \"scatterternary\": [{\"marker\": {\"colorbar\": {\"outlinewidth\": 0, \"ticks\": \"\"}}, \"type\": \"scatterternary\"}], \"surface\": [{\"colorbar\": {\"outlinewidth\": 0, \"ticks\": \"\"}, \"colorscale\": [[0.0, \"#0d0887\"], [0.1111111111111111, \"#46039f\"], [0.2222222222222222, \"#7201a8\"], [0.3333333333333333, \"#9c179e\"], [0.4444444444444444, \"#bd3786\"], [0.5555555555555556, \"#d8576b\"], [0.6666666666666666, \"#ed7953\"], [0.7777777777777778, \"#fb9f3a\"], [0.8888888888888888, \"#fdca26\"], [1.0, \"#f0f921\"]], \"type\": \"surface\"}], \"table\": [{\"cells\": {\"fill\": {\"color\": \"#EBF0F8\"}, \"line\": {\"color\": \"white\"}}, \"header\": {\"fill\": {\"color\": \"#C8D4E3\"}, \"line\": {\"color\": \"white\"}}, \"type\": \"table\"}]}, \"layout\": {\"annotationdefaults\": {\"arrowcolor\": \"#2a3f5f\", \"arrowhead\": 0, \"arrowwidth\": 1}, \"autotypenumbers\": \"strict\", \"coloraxis\": {\"colorbar\": {\"outlinewidth\": 0, \"ticks\": \"\"}}, \"colorscale\": {\"diverging\": [[0, \"#8e0152\"], [0.1, \"#c51b7d\"], [0.2, \"#de77ae\"], [0.3, \"#f1b6da\"], [0.4, \"#fde0ef\"], [0.5, \"#f7f7f7\"], [0.6, \"#e6f5d0\"], [0.7, \"#b8e186\"], [0.8, \"#7fbc41\"], [0.9, \"#4d9221\"], [1, \"#276419\"]], \"sequential\": [[0.0, \"#0d0887\"], [0.1111111111111111, \"#46039f\"], [0.2222222222222222, \"#7201a8\"], [0.3333333333333333, \"#9c179e\"], [0.4444444444444444, \"#bd3786\"], [0.5555555555555556, \"#d8576b\"], [0.6666666666666666, \"#ed7953\"], [0.7777777777777778, \"#fb9f3a\"], [0.8888888888888888, \"#fdca26\"], [1.0, \"#f0f921\"]], \"sequentialminus\": [[0.0, \"#0d0887\"], [0.1111111111111111, \"#46039f\"], [0.2222222222222222, \"#7201a8\"], [0.3333333333333333, \"#9c179e\"], [0.4444444444444444, \"#bd3786\"], [0.5555555555555556, \"#d8576b\"], [0.6666666666666666, \"#ed7953\"], [0.7777777777777778, \"#fb9f3a\"], [0.8888888888888888, \"#fdca26\"], [1.0, \"#f0f921\"]]}, \"colorway\": [\"#636efa\", \"#EF553B\", \"#00cc96\", \"#ab63fa\", \"#FFA15A\", \"#19d3f3\", \"#FF6692\", \"#B6E880\", \"#FF97FF\", \"#FECB52\"], \"font\": {\"color\": \"#2a3f5f\"}, \"geo\": {\"bgcolor\": \"white\", \"lakecolor\": \"white\", \"landcolor\": \"#E5ECF6\", \"showlakes\": true, \"showland\": true, \"subunitcolor\": \"white\"}, \"hoverlabel\": {\"align\": \"left\"}, \"hovermode\": \"closest\", \"mapbox\": {\"style\": \"light\"}, \"paper_bgcolor\": \"white\", \"plot_bgcolor\": \"#E5ECF6\", \"polar\": {\"angularaxis\": {\"gridcolor\": \"white\", \"linecolor\": \"white\", \"ticks\": \"\"}, \"bgcolor\": \"#E5ECF6\", \"radialaxis\": {\"gridcolor\": \"white\", \"linecolor\": \"white\", \"ticks\": \"\"}}, \"scene\": {\"xaxis\": {\"backgroundcolor\": \"#E5ECF6\", \"gridcolor\": \"white\", \"gridwidth\": 2, \"linecolor\": \"white\", \"showbackground\": true, \"ticks\": \"\", \"zerolinecolor\": \"white\"}, \"yaxis\": {\"backgroundcolor\": \"#E5ECF6\", \"gridcolor\": \"white\", \"gridwidth\": 2, \"linecolor\": \"white\", \"showbackground\": true, \"ticks\": \"\", \"zerolinecolor\": \"white\"}, \"zaxis\": {\"backgroundcolor\": \"#E5ECF6\", \"gridcolor\": \"white\", \"gridwidth\": 2, \"linecolor\": \"white\", \"showbackground\": true, \"ticks\": \"\", \"zerolinecolor\": \"white\"}}, \"shapedefaults\": {\"line\": {\"color\": \"#2a3f5f\"}}, \"ternary\": {\"aaxis\": {\"gridcolor\": \"white\", \"linecolor\": \"white\", \"ticks\": \"\"}, \"baxis\": {\"gridcolor\": \"white\", \"linecolor\": \"white\", \"ticks\": \"\"}, \"bgcolor\": \"#E5ECF6\", \"caxis\": {\"gridcolor\": \"white\", \"linecolor\": \"white\", \"ticks\": \"\"}}, \"title\": {\"x\": 0.05}, \"xaxis\": {\"automargin\": true, \"gridcolor\": \"white\", \"linecolor\": \"white\", \"ticks\": \"\", \"title\": {\"standoff\": 15}, \"zerolinecolor\": \"white\", \"zerolinewidth\": 2}, \"yaxis\": {\"automargin\": true, \"gridcolor\": \"white\", \"linecolor\": \"white\", \"ticks\": \"\", \"title\": {\"standoff\": 15}, \"zerolinecolor\": \"white\", \"zerolinewidth\": 2}}}, \"xaxis\": {\"anchor\": \"y\", \"domain\": [0.0, 1.0], \"title\": {\"text\": \"keys\"}}, \"yaxis\": {\"anchor\": \"x\", \"domain\": [0.0, 1.0], \"title\": {\"text\": \"value\"}}},                        {\"responsive\": true}                    ).then(function(){\n",
       "                            \n",
       "var gd = document.getElementById('7f5e5650-5775-4353-a0f8-237f47eba242');\n",
       "var x = new MutationObserver(function (mutations, observer) {{\n",
       "        var display = window.getComputedStyle(gd).display;\n",
       "        if (!display || display === 'none') {{\n",
       "            console.log([gd, 'removed!']);\n",
       "            Plotly.purge(gd);\n",
       "            observer.disconnect();\n",
       "        }}\n",
       "}});\n",
       "\n",
       "// Listen for the removal of the full notebook cells\n",
       "var notebookContainer = gd.closest('#notebook-container');\n",
       "if (notebookContainer) {{\n",
       "    x.observe(notebookContainer, {childList: true});\n",
       "}}\n",
       "\n",
       "// Listen for the clearing of the current output cell\n",
       "var outputEl = gd.closest('.output');\n",
       "if (outputEl) {{\n",
       "    x.observe(outputEl, {childList: true});\n",
       "}}\n",
       "\n",
       "                        })                };                });            </script>        </div>"
      ]
     },
     "metadata": {},
     "output_type": "display_data"
    }
   ],
   "source": [
    "keys = acrcy_dict1.keys()\n",
    "values1 = acrcy_dict1.values()\n",
    "values2 = acrcy_dict2.values()\n",
    "values3 = acrcy_dict3.values()\n",
    "values4 = acrcy_dict4.values()\n",
    "values5 = acrcy_dict5.values()\n",
    "\n",
    "df = pd.DataFrame()\n",
    "\n",
    "df[\"keys\"] = keys\n",
    "df[\"0.6\"]= values1\n",
    "df[\"0.7\"]= values2\n",
    "df[\"0.8\"]= values3\n",
    "df[\"0.9\"]= values4\n",
    "df[\"1.0\"]= values5\n",
    "\n",
    "fig = px.line(df, x=df[\"keys\"], y=['0.6', '0.7', '0.8', '0.9', '1.0'])\n",
    "fig.show()"
   ]
  },
  {
   "cell_type": "code",
   "execution_count": 80,
   "metadata": {
    "collapsed": true
   },
   "outputs": [
    {
     "data": {
      "application/vnd.plotly.v1+json": {
       "config": {
        "plotlyServerURL": "https://plot.ly"
       },
       "data": [
        {
         "hovertemplate": "x=%{x}<br>y=%{y}<extra></extra>",
         "legendgroup": "",
         "line": {
          "color": "#636efa",
          "dash": "solid"
         },
         "mode": "lines",
         "name": "",
         "orientation": "v",
         "showlegend": false,
         "type": "scatter",
         "x": [
          1,
          2,
          3,
          4,
          5,
          6,
          7,
          8,
          9,
          10,
          11,
          12,
          13,
          14,
          15,
          16,
          17,
          18,
          19,
          20,
          21,
          22,
          23,
          24,
          25,
          26,
          27,
          28,
          29,
          30,
          31,
          32,
          33,
          34,
          35,
          36,
          37,
          38,
          39,
          40,
          41,
          42,
          43,
          44,
          45,
          46,
          47,
          48,
          49,
          50,
          51,
          52,
          53,
          54,
          55,
          56,
          57,
          58,
          59,
          60,
          61,
          62,
          63,
          64,
          65,
          66,
          67,
          68,
          69,
          70,
          71,
          72,
          73,
          74,
          75,
          76,
          77,
          78,
          79,
          80,
          81,
          82,
          83,
          84,
          85,
          86,
          87,
          88,
          89,
          90,
          91,
          92,
          93,
          94,
          95,
          96,
          97,
          98,
          99,
          100,
          101,
          102,
          103,
          104,
          105,
          106,
          107,
          108,
          109,
          110,
          111,
          112,
          113,
          114,
          115,
          116,
          117,
          118,
          119,
          120,
          121,
          122,
          123,
          124,
          125,
          126,
          127,
          128,
          129,
          130,
          131,
          132,
          133,
          134,
          135,
          136,
          137,
          138,
          139,
          140,
          141,
          142,
          143,
          144,
          145,
          146,
          147,
          148,
          149,
          150,
          151,
          152,
          153,
          154,
          155,
          156,
          157,
          158,
          159,
          160,
          161,
          162,
          163,
          164,
          165,
          166,
          167,
          168,
          169,
          170,
          171,
          172,
          173,
          174,
          175,
          176,
          177,
          178,
          179,
          180,
          181,
          182,
          183,
          184,
          185,
          186,
          187,
          188,
          189,
          190,
          191,
          192,
          193,
          194,
          195,
          196,
          197,
          198,
          199,
          200,
          201,
          202,
          203,
          204,
          205,
          206,
          207,
          208,
          209,
          210,
          211,
          212,
          213,
          214,
          215,
          216,
          217,
          218,
          219,
          220,
          221,
          222,
          223,
          224,
          225,
          226,
          227,
          228,
          229,
          230,
          231,
          232,
          233,
          234,
          235,
          236,
          237,
          238,
          239,
          240,
          241,
          242,
          243,
          244,
          245,
          246,
          247,
          248,
          249,
          250,
          251,
          252,
          253,
          254,
          255,
          256,
          257,
          258,
          259,
          260,
          261,
          262,
          263,
          264,
          265,
          266,
          267,
          268,
          269,
          270,
          271,
          272,
          273,
          274,
          275,
          276,
          277,
          278,
          279,
          280,
          281,
          282,
          283,
          284,
          285,
          286,
          287,
          288,
          289,
          290,
          291,
          292,
          293,
          294,
          295,
          296,
          297,
          298,
          299,
          300,
          301,
          302
         ],
         "xaxis": "x",
         "y": [
          17.903571844100952,
          76.39730715751648,
          11.986342668533325,
          11.615623950958252,
          7.375612258911133,
          7.784294605255127,
          8.040971517562866,
          9.359636068344116,
          10.051790475845337,
          8.747482776641846,
          5.719127178192139,
          48.967026710510254,
          6.920154333114624,
          6.181757688522339,
          4.709018230438232,
          1.8206775188446045,
          4.563801288604736,
          4.033775091171265,
          3.3507444858551025,
          3.0553882122039795,
          1.8114519119262695,
          33.73562240600586,
          2.5763347148895264,
          3.272871494293213,
          1.6652321815490723,
          2.456578254699707,
          1.228353500366211,
          2.609807014465332,
          1.3083515167236328,
          1.682349681854248,
          2.5762126445770264,
          27.702231645584106,
          1.9320855140686035,
          1.7230048179626465,
          1.0499260425567627,
          1.2200706005096436,
          1.2230448722839355,
          0.9897623062133789,
          1.670454740524292,
          1.0207738876342773,
          1.4620678424835205,
          26.665194272994995,
          1.0168752670288086,
          1.0144672393798828,
          0.951615571975708,
          1.2815816402435303,
          1.0300848484039307,
          1.2959067821502686,
          0.9446835517883301,
          1.1472573280334473,
          1.281816005706787,
          24.88603401184082,
          1.4194235801696777,
          0.9818809032440186,
          0.8892488479614258,
          1.02949857711792,
          0.9373672008514404,
          1.0338122844696045,
          0.9045076370239258,
          0.9776713848114014,
          0.9385488033294678,
          23.183847188949585,
          0.946990966796875,
          0.9570035934448242,
          0.8786425590515137,
          0.9219779968261719,
          0.9869909286499023,
          0.9947555065155029,
          0.9047684669494629,
          1.005584955215454,
          0.8686776161193848,
          23.441041231155396,
          0.9228475093841553,
          0.893505334854126,
          0.9266974925994873,
          0.8988420963287354,
          1.0076258182525635,
          0.9120233058929443,
          0.9952788352966309,
          0.8909544944763184,
          0.8698890209197998,
          23.417173385620117,
          0.8707401752471924,
          0.902855396270752,
          0.9114203453063965,
          0.9252195358276367,
          0.9237349033355713,
          0.8497714996337891,
          0.8970382213592529,
          0.8612391948699951,
          0.8906538486480713,
          22.931299209594727,
          0.8842856884002686,
          0.8853104114532471,
          0.8781068325042725,
          0.8933796882629395,
          0.8989489078521729,
          0.9055874347686768,
          0.8700528144836426,
          1.005021572113037,
          0.9738850593566895,
          23.97330141067505,
          0.9012255668640137,
          0.9328277111053467,
          0.9152960777282715,
          0.8651471138000488,
          0.9112823009490967,
          0.9047586917877197,
          0.8900542259216309,
          0.9285430908203125,
          0.8886871337890625,
          26.91461944580078,
          1.1793184280395508,
          1.1813254356384277,
          1.1810085773468018,
          1.2103219032287598,
          1.322519063949585,
          1.2074644565582275,
          1.2032508850097656,
          1.2769815921783447,
          1.2318227291107178,
          39.79635405540466,
          1.203455924987793,
          1.2890009880065918,
          1.198033332824707,
          1.2444407939910889,
          1.2448699474334717,
          1.2825725078582764,
          1.267195463180542,
          1.224881649017334,
          1.2833280563354492,
          34.993812084198,
          1.1612963676452637,
          1.1266751289367676,
          1.1479310989379883,
          1.1361181735992432,
          1.1229698657989502,
          1.155191421508789,
          1.152184247970581,
          1.1306488513946533,
          1.128000020980835,
          33.79225540161133,
          1.172154426574707,
          1.1545062065124512,
          1.1574442386627197,
          1.181614875793457,
          1.161787509918213,
          1.2345004081726074,
          1.2664527893066406,
          1.169234275817871,
          1.1607882976531982,
          35.61125183105469,
          1.2310776710510254,
          1.1945405006408691,
          1.1848385334014893,
          1.203901767730713,
          1.1844542026519775,
          1.1979856491088867,
          1.1828839778900146,
          1.11720609664917,
          1.1225383281707764,
          35.317582845687866,
          1.1816551685333252,
          1.188323974609375,
          1.250363826751709,
          1.180332899093628,
          1.2240393161773682,
          1.1472938060760498,
          1.1176724433898926,
          1.1359024047851562,
          1.1149771213531494,
          33.76347637176514,
          1.1563851833343506,
          1.1335465908050537,
          1.1179413795471191,
          1.1127758026123047,
          1.122305154800415,
          1.137115716934204,
          1.1565237045288086,
          1.1552705764770508,
          1.1199445724487305,
          31.754337072372437,
          0.887260913848877,
          0.8894057273864746,
          0.8594715595245361,
          0.9094247817993164,
          0.8909242153167725,
          0.889765739440918,
          1.0376644134521484,
          1.060563325881958,
          0.9227943420410156,
          26.21092653274536,
          0.9103639125823975,
          0.9199826717376709,
          0.9070641994476318,
          0.8851652145385742,
          0.9553165435791016,
          0.8941779136657715,
          0.9520103931427002,
          0.8990013599395752,
          0.8541543483734131,
          24.517452239990234,
          0.875429630279541,
          0.8590712547302246,
          0.864077091217041,
          0.8675792217254639,
          0.8956387042999268,
          0.9598042964935303,
          0.8956317901611328,
          0.9143064022064209,
          0.8772501945495605,
          24.647799491882324,
          0.8788466453552246,
          0.9164750576019287,
          0.8844089508056641,
          0.8739886283874512,
          0.9255225658416748,
          0.881427526473999,
          0.8968768119812012,
          0.8742318153381348,
          0.9260551929473877,
          24.5346941947937,
          0.86136794090271,
          0.8592896461486816,
          0.8660387992858887,
          0.8661892414093018,
          0.860321044921875,
          0.8689160346984863,
          0.8637268543243408,
          0.8591012954711914,
          0.8600940704345703,
          24.114073276519775,
          0.9114220142364502,
          0.8870992660522461,
          0.869251012802124,
          0.9185435771942139,
          0.9252285957336426,
          0.9008612632751465,
          0.859821081161499,
          0.8956949710845947,
          0.9234845638275146,
          27.037981510162354,
          0.894503116607666,
          0.8939321041107178,
          0.8884866237640381,
          0.9230904579162598,
          0.8952147960662842,
          0.9276118278503418,
          0.8840036392211914,
          0.897564172744751,
          0.9981684684753418,
          25.37067198753357,
          0.8583097457885742,
          0.8651142120361328,
          0.8649449348449707,
          0.8725173473358154,
          0.8665978908538818,
          0.858994722366333,
          0.8657748699188232,
          0.8905401229858398,
          0.8760826587677002,
          25.087743282318115,
          0.8759820461273193,
          0.8660297393798828,
          0.8607516288757324,
          0.8580422401428223,
          0.8719773292541504,
          0.8715181350708008,
          0.8654887676239014,
          0.8582484722137451,
          0.8741157054901123,
          23.150978565216064,
          0.8588407039642334,
          0.866696834564209,
          0.8622610569000244,
          0.8650643825531006,
          0.8581953048706055,
          0.858217716217041,
          0.8698456287384033,
          0.8630721569061279,
          0.8641362190246582,
          23.182826280593872,
          0.8654022216796875,
          0.8719711303710938,
          0.8781712055206299,
          0.8615908622741699,
          0.8573553562164307,
          0.8757979869842529,
          0.8434202671051025,
          0.8600008487701416,
          0.8626983165740967,
          22.817343711853027,
          0.8808116912841797,
          0.8661267757415771,
          0.8789064884185791,
          0.8767621517181396,
          0.9087874889373779,
          0.9712672233581543,
          0.9307441711425781,
          0.8809964656829834,
          0.8752830028533936,
          24.192113161087036
         ],
         "yaxis": "y"
        }
       ],
       "layout": {
        "legend": {
         "tracegroupgap": 0
        },
        "margin": {
         "t": 60
        },
        "template": {
         "data": {
          "bar": [
           {
            "error_x": {
             "color": "#2a3f5f"
            },
            "error_y": {
             "color": "#2a3f5f"
            },
            "marker": {
             "line": {
              "color": "#E5ECF6",
              "width": 0.5
             }
            },
            "type": "bar"
           }
          ],
          "barpolar": [
           {
            "marker": {
             "line": {
              "color": "#E5ECF6",
              "width": 0.5
             }
            },
            "type": "barpolar"
           }
          ],
          "carpet": [
           {
            "aaxis": {
             "endlinecolor": "#2a3f5f",
             "gridcolor": "white",
             "linecolor": "white",
             "minorgridcolor": "white",
             "startlinecolor": "#2a3f5f"
            },
            "baxis": {
             "endlinecolor": "#2a3f5f",
             "gridcolor": "white",
             "linecolor": "white",
             "minorgridcolor": "white",
             "startlinecolor": "#2a3f5f"
            },
            "type": "carpet"
           }
          ],
          "choropleth": [
           {
            "colorbar": {
             "outlinewidth": 0,
             "ticks": ""
            },
            "type": "choropleth"
           }
          ],
          "contour": [
           {
            "colorbar": {
             "outlinewidth": 0,
             "ticks": ""
            },
            "colorscale": [
             [
              0,
              "#0d0887"
             ],
             [
              0.1111111111111111,
              "#46039f"
             ],
             [
              0.2222222222222222,
              "#7201a8"
             ],
             [
              0.3333333333333333,
              "#9c179e"
             ],
             [
              0.4444444444444444,
              "#bd3786"
             ],
             [
              0.5555555555555556,
              "#d8576b"
             ],
             [
              0.6666666666666666,
              "#ed7953"
             ],
             [
              0.7777777777777778,
              "#fb9f3a"
             ],
             [
              0.8888888888888888,
              "#fdca26"
             ],
             [
              1,
              "#f0f921"
             ]
            ],
            "type": "contour"
           }
          ],
          "contourcarpet": [
           {
            "colorbar": {
             "outlinewidth": 0,
             "ticks": ""
            },
            "type": "contourcarpet"
           }
          ],
          "heatmap": [
           {
            "colorbar": {
             "outlinewidth": 0,
             "ticks": ""
            },
            "colorscale": [
             [
              0,
              "#0d0887"
             ],
             [
              0.1111111111111111,
              "#46039f"
             ],
             [
              0.2222222222222222,
              "#7201a8"
             ],
             [
              0.3333333333333333,
              "#9c179e"
             ],
             [
              0.4444444444444444,
              "#bd3786"
             ],
             [
              0.5555555555555556,
              "#d8576b"
             ],
             [
              0.6666666666666666,
              "#ed7953"
             ],
             [
              0.7777777777777778,
              "#fb9f3a"
             ],
             [
              0.8888888888888888,
              "#fdca26"
             ],
             [
              1,
              "#f0f921"
             ]
            ],
            "type": "heatmap"
           }
          ],
          "heatmapgl": [
           {
            "colorbar": {
             "outlinewidth": 0,
             "ticks": ""
            },
            "colorscale": [
             [
              0,
              "#0d0887"
             ],
             [
              0.1111111111111111,
              "#46039f"
             ],
             [
              0.2222222222222222,
              "#7201a8"
             ],
             [
              0.3333333333333333,
              "#9c179e"
             ],
             [
              0.4444444444444444,
              "#bd3786"
             ],
             [
              0.5555555555555556,
              "#d8576b"
             ],
             [
              0.6666666666666666,
              "#ed7953"
             ],
             [
              0.7777777777777778,
              "#fb9f3a"
             ],
             [
              0.8888888888888888,
              "#fdca26"
             ],
             [
              1,
              "#f0f921"
             ]
            ],
            "type": "heatmapgl"
           }
          ],
          "histogram": [
           {
            "marker": {
             "colorbar": {
              "outlinewidth": 0,
              "ticks": ""
             }
            },
            "type": "histogram"
           }
          ],
          "histogram2d": [
           {
            "colorbar": {
             "outlinewidth": 0,
             "ticks": ""
            },
            "colorscale": [
             [
              0,
              "#0d0887"
             ],
             [
              0.1111111111111111,
              "#46039f"
             ],
             [
              0.2222222222222222,
              "#7201a8"
             ],
             [
              0.3333333333333333,
              "#9c179e"
             ],
             [
              0.4444444444444444,
              "#bd3786"
             ],
             [
              0.5555555555555556,
              "#d8576b"
             ],
             [
              0.6666666666666666,
              "#ed7953"
             ],
             [
              0.7777777777777778,
              "#fb9f3a"
             ],
             [
              0.8888888888888888,
              "#fdca26"
             ],
             [
              1,
              "#f0f921"
             ]
            ],
            "type": "histogram2d"
           }
          ],
          "histogram2dcontour": [
           {
            "colorbar": {
             "outlinewidth": 0,
             "ticks": ""
            },
            "colorscale": [
             [
              0,
              "#0d0887"
             ],
             [
              0.1111111111111111,
              "#46039f"
             ],
             [
              0.2222222222222222,
              "#7201a8"
             ],
             [
              0.3333333333333333,
              "#9c179e"
             ],
             [
              0.4444444444444444,
              "#bd3786"
             ],
             [
              0.5555555555555556,
              "#d8576b"
             ],
             [
              0.6666666666666666,
              "#ed7953"
             ],
             [
              0.7777777777777778,
              "#fb9f3a"
             ],
             [
              0.8888888888888888,
              "#fdca26"
             ],
             [
              1,
              "#f0f921"
             ]
            ],
            "type": "histogram2dcontour"
           }
          ],
          "mesh3d": [
           {
            "colorbar": {
             "outlinewidth": 0,
             "ticks": ""
            },
            "type": "mesh3d"
           }
          ],
          "parcoords": [
           {
            "line": {
             "colorbar": {
              "outlinewidth": 0,
              "ticks": ""
             }
            },
            "type": "parcoords"
           }
          ],
          "pie": [
           {
            "automargin": true,
            "type": "pie"
           }
          ],
          "scatter": [
           {
            "marker": {
             "colorbar": {
              "outlinewidth": 0,
              "ticks": ""
             }
            },
            "type": "scatter"
           }
          ],
          "scatter3d": [
           {
            "line": {
             "colorbar": {
              "outlinewidth": 0,
              "ticks": ""
             }
            },
            "marker": {
             "colorbar": {
              "outlinewidth": 0,
              "ticks": ""
             }
            },
            "type": "scatter3d"
           }
          ],
          "scattercarpet": [
           {
            "marker": {
             "colorbar": {
              "outlinewidth": 0,
              "ticks": ""
             }
            },
            "type": "scattercarpet"
           }
          ],
          "scattergeo": [
           {
            "marker": {
             "colorbar": {
              "outlinewidth": 0,
              "ticks": ""
             }
            },
            "type": "scattergeo"
           }
          ],
          "scattergl": [
           {
            "marker": {
             "colorbar": {
              "outlinewidth": 0,
              "ticks": ""
             }
            },
            "type": "scattergl"
           }
          ],
          "scattermapbox": [
           {
            "marker": {
             "colorbar": {
              "outlinewidth": 0,
              "ticks": ""
             }
            },
            "type": "scattermapbox"
           }
          ],
          "scatterpolar": [
           {
            "marker": {
             "colorbar": {
              "outlinewidth": 0,
              "ticks": ""
             }
            },
            "type": "scatterpolar"
           }
          ],
          "scatterpolargl": [
           {
            "marker": {
             "colorbar": {
              "outlinewidth": 0,
              "ticks": ""
             }
            },
            "type": "scatterpolargl"
           }
          ],
          "scatterternary": [
           {
            "marker": {
             "colorbar": {
              "outlinewidth": 0,
              "ticks": ""
             }
            },
            "type": "scatterternary"
           }
          ],
          "surface": [
           {
            "colorbar": {
             "outlinewidth": 0,
             "ticks": ""
            },
            "colorscale": [
             [
              0,
              "#0d0887"
             ],
             [
              0.1111111111111111,
              "#46039f"
             ],
             [
              0.2222222222222222,
              "#7201a8"
             ],
             [
              0.3333333333333333,
              "#9c179e"
             ],
             [
              0.4444444444444444,
              "#bd3786"
             ],
             [
              0.5555555555555556,
              "#d8576b"
             ],
             [
              0.6666666666666666,
              "#ed7953"
             ],
             [
              0.7777777777777778,
              "#fb9f3a"
             ],
             [
              0.8888888888888888,
              "#fdca26"
             ],
             [
              1,
              "#f0f921"
             ]
            ],
            "type": "surface"
           }
          ],
          "table": [
           {
            "cells": {
             "fill": {
              "color": "#EBF0F8"
             },
             "line": {
              "color": "white"
             }
            },
            "header": {
             "fill": {
              "color": "#C8D4E3"
             },
             "line": {
              "color": "white"
             }
            },
            "type": "table"
           }
          ]
         },
         "layout": {
          "annotationdefaults": {
           "arrowcolor": "#2a3f5f",
           "arrowhead": 0,
           "arrowwidth": 1
          },
          "autotypenumbers": "strict",
          "coloraxis": {
           "colorbar": {
            "outlinewidth": 0,
            "ticks": ""
           }
          },
          "colorscale": {
           "diverging": [
            [
             0,
             "#8e0152"
            ],
            [
             0.1,
             "#c51b7d"
            ],
            [
             0.2,
             "#de77ae"
            ],
            [
             0.3,
             "#f1b6da"
            ],
            [
             0.4,
             "#fde0ef"
            ],
            [
             0.5,
             "#f7f7f7"
            ],
            [
             0.6,
             "#e6f5d0"
            ],
            [
             0.7,
             "#b8e186"
            ],
            [
             0.8,
             "#7fbc41"
            ],
            [
             0.9,
             "#4d9221"
            ],
            [
             1,
             "#276419"
            ]
           ],
           "sequential": [
            [
             0,
             "#0d0887"
            ],
            [
             0.1111111111111111,
             "#46039f"
            ],
            [
             0.2222222222222222,
             "#7201a8"
            ],
            [
             0.3333333333333333,
             "#9c179e"
            ],
            [
             0.4444444444444444,
             "#bd3786"
            ],
            [
             0.5555555555555556,
             "#d8576b"
            ],
            [
             0.6666666666666666,
             "#ed7953"
            ],
            [
             0.7777777777777778,
             "#fb9f3a"
            ],
            [
             0.8888888888888888,
             "#fdca26"
            ],
            [
             1,
             "#f0f921"
            ]
           ],
           "sequentialminus": [
            [
             0,
             "#0d0887"
            ],
            [
             0.1111111111111111,
             "#46039f"
            ],
            [
             0.2222222222222222,
             "#7201a8"
            ],
            [
             0.3333333333333333,
             "#9c179e"
            ],
            [
             0.4444444444444444,
             "#bd3786"
            ],
            [
             0.5555555555555556,
             "#d8576b"
            ],
            [
             0.6666666666666666,
             "#ed7953"
            ],
            [
             0.7777777777777778,
             "#fb9f3a"
            ],
            [
             0.8888888888888888,
             "#fdca26"
            ],
            [
             1,
             "#f0f921"
            ]
           ]
          },
          "colorway": [
           "#636efa",
           "#EF553B",
           "#00cc96",
           "#ab63fa",
           "#FFA15A",
           "#19d3f3",
           "#FF6692",
           "#B6E880",
           "#FF97FF",
           "#FECB52"
          ],
          "font": {
           "color": "#2a3f5f"
          },
          "geo": {
           "bgcolor": "white",
           "lakecolor": "white",
           "landcolor": "#E5ECF6",
           "showlakes": true,
           "showland": true,
           "subunitcolor": "white"
          },
          "hoverlabel": {
           "align": "left"
          },
          "hovermode": "closest",
          "mapbox": {
           "style": "light"
          },
          "paper_bgcolor": "white",
          "plot_bgcolor": "#E5ECF6",
          "polar": {
           "angularaxis": {
            "gridcolor": "white",
            "linecolor": "white",
            "ticks": ""
           },
           "bgcolor": "#E5ECF6",
           "radialaxis": {
            "gridcolor": "white",
            "linecolor": "white",
            "ticks": ""
           }
          },
          "scene": {
           "xaxis": {
            "backgroundcolor": "#E5ECF6",
            "gridcolor": "white",
            "gridwidth": 2,
            "linecolor": "white",
            "showbackground": true,
            "ticks": "",
            "zerolinecolor": "white"
           },
           "yaxis": {
            "backgroundcolor": "#E5ECF6",
            "gridcolor": "white",
            "gridwidth": 2,
            "linecolor": "white",
            "showbackground": true,
            "ticks": "",
            "zerolinecolor": "white"
           },
           "zaxis": {
            "backgroundcolor": "#E5ECF6",
            "gridcolor": "white",
            "gridwidth": 2,
            "linecolor": "white",
            "showbackground": true,
            "ticks": "",
            "zerolinecolor": "white"
           }
          },
          "shapedefaults": {
           "line": {
            "color": "#2a3f5f"
           }
          },
          "ternary": {
           "aaxis": {
            "gridcolor": "white",
            "linecolor": "white",
            "ticks": ""
           },
           "baxis": {
            "gridcolor": "white",
            "linecolor": "white",
            "ticks": ""
           },
           "bgcolor": "#E5ECF6",
           "caxis": {
            "gridcolor": "white",
            "linecolor": "white",
            "ticks": ""
           }
          },
          "title": {
           "x": 0.05
          },
          "xaxis": {
           "automargin": true,
           "gridcolor": "white",
           "linecolor": "white",
           "ticks": "",
           "title": {
            "standoff": 15
           },
           "zerolinecolor": "white",
           "zerolinewidth": 2
          },
          "yaxis": {
           "automargin": true,
           "gridcolor": "white",
           "linecolor": "white",
           "ticks": "",
           "title": {
            "standoff": 15
           },
           "zerolinecolor": "white",
           "zerolinewidth": 2
          }
         }
        },
        "xaxis": {
         "anchor": "y",
         "domain": [
          0,
          1
         ],
         "title": {
          "text": "x"
         }
        },
        "yaxis": {
         "anchor": "x",
         "domain": [
          0,
          1
         ],
         "title": {
          "text": "y"
         }
        }
       }
      },
      "text/html": [
       "<div>                            <div id=\"dbbaaa9d-9aa2-40cc-96eb-4d62deb942d7\" class=\"plotly-graph-div\" style=\"height:525px; width:100%;\"></div>            <script type=\"text/javascript\">                require([\"plotly\"], function(Plotly) {                    window.PLOTLYENV=window.PLOTLYENV || {};                                    if (document.getElementById(\"dbbaaa9d-9aa2-40cc-96eb-4d62deb942d7\")) {                    Plotly.newPlot(                        \"dbbaaa9d-9aa2-40cc-96eb-4d62deb942d7\",                        [{\"hovertemplate\": \"x=%{x}<br>y=%{y}<extra></extra>\", \"legendgroup\": \"\", \"line\": {\"color\": \"#636efa\", \"dash\": \"solid\"}, \"mode\": \"lines\", \"name\": \"\", \"orientation\": \"v\", \"showlegend\": false, \"type\": \"scatter\", \"x\": [1, 2, 3, 4, 5, 6, 7, 8, 9, 10, 11, 12, 13, 14, 15, 16, 17, 18, 19, 20, 21, 22, 23, 24, 25, 26, 27, 28, 29, 30, 31, 32, 33, 34, 35, 36, 37, 38, 39, 40, 41, 42, 43, 44, 45, 46, 47, 48, 49, 50, 51, 52, 53, 54, 55, 56, 57, 58, 59, 60, 61, 62, 63, 64, 65, 66, 67, 68, 69, 70, 71, 72, 73, 74, 75, 76, 77, 78, 79, 80, 81, 82, 83, 84, 85, 86, 87, 88, 89, 90, 91, 92, 93, 94, 95, 96, 97, 98, 99, 100, 101, 102, 103, 104, 105, 106, 107, 108, 109, 110, 111, 112, 113, 114, 115, 116, 117, 118, 119, 120, 121, 122, 123, 124, 125, 126, 127, 128, 129, 130, 131, 132, 133, 134, 135, 136, 137, 138, 139, 140, 141, 142, 143, 144, 145, 146, 147, 148, 149, 150, 151, 152, 153, 154, 155, 156, 157, 158, 159, 160, 161, 162, 163, 164, 165, 166, 167, 168, 169, 170, 171, 172, 173, 174, 175, 176, 177, 178, 179, 180, 181, 182, 183, 184, 185, 186, 187, 188, 189, 190, 191, 192, 193, 194, 195, 196, 197, 198, 199, 200, 201, 202, 203, 204, 205, 206, 207, 208, 209, 210, 211, 212, 213, 214, 215, 216, 217, 218, 219, 220, 221, 222, 223, 224, 225, 226, 227, 228, 229, 230, 231, 232, 233, 234, 235, 236, 237, 238, 239, 240, 241, 242, 243, 244, 245, 246, 247, 248, 249, 250, 251, 252, 253, 254, 255, 256, 257, 258, 259, 260, 261, 262, 263, 264, 265, 266, 267, 268, 269, 270, 271, 272, 273, 274, 275, 276, 277, 278, 279, 280, 281, 282, 283, 284, 285, 286, 287, 288, 289, 290, 291, 292, 293, 294, 295, 296, 297, 298, 299, 300, 301, 302], \"xaxis\": \"x\", \"y\": [17.903571844100952, 76.39730715751648, 11.986342668533325, 11.615623950958252, 7.375612258911133, 7.784294605255127, 8.040971517562866, 9.359636068344116, 10.051790475845337, 8.747482776641846, 5.719127178192139, 48.967026710510254, 6.920154333114624, 6.181757688522339, 4.709018230438232, 1.8206775188446045, 4.563801288604736, 4.033775091171265, 3.3507444858551025, 3.0553882122039795, 1.8114519119262695, 33.73562240600586, 2.5763347148895264, 3.272871494293213, 1.6652321815490723, 2.456578254699707, 1.228353500366211, 2.609807014465332, 1.3083515167236328, 1.682349681854248, 2.5762126445770264, 27.702231645584106, 1.9320855140686035, 1.7230048179626465, 1.0499260425567627, 1.2200706005096436, 1.2230448722839355, 0.9897623062133789, 1.670454740524292, 1.0207738876342773, 1.4620678424835205, 26.665194272994995, 1.0168752670288086, 1.0144672393798828, 0.951615571975708, 1.2815816402435303, 1.0300848484039307, 1.2959067821502686, 0.9446835517883301, 1.1472573280334473, 1.281816005706787, 24.88603401184082, 1.4194235801696777, 0.9818809032440186, 0.8892488479614258, 1.02949857711792, 0.9373672008514404, 1.0338122844696045, 0.9045076370239258, 0.9776713848114014, 0.9385488033294678, 23.183847188949585, 0.946990966796875, 0.9570035934448242, 0.8786425590515137, 0.9219779968261719, 0.9869909286499023, 0.9947555065155029, 0.9047684669494629, 1.005584955215454, 0.8686776161193848, 23.441041231155396, 0.9228475093841553, 0.893505334854126, 0.9266974925994873, 0.8988420963287354, 1.0076258182525635, 0.9120233058929443, 0.9952788352966309, 0.8909544944763184, 0.8698890209197998, 23.417173385620117, 0.8707401752471924, 0.902855396270752, 0.9114203453063965, 0.9252195358276367, 0.9237349033355713, 0.8497714996337891, 0.8970382213592529, 0.8612391948699951, 0.8906538486480713, 22.931299209594727, 0.8842856884002686, 0.8853104114532471, 0.8781068325042725, 0.8933796882629395, 0.8989489078521729, 0.9055874347686768, 0.8700528144836426, 1.005021572113037, 0.9738850593566895, 23.97330141067505, 0.9012255668640137, 0.9328277111053467, 0.9152960777282715, 0.8651471138000488, 0.9112823009490967, 0.9047586917877197, 0.8900542259216309, 0.9285430908203125, 0.8886871337890625, 26.91461944580078, 1.1793184280395508, 1.1813254356384277, 1.1810085773468018, 1.2103219032287598, 1.322519063949585, 1.2074644565582275, 1.2032508850097656, 1.2769815921783447, 1.2318227291107178, 39.79635405540466, 1.203455924987793, 1.2890009880065918, 1.198033332824707, 1.2444407939910889, 1.2448699474334717, 1.2825725078582764, 1.267195463180542, 1.224881649017334, 1.2833280563354492, 34.993812084198, 1.1612963676452637, 1.1266751289367676, 1.1479310989379883, 1.1361181735992432, 1.1229698657989502, 1.155191421508789, 1.152184247970581, 1.1306488513946533, 1.128000020980835, 33.79225540161133, 1.172154426574707, 1.1545062065124512, 1.1574442386627197, 1.181614875793457, 1.161787509918213, 1.2345004081726074, 1.2664527893066406, 1.169234275817871, 1.1607882976531982, 35.61125183105469, 1.2310776710510254, 1.1945405006408691, 1.1848385334014893, 1.203901767730713, 1.1844542026519775, 1.1979856491088867, 1.1828839778900146, 1.11720609664917, 1.1225383281707764, 35.317582845687866, 1.1816551685333252, 1.188323974609375, 1.250363826751709, 1.180332899093628, 1.2240393161773682, 1.1472938060760498, 1.1176724433898926, 1.1359024047851562, 1.1149771213531494, 33.76347637176514, 1.1563851833343506, 1.1335465908050537, 1.1179413795471191, 1.1127758026123047, 1.122305154800415, 1.137115716934204, 1.1565237045288086, 1.1552705764770508, 1.1199445724487305, 31.754337072372437, 0.887260913848877, 0.8894057273864746, 0.8594715595245361, 0.9094247817993164, 0.8909242153167725, 0.889765739440918, 1.0376644134521484, 1.060563325881958, 0.9227943420410156, 26.21092653274536, 0.9103639125823975, 0.9199826717376709, 0.9070641994476318, 0.8851652145385742, 0.9553165435791016, 0.8941779136657715, 0.9520103931427002, 0.8990013599395752, 0.8541543483734131, 24.517452239990234, 0.875429630279541, 0.8590712547302246, 0.864077091217041, 0.8675792217254639, 0.8956387042999268, 0.9598042964935303, 0.8956317901611328, 0.9143064022064209, 0.8772501945495605, 24.647799491882324, 0.8788466453552246, 0.9164750576019287, 0.8844089508056641, 0.8739886283874512, 0.9255225658416748, 0.881427526473999, 0.8968768119812012, 0.8742318153381348, 0.9260551929473877, 24.5346941947937, 0.86136794090271, 0.8592896461486816, 0.8660387992858887, 0.8661892414093018, 0.860321044921875, 0.8689160346984863, 0.8637268543243408, 0.8591012954711914, 0.8600940704345703, 24.114073276519775, 0.9114220142364502, 0.8870992660522461, 0.869251012802124, 0.9185435771942139, 0.9252285957336426, 0.9008612632751465, 0.859821081161499, 0.8956949710845947, 0.9234845638275146, 27.037981510162354, 0.894503116607666, 0.8939321041107178, 0.8884866237640381, 0.9230904579162598, 0.8952147960662842, 0.9276118278503418, 0.8840036392211914, 0.897564172744751, 0.9981684684753418, 25.37067198753357, 0.8583097457885742, 0.8651142120361328, 0.8649449348449707, 0.8725173473358154, 0.8665978908538818, 0.858994722366333, 0.8657748699188232, 0.8905401229858398, 0.8760826587677002, 25.087743282318115, 0.8759820461273193, 0.8660297393798828, 0.8607516288757324, 0.8580422401428223, 0.8719773292541504, 0.8715181350708008, 0.8654887676239014, 0.8582484722137451, 0.8741157054901123, 23.150978565216064, 0.8588407039642334, 0.866696834564209, 0.8622610569000244, 0.8650643825531006, 0.8581953048706055, 0.858217716217041, 0.8698456287384033, 0.8630721569061279, 0.8641362190246582, 23.182826280593872, 0.8654022216796875, 0.8719711303710938, 0.8781712055206299, 0.8615908622741699, 0.8573553562164307, 0.8757979869842529, 0.8434202671051025, 0.8600008487701416, 0.8626983165740967, 22.817343711853027, 0.8808116912841797, 0.8661267757415771, 0.8789064884185791, 0.8767621517181396, 0.9087874889373779, 0.9712672233581543, 0.9307441711425781, 0.8809964656829834, 0.8752830028533936, 24.192113161087036], \"yaxis\": \"y\"}],                        {\"legend\": {\"tracegroupgap\": 0}, \"margin\": {\"t\": 60}, \"template\": {\"data\": {\"bar\": [{\"error_x\": {\"color\": \"#2a3f5f\"}, \"error_y\": {\"color\": \"#2a3f5f\"}, \"marker\": {\"line\": {\"color\": \"#E5ECF6\", \"width\": 0.5}}, \"type\": \"bar\"}], \"barpolar\": [{\"marker\": {\"line\": {\"color\": \"#E5ECF6\", \"width\": 0.5}}, \"type\": \"barpolar\"}], \"carpet\": [{\"aaxis\": {\"endlinecolor\": \"#2a3f5f\", \"gridcolor\": \"white\", \"linecolor\": \"white\", \"minorgridcolor\": \"white\", \"startlinecolor\": \"#2a3f5f\"}, \"baxis\": {\"endlinecolor\": \"#2a3f5f\", \"gridcolor\": \"white\", \"linecolor\": \"white\", \"minorgridcolor\": \"white\", \"startlinecolor\": \"#2a3f5f\"}, \"type\": \"carpet\"}], \"choropleth\": [{\"colorbar\": {\"outlinewidth\": 0, \"ticks\": \"\"}, \"type\": \"choropleth\"}], \"contour\": [{\"colorbar\": {\"outlinewidth\": 0, \"ticks\": \"\"}, \"colorscale\": [[0.0, \"#0d0887\"], [0.1111111111111111, \"#46039f\"], [0.2222222222222222, \"#7201a8\"], [0.3333333333333333, \"#9c179e\"], [0.4444444444444444, \"#bd3786\"], [0.5555555555555556, \"#d8576b\"], [0.6666666666666666, \"#ed7953\"], [0.7777777777777778, \"#fb9f3a\"], [0.8888888888888888, \"#fdca26\"], [1.0, \"#f0f921\"]], \"type\": \"contour\"}], \"contourcarpet\": [{\"colorbar\": {\"outlinewidth\": 0, \"ticks\": \"\"}, \"type\": \"contourcarpet\"}], \"heatmap\": [{\"colorbar\": {\"outlinewidth\": 0, \"ticks\": \"\"}, \"colorscale\": [[0.0, \"#0d0887\"], [0.1111111111111111, \"#46039f\"], [0.2222222222222222, \"#7201a8\"], [0.3333333333333333, \"#9c179e\"], [0.4444444444444444, \"#bd3786\"], [0.5555555555555556, \"#d8576b\"], [0.6666666666666666, \"#ed7953\"], [0.7777777777777778, \"#fb9f3a\"], [0.8888888888888888, \"#fdca26\"], [1.0, \"#f0f921\"]], \"type\": \"heatmap\"}], \"heatmapgl\": [{\"colorbar\": {\"outlinewidth\": 0, \"ticks\": \"\"}, \"colorscale\": [[0.0, \"#0d0887\"], [0.1111111111111111, \"#46039f\"], [0.2222222222222222, \"#7201a8\"], [0.3333333333333333, \"#9c179e\"], [0.4444444444444444, \"#bd3786\"], [0.5555555555555556, \"#d8576b\"], [0.6666666666666666, \"#ed7953\"], [0.7777777777777778, \"#fb9f3a\"], [0.8888888888888888, \"#fdca26\"], [1.0, \"#f0f921\"]], \"type\": \"heatmapgl\"}], \"histogram\": [{\"marker\": {\"colorbar\": {\"outlinewidth\": 0, \"ticks\": \"\"}}, \"type\": \"histogram\"}], \"histogram2d\": [{\"colorbar\": {\"outlinewidth\": 0, \"ticks\": \"\"}, \"colorscale\": [[0.0, \"#0d0887\"], [0.1111111111111111, \"#46039f\"], [0.2222222222222222, \"#7201a8\"], [0.3333333333333333, \"#9c179e\"], [0.4444444444444444, \"#bd3786\"], [0.5555555555555556, \"#d8576b\"], [0.6666666666666666, \"#ed7953\"], [0.7777777777777778, \"#fb9f3a\"], [0.8888888888888888, \"#fdca26\"], [1.0, \"#f0f921\"]], \"type\": \"histogram2d\"}], \"histogram2dcontour\": [{\"colorbar\": {\"outlinewidth\": 0, \"ticks\": \"\"}, \"colorscale\": [[0.0, \"#0d0887\"], [0.1111111111111111, \"#46039f\"], [0.2222222222222222, \"#7201a8\"], [0.3333333333333333, \"#9c179e\"], [0.4444444444444444, \"#bd3786\"], [0.5555555555555556, \"#d8576b\"], [0.6666666666666666, \"#ed7953\"], [0.7777777777777778, \"#fb9f3a\"], [0.8888888888888888, \"#fdca26\"], [1.0, \"#f0f921\"]], \"type\": \"histogram2dcontour\"}], \"mesh3d\": [{\"colorbar\": {\"outlinewidth\": 0, \"ticks\": \"\"}, \"type\": \"mesh3d\"}], \"parcoords\": [{\"line\": {\"colorbar\": {\"outlinewidth\": 0, \"ticks\": \"\"}}, \"type\": \"parcoords\"}], \"pie\": [{\"automargin\": true, \"type\": \"pie\"}], \"scatter\": [{\"marker\": {\"colorbar\": {\"outlinewidth\": 0, \"ticks\": \"\"}}, \"type\": \"scatter\"}], \"scatter3d\": [{\"line\": {\"colorbar\": {\"outlinewidth\": 0, \"ticks\": \"\"}}, \"marker\": {\"colorbar\": {\"outlinewidth\": 0, \"ticks\": \"\"}}, \"type\": \"scatter3d\"}], \"scattercarpet\": [{\"marker\": {\"colorbar\": {\"outlinewidth\": 0, \"ticks\": \"\"}}, \"type\": \"scattercarpet\"}], \"scattergeo\": [{\"marker\": {\"colorbar\": {\"outlinewidth\": 0, \"ticks\": \"\"}}, \"type\": \"scattergeo\"}], \"scattergl\": [{\"marker\": {\"colorbar\": {\"outlinewidth\": 0, \"ticks\": \"\"}}, \"type\": \"scattergl\"}], \"scattermapbox\": [{\"marker\": {\"colorbar\": {\"outlinewidth\": 0, \"ticks\": \"\"}}, \"type\": \"scattermapbox\"}], \"scatterpolar\": [{\"marker\": {\"colorbar\": {\"outlinewidth\": 0, \"ticks\": \"\"}}, \"type\": \"scatterpolar\"}], \"scatterpolargl\": [{\"marker\": {\"colorbar\": {\"outlinewidth\": 0, \"ticks\": \"\"}}, \"type\": \"scatterpolargl\"}], \"scatterternary\": [{\"marker\": {\"colorbar\": {\"outlinewidth\": 0, \"ticks\": \"\"}}, \"type\": \"scatterternary\"}], \"surface\": [{\"colorbar\": {\"outlinewidth\": 0, \"ticks\": \"\"}, \"colorscale\": [[0.0, \"#0d0887\"], [0.1111111111111111, \"#46039f\"], [0.2222222222222222, \"#7201a8\"], [0.3333333333333333, \"#9c179e\"], [0.4444444444444444, \"#bd3786\"], [0.5555555555555556, \"#d8576b\"], [0.6666666666666666, \"#ed7953\"], [0.7777777777777778, \"#fb9f3a\"], [0.8888888888888888, \"#fdca26\"], [1.0, \"#f0f921\"]], \"type\": \"surface\"}], \"table\": [{\"cells\": {\"fill\": {\"color\": \"#EBF0F8\"}, \"line\": {\"color\": \"white\"}}, \"header\": {\"fill\": {\"color\": \"#C8D4E3\"}, \"line\": {\"color\": \"white\"}}, \"type\": \"table\"}]}, \"layout\": {\"annotationdefaults\": {\"arrowcolor\": \"#2a3f5f\", \"arrowhead\": 0, \"arrowwidth\": 1}, \"autotypenumbers\": \"strict\", \"coloraxis\": {\"colorbar\": {\"outlinewidth\": 0, \"ticks\": \"\"}}, \"colorscale\": {\"diverging\": [[0, \"#8e0152\"], [0.1, \"#c51b7d\"], [0.2, \"#de77ae\"], [0.3, \"#f1b6da\"], [0.4, \"#fde0ef\"], [0.5, \"#f7f7f7\"], [0.6, \"#e6f5d0\"], [0.7, \"#b8e186\"], [0.8, \"#7fbc41\"], [0.9, \"#4d9221\"], [1, \"#276419\"]], \"sequential\": [[0.0, \"#0d0887\"], [0.1111111111111111, \"#46039f\"], [0.2222222222222222, \"#7201a8\"], [0.3333333333333333, \"#9c179e\"], [0.4444444444444444, \"#bd3786\"], [0.5555555555555556, \"#d8576b\"], [0.6666666666666666, \"#ed7953\"], [0.7777777777777778, \"#fb9f3a\"], [0.8888888888888888, \"#fdca26\"], [1.0, \"#f0f921\"]], \"sequentialminus\": [[0.0, \"#0d0887\"], [0.1111111111111111, \"#46039f\"], [0.2222222222222222, \"#7201a8\"], [0.3333333333333333, \"#9c179e\"], [0.4444444444444444, \"#bd3786\"], [0.5555555555555556, \"#d8576b\"], [0.6666666666666666, \"#ed7953\"], [0.7777777777777778, \"#fb9f3a\"], [0.8888888888888888, \"#fdca26\"], [1.0, \"#f0f921\"]]}, \"colorway\": [\"#636efa\", \"#EF553B\", \"#00cc96\", \"#ab63fa\", \"#FFA15A\", \"#19d3f3\", \"#FF6692\", \"#B6E880\", \"#FF97FF\", \"#FECB52\"], \"font\": {\"color\": \"#2a3f5f\"}, \"geo\": {\"bgcolor\": \"white\", \"lakecolor\": \"white\", \"landcolor\": \"#E5ECF6\", \"showlakes\": true, \"showland\": true, \"subunitcolor\": \"white\"}, \"hoverlabel\": {\"align\": \"left\"}, \"hovermode\": \"closest\", \"mapbox\": {\"style\": \"light\"}, \"paper_bgcolor\": \"white\", \"plot_bgcolor\": \"#E5ECF6\", \"polar\": {\"angularaxis\": {\"gridcolor\": \"white\", \"linecolor\": \"white\", \"ticks\": \"\"}, \"bgcolor\": \"#E5ECF6\", \"radialaxis\": {\"gridcolor\": \"white\", \"linecolor\": \"white\", \"ticks\": \"\"}}, \"scene\": {\"xaxis\": {\"backgroundcolor\": \"#E5ECF6\", \"gridcolor\": \"white\", \"gridwidth\": 2, \"linecolor\": \"white\", \"showbackground\": true, \"ticks\": \"\", \"zerolinecolor\": \"white\"}, \"yaxis\": {\"backgroundcolor\": \"#E5ECF6\", \"gridcolor\": \"white\", \"gridwidth\": 2, \"linecolor\": \"white\", \"showbackground\": true, \"ticks\": \"\", \"zerolinecolor\": \"white\"}, \"zaxis\": {\"backgroundcolor\": \"#E5ECF6\", \"gridcolor\": \"white\", \"gridwidth\": 2, \"linecolor\": \"white\", \"showbackground\": true, \"ticks\": \"\", \"zerolinecolor\": \"white\"}}, \"shapedefaults\": {\"line\": {\"color\": \"#2a3f5f\"}}, \"ternary\": {\"aaxis\": {\"gridcolor\": \"white\", \"linecolor\": \"white\", \"ticks\": \"\"}, \"baxis\": {\"gridcolor\": \"white\", \"linecolor\": \"white\", \"ticks\": \"\"}, \"bgcolor\": \"#E5ECF6\", \"caxis\": {\"gridcolor\": \"white\", \"linecolor\": \"white\", \"ticks\": \"\"}}, \"title\": {\"x\": 0.05}, \"xaxis\": {\"automargin\": true, \"gridcolor\": \"white\", \"linecolor\": \"white\", \"ticks\": \"\", \"title\": {\"standoff\": 15}, \"zerolinecolor\": \"white\", \"zerolinewidth\": 2}, \"yaxis\": {\"automargin\": true, \"gridcolor\": \"white\", \"linecolor\": \"white\", \"ticks\": \"\", \"title\": {\"standoff\": 15}, \"zerolinecolor\": \"white\", \"zerolinewidth\": 2}}}, \"xaxis\": {\"anchor\": \"y\", \"domain\": [0.0, 1.0], \"title\": {\"text\": \"x\"}}, \"yaxis\": {\"anchor\": \"x\", \"domain\": [0.0, 1.0], \"title\": {\"text\": \"y\"}}},                        {\"responsive\": true}                    ).then(function(){\n",
       "                            \n",
       "var gd = document.getElementById('dbbaaa9d-9aa2-40cc-96eb-4d62deb942d7');\n",
       "var x = new MutationObserver(function (mutations, observer) {{\n",
       "        var display = window.getComputedStyle(gd).display;\n",
       "        if (!display || display === 'none') {{\n",
       "            console.log([gd, 'removed!']);\n",
       "            Plotly.purge(gd);\n",
       "            observer.disconnect();\n",
       "        }}\n",
       "}});\n",
       "\n",
       "// Listen for the removal of the full notebook cells\n",
       "var notebookContainer = gd.closest('#notebook-container');\n",
       "if (notebookContainer) {{\n",
       "    x.observe(notebookContainer, {childList: true});\n",
       "}}\n",
       "\n",
       "// Listen for the clearing of the current output cell\n",
       "var outputEl = gd.closest('.output');\n",
       "if (outputEl) {{\n",
       "    x.observe(outputEl, {childList: true});\n",
       "}}\n",
       "\n",
       "                        })                };                });            </script>        </div>"
      ]
     },
     "metadata": {},
     "output_type": "display_data"
    }
   ],
   "source": [
    "keys = time_itr_dict.keys()\n",
    "values = time_itr_dict.values()\n",
    "\n",
    "px.line(x=keys,y=values)"
   ]
  },
  {
   "cell_type": "code",
   "execution_count": 17,
   "metadata": {},
   "outputs": [],
   "source": [
    "#  !git status "
   ]
  },
  {
   "cell_type": "code",
   "execution_count": 18,
   "metadata": {},
   "outputs": [],
   "source": [
    "# !git add Clustering-algorithm-single-core-\\(multiple-values-of-gamma\\).ipynb"
   ]
  },
  {
   "cell_type": "code",
   "execution_count": 19,
   "metadata": {},
   "outputs": [],
   "source": [
    "# !git add -u && git status && git commit -m \"clstr_dict and parent_arr approaches\" && git push origin master "
   ]
  },
  {
   "cell_type": "code",
   "execution_count": null,
   "metadata": {},
   "outputs": [],
   "source": []
  }
 ],
 "metadata": {
  "kernelspec": {
   "display_name": "Python 3",
   "language": "python",
   "name": "python3"
  },
  "language_info": {
   "codemirror_mode": {
    "name": "ipython",
    "version": 3
   },
   "file_extension": ".py",
   "mimetype": "text/x-python",
   "name": "python",
   "nbconvert_exporter": "python",
   "pygments_lexer": "ipython3",
   "version": "3.8.5"
  }
 },
 "nbformat": 4,
 "nbformat_minor": 4
}
