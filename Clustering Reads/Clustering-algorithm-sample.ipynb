{
 "cells": [
  {
   "cell_type": "code",
   "execution_count": 46,
   "metadata": {},
   "outputs": [],
   "source": [
    "import numpy as np\n",
    "import pandas as pd \n",
    "import string\n",
    "import random\n",
    "import csv\n",
    "import time\n",
    "import math\n",
    "import multiset \n",
    "import plotly.express as px\n",
    "import json \n",
    "import pandas as pd \n",
    "import pickle\n",
    "%load_ext memory_profiler"
   ]
  },
  {
   "cell_type": "markdown",
   "metadata": {},
   "source": [
    "## Reading Data Files "
   ]
  },
  {
   "cell_type": "code",
   "execution_count": 2,
   "metadata": {},
   "outputs": [],
   "source": [
    "# The target file includes the original sequences that encodes the data. \n",
    "with open('targetBlawat et al.LDPC.txt') as f:\n",
    "    reads = f.readlines()\n",
    "for i in range(0,len(reads)):\n",
    "    reads[i] = reads[i][0:len(reads[i])-1]\n",
    "# reads "
   ]
  },
  {
   "cell_type": "code",
   "execution_count": 3,
   "metadata": {},
   "outputs": [
    {
     "data": {
      "text/plain": [
       "9608"
      ]
     },
     "execution_count": 3,
     "metadata": {},
     "output_type": "execute_result"
    }
   ],
   "source": [
    "np.size(reads)"
   ]
  },
  {
   "cell_type": "code",
   "execution_count": 4,
   "metadata": {},
   "outputs": [],
   "source": [
    "# The errors_shuffled file include the erroneous copies shuffled. \n",
    "with open('errors_shuffled.txt') as f:\n",
    "    reads_err = f.readlines()\n",
    "for i in range(0,len(reads_err)):\n",
    "#     reads_err[i] = reads_err[i][0:len(reads_err[i])-1]\n",
    "    reads_err[i] = reads_err[i].strip()\n",
    "# reads_err"
   ]
  },
  {
   "cell_type": "code",
   "execution_count": 5,
   "metadata": {},
   "outputs": [
    {
     "data": {
      "text/plain": [
       "1161706"
      ]
     },
     "execution_count": 5,
     "metadata": {},
     "output_type": "execute_result"
    }
   ],
   "source": [
    "np.size(reads_err)"
   ]
  },
  {
   "cell_type": "code",
   "execution_count": 6,
   "metadata": {},
   "outputs": [],
   "source": [
    "# evyat.txt include the erroneous copies clustered and labeled. \n",
    "with open('evyat.txt') as f:\n",
    "    reads_cl = f.readlines()\n",
    "for i in range(0,len(reads_cl)):\n",
    "    reads_cl[i] = reads_cl[i].strip()\n",
    "# reads_cl"
   ]
  },
  {
   "cell_type": "markdown",
   "metadata": {},
   "source": [
    "# Functions\n"
   ]
  },
  {
   "cell_type": "code",
   "execution_count": 20,
   "metadata": {},
   "outputs": [],
   "source": [
    "def hash_fun(x,a,w,l):\n",
    "    ind = x.find(a)\n",
    "    return x[ind:min(len(x),ind+w+l)]\n",
    "\n",
    "def ind_st(st):\n",
    "    #All 3-grams: AAA,AAG,AAC,AAT,AGA,AGC,...,TTA,TTG,TTC,TTT\n",
    "    # A-0, G-1, C-2, T-3\n",
    "    # index of CAT = Decimal representaion of (203)\n",
    "    N_q = {\"A\":0,\"C\":1,\"G\":2,\"T\":3}\n",
    "    dec = 0\n",
    "    for i in range(0,len(st)):\n",
    "        dec += N_q[st[i]]*(4**(len(st)-i-1))\n",
    "    return dec \n",
    "    \n",
    "    \n",
    "def bin_sig(x,q):\n",
    "    bs = [0]*(4**q) \n",
    "    for i in range(0,len(x)-q+1):\n",
    "        st = x[i:i+q]\n",
    "        bs[ind_st(st)] = 1\n",
    "    bs_str = ''.join(str(e) for e in bs)\n",
    "    return bs_str\n",
    "\n",
    "def bin_sig_block(x,q,num_blocks):\n",
    "    bs_str = \"\"\n",
    "    block_len = math.floor(len(x)/num_blocks)\n",
    "    for i in range(0,num_blocks-1):\n",
    "        bs_str += bin_sig(x[i*block_len:(i+1)*block_len],q)\n",
    "    bs_str += bin_sig(x[(num_blocks-1)*block_len:],q)\n",
    "    return bs_str\n",
    "        \n",
    "        \n",
    "def ham_dis(x,y):\n",
    "    dis = 0\n",
    "    for i in range(0,len(x)):\n",
    "        if(x[i]!= y[i]):\n",
    "            dis += 1\n",
    "    return dis \n",
    "\n",
    "def rand_perm(w):\n",
    "    return ''.join(random.choice('ACGT') for _ in range(w))\n",
    "\n",
    "def merge(x,y,parent):\n",
    "    parent[x]= min(parent[x],parent[y])\n",
    "    parent[y]= min(parent[x],parent[y])\n",
    "    return parent\n",
    "    \n",
    "def rep_find(inp,parent):\n",
    "    temp = inp\n",
    "    cnt = 0\n",
    "    while(parent[temp]!=temp and cnt<10):\n",
    "        cnt += 1\n",
    "        temp=parent[temp]\n",
    "    return temp \n",
    "\n",
    "def edit_dis(s1, s2):\n",
    "    m=len(s1)+1\n",
    "    n=len(s2)+1\n",
    "\n",
    "    tbl = {}\n",
    "    for i in range(m): tbl[i,0]=i\n",
    "    for j in range(n): tbl[0,j]=j\n",
    "    for i in range(1, m):\n",
    "        for j in range(1, n):\n",
    "            cost = 0 if s1[i-1] == s2[j-1] else 1\n",
    "            tbl[i,j] = min(tbl[i, j-1]+1, tbl[i-1, j]+1, tbl[i-1, j-1]+cost)\n",
    "\n",
    "    return tbl[i,j]\n",
    "\n",
    "def find_in_arr(el,parent):\n",
    "    cnt = 0\n",
    "    for i in range(0,len(parent)):\n",
    "        if parent[i] == el: \n",
    "            cnt += 1 \n",
    "    return cnt \n",
    "\n",
    "    \n",
    "def display_parent(parent):\n",
    "    clstr = {}\n",
    "    for i in range(0,len(parent)):\n",
    "        clstr[i]=[]\n",
    "    for i in range(0,len(parent)):\n",
    "        clstr[rep_find(i,parent)].append(i)\n",
    "    return clstr\n",
    "\n",
    "def display_parent_ver2(parent,C_til_prev,parent_prev):\n",
    "    clstr = C_til_prev\n",
    "    for i in range(0,len(parent)):\n",
    "        if(parent[i]!=parent_prev[i]):\n",
    "#                 print(i,rep_find(i,parent_prev),clstr[rep_find(i,parent_prev)])\n",
    "            clstr[rep_find(i,parent)].extend(clstr[i])\n",
    "            clstr[rep_find(i,parent_prev)] = []\n",
    "    return clstr"
   ]
  },
  {
   "cell_type": "code",
   "execution_count": 21,
   "metadata": {},
   "outputs": [
    {
     "data": {
      "text/plain": [
       "'TGAAT'"
      ]
     },
     "execution_count": 21,
     "metadata": {},
     "output_type": "execute_result"
    }
   ],
   "source": [
    "hash_fun(\"AGCTGAATGC\",\"TGA\",3,2)"
   ]
  },
  {
   "cell_type": "code",
   "execution_count": 22,
   "metadata": {},
   "outputs": [
    {
     "data": {
      "text/plain": [
       "'ATGC'"
      ]
     },
     "execution_count": 22,
     "metadata": {},
     "output_type": "execute_result"
    }
   ],
   "source": [
    "hash_fun(\"AGCTGAATGC\",\"ATG\",3,2)"
   ]
  },
  {
   "cell_type": "code",
   "execution_count": 23,
   "metadata": {},
   "outputs": [
    {
     "data": {
      "text/plain": [
       "''"
      ]
     },
     "execution_count": 23,
     "metadata": {},
     "output_type": "execute_result"
    }
   ],
   "source": [
    "hash_fun(\"AGCTGAATGC\",\"CAT\",3,2)"
   ]
  },
  {
   "cell_type": "code",
   "execution_count": 24,
   "metadata": {},
   "outputs": [
    {
     "data": {
      "text/plain": [
       "2"
      ]
     },
     "execution_count": 24,
     "metadata": {},
     "output_type": "execute_result"
    }
   ],
   "source": [
    "edit_dis(\"ACGTG\",\"AGTC\")"
   ]
  },
  {
   "cell_type": "code",
   "execution_count": 35,
   "metadata": {},
   "outputs": [
    {
     "data": {
      "text/plain": [
       "49"
      ]
     },
     "execution_count": 35,
     "metadata": {},
     "output_type": "execute_result"
    }
   ],
   "source": [
    "m = len(reads[0])\n",
    "q =  3\n",
    "num_blocks = 3\n",
    "x = \"AACCTCTAGACACACAACTATTAGTACCTATTATAAACACAACATAAGGTCAAGATAAGCAGAGA\"\n",
    "y = \"AACACGAAATAACACACCACGAAGAGACACGACACAACACAACAGAGCACAACAGAGCACAACAC\"\n",
    "ham_dis(bin_sig_block(x,q,num_blocks),bin_sig_block(y,q,num_blocks))"
   ]
  },
  {
   "cell_type": "code",
   "execution_count": 36,
   "metadata": {},
   "outputs": [
    {
     "data": {
      "text/plain": [
       "28"
      ]
     },
     "execution_count": 36,
     "metadata": {},
     "output_type": "execute_result"
    }
   ],
   "source": [
    "x = \"AACCTCTAGACACACAACTATTAGTACCTATTATAAACACAACATAAGGTCAAGATAAGCAGAGA\"\n",
    "y = \"AACACGAAATAACACACCACGAAGAGACACGACACAACACAACAGAGCACAACAGAGCACAACAC\"\n",
    "edit_dis(x,y)"
   ]
  },
  {
   "cell_type": "code",
   "execution_count": 37,
   "metadata": {},
   "outputs": [
    {
     "data": {
      "text/plain": [
       "2"
      ]
     },
     "execution_count": 37,
     "metadata": {},
     "output_type": "execute_result"
    }
   ],
   "source": [
    "edit_dis(\"ACGTG\",\"AGTC\")"
   ]
  },
  {
   "cell_type": "code",
   "execution_count": 38,
   "metadata": {},
   "outputs": [
    {
     "data": {
      "text/plain": [
       "18"
      ]
     },
     "execution_count": 38,
     "metadata": {},
     "output_type": "execute_result"
    }
   ],
   "source": [
    "x = reads_err[1]\n",
    "y = reads_err[215]\n",
    "ham_dis(bin_sig_block(x,q,num_blocks),bin_sig_block(y,q,num_blocks))"
   ]
  },
  {
   "cell_type": "code",
   "execution_count": 39,
   "metadata": {},
   "outputs": [
    {
     "data": {
      "text/plain": [
       "4"
      ]
     },
     "execution_count": 39,
     "metadata": {},
     "output_type": "execute_result"
    }
   ],
   "source": [
    "edit_dis(x,y)"
   ]
  },
  {
   "cell_type": "code",
   "execution_count": 44,
   "metadata": {},
   "outputs": [],
   "source": [
    "# Precompute all the binary signatures\n",
    "q = 3\n",
    "num_blocks = 3\n",
    "bin_sig_arr = []\n",
    "for i in range(0,len(reads_err)):\n",
    "    bin_sig_arr.append(bin_sig_block(reads_err[i],q,num_blocks))\n"
   ]
  },
  {
   "cell_type": "code",
   "execution_count": 89,
   "metadata": {},
   "outputs": [],
   "source": [
    "with open('bin_sig_arr_sample.pickle', 'wb') as f:\n",
    "    pickle.dump(bin_sig_arr,f)"
   ]
  },
  {
   "cell_type": "code",
   "execution_count": 73,
   "metadata": {},
   "outputs": [
    {
     "data": {
      "text/plain": [
       "'010111000000000100011010100000001000000000000000100001000000110100001010000001000101001001110000000000100100100101000100000010000100001010011110000000000010000000100000101010001001001000010000'"
      ]
     },
     "execution_count": 73,
     "metadata": {},
     "output_type": "execute_result"
    }
   ],
   "source": [
    "bin_sig_arr[0]"
   ]
  },
  {
   "cell_type": "markdown",
   "metadata": {},
   "source": [
    "# Clustering Algorithm"
   ]
  },
  {
   "cell_type": "code",
   "execution_count": 68,
   "metadata": {},
   "outputs": [],
   "source": [
    "def rep_in_C(read,C_reps):\n",
    "    lower = 0;\n",
    "    upper = len(C_reps) - 1;\n",
    "    while (lower <= upper):\n",
    "        mid = lower + int((upper - lower) / 2)\n",
    "#         print(upper,mid)\n",
    "        res = -1\n",
    "        if (read == (C_reps[mid][0])):\n",
    "            return C_reps[mid][1]\n",
    "        if (read > (C_reps[mid][0])):\n",
    "            lower = mid + 1;\n",
    "        else:\n",
    "            upper = mid - 1;\n",
    "    return -1;\n",
    "\n",
    "def comp_clstrs(alg_clstr,org_clstr,gamma):\n",
    "    num_exist = 0\n",
    "    if(len(alg_clstr)>len(org_clstr)):\n",
    "#         print(alg_clstr)\n",
    "        return 0 \n",
    "    else:\n",
    "        for i in range(0,len(alg_clstr)):\n",
    "            flg_exist = 0\n",
    "            for j in range(0,len(org_clstr)):\n",
    "                if(reads_err[alg_clstr[i]] == org_clstr[j]):\n",
    "                    flg_exist = 1\n",
    "                    num_exist +=1\n",
    "                    break\n",
    "            if(flg_exist == 0):\n",
    "                return 0\n",
    "        if(num_exist < gamma*len(org_clstr)):\n",
    "            return 0\n",
    "            \n",
    "        return 1 \n",
    "    \n",
    "def calc_acrcy(clustering,C_dict,C_reps,gamma):\n",
    "#     clustering = display_parent(parent)\n",
    "    acrcy = 0\n",
    "    for i in range(0,len(clustering)):\n",
    "        if(len(clustering[i])>=1):\n",
    "            acrcy = acrcy + comp_clstrs(clustering[i],C_dict[rep_in_C(reads_err[clustering[i][0]],C_reps)],gamma)\n",
    "    return acrcy\n",
    "\n",
    "def min_max(val1,val2):\n",
    "    min_val = min(val1,val2)\n",
    "    max_val = max(val1,val2)\n",
    "    return min_val,max_val\n",
    "    "
   ]
  },
  {
   "cell_type": "code",
   "execution_count": 69,
   "metadata": {},
   "outputs": [],
   "source": [
    "# (Read, Cluster rep of the cluster to which the read belongs to)\n",
    "C_reps = []\n",
    "C_dict = {}\n",
    "rep = reads_cl[0]\n",
    "for i in range(1,len(reads_cl)):\n",
    "    if reads_cl[i] != \"\":\n",
    "        if reads_cl[i][0] == \"*\":\n",
    "            if(len(C_reps)>0):\n",
    "                C_dict[rep].pop()\n",
    "                C_reps.pop()\n",
    "            rep=reads_cl[i-1]\n",
    "            C_dict[rep]=[]\n",
    "        else:\n",
    "#             print(C_dict)\n",
    "            C_dict[rep].append(reads_cl[i])\n",
    "            C_reps.append((reads_cl[i],rep))\n",
    "C_reps.sort(key=lambda x:x[0])"
   ]
  },
  {
   "cell_type": "code",
   "execution_count": 70,
   "metadata": {},
   "outputs": [
    {
     "data": {
      "text/plain": [
       "[('AAAAAAACCGGAATATCAATCGAGCGAATGGGATACTACATTAAGGGATATCACTTGATCACAAG',\n",
       "  'AACGAAACCGGAATATCAATCGAGCGAATGGGATACTACATTAAGGGATATCACTTGATCACAAG'),\n",
       " ('AAAAAAAGGTGAACTCGAAGACGTTAACGATATGACCCGTCAATTAAATGACGTATACACTACT',\n",
       "  'AACTAAAGGTGAACTCGAAGATCGTTAACGATATGACCCGTCAATTAAATGACGTATACACTACT'),\n",
       " ('AAAAACACACTCAACGATACCTCTAACGGATAATCCGGTCACTAACATAAGAAGCACGCAAT',\n",
       "  'AACTACAAACACACTCAACGATACTCTAACGGATAATCCGGTCACTAACATAAGAAGCACGCAAT'),\n",
       " ('AAAAACACCAATCAGATAAGAGTATAAGAGATAAGAACATCTACGAATCCACGCAATATGACG',\n",
       "  'AACCAAACACCAATCAGATAAGAGTATAAGAGATAAGAACATCTACGAATCCACGCAATATGACG'),\n",
       " ('AAAAACACTTAGAAACATCAAGAGCAGCATATCTACCTCGAGTCCGTCTGCACACAACGTAGC',\n",
       "  'AACTAAACACTTAGAAACATCAAGAGCAGCATATCAACCTCGAGTCCGTCTGCACACAACGTAGC')]"
      ]
     },
     "execution_count": 70,
     "metadata": {},
     "output_type": "execute_result"
    }
   ],
   "source": [
    "C_reps[0:5]"
   ]
  },
  {
   "cell_type": "code",
   "execution_count": 71,
   "metadata": {},
   "outputs": [
    {
     "data": {
      "text/plain": [
       "['AATCTCTAGACACACAACTATTAGTACCTATTATAAACACAACATAAGGTCAAGATAAGCAGAGA',\n",
       " 'AACCTCTAGACACACAACTATTAGTACCTATTATAAACACAACATAAGGTCAAGATAAGCAGAGA',\n",
       " 'AACCTCTAGACACACAACTATTAGTACCTATTACAAACACAACATAAGGTCAAGATAAGCAGAGA',\n",
       " 'AACCTCTAGACACACAACTATTAGTACCTATTATAAACACAACATAAGGTCAAGATAAGCAGAGA',\n",
       " 'AACCTCTAGACAACACAACTATTAGTACCTATTATAAACACAACATAAGGTCAAGATAAGCAGAGA']"
      ]
     },
     "execution_count": 71,
     "metadata": {},
     "output_type": "execute_result"
    }
   ],
   "source": [
    "C_dict[list(C_dict.keys())[0]][0:5]"
   ]
  },
  {
   "cell_type": "code",
   "execution_count": 66,
   "metadata": {},
   "outputs": [],
   "source": [
    "dist_arr =[]\n",
    "for i in range(1,len(reads_err)):\n",
    "    dist_arr.append(ham_dis(bin_sig_arr[i],bin_sig_arr[0]))\n",
    "dist_arr.sort()\n",
    "# dist_arr[0:200]"
   ]
  },
  {
   "cell_type": "code",
   "execution_count": 67,
   "metadata": {},
   "outputs": [
    {
     "name": "stdout",
     "output_type": "stream",
     "text": [
      "33 25\n"
     ]
    }
   ],
   "source": [
    "for i in range(0,1000):\n",
    "    if(dist_arr[i+1]-dist_arr[i]>10):\n",
    "#         print(dist_arr[i])\n",
    "        break\n",
    "th_low = dist_arr[i] + 5\n",
    "th_high = min(dist_arr[i+1] - 5, th_low+10)\n",
    "print(th_high,th_low)"
   ]
  },
  {
   "cell_type": "code",
   "execution_count": 75,
   "metadata": {},
   "outputs": [],
   "source": [
    "# r = 4pm \n",
    "r = 10"
   ]
  },
  {
   "cell_type": "code",
   "execution_count": 76,
   "metadata": {
    "scrolled": true
   },
   "outputs": [
    {
     "name": "stdout",
     "output_type": "stream",
     "text": [
      "6.71117091178894 0 238390\n",
      "Accuracy: 0.2727935054121565 0.02487510407993339 0.0012489592006661116 0.0009367194004995837\n",
      "80.98542404174805 1 41036\n",
      "6.701944351196289 2 228855\n",
      "Accuracy: 0.5698376353039134 0.13728143213988342 0.01582014987510408 0.01186511240632806\n",
      "63.91663718223572 3 94548\n",
      "1.5623161792755127 4 1341\n",
      "Accuracy: 0.5712947543713572 0.13800999167360534 0.01582014987510408 0.01186511240632806\n",
      "61.45423173904419 5 337\n",
      "5.3834052085876465 6 164648\n",
      "Accuracy: 0.8413821815154038 0.3864487926727727 0.07212739383846795 0.050374687760199835\n",
      "47.18474054336548 7 142039\n",
      "1.1120245456695557 8 251\n",
      "Accuracy: 0.8671940049958368 0.43151540383014153 0.09231890091590342 0.0656744379683597\n",
      "44.31160092353821 9 31390\n",
      "1.593775749206543 10 25190\n",
      "1.1107473373413086 11 645\n",
      "1.940969705581665 12 39583\n",
      "1.284520149230957 13 11349\n",
      "1.373311996459961 14 15796\n",
      "Accuracy: 0.953684429641965 0.6517485428809325 0.22398001665278935 0.16465445462114905\n",
      "36.50207257270813 15 20717\n",
      "1.2106432914733887 16 8126\n",
      "1.2581610679626465 17 11456\n",
      "1.2580831050872803 18 10855\n",
      "1.6325700283050537 19 26219\n",
      "1.0330047607421875 20 5407\n",
      "0.9501614570617676 21 3082\n",
      "0.8813118934631348 22 237\n",
      "1.015669822692871 23 4119\n",
      "0.8217349052429199 24 0\n",
      "Accuracy: 0.9943796835970025 0.8964404662781016 0.5242506244796004 0.416007493755204\n",
      "30.517942428588867 25 2949\n",
      "0.8928847312927246 26 695\n",
      "0.8528385162353516 27 770\n",
      "0.8669602870941162 28 1286\n",
      "0.9819455146789551 29 2620\n",
      "0.9517698287963867 30 2577\n",
      "0.9234538078308105 31 2580\n",
      "0.8161180019378662 32 422\n",
      "0.8806915283203125 33 1218\n",
      "0.8316292762756348 34 290\n",
      "Accuracy: 0.9983347210657785 0.9618026644462948 0.7045170691090757 0.5899250624479601\n",
      "28.72490668296814 35 15\n",
      "0.8947174549102783 36 1344\n",
      "0.8164918422698975 37 264\n",
      "0.8498704433441162 38 920\n",
      "0.8222744464874268 39 302\n",
      "0.8245782852172852 40 257\n",
      "0.8937015533447266 41 1536\n",
      "0.8041281700134277 42 110\n",
      "0.8154246807098389 43 401\n",
      "0.8277778625488281 44 400\n",
      "Accuracy: 0.9996877601998335 0.9857410491257286 0.8289966694421316 0.7297044129891757\n",
      "28.219412326812744 45 751\n",
      "0.8626871109008789 46 792\n",
      "0.8078844547271729 47 294\n",
      "0.8503222465515137 48 902\n",
      "0.8131718635559082 49 132\n",
      "0.805030107498169 50 180\n",
      "0.8108983039855957 51 299\n",
      "0.8085916042327881 52 256\n",
      "0.8074109554290771 53 239\n",
      "0.790513277053833 54 1\n",
      "Accuracy: 0.9998959200666112 0.9979184013322231 0.9391132389675271 0.8796835970024979\n",
      "27.868887662887573 55 145\n",
      "0.7959961891174316 56 71\n",
      "0.796990156173706 57 147\n",
      "0.7989335060119629 58 89\n",
      "0.7939045429229736 59 58\n",
      "0.7942628860473633 60 43\n",
      "0.7837545871734619 61 27\n",
      "0.7803468704223633 62 5\n",
      "0.787334680557251 63 5\n",
      "0.7887628078460693 64 49\n",
      "Accuracy: 0.9998959200666112 0.9988551207327228 0.9600333055786844 0.9144462947543713\n",
      "27.783703327178955 65 42\n",
      "0.7931692600250244 66 68\n",
      "0.8047661781311035 67 56\n",
      "0.7980296611785889 68 91\n",
      "0.7824883460998535 69 25\n",
      "0.7931149005889893 70 74\n",
      "0.8000071048736572 71 76\n",
      "0.7922587394714355 72 53\n",
      "0.8010532855987549 73 12\n",
      "0.7927961349487305 74 23\n",
      "0.7876195907592773 75 23\n",
      "0.7970883846282959 76 83\n",
      "0.7963566780090332 77 0\n",
      "0.785879373550415 78 0\n",
      "0.7906038761138916 79 20\n",
      "0.7751939296722412 80 2\n",
      "0.7841708660125732 81 2\n",
      "0.7895739078521729 82 14\n",
      "0.7906091213226318 83 24\n",
      "0.7870376110076904 84 1\n",
      "0.8000235557556152 85 24\n",
      "0.779571533203125 86 3\n",
      "0.7859795093536377 87 8\n",
      "0.7773518562316895 88 0\n",
      "0.7899472713470459 89 10\n",
      "0.774277925491333 90 7\n",
      "0.7927072048187256 91 25\n",
      "0.792931318283081 92 22\n",
      "0.7690820693969727 93 0\n",
      "0.7863824367523193 94 6\n",
      "0.7825555801391602 95 0\n",
      "0.7917876243591309 96 21\n",
      "0.795891284942627 97 0\n",
      "0.7959656715393066 98 4\n",
      "0.7864758968353271 99 21\n",
      "Accuracy: 0.9998959200666112 0.9997918401332223 0.9935470441298918 0.9813696919233972\n",
      "28.248891592025757 100 0\n",
      "0.8082411289215088 101 14\n",
      "0.8074984550476074 102 16\n",
      "0.7884266376495361 103 1\n",
      "0.7894654273986816 104 4\n",
      "0.7950601577758789 105 0\n",
      "0.788964033126831 106 0\n",
      "0.7846484184265137 107 6\n",
      "0.7845573425292969 108 2\n",
      "0.7848422527313232 109 3\n",
      "0.7796363830566406 110 0\n",
      "0.7881059646606445 111 8\n",
      "0.785294771194458 112 3\n",
      "0.7801849842071533 113 1\n",
      "0.78487229347229 114 1\n",
      "0.7914795875549316 115 3\n",
      "0.7923343181610107 116 12\n",
      "0.7775428295135498 117 1\n",
      "0.7915606498718262 118 4\n",
      "0.7946267127990723 119 1\n",
      "0.7777345180511475 120 1\n",
      "0.788820743560791 121 0\n",
      "0.7854185104370117 122 0\n",
      "0.7845785617828369 123 3\n",
      "0.7843587398529053 124 1\n",
      "0.7950756549835205 125 17\n",
      "0.7746284008026123 126 2\n",
      "0.7858469486236572 127 3\n",
      "0.7807650566101074 128 1\n",
      "0.7855467796325684 129 1\n",
      "0.7810442447662354 130 0\n",
      "0.7829086780548096 131 1\n",
      "0.7952935695648193 132 2\n",
      "0.7917964458465576 133 0\n",
      "0.7800064086914062 134 3\n",
      "0.7823760509490967 135 0\n",
      "0.7827785015106201 136 0\n",
      "0.786381721496582 137 5\n",
      "0.786729097366333 138 4\n",
      "0.8019487857818604 139 7\n",
      "Accuracy: 0.9998959200666112 0.9998959200666112 0.9977102414654455 0.9939633638634471\n",
      "28.734870672225952 140 3\n",
      "0.796980619430542 141 1\n",
      "0.7940995693206787 142 0\n",
      "0.7978515625 143 1\n",
      "0.7918224334716797 144 0\n",
      "0.8030650615692139 145 1\n",
      "0.7818377017974854 146 0\n",
      "0.7770745754241943 147 2\n",
      "0.7835288047790527 148 1\n",
      "0.8032486438751221 149 3\n",
      "0.7771108150482178 150 0\n",
      "0.7857494354248047 151 0\n",
      "0.7821061611175537 152 1\n",
      "0.7899370193481445 153 0\n",
      "0.7877943515777588 154 0\n",
      "0.7814700603485107 155 0\n",
      "0.7798004150390625 156 1\n",
      "0.8014371395111084 157 1\n",
      "0.7859489917755127 158 0\n",
      "0.7903945446014404 159 0\n",
      "0.7912096977233887 160 0\n",
      "0.7862863540649414 161 1\n",
      "0.7813963890075684 162 6\n",
      "0.7900927066802979 163 2\n",
      "0.7991621494293213 164 0\n",
      "0.7826168537139893 165 0\n",
      "0.7923309803009033 166 0\n",
      "0.7850193977355957 167 0\n",
      "0.7788898944854736 168 1\n",
      "0.8468668460845947 169 2\n",
      "0.7910952568054199 170 0\n",
      "0.8273470401763916 171 1\n",
      "0.7829086780548096 172 0\n",
      "0.7921395301818848 173 0\n",
      "0.7993378639221191 174 2\n",
      "0.79508376121521 175 3\n",
      "0.7876653671264648 176 0\n",
      "0.7882299423217773 177 0\n",
      "0.7895457744598389 178 0\n",
      "0.7921552658081055 179 0\n",
      "Accuracy: 0.9998959200666112 0.9998959200666112 0.9989592006661115 0.9968776019983348\n",
      "28.929960250854492 180 0\n",
      "0.8093652725219727 181 0\n",
      "0.7840156555175781 182 0\n",
      "0.7705078125 183 0\n",
      "0.7869737148284912 184 0\n",
      "0.8013367652893066 185 1\n",
      "0.8099722862243652 186 2\n",
      "0.7942624092102051 187 0\n",
      "0.7959372997283936 188 0\n",
      "0.8178975582122803 189 0\n",
      "0.8001036643981934 190 0\n",
      "0.8208928108215332 191 0\n",
      "0.7971763610839844 192 0\n",
      "0.787790060043335 193 1\n",
      "0.7911550998687744 194 2\n",
      "0.7913501262664795 195 0\n",
      "0.7775392532348633 196 0\n",
      "0.7895631790161133 197 0\n",
      "0.7713446617126465 198 0\n",
      "0.8211021423339844 199 3\n",
      "0.8151004314422607 200 0\n",
      "0.7693233489990234 201 0\n",
      "0.7925682067871094 202 0\n",
      "0.7894330024719238 203 0\n",
      "0.7955114841461182 204 1\n",
      "0.7907967567443848 205 0\n",
      "0.8032336235046387 206 0\n",
      "0.7963838577270508 207 0\n",
      "0.8046929836273193 208 0\n",
      "0.7828054428100586 209 0\n",
      "0.799405574798584 210 6\n",
      "0.7844893932342529 211 0\n",
      "0.793464183807373 212 0\n",
      "0.7716846466064453 213 0\n",
      "0.7887284755706787 214 0\n",
      "0.7862663269042969 215 0\n",
      "0.789233922958374 216 0\n",
      "0.7822990417480469 217 0\n",
      "0.7925512790679932 218 0\n",
      "0.7708330154418945 219 0\n"
     ]
    }
   ],
   "source": [
    "reads_err_ind  = [0]*(len(reads_err))\n",
    "parent = [0]*(len(reads_err))\n",
    "for i in range(0,len(reads_err)):\n",
    "    reads_err_ind[i] = (i,reads_err[i]) \n",
    "    parent[i] = i\n",
    "\n",
    "C_til = display_parent(parent)\n",
    "acrcy_dict1 = {}\n",
    "acrcy_dict2 = {}\n",
    "acrcy_dict3 = {}\n",
    "acrcy_dict4 = {}\n",
    "acrcy_dict5 = {}\n",
    "acrcy_dict6 = {}\n",
    "\n",
    "time_acrcy_dict = {}\n",
    "time_itr_dict = {}\n",
    "\n",
    "\n",
    "# DESIRED_ACRCY = 0.99\n",
    "# gamma = 0.9\n",
    "card_C = len(reads)\n",
    "local_comm = 220\n",
    "\n",
    "# th_high = 30\n",
    "# th_low  = 24\n",
    "# r = 10\n",
    "w = math.ceil(math.log(len(reads_err[0]),4))\n",
    "l = math.ceil(math.log(len(reads_err),4))\n",
    "\n",
    "lcl_step = 0\n",
    "\n",
    "\n",
    "for lcl_step in range(0,local_comm):\n",
    "# while(acrcy < DESIRED_ACRCY):   \n",
    "    time_start = time.time()\n",
    "\n",
    "    hash_select = [0]*(len(reads_err))    \n",
    "    for i in range(0,len(C_til)):\n",
    "        if(len(C_til[i])!=0):    \n",
    "            hash_select[random.choice(C_til[i])]=1\n",
    "            \n",
    "    a = rand_perm(w)\n",
    "    hash_C_til = [0]*(len(reads_err))\n",
    "    for i in range(0,len(reads_err_ind)):\n",
    "        if(hash_select[i]==0):\n",
    "            hash_C_til[i] = (i,\"\")\n",
    "        else:\n",
    "            hash_C_til[i] = (i,hash_fun(reads_err_ind[i][1],a,w,l))    \n",
    "    hash_C_til.sort(key=lambda x:x[1])\n",
    "\n",
    "    cnt = 0\n",
    "    for i in range(0,len(hash_C_til)-1):\n",
    "        if(hash_C_til[i][1] == \"\"):\n",
    "            continue \n",
    "        else:\n",
    "            if hash_C_til[i][1] == hash_C_til[i+1][1]:\n",
    "                x = reads_err[hash_C_til[i][0]]\n",
    "                y = reads_err[hash_C_til[i+1][0]]\n",
    "                if((ham_dis(bin_sig_arr[hash_C_til[i][0]],bin_sig_arr[hash_C_til[i+1][0]]) <= th_low) or ((ham_dis(bin_sig_arr[hash_C_til[i][0]],bin_sig_arr[hash_C_til[i+1][0]]) <= th_high) and edit_dis(x,y)<=r)):\n",
    "                    cnt +=  1                   \n",
    "                    min_temp,max_temp = min_max(rep_find(hash_C_til[i][0],parent),rep_find(hash_C_til[i+1][0],parent))                    \n",
    "                    C_til[min_temp].extend(C_til[max_temp])\n",
    "                    C_til[max_temp] = []        \n",
    "                    parent[max_temp] = min_temp                    \n",
    "\n",
    "    if lcl_step<=10:\n",
    "        temp1 = 2\n",
    "        temp2 = 1\n",
    "    elif lcl_step>10 and lcl_step<70:\n",
    "        temp1 = 10\n",
    "        temp2 = 5\n",
    "    else:\n",
    "        temp1 = 40\n",
    "        temp2 = 20\n",
    "                    \n",
    "    if (lcl_step%temp1)==temp2 :\n",
    "        time_acr_cal_start = time.time()\n",
    "        acrcy_dict1[lcl_step+1] = calc_acrcy(C_til,C_dict,C_reps,0.6)/card_C\n",
    "        acrcy_dict2[lcl_step+1] = calc_acrcy(C_til,C_dict,C_reps,0.8)/card_C\n",
    "        acrcy_dict3[lcl_step+1] = calc_acrcy(C_til,C_dict,C_reps,0.9)/card_C\n",
    "        acrcy_dict4[lcl_step+1] = calc_acrcy(C_til,C_dict,C_reps,0.95)/card_C\n",
    "        acrcy_dict5[lcl_step+1] = calc_acrcy(C_til,C_dict,C_reps,0.99)/card_C\n",
    "        acrcy_dict6[lcl_step+1] = calc_acrcy(C_til,C_dict,C_reps,1)/card_C\n",
    "        print(\"Accuracy:\",acrcy_dict1[lcl_step+1],acrcy_dict3[lcl_step+1],acrcy_dict5[lcl_step+1],acrcy_dict6[lcl_step+1] )\n",
    "        time_acr_cal = time.time() - time_acr_cal_start\n",
    "        time_acrcy_dict[lcl_step+1]= time_acr_cal\n",
    "    \n",
    "    time_itr = time.time() - time_start\n",
    "    time_itr_dict[lcl_step+1]=time_itr\n",
    "    \n",
    "    print(time_itr,lcl_step,cnt)\n",
    "    \n",
    "#     lcl_step += 1"
   ]
  },
  {
   "cell_type": "code",
   "execution_count": 83,
   "metadata": {},
   "outputs": [],
   "source": [
    "with open('time_itr_dict_sample.json', 'w') as fp:\n",
    "    json.dump(time_itr_dict, fp)\n",
    "with open('time_acrcy_dict_sample.json', 'w') as fp:\n",
    "    json.dump(time_acrcy_dict, fp)\n",
    "with open('acrcy_dict1_sample.json', 'w') as fp:\n",
    "    json.dump(acrcy_dict1, fp)\n",
    "with open('acrcy_dict2_sample.json', 'w') as fp:\n",
    "    json.dump(acrcy_dict2, fp)\n",
    "with open('acrcy_dict3_sample.json', 'w') as fp:\n",
    "    json.dump(acrcy_dict3, fp)\n",
    "with open('acrcy_dict4_sample.json', 'w') as fp:\n",
    "    json.dump(acrcy_dict4, fp)\n",
    "with open('acrcy_dict5_sample.json', 'w') as fp:\n",
    "    json.dump(acrcy_dict5, fp)\n",
    "with open('acrcy_dict6_sample.json', 'w') as fp:\n",
    "    json.dump(acrcy_dict6, fp)\n",
    "\n",
    "# with open('time_itr_dict_12,8,6,300_clstr_dict_block_apprch.json') as f:\n",
    "#     time_itr_dict = json.load(f)"
   ]
  },
  {
   "cell_type": "code",
   "execution_count": 84,
   "metadata": {},
   "outputs": [
    {
     "data": {
      "text/plain": [
       "751.5847170352936"
      ]
     },
     "execution_count": 84,
     "metadata": {},
     "output_type": "execute_result"
    }
   ],
   "source": [
    "total_time = sum(time_itr_dict.values())\n",
    "total_time"
   ]
  },
  {
   "cell_type": "code",
   "execution_count": 85,
   "metadata": {},
   "outputs": [
    {
     "data": {
      "text/plain": [
       "541.1849417686462"
      ]
     },
     "execution_count": 85,
     "metadata": {},
     "output_type": "execute_result"
    }
   ],
   "source": [
    "total_time_acrcy =sum(time_acrcy_dict.values())\n",
    "total_time_acrcy"
   ]
  },
  {
   "cell_type": "code",
   "execution_count": 86,
   "metadata": {},
   "outputs": [
    {
     "data": {
      "text/plain": [
       "210.39977526664734"
      ]
     },
     "execution_count": 86,
     "metadata": {},
     "output_type": "execute_result"
    }
   ],
   "source": [
    "alg_run_time = total_time-total_time_acrcy \n",
    "alg_run_time"
   ]
  },
  {
   "cell_type": "code",
   "execution_count": 87,
   "metadata": {},
   "outputs": [
    {
     "data": {
      "application/vnd.plotly.v1+json": {
       "config": {
        "plotlyServerURL": "https://plot.ly"
       },
       "data": [
        {
         "hovertemplate": "variable=0.6<br>keys=%{x}<br>value=%{y}<extra></extra>",
         "legendgroup": "0.6",
         "line": {
          "color": "#636efa",
          "dash": "solid"
         },
         "mode": "lines",
         "name": "0.6",
         "orientation": "v",
         "showlegend": true,
         "type": "scatter",
         "x": [
          2,
          4,
          6,
          8,
          10,
          16,
          26,
          36,
          46,
          56,
          66,
          101,
          141,
          181
         ],
         "xaxis": "x",
         "y": [
          0.2727935054121565,
          0.5698376353039134,
          0.5712947543713572,
          0.8413821815154038,
          0.8671940049958368,
          0.953684429641965,
          0.9943796835970025,
          0.9983347210657785,
          0.9996877601998335,
          0.9998959200666112,
          0.9998959200666112,
          0.9998959200666112,
          0.9998959200666112,
          0.9998959200666112
         ],
         "yaxis": "y"
        },
        {
         "hovertemplate": "variable=0.8<br>keys=%{x}<br>value=%{y}<extra></extra>",
         "legendgroup": "0.8",
         "line": {
          "color": "#EF553B",
          "dash": "solid"
         },
         "mode": "lines",
         "name": "0.8",
         "orientation": "v",
         "showlegend": true,
         "type": "scatter",
         "x": [
          2,
          4,
          6,
          8,
          10,
          16,
          26,
          36,
          46,
          56,
          66,
          101,
          141,
          181
         ],
         "xaxis": "x",
         "y": [
          0.18151540383014156,
          0.4208992506244796,
          0.42277268942547874,
          0.6801623646960866,
          0.716278101582015,
          0.8572023313905079,
          0.9670066611157369,
          0.9904246461282264,
          0.9976061615320566,
          0.9995836802664446,
          0.9997918401332223,
          0.9998959200666112,
          0.9998959200666112,
          0.9998959200666112
         ],
         "yaxis": "y"
        },
        {
         "hovertemplate": "variable=0.9<br>keys=%{x}<br>value=%{y}<extra></extra>",
         "legendgroup": "0.9",
         "line": {
          "color": "#00cc96",
          "dash": "solid"
         },
         "mode": "lines",
         "name": "0.9",
         "orientation": "v",
         "showlegend": true,
         "type": "scatter",
         "x": [
          2,
          4,
          6,
          8,
          10,
          16,
          26,
          36,
          46,
          56,
          66,
          101,
          141,
          181
         ],
         "xaxis": "x",
         "y": [
          0.02487510407993339,
          0.13728143213988342,
          0.13800999167360534,
          0.3864487926727727,
          0.43151540383014153,
          0.6517485428809325,
          0.8964404662781016,
          0.9618026644462948,
          0.9857410491257286,
          0.9979184013322231,
          0.9988551207327228,
          0.9997918401332223,
          0.9998959200666112,
          0.9998959200666112
         ],
         "yaxis": "y"
        },
        {
         "hovertemplate": "variable=0.95<br>keys=%{x}<br>value=%{y}<extra></extra>",
         "legendgroup": "0.95",
         "line": {
          "color": "#ab63fa",
          "dash": "solid"
         },
         "mode": "lines",
         "name": "0.95",
         "orientation": "v",
         "showlegend": true,
         "type": "scatter",
         "x": [
          2,
          4,
          6,
          8,
          10,
          16,
          26,
          36,
          46,
          56,
          66,
          101,
          141,
          181
         ],
         "xaxis": "x",
         "y": [
          0.005620316402997502,
          0.07774771024146544,
          0.07805995004163198,
          0.26477935054121565,
          0.3058909242298085,
          0.5219608659450458,
          0.8234804329725229,
          0.9227726894254787,
          0.9677352206494588,
          0.9938592839300583,
          0.9970857618651124,
          0.9996877601998335,
          0.9997918401332223,
          0.9997918401332223
         ],
         "yaxis": "y"
        },
        {
         "hovertemplate": "variable=0.99<br>keys=%{x}<br>value=%{y}<extra></extra>",
         "legendgroup": "0.99",
         "line": {
          "color": "#FFA15A",
          "dash": "solid"
         },
         "mode": "lines",
         "name": "0.99",
         "orientation": "v",
         "showlegend": true,
         "type": "scatter",
         "x": [
          2,
          4,
          6,
          8,
          10,
          16,
          26,
          36,
          46,
          56,
          66,
          101,
          141,
          181
         ],
         "xaxis": "x",
         "y": [
          0.0012489592006661116,
          0.01582014987510408,
          0.01582014987510408,
          0.07212739383846795,
          0.09231890091590342,
          0.22398001665278935,
          0.5242506244796004,
          0.7045170691090757,
          0.8289966694421316,
          0.9391132389675271,
          0.9600333055786844,
          0.9935470441298918,
          0.9977102414654455,
          0.9989592006661115
         ],
         "yaxis": "y"
        },
        {
         "hovertemplate": "variable=1.0<br>keys=%{x}<br>value=%{y}<extra></extra>",
         "legendgroup": "1.0",
         "line": {
          "color": "#19d3f3",
          "dash": "solid"
         },
         "mode": "lines",
         "name": "1.0",
         "orientation": "v",
         "showlegend": true,
         "type": "scatter",
         "x": [
          2,
          4,
          6,
          8,
          10,
          16,
          26,
          36,
          46,
          56,
          66,
          101,
          141,
          181
         ],
         "xaxis": "x",
         "y": [
          0.0009367194004995837,
          0.01186511240632806,
          0.01186511240632806,
          0.050374687760199835,
          0.0656744379683597,
          0.16465445462114905,
          0.416007493755204,
          0.5899250624479601,
          0.7297044129891757,
          0.8796835970024979,
          0.9144462947543713,
          0.9813696919233972,
          0.9939633638634471,
          0.9968776019983348
         ],
         "yaxis": "y"
        }
       ],
       "layout": {
        "legend": {
         "title": {
          "text": "variable"
         },
         "tracegroupgap": 0
        },
        "margin": {
         "t": 60
        },
        "template": {
         "data": {
          "bar": [
           {
            "error_x": {
             "color": "#2a3f5f"
            },
            "error_y": {
             "color": "#2a3f5f"
            },
            "marker": {
             "line": {
              "color": "#E5ECF6",
              "width": 0.5
             }
            },
            "type": "bar"
           }
          ],
          "barpolar": [
           {
            "marker": {
             "line": {
              "color": "#E5ECF6",
              "width": 0.5
             }
            },
            "type": "barpolar"
           }
          ],
          "carpet": [
           {
            "aaxis": {
             "endlinecolor": "#2a3f5f",
             "gridcolor": "white",
             "linecolor": "white",
             "minorgridcolor": "white",
             "startlinecolor": "#2a3f5f"
            },
            "baxis": {
             "endlinecolor": "#2a3f5f",
             "gridcolor": "white",
             "linecolor": "white",
             "minorgridcolor": "white",
             "startlinecolor": "#2a3f5f"
            },
            "type": "carpet"
           }
          ],
          "choropleth": [
           {
            "colorbar": {
             "outlinewidth": 0,
             "ticks": ""
            },
            "type": "choropleth"
           }
          ],
          "contour": [
           {
            "colorbar": {
             "outlinewidth": 0,
             "ticks": ""
            },
            "colorscale": [
             [
              0,
              "#0d0887"
             ],
             [
              0.1111111111111111,
              "#46039f"
             ],
             [
              0.2222222222222222,
              "#7201a8"
             ],
             [
              0.3333333333333333,
              "#9c179e"
             ],
             [
              0.4444444444444444,
              "#bd3786"
             ],
             [
              0.5555555555555556,
              "#d8576b"
             ],
             [
              0.6666666666666666,
              "#ed7953"
             ],
             [
              0.7777777777777778,
              "#fb9f3a"
             ],
             [
              0.8888888888888888,
              "#fdca26"
             ],
             [
              1,
              "#f0f921"
             ]
            ],
            "type": "contour"
           }
          ],
          "contourcarpet": [
           {
            "colorbar": {
             "outlinewidth": 0,
             "ticks": ""
            },
            "type": "contourcarpet"
           }
          ],
          "heatmap": [
           {
            "colorbar": {
             "outlinewidth": 0,
             "ticks": ""
            },
            "colorscale": [
             [
              0,
              "#0d0887"
             ],
             [
              0.1111111111111111,
              "#46039f"
             ],
             [
              0.2222222222222222,
              "#7201a8"
             ],
             [
              0.3333333333333333,
              "#9c179e"
             ],
             [
              0.4444444444444444,
              "#bd3786"
             ],
             [
              0.5555555555555556,
              "#d8576b"
             ],
             [
              0.6666666666666666,
              "#ed7953"
             ],
             [
              0.7777777777777778,
              "#fb9f3a"
             ],
             [
              0.8888888888888888,
              "#fdca26"
             ],
             [
              1,
              "#f0f921"
             ]
            ],
            "type": "heatmap"
           }
          ],
          "heatmapgl": [
           {
            "colorbar": {
             "outlinewidth": 0,
             "ticks": ""
            },
            "colorscale": [
             [
              0,
              "#0d0887"
             ],
             [
              0.1111111111111111,
              "#46039f"
             ],
             [
              0.2222222222222222,
              "#7201a8"
             ],
             [
              0.3333333333333333,
              "#9c179e"
             ],
             [
              0.4444444444444444,
              "#bd3786"
             ],
             [
              0.5555555555555556,
              "#d8576b"
             ],
             [
              0.6666666666666666,
              "#ed7953"
             ],
             [
              0.7777777777777778,
              "#fb9f3a"
             ],
             [
              0.8888888888888888,
              "#fdca26"
             ],
             [
              1,
              "#f0f921"
             ]
            ],
            "type": "heatmapgl"
           }
          ],
          "histogram": [
           {
            "marker": {
             "colorbar": {
              "outlinewidth": 0,
              "ticks": ""
             }
            },
            "type": "histogram"
           }
          ],
          "histogram2d": [
           {
            "colorbar": {
             "outlinewidth": 0,
             "ticks": ""
            },
            "colorscale": [
             [
              0,
              "#0d0887"
             ],
             [
              0.1111111111111111,
              "#46039f"
             ],
             [
              0.2222222222222222,
              "#7201a8"
             ],
             [
              0.3333333333333333,
              "#9c179e"
             ],
             [
              0.4444444444444444,
              "#bd3786"
             ],
             [
              0.5555555555555556,
              "#d8576b"
             ],
             [
              0.6666666666666666,
              "#ed7953"
             ],
             [
              0.7777777777777778,
              "#fb9f3a"
             ],
             [
              0.8888888888888888,
              "#fdca26"
             ],
             [
              1,
              "#f0f921"
             ]
            ],
            "type": "histogram2d"
           }
          ],
          "histogram2dcontour": [
           {
            "colorbar": {
             "outlinewidth": 0,
             "ticks": ""
            },
            "colorscale": [
             [
              0,
              "#0d0887"
             ],
             [
              0.1111111111111111,
              "#46039f"
             ],
             [
              0.2222222222222222,
              "#7201a8"
             ],
             [
              0.3333333333333333,
              "#9c179e"
             ],
             [
              0.4444444444444444,
              "#bd3786"
             ],
             [
              0.5555555555555556,
              "#d8576b"
             ],
             [
              0.6666666666666666,
              "#ed7953"
             ],
             [
              0.7777777777777778,
              "#fb9f3a"
             ],
             [
              0.8888888888888888,
              "#fdca26"
             ],
             [
              1,
              "#f0f921"
             ]
            ],
            "type": "histogram2dcontour"
           }
          ],
          "mesh3d": [
           {
            "colorbar": {
             "outlinewidth": 0,
             "ticks": ""
            },
            "type": "mesh3d"
           }
          ],
          "parcoords": [
           {
            "line": {
             "colorbar": {
              "outlinewidth": 0,
              "ticks": ""
             }
            },
            "type": "parcoords"
           }
          ],
          "pie": [
           {
            "automargin": true,
            "type": "pie"
           }
          ],
          "scatter": [
           {
            "marker": {
             "colorbar": {
              "outlinewidth": 0,
              "ticks": ""
             }
            },
            "type": "scatter"
           }
          ],
          "scatter3d": [
           {
            "line": {
             "colorbar": {
              "outlinewidth": 0,
              "ticks": ""
             }
            },
            "marker": {
             "colorbar": {
              "outlinewidth": 0,
              "ticks": ""
             }
            },
            "type": "scatter3d"
           }
          ],
          "scattercarpet": [
           {
            "marker": {
             "colorbar": {
              "outlinewidth": 0,
              "ticks": ""
             }
            },
            "type": "scattercarpet"
           }
          ],
          "scattergeo": [
           {
            "marker": {
             "colorbar": {
              "outlinewidth": 0,
              "ticks": ""
             }
            },
            "type": "scattergeo"
           }
          ],
          "scattergl": [
           {
            "marker": {
             "colorbar": {
              "outlinewidth": 0,
              "ticks": ""
             }
            },
            "type": "scattergl"
           }
          ],
          "scattermapbox": [
           {
            "marker": {
             "colorbar": {
              "outlinewidth": 0,
              "ticks": ""
             }
            },
            "type": "scattermapbox"
           }
          ],
          "scatterpolar": [
           {
            "marker": {
             "colorbar": {
              "outlinewidth": 0,
              "ticks": ""
             }
            },
            "type": "scatterpolar"
           }
          ],
          "scatterpolargl": [
           {
            "marker": {
             "colorbar": {
              "outlinewidth": 0,
              "ticks": ""
             }
            },
            "type": "scatterpolargl"
           }
          ],
          "scatterternary": [
           {
            "marker": {
             "colorbar": {
              "outlinewidth": 0,
              "ticks": ""
             }
            },
            "type": "scatterternary"
           }
          ],
          "surface": [
           {
            "colorbar": {
             "outlinewidth": 0,
             "ticks": ""
            },
            "colorscale": [
             [
              0,
              "#0d0887"
             ],
             [
              0.1111111111111111,
              "#46039f"
             ],
             [
              0.2222222222222222,
              "#7201a8"
             ],
             [
              0.3333333333333333,
              "#9c179e"
             ],
             [
              0.4444444444444444,
              "#bd3786"
             ],
             [
              0.5555555555555556,
              "#d8576b"
             ],
             [
              0.6666666666666666,
              "#ed7953"
             ],
             [
              0.7777777777777778,
              "#fb9f3a"
             ],
             [
              0.8888888888888888,
              "#fdca26"
             ],
             [
              1,
              "#f0f921"
             ]
            ],
            "type": "surface"
           }
          ],
          "table": [
           {
            "cells": {
             "fill": {
              "color": "#EBF0F8"
             },
             "line": {
              "color": "white"
             }
            },
            "header": {
             "fill": {
              "color": "#C8D4E3"
             },
             "line": {
              "color": "white"
             }
            },
            "type": "table"
           }
          ]
         },
         "layout": {
          "annotationdefaults": {
           "arrowcolor": "#2a3f5f",
           "arrowhead": 0,
           "arrowwidth": 1
          },
          "autotypenumbers": "strict",
          "coloraxis": {
           "colorbar": {
            "outlinewidth": 0,
            "ticks": ""
           }
          },
          "colorscale": {
           "diverging": [
            [
             0,
             "#8e0152"
            ],
            [
             0.1,
             "#c51b7d"
            ],
            [
             0.2,
             "#de77ae"
            ],
            [
             0.3,
             "#f1b6da"
            ],
            [
             0.4,
             "#fde0ef"
            ],
            [
             0.5,
             "#f7f7f7"
            ],
            [
             0.6,
             "#e6f5d0"
            ],
            [
             0.7,
             "#b8e186"
            ],
            [
             0.8,
             "#7fbc41"
            ],
            [
             0.9,
             "#4d9221"
            ],
            [
             1,
             "#276419"
            ]
           ],
           "sequential": [
            [
             0,
             "#0d0887"
            ],
            [
             0.1111111111111111,
             "#46039f"
            ],
            [
             0.2222222222222222,
             "#7201a8"
            ],
            [
             0.3333333333333333,
             "#9c179e"
            ],
            [
             0.4444444444444444,
             "#bd3786"
            ],
            [
             0.5555555555555556,
             "#d8576b"
            ],
            [
             0.6666666666666666,
             "#ed7953"
            ],
            [
             0.7777777777777778,
             "#fb9f3a"
            ],
            [
             0.8888888888888888,
             "#fdca26"
            ],
            [
             1,
             "#f0f921"
            ]
           ],
           "sequentialminus": [
            [
             0,
             "#0d0887"
            ],
            [
             0.1111111111111111,
             "#46039f"
            ],
            [
             0.2222222222222222,
             "#7201a8"
            ],
            [
             0.3333333333333333,
             "#9c179e"
            ],
            [
             0.4444444444444444,
             "#bd3786"
            ],
            [
             0.5555555555555556,
             "#d8576b"
            ],
            [
             0.6666666666666666,
             "#ed7953"
            ],
            [
             0.7777777777777778,
             "#fb9f3a"
            ],
            [
             0.8888888888888888,
             "#fdca26"
            ],
            [
             1,
             "#f0f921"
            ]
           ]
          },
          "colorway": [
           "#636efa",
           "#EF553B",
           "#00cc96",
           "#ab63fa",
           "#FFA15A",
           "#19d3f3",
           "#FF6692",
           "#B6E880",
           "#FF97FF",
           "#FECB52"
          ],
          "font": {
           "color": "#2a3f5f"
          },
          "geo": {
           "bgcolor": "white",
           "lakecolor": "white",
           "landcolor": "#E5ECF6",
           "showlakes": true,
           "showland": true,
           "subunitcolor": "white"
          },
          "hoverlabel": {
           "align": "left"
          },
          "hovermode": "closest",
          "mapbox": {
           "style": "light"
          },
          "paper_bgcolor": "white",
          "plot_bgcolor": "#E5ECF6",
          "polar": {
           "angularaxis": {
            "gridcolor": "white",
            "linecolor": "white",
            "ticks": ""
           },
           "bgcolor": "#E5ECF6",
           "radialaxis": {
            "gridcolor": "white",
            "linecolor": "white",
            "ticks": ""
           }
          },
          "scene": {
           "xaxis": {
            "backgroundcolor": "#E5ECF6",
            "gridcolor": "white",
            "gridwidth": 2,
            "linecolor": "white",
            "showbackground": true,
            "ticks": "",
            "zerolinecolor": "white"
           },
           "yaxis": {
            "backgroundcolor": "#E5ECF6",
            "gridcolor": "white",
            "gridwidth": 2,
            "linecolor": "white",
            "showbackground": true,
            "ticks": "",
            "zerolinecolor": "white"
           },
           "zaxis": {
            "backgroundcolor": "#E5ECF6",
            "gridcolor": "white",
            "gridwidth": 2,
            "linecolor": "white",
            "showbackground": true,
            "ticks": "",
            "zerolinecolor": "white"
           }
          },
          "shapedefaults": {
           "line": {
            "color": "#2a3f5f"
           }
          },
          "ternary": {
           "aaxis": {
            "gridcolor": "white",
            "linecolor": "white",
            "ticks": ""
           },
           "baxis": {
            "gridcolor": "white",
            "linecolor": "white",
            "ticks": ""
           },
           "bgcolor": "#E5ECF6",
           "caxis": {
            "gridcolor": "white",
            "linecolor": "white",
            "ticks": ""
           }
          },
          "title": {
           "x": 0.05
          },
          "xaxis": {
           "automargin": true,
           "gridcolor": "white",
           "linecolor": "white",
           "ticks": "",
           "title": {
            "standoff": 15
           },
           "zerolinecolor": "white",
           "zerolinewidth": 2
          },
          "yaxis": {
           "automargin": true,
           "gridcolor": "white",
           "linecolor": "white",
           "ticks": "",
           "title": {
            "standoff": 15
           },
           "zerolinecolor": "white",
           "zerolinewidth": 2
          }
         }
        },
        "xaxis": {
         "anchor": "y",
         "domain": [
          0,
          1
         ],
         "title": {
          "text": "keys"
         }
        },
        "yaxis": {
         "anchor": "x",
         "domain": [
          0,
          1
         ],
         "title": {
          "text": "value"
         }
        }
       }
      },
      "text/html": [
       "<div>                            <div id=\"b94da8dc-864d-4e34-b4bb-43e04b43bd17\" class=\"plotly-graph-div\" style=\"height:525px; width:100%;\"></div>            <script type=\"text/javascript\">                require([\"plotly\"], function(Plotly) {                    window.PLOTLYENV=window.PLOTLYENV || {};                                    if (document.getElementById(\"b94da8dc-864d-4e34-b4bb-43e04b43bd17\")) {                    Plotly.newPlot(                        \"b94da8dc-864d-4e34-b4bb-43e04b43bd17\",                        [{\"hovertemplate\": \"variable=0.6<br>keys=%{x}<br>value=%{y}<extra></extra>\", \"legendgroup\": \"0.6\", \"line\": {\"color\": \"#636efa\", \"dash\": \"solid\"}, \"mode\": \"lines\", \"name\": \"0.6\", \"orientation\": \"v\", \"showlegend\": true, \"type\": \"scatter\", \"x\": [2, 4, 6, 8, 10, 16, 26, 36, 46, 56, 66, 101, 141, 181], \"xaxis\": \"x\", \"y\": [0.2727935054121565, 0.5698376353039134, 0.5712947543713572, 0.8413821815154038, 0.8671940049958368, 0.953684429641965, 0.9943796835970025, 0.9983347210657785, 0.9996877601998335, 0.9998959200666112, 0.9998959200666112, 0.9998959200666112, 0.9998959200666112, 0.9998959200666112], \"yaxis\": \"y\"}, {\"hovertemplate\": \"variable=0.8<br>keys=%{x}<br>value=%{y}<extra></extra>\", \"legendgroup\": \"0.8\", \"line\": {\"color\": \"#EF553B\", \"dash\": \"solid\"}, \"mode\": \"lines\", \"name\": \"0.8\", \"orientation\": \"v\", \"showlegend\": true, \"type\": \"scatter\", \"x\": [2, 4, 6, 8, 10, 16, 26, 36, 46, 56, 66, 101, 141, 181], \"xaxis\": \"x\", \"y\": [0.18151540383014156, 0.4208992506244796, 0.42277268942547874, 0.6801623646960866, 0.716278101582015, 0.8572023313905079, 0.9670066611157369, 0.9904246461282264, 0.9976061615320566, 0.9995836802664446, 0.9997918401332223, 0.9998959200666112, 0.9998959200666112, 0.9998959200666112], \"yaxis\": \"y\"}, {\"hovertemplate\": \"variable=0.9<br>keys=%{x}<br>value=%{y}<extra></extra>\", \"legendgroup\": \"0.9\", \"line\": {\"color\": \"#00cc96\", \"dash\": \"solid\"}, \"mode\": \"lines\", \"name\": \"0.9\", \"orientation\": \"v\", \"showlegend\": true, \"type\": \"scatter\", \"x\": [2, 4, 6, 8, 10, 16, 26, 36, 46, 56, 66, 101, 141, 181], \"xaxis\": \"x\", \"y\": [0.02487510407993339, 0.13728143213988342, 0.13800999167360534, 0.3864487926727727, 0.43151540383014153, 0.6517485428809325, 0.8964404662781016, 0.9618026644462948, 0.9857410491257286, 0.9979184013322231, 0.9988551207327228, 0.9997918401332223, 0.9998959200666112, 0.9998959200666112], \"yaxis\": \"y\"}, {\"hovertemplate\": \"variable=0.95<br>keys=%{x}<br>value=%{y}<extra></extra>\", \"legendgroup\": \"0.95\", \"line\": {\"color\": \"#ab63fa\", \"dash\": \"solid\"}, \"mode\": \"lines\", \"name\": \"0.95\", \"orientation\": \"v\", \"showlegend\": true, \"type\": \"scatter\", \"x\": [2, 4, 6, 8, 10, 16, 26, 36, 46, 56, 66, 101, 141, 181], \"xaxis\": \"x\", \"y\": [0.005620316402997502, 0.07774771024146544, 0.07805995004163198, 0.26477935054121565, 0.3058909242298085, 0.5219608659450458, 0.8234804329725229, 0.9227726894254787, 0.9677352206494588, 0.9938592839300583, 0.9970857618651124, 0.9996877601998335, 0.9997918401332223, 0.9997918401332223], \"yaxis\": \"y\"}, {\"hovertemplate\": \"variable=0.99<br>keys=%{x}<br>value=%{y}<extra></extra>\", \"legendgroup\": \"0.99\", \"line\": {\"color\": \"#FFA15A\", \"dash\": \"solid\"}, \"mode\": \"lines\", \"name\": \"0.99\", \"orientation\": \"v\", \"showlegend\": true, \"type\": \"scatter\", \"x\": [2, 4, 6, 8, 10, 16, 26, 36, 46, 56, 66, 101, 141, 181], \"xaxis\": \"x\", \"y\": [0.0012489592006661116, 0.01582014987510408, 0.01582014987510408, 0.07212739383846795, 0.09231890091590342, 0.22398001665278935, 0.5242506244796004, 0.7045170691090757, 0.8289966694421316, 0.9391132389675271, 0.9600333055786844, 0.9935470441298918, 0.9977102414654455, 0.9989592006661115], \"yaxis\": \"y\"}, {\"hovertemplate\": \"variable=1.0<br>keys=%{x}<br>value=%{y}<extra></extra>\", \"legendgroup\": \"1.0\", \"line\": {\"color\": \"#19d3f3\", \"dash\": \"solid\"}, \"mode\": \"lines\", \"name\": \"1.0\", \"orientation\": \"v\", \"showlegend\": true, \"type\": \"scatter\", \"x\": [2, 4, 6, 8, 10, 16, 26, 36, 46, 56, 66, 101, 141, 181], \"xaxis\": \"x\", \"y\": [0.0009367194004995837, 0.01186511240632806, 0.01186511240632806, 0.050374687760199835, 0.0656744379683597, 0.16465445462114905, 0.416007493755204, 0.5899250624479601, 0.7297044129891757, 0.8796835970024979, 0.9144462947543713, 0.9813696919233972, 0.9939633638634471, 0.9968776019983348], \"yaxis\": \"y\"}],                        {\"legend\": {\"title\": {\"text\": \"variable\"}, \"tracegroupgap\": 0}, \"margin\": {\"t\": 60}, \"template\": {\"data\": {\"bar\": [{\"error_x\": {\"color\": \"#2a3f5f\"}, \"error_y\": {\"color\": \"#2a3f5f\"}, \"marker\": {\"line\": {\"color\": \"#E5ECF6\", \"width\": 0.5}}, \"type\": \"bar\"}], \"barpolar\": [{\"marker\": {\"line\": {\"color\": \"#E5ECF6\", \"width\": 0.5}}, \"type\": \"barpolar\"}], \"carpet\": [{\"aaxis\": {\"endlinecolor\": \"#2a3f5f\", \"gridcolor\": \"white\", \"linecolor\": \"white\", \"minorgridcolor\": \"white\", \"startlinecolor\": \"#2a3f5f\"}, \"baxis\": {\"endlinecolor\": \"#2a3f5f\", \"gridcolor\": \"white\", \"linecolor\": \"white\", \"minorgridcolor\": \"white\", \"startlinecolor\": \"#2a3f5f\"}, \"type\": \"carpet\"}], \"choropleth\": [{\"colorbar\": {\"outlinewidth\": 0, \"ticks\": \"\"}, \"type\": \"choropleth\"}], \"contour\": [{\"colorbar\": {\"outlinewidth\": 0, \"ticks\": \"\"}, \"colorscale\": [[0.0, \"#0d0887\"], [0.1111111111111111, \"#46039f\"], [0.2222222222222222, \"#7201a8\"], [0.3333333333333333, \"#9c179e\"], [0.4444444444444444, \"#bd3786\"], [0.5555555555555556, \"#d8576b\"], [0.6666666666666666, \"#ed7953\"], [0.7777777777777778, \"#fb9f3a\"], [0.8888888888888888, \"#fdca26\"], [1.0, \"#f0f921\"]], \"type\": \"contour\"}], \"contourcarpet\": [{\"colorbar\": {\"outlinewidth\": 0, \"ticks\": \"\"}, \"type\": \"contourcarpet\"}], \"heatmap\": [{\"colorbar\": {\"outlinewidth\": 0, \"ticks\": \"\"}, \"colorscale\": [[0.0, \"#0d0887\"], [0.1111111111111111, \"#46039f\"], [0.2222222222222222, \"#7201a8\"], [0.3333333333333333, \"#9c179e\"], [0.4444444444444444, \"#bd3786\"], [0.5555555555555556, \"#d8576b\"], [0.6666666666666666, \"#ed7953\"], [0.7777777777777778, \"#fb9f3a\"], [0.8888888888888888, \"#fdca26\"], [1.0, \"#f0f921\"]], \"type\": \"heatmap\"}], \"heatmapgl\": [{\"colorbar\": {\"outlinewidth\": 0, \"ticks\": \"\"}, \"colorscale\": [[0.0, \"#0d0887\"], [0.1111111111111111, \"#46039f\"], [0.2222222222222222, \"#7201a8\"], [0.3333333333333333, \"#9c179e\"], [0.4444444444444444, \"#bd3786\"], [0.5555555555555556, \"#d8576b\"], [0.6666666666666666, \"#ed7953\"], [0.7777777777777778, \"#fb9f3a\"], [0.8888888888888888, \"#fdca26\"], [1.0, \"#f0f921\"]], \"type\": \"heatmapgl\"}], \"histogram\": [{\"marker\": {\"colorbar\": {\"outlinewidth\": 0, \"ticks\": \"\"}}, \"type\": \"histogram\"}], \"histogram2d\": [{\"colorbar\": {\"outlinewidth\": 0, \"ticks\": \"\"}, \"colorscale\": [[0.0, \"#0d0887\"], [0.1111111111111111, \"#46039f\"], [0.2222222222222222, \"#7201a8\"], [0.3333333333333333, \"#9c179e\"], [0.4444444444444444, \"#bd3786\"], [0.5555555555555556, \"#d8576b\"], [0.6666666666666666, \"#ed7953\"], [0.7777777777777778, \"#fb9f3a\"], [0.8888888888888888, \"#fdca26\"], [1.0, \"#f0f921\"]], \"type\": \"histogram2d\"}], \"histogram2dcontour\": [{\"colorbar\": {\"outlinewidth\": 0, \"ticks\": \"\"}, \"colorscale\": [[0.0, \"#0d0887\"], [0.1111111111111111, \"#46039f\"], [0.2222222222222222, \"#7201a8\"], [0.3333333333333333, \"#9c179e\"], [0.4444444444444444, \"#bd3786\"], [0.5555555555555556, \"#d8576b\"], [0.6666666666666666, \"#ed7953\"], [0.7777777777777778, \"#fb9f3a\"], [0.8888888888888888, \"#fdca26\"], [1.0, \"#f0f921\"]], \"type\": \"histogram2dcontour\"}], \"mesh3d\": [{\"colorbar\": {\"outlinewidth\": 0, \"ticks\": \"\"}, \"type\": \"mesh3d\"}], \"parcoords\": [{\"line\": {\"colorbar\": {\"outlinewidth\": 0, \"ticks\": \"\"}}, \"type\": \"parcoords\"}], \"pie\": [{\"automargin\": true, \"type\": \"pie\"}], \"scatter\": [{\"marker\": {\"colorbar\": {\"outlinewidth\": 0, \"ticks\": \"\"}}, \"type\": \"scatter\"}], \"scatter3d\": [{\"line\": {\"colorbar\": {\"outlinewidth\": 0, \"ticks\": \"\"}}, \"marker\": {\"colorbar\": {\"outlinewidth\": 0, \"ticks\": \"\"}}, \"type\": \"scatter3d\"}], \"scattercarpet\": [{\"marker\": {\"colorbar\": {\"outlinewidth\": 0, \"ticks\": \"\"}}, \"type\": \"scattercarpet\"}], \"scattergeo\": [{\"marker\": {\"colorbar\": {\"outlinewidth\": 0, \"ticks\": \"\"}}, \"type\": \"scattergeo\"}], \"scattergl\": [{\"marker\": {\"colorbar\": {\"outlinewidth\": 0, \"ticks\": \"\"}}, \"type\": \"scattergl\"}], \"scattermapbox\": [{\"marker\": {\"colorbar\": {\"outlinewidth\": 0, \"ticks\": \"\"}}, \"type\": \"scattermapbox\"}], \"scatterpolar\": [{\"marker\": {\"colorbar\": {\"outlinewidth\": 0, \"ticks\": \"\"}}, \"type\": \"scatterpolar\"}], \"scatterpolargl\": [{\"marker\": {\"colorbar\": {\"outlinewidth\": 0, \"ticks\": \"\"}}, \"type\": \"scatterpolargl\"}], \"scatterternary\": [{\"marker\": {\"colorbar\": {\"outlinewidth\": 0, \"ticks\": \"\"}}, \"type\": \"scatterternary\"}], \"surface\": [{\"colorbar\": {\"outlinewidth\": 0, \"ticks\": \"\"}, \"colorscale\": [[0.0, \"#0d0887\"], [0.1111111111111111, \"#46039f\"], [0.2222222222222222, \"#7201a8\"], [0.3333333333333333, \"#9c179e\"], [0.4444444444444444, \"#bd3786\"], [0.5555555555555556, \"#d8576b\"], [0.6666666666666666, \"#ed7953\"], [0.7777777777777778, \"#fb9f3a\"], [0.8888888888888888, \"#fdca26\"], [1.0, \"#f0f921\"]], \"type\": \"surface\"}], \"table\": [{\"cells\": {\"fill\": {\"color\": \"#EBF0F8\"}, \"line\": {\"color\": \"white\"}}, \"header\": {\"fill\": {\"color\": \"#C8D4E3\"}, \"line\": {\"color\": \"white\"}}, \"type\": \"table\"}]}, \"layout\": {\"annotationdefaults\": {\"arrowcolor\": \"#2a3f5f\", \"arrowhead\": 0, \"arrowwidth\": 1}, \"autotypenumbers\": \"strict\", \"coloraxis\": {\"colorbar\": {\"outlinewidth\": 0, \"ticks\": \"\"}}, \"colorscale\": {\"diverging\": [[0, \"#8e0152\"], [0.1, \"#c51b7d\"], [0.2, \"#de77ae\"], [0.3, \"#f1b6da\"], [0.4, \"#fde0ef\"], [0.5, \"#f7f7f7\"], [0.6, \"#e6f5d0\"], [0.7, \"#b8e186\"], [0.8, \"#7fbc41\"], [0.9, \"#4d9221\"], [1, \"#276419\"]], \"sequential\": [[0.0, \"#0d0887\"], [0.1111111111111111, \"#46039f\"], [0.2222222222222222, \"#7201a8\"], [0.3333333333333333, \"#9c179e\"], [0.4444444444444444, \"#bd3786\"], [0.5555555555555556, \"#d8576b\"], [0.6666666666666666, \"#ed7953\"], [0.7777777777777778, \"#fb9f3a\"], [0.8888888888888888, \"#fdca26\"], [1.0, \"#f0f921\"]], \"sequentialminus\": [[0.0, \"#0d0887\"], [0.1111111111111111, \"#46039f\"], [0.2222222222222222, \"#7201a8\"], [0.3333333333333333, \"#9c179e\"], [0.4444444444444444, \"#bd3786\"], [0.5555555555555556, \"#d8576b\"], [0.6666666666666666, \"#ed7953\"], [0.7777777777777778, \"#fb9f3a\"], [0.8888888888888888, \"#fdca26\"], [1.0, \"#f0f921\"]]}, \"colorway\": [\"#636efa\", \"#EF553B\", \"#00cc96\", \"#ab63fa\", \"#FFA15A\", \"#19d3f3\", \"#FF6692\", \"#B6E880\", \"#FF97FF\", \"#FECB52\"], \"font\": {\"color\": \"#2a3f5f\"}, \"geo\": {\"bgcolor\": \"white\", \"lakecolor\": \"white\", \"landcolor\": \"#E5ECF6\", \"showlakes\": true, \"showland\": true, \"subunitcolor\": \"white\"}, \"hoverlabel\": {\"align\": \"left\"}, \"hovermode\": \"closest\", \"mapbox\": {\"style\": \"light\"}, \"paper_bgcolor\": \"white\", \"plot_bgcolor\": \"#E5ECF6\", \"polar\": {\"angularaxis\": {\"gridcolor\": \"white\", \"linecolor\": \"white\", \"ticks\": \"\"}, \"bgcolor\": \"#E5ECF6\", \"radialaxis\": {\"gridcolor\": \"white\", \"linecolor\": \"white\", \"ticks\": \"\"}}, \"scene\": {\"xaxis\": {\"backgroundcolor\": \"#E5ECF6\", \"gridcolor\": \"white\", \"gridwidth\": 2, \"linecolor\": \"white\", \"showbackground\": true, \"ticks\": \"\", \"zerolinecolor\": \"white\"}, \"yaxis\": {\"backgroundcolor\": \"#E5ECF6\", \"gridcolor\": \"white\", \"gridwidth\": 2, \"linecolor\": \"white\", \"showbackground\": true, \"ticks\": \"\", \"zerolinecolor\": \"white\"}, \"zaxis\": {\"backgroundcolor\": \"#E5ECF6\", \"gridcolor\": \"white\", \"gridwidth\": 2, \"linecolor\": \"white\", \"showbackground\": true, \"ticks\": \"\", \"zerolinecolor\": \"white\"}}, \"shapedefaults\": {\"line\": {\"color\": \"#2a3f5f\"}}, \"ternary\": {\"aaxis\": {\"gridcolor\": \"white\", \"linecolor\": \"white\", \"ticks\": \"\"}, \"baxis\": {\"gridcolor\": \"white\", \"linecolor\": \"white\", \"ticks\": \"\"}, \"bgcolor\": \"#E5ECF6\", \"caxis\": {\"gridcolor\": \"white\", \"linecolor\": \"white\", \"ticks\": \"\"}}, \"title\": {\"x\": 0.05}, \"xaxis\": {\"automargin\": true, \"gridcolor\": \"white\", \"linecolor\": \"white\", \"ticks\": \"\", \"title\": {\"standoff\": 15}, \"zerolinecolor\": \"white\", \"zerolinewidth\": 2}, \"yaxis\": {\"automargin\": true, \"gridcolor\": \"white\", \"linecolor\": \"white\", \"ticks\": \"\", \"title\": {\"standoff\": 15}, \"zerolinecolor\": \"white\", \"zerolinewidth\": 2}}}, \"xaxis\": {\"anchor\": \"y\", \"domain\": [0.0, 1.0], \"title\": {\"text\": \"keys\"}}, \"yaxis\": {\"anchor\": \"x\", \"domain\": [0.0, 1.0], \"title\": {\"text\": \"value\"}}},                        {\"responsive\": true}                    ).then(function(){\n",
       "                            \n",
       "var gd = document.getElementById('b94da8dc-864d-4e34-b4bb-43e04b43bd17');\n",
       "var x = new MutationObserver(function (mutations, observer) {{\n",
       "        var display = window.getComputedStyle(gd).display;\n",
       "        if (!display || display === 'none') {{\n",
       "            console.log([gd, 'removed!']);\n",
       "            Plotly.purge(gd);\n",
       "            observer.disconnect();\n",
       "        }}\n",
       "}});\n",
       "\n",
       "// Listen for the removal of the full notebook cells\n",
       "var notebookContainer = gd.closest('#notebook-container');\n",
       "if (notebookContainer) {{\n",
       "    x.observe(notebookContainer, {childList: true});\n",
       "}}\n",
       "\n",
       "// Listen for the clearing of the current output cell\n",
       "var outputEl = gd.closest('.output');\n",
       "if (outputEl) {{\n",
       "    x.observe(outputEl, {childList: true});\n",
       "}}\n",
       "\n",
       "                        })                };                });            </script>        </div>"
      ]
     },
     "metadata": {},
     "output_type": "display_data"
    }
   ],
   "source": [
    "keys = acrcy_dict1.keys()\n",
    "values1 = acrcy_dict1.values()\n",
    "values2 = acrcy_dict2.values()\n",
    "values3 = acrcy_dict3.values()\n",
    "values4 = acrcy_dict4.values()\n",
    "values5 = acrcy_dict5.values()\n",
    "values6 = acrcy_dict6.values()\n",
    "\n",
    "df = pd.DataFrame()\n",
    "\n",
    "df[\"keys\"] = keys\n",
    "df[\"0.6\"]= values1\n",
    "df[\"0.8\"]= values2\n",
    "df[\"0.9\"]= values3\n",
    "df[\"0.95\"]= values4\n",
    "df[\"0.99\"]= values5\n",
    "df[\"1.0\"]= values6\n",
    "\n",
    "fig = px.line(df, x=df[\"keys\"], y=['0.6', '0.8', '0.9', '0.95', '0.99', '1.0'])\n",
    "fig.show()"
   ]
  },
  {
   "cell_type": "code",
   "execution_count": 88,
   "metadata": {},
   "outputs": [
    {
     "data": {
      "application/vnd.plotly.v1+json": {
       "config": {
        "plotlyServerURL": "https://plot.ly"
       },
       "data": [
        {
         "hovertemplate": "x=%{x}<br>y=%{y}<extra></extra>",
         "legendgroup": "",
         "line": {
          "color": "#636efa",
          "dash": "solid"
         },
         "mode": "lines",
         "name": "",
         "orientation": "v",
         "showlegend": false,
         "type": "scatter",
         "x": [
          1,
          2,
          3,
          4,
          5,
          6,
          7,
          8,
          9,
          10,
          11,
          12,
          13,
          14,
          15,
          16,
          17,
          18,
          19,
          20,
          21,
          22,
          23,
          24,
          25,
          26,
          27,
          28,
          29,
          30,
          31,
          32,
          33,
          34,
          35,
          36,
          37,
          38,
          39,
          40,
          41,
          42,
          43,
          44,
          45,
          46,
          47,
          48,
          49,
          50,
          51,
          52,
          53,
          54,
          55,
          56,
          57,
          58,
          59,
          60,
          61,
          62,
          63,
          64,
          65,
          66,
          67,
          68,
          69,
          70,
          71,
          72,
          73,
          74,
          75,
          76,
          77,
          78,
          79,
          80,
          81,
          82,
          83,
          84,
          85,
          86,
          87,
          88,
          89,
          90,
          91,
          92,
          93,
          94,
          95,
          96,
          97,
          98,
          99,
          100,
          101,
          102,
          103,
          104,
          105,
          106,
          107,
          108,
          109,
          110,
          111,
          112,
          113,
          114,
          115,
          116,
          117,
          118,
          119,
          120,
          121,
          122,
          123,
          124,
          125,
          126,
          127,
          128,
          129,
          130,
          131,
          132,
          133,
          134,
          135,
          136,
          137,
          138,
          139,
          140,
          141,
          142,
          143,
          144,
          145,
          146,
          147,
          148,
          149,
          150,
          151,
          152,
          153,
          154,
          155,
          156,
          157,
          158,
          159,
          160,
          161,
          162,
          163,
          164,
          165,
          166,
          167,
          168,
          169,
          170,
          171,
          172,
          173,
          174,
          175,
          176,
          177,
          178,
          179,
          180,
          181,
          182,
          183,
          184,
          185,
          186,
          187,
          188,
          189,
          190,
          191,
          192,
          193,
          194,
          195,
          196,
          197,
          198,
          199,
          200,
          201,
          202,
          203,
          204,
          205,
          206,
          207,
          208,
          209,
          210,
          211,
          212,
          213,
          214,
          215,
          216,
          217,
          218,
          219,
          220
         ],
         "xaxis": "x",
         "y": [
          6.71117091178894,
          80.98542404174805,
          6.701944351196289,
          63.91663718223572,
          1.5623161792755127,
          61.45423173904419,
          5.3834052085876465,
          47.18474054336548,
          1.1120245456695557,
          44.31160092353821,
          1.593775749206543,
          1.1107473373413086,
          1.940969705581665,
          1.284520149230957,
          1.373311996459961,
          36.50207257270813,
          1.2106432914733887,
          1.2581610679626465,
          1.2580831050872803,
          1.6325700283050537,
          1.0330047607421875,
          0.9501614570617676,
          0.8813118934631348,
          1.015669822692871,
          0.8217349052429199,
          30.517942428588867,
          0.8928847312927246,
          0.8528385162353516,
          0.8669602870941162,
          0.9819455146789551,
          0.9517698287963867,
          0.9234538078308105,
          0.8161180019378662,
          0.8806915283203125,
          0.8316292762756348,
          28.72490668296814,
          0.8947174549102783,
          0.8164918422698975,
          0.8498704433441162,
          0.8222744464874268,
          0.8245782852172852,
          0.8937015533447266,
          0.8041281700134277,
          0.8154246807098389,
          0.8277778625488281,
          28.219412326812744,
          0.8626871109008789,
          0.8078844547271729,
          0.8503222465515137,
          0.8131718635559082,
          0.805030107498169,
          0.8108983039855957,
          0.8085916042327881,
          0.8074109554290771,
          0.790513277053833,
          27.868887662887573,
          0.7959961891174316,
          0.796990156173706,
          0.7989335060119629,
          0.7939045429229736,
          0.7942628860473633,
          0.7837545871734619,
          0.7803468704223633,
          0.787334680557251,
          0.7887628078460693,
          27.783703327178955,
          0.7931692600250244,
          0.8047661781311035,
          0.7980296611785889,
          0.7824883460998535,
          0.7931149005889893,
          0.8000071048736572,
          0.7922587394714355,
          0.8010532855987549,
          0.7927961349487305,
          0.7876195907592773,
          0.7970883846282959,
          0.7963566780090332,
          0.785879373550415,
          0.7906038761138916,
          0.7751939296722412,
          0.7841708660125732,
          0.7895739078521729,
          0.7906091213226318,
          0.7870376110076904,
          0.8000235557556152,
          0.779571533203125,
          0.7859795093536377,
          0.7773518562316895,
          0.7899472713470459,
          0.774277925491333,
          0.7927072048187256,
          0.792931318283081,
          0.7690820693969727,
          0.7863824367523193,
          0.7825555801391602,
          0.7917876243591309,
          0.795891284942627,
          0.7959656715393066,
          0.7864758968353271,
          28.248891592025757,
          0.8082411289215088,
          0.8074984550476074,
          0.7884266376495361,
          0.7894654273986816,
          0.7950601577758789,
          0.788964033126831,
          0.7846484184265137,
          0.7845573425292969,
          0.7848422527313232,
          0.7796363830566406,
          0.7881059646606445,
          0.785294771194458,
          0.7801849842071533,
          0.78487229347229,
          0.7914795875549316,
          0.7923343181610107,
          0.7775428295135498,
          0.7915606498718262,
          0.7946267127990723,
          0.7777345180511475,
          0.788820743560791,
          0.7854185104370117,
          0.7845785617828369,
          0.7843587398529053,
          0.7950756549835205,
          0.7746284008026123,
          0.7858469486236572,
          0.7807650566101074,
          0.7855467796325684,
          0.7810442447662354,
          0.7829086780548096,
          0.7952935695648193,
          0.7917964458465576,
          0.7800064086914062,
          0.7823760509490967,
          0.7827785015106201,
          0.786381721496582,
          0.786729097366333,
          0.8019487857818604,
          28.734870672225952,
          0.796980619430542,
          0.7940995693206787,
          0.7978515625,
          0.7918224334716797,
          0.8030650615692139,
          0.7818377017974854,
          0.7770745754241943,
          0.7835288047790527,
          0.8032486438751221,
          0.7771108150482178,
          0.7857494354248047,
          0.7821061611175537,
          0.7899370193481445,
          0.7877943515777588,
          0.7814700603485107,
          0.7798004150390625,
          0.8014371395111084,
          0.7859489917755127,
          0.7903945446014404,
          0.7912096977233887,
          0.7862863540649414,
          0.7813963890075684,
          0.7900927066802979,
          0.7991621494293213,
          0.7826168537139893,
          0.7923309803009033,
          0.7850193977355957,
          0.7788898944854736,
          0.8468668460845947,
          0.7910952568054199,
          0.8273470401763916,
          0.7829086780548096,
          0.7921395301818848,
          0.7993378639221191,
          0.79508376121521,
          0.7876653671264648,
          0.7882299423217773,
          0.7895457744598389,
          0.7921552658081055,
          28.929960250854492,
          0.8093652725219727,
          0.7840156555175781,
          0.7705078125,
          0.7869737148284912,
          0.8013367652893066,
          0.8099722862243652,
          0.7942624092102051,
          0.7959372997283936,
          0.8178975582122803,
          0.8001036643981934,
          0.8208928108215332,
          0.7971763610839844,
          0.787790060043335,
          0.7911550998687744,
          0.7913501262664795,
          0.7775392532348633,
          0.7895631790161133,
          0.7713446617126465,
          0.8211021423339844,
          0.8151004314422607,
          0.7693233489990234,
          0.7925682067871094,
          0.7894330024719238,
          0.7955114841461182,
          0.7907967567443848,
          0.8032336235046387,
          0.7963838577270508,
          0.8046929836273193,
          0.7828054428100586,
          0.799405574798584,
          0.7844893932342529,
          0.793464183807373,
          0.7716846466064453,
          0.7887284755706787,
          0.7862663269042969,
          0.789233922958374,
          0.7822990417480469,
          0.7925512790679932,
          0.7708330154418945
         ],
         "yaxis": "y"
        }
       ],
       "layout": {
        "legend": {
         "tracegroupgap": 0
        },
        "margin": {
         "t": 60
        },
        "template": {
         "data": {
          "bar": [
           {
            "error_x": {
             "color": "#2a3f5f"
            },
            "error_y": {
             "color": "#2a3f5f"
            },
            "marker": {
             "line": {
              "color": "#E5ECF6",
              "width": 0.5
             }
            },
            "type": "bar"
           }
          ],
          "barpolar": [
           {
            "marker": {
             "line": {
              "color": "#E5ECF6",
              "width": 0.5
             }
            },
            "type": "barpolar"
           }
          ],
          "carpet": [
           {
            "aaxis": {
             "endlinecolor": "#2a3f5f",
             "gridcolor": "white",
             "linecolor": "white",
             "minorgridcolor": "white",
             "startlinecolor": "#2a3f5f"
            },
            "baxis": {
             "endlinecolor": "#2a3f5f",
             "gridcolor": "white",
             "linecolor": "white",
             "minorgridcolor": "white",
             "startlinecolor": "#2a3f5f"
            },
            "type": "carpet"
           }
          ],
          "choropleth": [
           {
            "colorbar": {
             "outlinewidth": 0,
             "ticks": ""
            },
            "type": "choropleth"
           }
          ],
          "contour": [
           {
            "colorbar": {
             "outlinewidth": 0,
             "ticks": ""
            },
            "colorscale": [
             [
              0,
              "#0d0887"
             ],
             [
              0.1111111111111111,
              "#46039f"
             ],
             [
              0.2222222222222222,
              "#7201a8"
             ],
             [
              0.3333333333333333,
              "#9c179e"
             ],
             [
              0.4444444444444444,
              "#bd3786"
             ],
             [
              0.5555555555555556,
              "#d8576b"
             ],
             [
              0.6666666666666666,
              "#ed7953"
             ],
             [
              0.7777777777777778,
              "#fb9f3a"
             ],
             [
              0.8888888888888888,
              "#fdca26"
             ],
             [
              1,
              "#f0f921"
             ]
            ],
            "type": "contour"
           }
          ],
          "contourcarpet": [
           {
            "colorbar": {
             "outlinewidth": 0,
             "ticks": ""
            },
            "type": "contourcarpet"
           }
          ],
          "heatmap": [
           {
            "colorbar": {
             "outlinewidth": 0,
             "ticks": ""
            },
            "colorscale": [
             [
              0,
              "#0d0887"
             ],
             [
              0.1111111111111111,
              "#46039f"
             ],
             [
              0.2222222222222222,
              "#7201a8"
             ],
             [
              0.3333333333333333,
              "#9c179e"
             ],
             [
              0.4444444444444444,
              "#bd3786"
             ],
             [
              0.5555555555555556,
              "#d8576b"
             ],
             [
              0.6666666666666666,
              "#ed7953"
             ],
             [
              0.7777777777777778,
              "#fb9f3a"
             ],
             [
              0.8888888888888888,
              "#fdca26"
             ],
             [
              1,
              "#f0f921"
             ]
            ],
            "type": "heatmap"
           }
          ],
          "heatmapgl": [
           {
            "colorbar": {
             "outlinewidth": 0,
             "ticks": ""
            },
            "colorscale": [
             [
              0,
              "#0d0887"
             ],
             [
              0.1111111111111111,
              "#46039f"
             ],
             [
              0.2222222222222222,
              "#7201a8"
             ],
             [
              0.3333333333333333,
              "#9c179e"
             ],
             [
              0.4444444444444444,
              "#bd3786"
             ],
             [
              0.5555555555555556,
              "#d8576b"
             ],
             [
              0.6666666666666666,
              "#ed7953"
             ],
             [
              0.7777777777777778,
              "#fb9f3a"
             ],
             [
              0.8888888888888888,
              "#fdca26"
             ],
             [
              1,
              "#f0f921"
             ]
            ],
            "type": "heatmapgl"
           }
          ],
          "histogram": [
           {
            "marker": {
             "colorbar": {
              "outlinewidth": 0,
              "ticks": ""
             }
            },
            "type": "histogram"
           }
          ],
          "histogram2d": [
           {
            "colorbar": {
             "outlinewidth": 0,
             "ticks": ""
            },
            "colorscale": [
             [
              0,
              "#0d0887"
             ],
             [
              0.1111111111111111,
              "#46039f"
             ],
             [
              0.2222222222222222,
              "#7201a8"
             ],
             [
              0.3333333333333333,
              "#9c179e"
             ],
             [
              0.4444444444444444,
              "#bd3786"
             ],
             [
              0.5555555555555556,
              "#d8576b"
             ],
             [
              0.6666666666666666,
              "#ed7953"
             ],
             [
              0.7777777777777778,
              "#fb9f3a"
             ],
             [
              0.8888888888888888,
              "#fdca26"
             ],
             [
              1,
              "#f0f921"
             ]
            ],
            "type": "histogram2d"
           }
          ],
          "histogram2dcontour": [
           {
            "colorbar": {
             "outlinewidth": 0,
             "ticks": ""
            },
            "colorscale": [
             [
              0,
              "#0d0887"
             ],
             [
              0.1111111111111111,
              "#46039f"
             ],
             [
              0.2222222222222222,
              "#7201a8"
             ],
             [
              0.3333333333333333,
              "#9c179e"
             ],
             [
              0.4444444444444444,
              "#bd3786"
             ],
             [
              0.5555555555555556,
              "#d8576b"
             ],
             [
              0.6666666666666666,
              "#ed7953"
             ],
             [
              0.7777777777777778,
              "#fb9f3a"
             ],
             [
              0.8888888888888888,
              "#fdca26"
             ],
             [
              1,
              "#f0f921"
             ]
            ],
            "type": "histogram2dcontour"
           }
          ],
          "mesh3d": [
           {
            "colorbar": {
             "outlinewidth": 0,
             "ticks": ""
            },
            "type": "mesh3d"
           }
          ],
          "parcoords": [
           {
            "line": {
             "colorbar": {
              "outlinewidth": 0,
              "ticks": ""
             }
            },
            "type": "parcoords"
           }
          ],
          "pie": [
           {
            "automargin": true,
            "type": "pie"
           }
          ],
          "scatter": [
           {
            "marker": {
             "colorbar": {
              "outlinewidth": 0,
              "ticks": ""
             }
            },
            "type": "scatter"
           }
          ],
          "scatter3d": [
           {
            "line": {
             "colorbar": {
              "outlinewidth": 0,
              "ticks": ""
             }
            },
            "marker": {
             "colorbar": {
              "outlinewidth": 0,
              "ticks": ""
             }
            },
            "type": "scatter3d"
           }
          ],
          "scattercarpet": [
           {
            "marker": {
             "colorbar": {
              "outlinewidth": 0,
              "ticks": ""
             }
            },
            "type": "scattercarpet"
           }
          ],
          "scattergeo": [
           {
            "marker": {
             "colorbar": {
              "outlinewidth": 0,
              "ticks": ""
             }
            },
            "type": "scattergeo"
           }
          ],
          "scattergl": [
           {
            "marker": {
             "colorbar": {
              "outlinewidth": 0,
              "ticks": ""
             }
            },
            "type": "scattergl"
           }
          ],
          "scattermapbox": [
           {
            "marker": {
             "colorbar": {
              "outlinewidth": 0,
              "ticks": ""
             }
            },
            "type": "scattermapbox"
           }
          ],
          "scatterpolar": [
           {
            "marker": {
             "colorbar": {
              "outlinewidth": 0,
              "ticks": ""
             }
            },
            "type": "scatterpolar"
           }
          ],
          "scatterpolargl": [
           {
            "marker": {
             "colorbar": {
              "outlinewidth": 0,
              "ticks": ""
             }
            },
            "type": "scatterpolargl"
           }
          ],
          "scatterternary": [
           {
            "marker": {
             "colorbar": {
              "outlinewidth": 0,
              "ticks": ""
             }
            },
            "type": "scatterternary"
           }
          ],
          "surface": [
           {
            "colorbar": {
             "outlinewidth": 0,
             "ticks": ""
            },
            "colorscale": [
             [
              0,
              "#0d0887"
             ],
             [
              0.1111111111111111,
              "#46039f"
             ],
             [
              0.2222222222222222,
              "#7201a8"
             ],
             [
              0.3333333333333333,
              "#9c179e"
             ],
             [
              0.4444444444444444,
              "#bd3786"
             ],
             [
              0.5555555555555556,
              "#d8576b"
             ],
             [
              0.6666666666666666,
              "#ed7953"
             ],
             [
              0.7777777777777778,
              "#fb9f3a"
             ],
             [
              0.8888888888888888,
              "#fdca26"
             ],
             [
              1,
              "#f0f921"
             ]
            ],
            "type": "surface"
           }
          ],
          "table": [
           {
            "cells": {
             "fill": {
              "color": "#EBF0F8"
             },
             "line": {
              "color": "white"
             }
            },
            "header": {
             "fill": {
              "color": "#C8D4E3"
             },
             "line": {
              "color": "white"
             }
            },
            "type": "table"
           }
          ]
         },
         "layout": {
          "annotationdefaults": {
           "arrowcolor": "#2a3f5f",
           "arrowhead": 0,
           "arrowwidth": 1
          },
          "autotypenumbers": "strict",
          "coloraxis": {
           "colorbar": {
            "outlinewidth": 0,
            "ticks": ""
           }
          },
          "colorscale": {
           "diverging": [
            [
             0,
             "#8e0152"
            ],
            [
             0.1,
             "#c51b7d"
            ],
            [
             0.2,
             "#de77ae"
            ],
            [
             0.3,
             "#f1b6da"
            ],
            [
             0.4,
             "#fde0ef"
            ],
            [
             0.5,
             "#f7f7f7"
            ],
            [
             0.6,
             "#e6f5d0"
            ],
            [
             0.7,
             "#b8e186"
            ],
            [
             0.8,
             "#7fbc41"
            ],
            [
             0.9,
             "#4d9221"
            ],
            [
             1,
             "#276419"
            ]
           ],
           "sequential": [
            [
             0,
             "#0d0887"
            ],
            [
             0.1111111111111111,
             "#46039f"
            ],
            [
             0.2222222222222222,
             "#7201a8"
            ],
            [
             0.3333333333333333,
             "#9c179e"
            ],
            [
             0.4444444444444444,
             "#bd3786"
            ],
            [
             0.5555555555555556,
             "#d8576b"
            ],
            [
             0.6666666666666666,
             "#ed7953"
            ],
            [
             0.7777777777777778,
             "#fb9f3a"
            ],
            [
             0.8888888888888888,
             "#fdca26"
            ],
            [
             1,
             "#f0f921"
            ]
           ],
           "sequentialminus": [
            [
             0,
             "#0d0887"
            ],
            [
             0.1111111111111111,
             "#46039f"
            ],
            [
             0.2222222222222222,
             "#7201a8"
            ],
            [
             0.3333333333333333,
             "#9c179e"
            ],
            [
             0.4444444444444444,
             "#bd3786"
            ],
            [
             0.5555555555555556,
             "#d8576b"
            ],
            [
             0.6666666666666666,
             "#ed7953"
            ],
            [
             0.7777777777777778,
             "#fb9f3a"
            ],
            [
             0.8888888888888888,
             "#fdca26"
            ],
            [
             1,
             "#f0f921"
            ]
           ]
          },
          "colorway": [
           "#636efa",
           "#EF553B",
           "#00cc96",
           "#ab63fa",
           "#FFA15A",
           "#19d3f3",
           "#FF6692",
           "#B6E880",
           "#FF97FF",
           "#FECB52"
          ],
          "font": {
           "color": "#2a3f5f"
          },
          "geo": {
           "bgcolor": "white",
           "lakecolor": "white",
           "landcolor": "#E5ECF6",
           "showlakes": true,
           "showland": true,
           "subunitcolor": "white"
          },
          "hoverlabel": {
           "align": "left"
          },
          "hovermode": "closest",
          "mapbox": {
           "style": "light"
          },
          "paper_bgcolor": "white",
          "plot_bgcolor": "#E5ECF6",
          "polar": {
           "angularaxis": {
            "gridcolor": "white",
            "linecolor": "white",
            "ticks": ""
           },
           "bgcolor": "#E5ECF6",
           "radialaxis": {
            "gridcolor": "white",
            "linecolor": "white",
            "ticks": ""
           }
          },
          "scene": {
           "xaxis": {
            "backgroundcolor": "#E5ECF6",
            "gridcolor": "white",
            "gridwidth": 2,
            "linecolor": "white",
            "showbackground": true,
            "ticks": "",
            "zerolinecolor": "white"
           },
           "yaxis": {
            "backgroundcolor": "#E5ECF6",
            "gridcolor": "white",
            "gridwidth": 2,
            "linecolor": "white",
            "showbackground": true,
            "ticks": "",
            "zerolinecolor": "white"
           },
           "zaxis": {
            "backgroundcolor": "#E5ECF6",
            "gridcolor": "white",
            "gridwidth": 2,
            "linecolor": "white",
            "showbackground": true,
            "ticks": "",
            "zerolinecolor": "white"
           }
          },
          "shapedefaults": {
           "line": {
            "color": "#2a3f5f"
           }
          },
          "ternary": {
           "aaxis": {
            "gridcolor": "white",
            "linecolor": "white",
            "ticks": ""
           },
           "baxis": {
            "gridcolor": "white",
            "linecolor": "white",
            "ticks": ""
           },
           "bgcolor": "#E5ECF6",
           "caxis": {
            "gridcolor": "white",
            "linecolor": "white",
            "ticks": ""
           }
          },
          "title": {
           "x": 0.05
          },
          "xaxis": {
           "automargin": true,
           "gridcolor": "white",
           "linecolor": "white",
           "ticks": "",
           "title": {
            "standoff": 15
           },
           "zerolinecolor": "white",
           "zerolinewidth": 2
          },
          "yaxis": {
           "automargin": true,
           "gridcolor": "white",
           "linecolor": "white",
           "ticks": "",
           "title": {
            "standoff": 15
           },
           "zerolinecolor": "white",
           "zerolinewidth": 2
          }
         }
        },
        "xaxis": {
         "anchor": "y",
         "domain": [
          0,
          1
         ],
         "title": {
          "text": "x"
         }
        },
        "yaxis": {
         "anchor": "x",
         "domain": [
          0,
          1
         ],
         "title": {
          "text": "y"
         }
        }
       }
      },
      "text/html": [
       "<div>                            <div id=\"8cd8f3d8-a084-4cb5-948e-38a9b3bea94f\" class=\"plotly-graph-div\" style=\"height:525px; width:100%;\"></div>            <script type=\"text/javascript\">                require([\"plotly\"], function(Plotly) {                    window.PLOTLYENV=window.PLOTLYENV || {};                                    if (document.getElementById(\"8cd8f3d8-a084-4cb5-948e-38a9b3bea94f\")) {                    Plotly.newPlot(                        \"8cd8f3d8-a084-4cb5-948e-38a9b3bea94f\",                        [{\"hovertemplate\": \"x=%{x}<br>y=%{y}<extra></extra>\", \"legendgroup\": \"\", \"line\": {\"color\": \"#636efa\", \"dash\": \"solid\"}, \"mode\": \"lines\", \"name\": \"\", \"orientation\": \"v\", \"showlegend\": false, \"type\": \"scatter\", \"x\": [1, 2, 3, 4, 5, 6, 7, 8, 9, 10, 11, 12, 13, 14, 15, 16, 17, 18, 19, 20, 21, 22, 23, 24, 25, 26, 27, 28, 29, 30, 31, 32, 33, 34, 35, 36, 37, 38, 39, 40, 41, 42, 43, 44, 45, 46, 47, 48, 49, 50, 51, 52, 53, 54, 55, 56, 57, 58, 59, 60, 61, 62, 63, 64, 65, 66, 67, 68, 69, 70, 71, 72, 73, 74, 75, 76, 77, 78, 79, 80, 81, 82, 83, 84, 85, 86, 87, 88, 89, 90, 91, 92, 93, 94, 95, 96, 97, 98, 99, 100, 101, 102, 103, 104, 105, 106, 107, 108, 109, 110, 111, 112, 113, 114, 115, 116, 117, 118, 119, 120, 121, 122, 123, 124, 125, 126, 127, 128, 129, 130, 131, 132, 133, 134, 135, 136, 137, 138, 139, 140, 141, 142, 143, 144, 145, 146, 147, 148, 149, 150, 151, 152, 153, 154, 155, 156, 157, 158, 159, 160, 161, 162, 163, 164, 165, 166, 167, 168, 169, 170, 171, 172, 173, 174, 175, 176, 177, 178, 179, 180, 181, 182, 183, 184, 185, 186, 187, 188, 189, 190, 191, 192, 193, 194, 195, 196, 197, 198, 199, 200, 201, 202, 203, 204, 205, 206, 207, 208, 209, 210, 211, 212, 213, 214, 215, 216, 217, 218, 219, 220], \"xaxis\": \"x\", \"y\": [6.71117091178894, 80.98542404174805, 6.701944351196289, 63.91663718223572, 1.5623161792755127, 61.45423173904419, 5.3834052085876465, 47.18474054336548, 1.1120245456695557, 44.31160092353821, 1.593775749206543, 1.1107473373413086, 1.940969705581665, 1.284520149230957, 1.373311996459961, 36.50207257270813, 1.2106432914733887, 1.2581610679626465, 1.2580831050872803, 1.6325700283050537, 1.0330047607421875, 0.9501614570617676, 0.8813118934631348, 1.015669822692871, 0.8217349052429199, 30.517942428588867, 0.8928847312927246, 0.8528385162353516, 0.8669602870941162, 0.9819455146789551, 0.9517698287963867, 0.9234538078308105, 0.8161180019378662, 0.8806915283203125, 0.8316292762756348, 28.72490668296814, 0.8947174549102783, 0.8164918422698975, 0.8498704433441162, 0.8222744464874268, 0.8245782852172852, 0.8937015533447266, 0.8041281700134277, 0.8154246807098389, 0.8277778625488281, 28.219412326812744, 0.8626871109008789, 0.8078844547271729, 0.8503222465515137, 0.8131718635559082, 0.805030107498169, 0.8108983039855957, 0.8085916042327881, 0.8074109554290771, 0.790513277053833, 27.868887662887573, 0.7959961891174316, 0.796990156173706, 0.7989335060119629, 0.7939045429229736, 0.7942628860473633, 0.7837545871734619, 0.7803468704223633, 0.787334680557251, 0.7887628078460693, 27.783703327178955, 0.7931692600250244, 0.8047661781311035, 0.7980296611785889, 0.7824883460998535, 0.7931149005889893, 0.8000071048736572, 0.7922587394714355, 0.8010532855987549, 0.7927961349487305, 0.7876195907592773, 0.7970883846282959, 0.7963566780090332, 0.785879373550415, 0.7906038761138916, 0.7751939296722412, 0.7841708660125732, 0.7895739078521729, 0.7906091213226318, 0.7870376110076904, 0.8000235557556152, 0.779571533203125, 0.7859795093536377, 0.7773518562316895, 0.7899472713470459, 0.774277925491333, 0.7927072048187256, 0.792931318283081, 0.7690820693969727, 0.7863824367523193, 0.7825555801391602, 0.7917876243591309, 0.795891284942627, 0.7959656715393066, 0.7864758968353271, 28.248891592025757, 0.8082411289215088, 0.8074984550476074, 0.7884266376495361, 0.7894654273986816, 0.7950601577758789, 0.788964033126831, 0.7846484184265137, 0.7845573425292969, 0.7848422527313232, 0.7796363830566406, 0.7881059646606445, 0.785294771194458, 0.7801849842071533, 0.78487229347229, 0.7914795875549316, 0.7923343181610107, 0.7775428295135498, 0.7915606498718262, 0.7946267127990723, 0.7777345180511475, 0.788820743560791, 0.7854185104370117, 0.7845785617828369, 0.7843587398529053, 0.7950756549835205, 0.7746284008026123, 0.7858469486236572, 0.7807650566101074, 0.7855467796325684, 0.7810442447662354, 0.7829086780548096, 0.7952935695648193, 0.7917964458465576, 0.7800064086914062, 0.7823760509490967, 0.7827785015106201, 0.786381721496582, 0.786729097366333, 0.8019487857818604, 28.734870672225952, 0.796980619430542, 0.7940995693206787, 0.7978515625, 0.7918224334716797, 0.8030650615692139, 0.7818377017974854, 0.7770745754241943, 0.7835288047790527, 0.8032486438751221, 0.7771108150482178, 0.7857494354248047, 0.7821061611175537, 0.7899370193481445, 0.7877943515777588, 0.7814700603485107, 0.7798004150390625, 0.8014371395111084, 0.7859489917755127, 0.7903945446014404, 0.7912096977233887, 0.7862863540649414, 0.7813963890075684, 0.7900927066802979, 0.7991621494293213, 0.7826168537139893, 0.7923309803009033, 0.7850193977355957, 0.7788898944854736, 0.8468668460845947, 0.7910952568054199, 0.8273470401763916, 0.7829086780548096, 0.7921395301818848, 0.7993378639221191, 0.79508376121521, 0.7876653671264648, 0.7882299423217773, 0.7895457744598389, 0.7921552658081055, 28.929960250854492, 0.8093652725219727, 0.7840156555175781, 0.7705078125, 0.7869737148284912, 0.8013367652893066, 0.8099722862243652, 0.7942624092102051, 0.7959372997283936, 0.8178975582122803, 0.8001036643981934, 0.8208928108215332, 0.7971763610839844, 0.787790060043335, 0.7911550998687744, 0.7913501262664795, 0.7775392532348633, 0.7895631790161133, 0.7713446617126465, 0.8211021423339844, 0.8151004314422607, 0.7693233489990234, 0.7925682067871094, 0.7894330024719238, 0.7955114841461182, 0.7907967567443848, 0.8032336235046387, 0.7963838577270508, 0.8046929836273193, 0.7828054428100586, 0.799405574798584, 0.7844893932342529, 0.793464183807373, 0.7716846466064453, 0.7887284755706787, 0.7862663269042969, 0.789233922958374, 0.7822990417480469, 0.7925512790679932, 0.7708330154418945], \"yaxis\": \"y\"}],                        {\"legend\": {\"tracegroupgap\": 0}, \"margin\": {\"t\": 60}, \"template\": {\"data\": {\"bar\": [{\"error_x\": {\"color\": \"#2a3f5f\"}, \"error_y\": {\"color\": \"#2a3f5f\"}, \"marker\": {\"line\": {\"color\": \"#E5ECF6\", \"width\": 0.5}}, \"type\": \"bar\"}], \"barpolar\": [{\"marker\": {\"line\": {\"color\": \"#E5ECF6\", \"width\": 0.5}}, \"type\": \"barpolar\"}], \"carpet\": [{\"aaxis\": {\"endlinecolor\": \"#2a3f5f\", \"gridcolor\": \"white\", \"linecolor\": \"white\", \"minorgridcolor\": \"white\", \"startlinecolor\": \"#2a3f5f\"}, \"baxis\": {\"endlinecolor\": \"#2a3f5f\", \"gridcolor\": \"white\", \"linecolor\": \"white\", \"minorgridcolor\": \"white\", \"startlinecolor\": \"#2a3f5f\"}, \"type\": \"carpet\"}], \"choropleth\": [{\"colorbar\": {\"outlinewidth\": 0, \"ticks\": \"\"}, \"type\": \"choropleth\"}], \"contour\": [{\"colorbar\": {\"outlinewidth\": 0, \"ticks\": \"\"}, \"colorscale\": [[0.0, \"#0d0887\"], [0.1111111111111111, \"#46039f\"], [0.2222222222222222, \"#7201a8\"], [0.3333333333333333, \"#9c179e\"], [0.4444444444444444, \"#bd3786\"], [0.5555555555555556, \"#d8576b\"], [0.6666666666666666, \"#ed7953\"], [0.7777777777777778, \"#fb9f3a\"], [0.8888888888888888, \"#fdca26\"], [1.0, \"#f0f921\"]], \"type\": \"contour\"}], \"contourcarpet\": [{\"colorbar\": {\"outlinewidth\": 0, \"ticks\": \"\"}, \"type\": \"contourcarpet\"}], \"heatmap\": [{\"colorbar\": {\"outlinewidth\": 0, \"ticks\": \"\"}, \"colorscale\": [[0.0, \"#0d0887\"], [0.1111111111111111, \"#46039f\"], [0.2222222222222222, \"#7201a8\"], [0.3333333333333333, \"#9c179e\"], [0.4444444444444444, \"#bd3786\"], [0.5555555555555556, \"#d8576b\"], [0.6666666666666666, \"#ed7953\"], [0.7777777777777778, \"#fb9f3a\"], [0.8888888888888888, \"#fdca26\"], [1.0, \"#f0f921\"]], \"type\": \"heatmap\"}], \"heatmapgl\": [{\"colorbar\": {\"outlinewidth\": 0, \"ticks\": \"\"}, \"colorscale\": [[0.0, \"#0d0887\"], [0.1111111111111111, \"#46039f\"], [0.2222222222222222, \"#7201a8\"], [0.3333333333333333, \"#9c179e\"], [0.4444444444444444, \"#bd3786\"], [0.5555555555555556, \"#d8576b\"], [0.6666666666666666, \"#ed7953\"], [0.7777777777777778, \"#fb9f3a\"], [0.8888888888888888, \"#fdca26\"], [1.0, \"#f0f921\"]], \"type\": \"heatmapgl\"}], \"histogram\": [{\"marker\": {\"colorbar\": {\"outlinewidth\": 0, \"ticks\": \"\"}}, \"type\": \"histogram\"}], \"histogram2d\": [{\"colorbar\": {\"outlinewidth\": 0, \"ticks\": \"\"}, \"colorscale\": [[0.0, \"#0d0887\"], [0.1111111111111111, \"#46039f\"], [0.2222222222222222, \"#7201a8\"], [0.3333333333333333, \"#9c179e\"], [0.4444444444444444, \"#bd3786\"], [0.5555555555555556, \"#d8576b\"], [0.6666666666666666, \"#ed7953\"], [0.7777777777777778, \"#fb9f3a\"], [0.8888888888888888, \"#fdca26\"], [1.0, \"#f0f921\"]], \"type\": \"histogram2d\"}], \"histogram2dcontour\": [{\"colorbar\": {\"outlinewidth\": 0, \"ticks\": \"\"}, \"colorscale\": [[0.0, \"#0d0887\"], [0.1111111111111111, \"#46039f\"], [0.2222222222222222, \"#7201a8\"], [0.3333333333333333, \"#9c179e\"], [0.4444444444444444, \"#bd3786\"], [0.5555555555555556, \"#d8576b\"], [0.6666666666666666, \"#ed7953\"], [0.7777777777777778, \"#fb9f3a\"], [0.8888888888888888, \"#fdca26\"], [1.0, \"#f0f921\"]], \"type\": \"histogram2dcontour\"}], \"mesh3d\": [{\"colorbar\": {\"outlinewidth\": 0, \"ticks\": \"\"}, \"type\": \"mesh3d\"}], \"parcoords\": [{\"line\": {\"colorbar\": {\"outlinewidth\": 0, \"ticks\": \"\"}}, \"type\": \"parcoords\"}], \"pie\": [{\"automargin\": true, \"type\": \"pie\"}], \"scatter\": [{\"marker\": {\"colorbar\": {\"outlinewidth\": 0, \"ticks\": \"\"}}, \"type\": \"scatter\"}], \"scatter3d\": [{\"line\": {\"colorbar\": {\"outlinewidth\": 0, \"ticks\": \"\"}}, \"marker\": {\"colorbar\": {\"outlinewidth\": 0, \"ticks\": \"\"}}, \"type\": \"scatter3d\"}], \"scattercarpet\": [{\"marker\": {\"colorbar\": {\"outlinewidth\": 0, \"ticks\": \"\"}}, \"type\": \"scattercarpet\"}], \"scattergeo\": [{\"marker\": {\"colorbar\": {\"outlinewidth\": 0, \"ticks\": \"\"}}, \"type\": \"scattergeo\"}], \"scattergl\": [{\"marker\": {\"colorbar\": {\"outlinewidth\": 0, \"ticks\": \"\"}}, \"type\": \"scattergl\"}], \"scattermapbox\": [{\"marker\": {\"colorbar\": {\"outlinewidth\": 0, \"ticks\": \"\"}}, \"type\": \"scattermapbox\"}], \"scatterpolar\": [{\"marker\": {\"colorbar\": {\"outlinewidth\": 0, \"ticks\": \"\"}}, \"type\": \"scatterpolar\"}], \"scatterpolargl\": [{\"marker\": {\"colorbar\": {\"outlinewidth\": 0, \"ticks\": \"\"}}, \"type\": \"scatterpolargl\"}], \"scatterternary\": [{\"marker\": {\"colorbar\": {\"outlinewidth\": 0, \"ticks\": \"\"}}, \"type\": \"scatterternary\"}], \"surface\": [{\"colorbar\": {\"outlinewidth\": 0, \"ticks\": \"\"}, \"colorscale\": [[0.0, \"#0d0887\"], [0.1111111111111111, \"#46039f\"], [0.2222222222222222, \"#7201a8\"], [0.3333333333333333, \"#9c179e\"], [0.4444444444444444, \"#bd3786\"], [0.5555555555555556, \"#d8576b\"], [0.6666666666666666, \"#ed7953\"], [0.7777777777777778, \"#fb9f3a\"], [0.8888888888888888, \"#fdca26\"], [1.0, \"#f0f921\"]], \"type\": \"surface\"}], \"table\": [{\"cells\": {\"fill\": {\"color\": \"#EBF0F8\"}, \"line\": {\"color\": \"white\"}}, \"header\": {\"fill\": {\"color\": \"#C8D4E3\"}, \"line\": {\"color\": \"white\"}}, \"type\": \"table\"}]}, \"layout\": {\"annotationdefaults\": {\"arrowcolor\": \"#2a3f5f\", \"arrowhead\": 0, \"arrowwidth\": 1}, \"autotypenumbers\": \"strict\", \"coloraxis\": {\"colorbar\": {\"outlinewidth\": 0, \"ticks\": \"\"}}, \"colorscale\": {\"diverging\": [[0, \"#8e0152\"], [0.1, \"#c51b7d\"], [0.2, \"#de77ae\"], [0.3, \"#f1b6da\"], [0.4, \"#fde0ef\"], [0.5, \"#f7f7f7\"], [0.6, \"#e6f5d0\"], [0.7, \"#b8e186\"], [0.8, \"#7fbc41\"], [0.9, \"#4d9221\"], [1, \"#276419\"]], \"sequential\": [[0.0, \"#0d0887\"], [0.1111111111111111, \"#46039f\"], [0.2222222222222222, \"#7201a8\"], [0.3333333333333333, \"#9c179e\"], [0.4444444444444444, \"#bd3786\"], [0.5555555555555556, \"#d8576b\"], [0.6666666666666666, \"#ed7953\"], [0.7777777777777778, \"#fb9f3a\"], [0.8888888888888888, \"#fdca26\"], [1.0, \"#f0f921\"]], \"sequentialminus\": [[0.0, \"#0d0887\"], [0.1111111111111111, \"#46039f\"], [0.2222222222222222, \"#7201a8\"], [0.3333333333333333, \"#9c179e\"], [0.4444444444444444, \"#bd3786\"], [0.5555555555555556, \"#d8576b\"], [0.6666666666666666, \"#ed7953\"], [0.7777777777777778, \"#fb9f3a\"], [0.8888888888888888, \"#fdca26\"], [1.0, \"#f0f921\"]]}, \"colorway\": [\"#636efa\", \"#EF553B\", \"#00cc96\", \"#ab63fa\", \"#FFA15A\", \"#19d3f3\", \"#FF6692\", \"#B6E880\", \"#FF97FF\", \"#FECB52\"], \"font\": {\"color\": \"#2a3f5f\"}, \"geo\": {\"bgcolor\": \"white\", \"lakecolor\": \"white\", \"landcolor\": \"#E5ECF6\", \"showlakes\": true, \"showland\": true, \"subunitcolor\": \"white\"}, \"hoverlabel\": {\"align\": \"left\"}, \"hovermode\": \"closest\", \"mapbox\": {\"style\": \"light\"}, \"paper_bgcolor\": \"white\", \"plot_bgcolor\": \"#E5ECF6\", \"polar\": {\"angularaxis\": {\"gridcolor\": \"white\", \"linecolor\": \"white\", \"ticks\": \"\"}, \"bgcolor\": \"#E5ECF6\", \"radialaxis\": {\"gridcolor\": \"white\", \"linecolor\": \"white\", \"ticks\": \"\"}}, \"scene\": {\"xaxis\": {\"backgroundcolor\": \"#E5ECF6\", \"gridcolor\": \"white\", \"gridwidth\": 2, \"linecolor\": \"white\", \"showbackground\": true, \"ticks\": \"\", \"zerolinecolor\": \"white\"}, \"yaxis\": {\"backgroundcolor\": \"#E5ECF6\", \"gridcolor\": \"white\", \"gridwidth\": 2, \"linecolor\": \"white\", \"showbackground\": true, \"ticks\": \"\", \"zerolinecolor\": \"white\"}, \"zaxis\": {\"backgroundcolor\": \"#E5ECF6\", \"gridcolor\": \"white\", \"gridwidth\": 2, \"linecolor\": \"white\", \"showbackground\": true, \"ticks\": \"\", \"zerolinecolor\": \"white\"}}, \"shapedefaults\": {\"line\": {\"color\": \"#2a3f5f\"}}, \"ternary\": {\"aaxis\": {\"gridcolor\": \"white\", \"linecolor\": \"white\", \"ticks\": \"\"}, \"baxis\": {\"gridcolor\": \"white\", \"linecolor\": \"white\", \"ticks\": \"\"}, \"bgcolor\": \"#E5ECF6\", \"caxis\": {\"gridcolor\": \"white\", \"linecolor\": \"white\", \"ticks\": \"\"}}, \"title\": {\"x\": 0.05}, \"xaxis\": {\"automargin\": true, \"gridcolor\": \"white\", \"linecolor\": \"white\", \"ticks\": \"\", \"title\": {\"standoff\": 15}, \"zerolinecolor\": \"white\", \"zerolinewidth\": 2}, \"yaxis\": {\"automargin\": true, \"gridcolor\": \"white\", \"linecolor\": \"white\", \"ticks\": \"\", \"title\": {\"standoff\": 15}, \"zerolinecolor\": \"white\", \"zerolinewidth\": 2}}}, \"xaxis\": {\"anchor\": \"y\", \"domain\": [0.0, 1.0], \"title\": {\"text\": \"x\"}}, \"yaxis\": {\"anchor\": \"x\", \"domain\": [0.0, 1.0], \"title\": {\"text\": \"y\"}}},                        {\"responsive\": true}                    ).then(function(){\n",
       "                            \n",
       "var gd = document.getElementById('8cd8f3d8-a084-4cb5-948e-38a9b3bea94f');\n",
       "var x = new MutationObserver(function (mutations, observer) {{\n",
       "        var display = window.getComputedStyle(gd).display;\n",
       "        if (!display || display === 'none') {{\n",
       "            console.log([gd, 'removed!']);\n",
       "            Plotly.purge(gd);\n",
       "            observer.disconnect();\n",
       "        }}\n",
       "}});\n",
       "\n",
       "// Listen for the removal of the full notebook cells\n",
       "var notebookContainer = gd.closest('#notebook-container');\n",
       "if (notebookContainer) {{\n",
       "    x.observe(notebookContainer, {childList: true});\n",
       "}}\n",
       "\n",
       "// Listen for the clearing of the current output cell\n",
       "var outputEl = gd.closest('.output');\n",
       "if (outputEl) {{\n",
       "    x.observe(outputEl, {childList: true});\n",
       "}}\n",
       "\n",
       "                        })                };                });            </script>        </div>"
      ]
     },
     "metadata": {},
     "output_type": "display_data"
    }
   ],
   "source": [
    "keys = time_itr_dict.keys()\n",
    "values = time_itr_dict.values()\n",
    "\n",
    "px.line(x=keys,y=values)"
   ]
  },
  {
   "cell_type": "code",
   "execution_count": 90,
   "metadata": {},
   "outputs": [
    {
     "name": "stdout",
     "output_type": "stream",
     "text": [
      "On branch master\r\n",
      "Changes not staged for commit:\r\n",
      "  (use \"git add/rm <file>...\" to update what will be committed)\r\n",
      "  (use \"git restore <file>...\" to discard changes in working directory)\r\n",
      "\t\u001b[31mdeleted:    Clustering-algorithm-single-core-(multiple-values-of-gamma)-blocking-approach.ipynb\u001b[m\r\n",
      "\t\u001b[31mdeleted:    Clustering-algorithm-single-core-(multiple-values-of-gamma).ipynb\u001b[m\r\n",
      "\r\n",
      "Untracked files:\r\n",
      "  (use \"git add <file>...\" to include in what will be committed)\r\n",
      "\t\u001b[31m../CV.pdf\u001b[m\r\n",
      "\t\u001b[31m.ipynb_checkpoints/\u001b[m\r\n",
      "\t\u001b[31mClustering-algorithm-Erlich-(q=3-num_blocks=2).ipynb\u001b[m\r\n",
      "\t\u001b[31mClustering-algorithm-sample.html\u001b[m\r\n",
      "\t\u001b[31mClustering-algorithm-sample.ipynb\u001b[m\r\n",
      "\t\u001b[31mErlichDesign.csv\u001b[m\r\n",
      "\t\u001b[31mLuisDesign.txt\u001b[m\r\n",
      "\t\u001b[31macrcy_dict1_sample.json\u001b[m\r\n",
      "\t\u001b[31macrcy_dict2_sample.json\u001b[m\r\n",
      "\t\u001b[31macrcy_dict3_sample.json\u001b[m\r\n",
      "\t\u001b[31macrcy_dict4_sample.json\u001b[m\r\n",
      "\t\u001b[31macrcy_dict5_sample.json\u001b[m\r\n",
      "\t\u001b[31macrcy_dict6_sample.json\u001b[m\r\n",
      "\t\u001b[31macrcy_dict_20,45,15,0.6,720_clstr_dict-Erlich-cut(q=4).json\u001b[m\r\n",
      "\t\u001b[31macrcy_dict_20,45,15,0.8,720_clstr_dict-Erlich-cut(q=4).json\u001b[m\r\n",
      "\t\u001b[31macrcy_dict_20,45,15,0.9,720_clstr_dict-Erlich-cut(q=4).json\u001b[m\r\n",
      "\t\u001b[31macrcy_dict_20,45,15,0.95,720_clstr_dict-Erlich-cut(q=4).json\u001b[m\r\n",
      "\t\u001b[31macrcy_dict_20,45,15,0.99,720_clstr_dict-Erlich-cut(q=4).json\u001b[m\r\n",
      "\t\u001b[31macrcy_dict_20,45,15,1,720_clstr_dict-Erlich-cut(q=4).json\u001b[m\r\n",
      "\t\u001b[31mbin_sig_arr_erlich.pickle\u001b[m\r\n",
      "\t\u001b[31mbin_sig_arr_erlich_block_approach.pickle\u001b[m\r\n",
      "\t\u001b[31mbin_sig_arr_erlich_cut_(q=4).pickle\u001b[m\r\n",
      "\t\u001b[31mbin_sig_arr_sample.pickle\u001b[m\r\n",
      "\t\u001b[31merr_shuffled_erlich.pickle\u001b[m\r\n",
      "\t\u001b[31merrors_shuffled.txt\u001b[m\r\n",
      "\t\u001b[31mevyaErlich.txt\u001b[m\r\n",
      "\t\u001b[31mevyaLuis.txt\u001b[m\r\n",
      "\t\u001b[31mevyat.txt\u001b[m\r\n",
      "\t\u001b[31mnips-2017-camera-long.pdf\u001b[m\r\n",
      "\t\u001b[31mtargetBlawat et al.LDPC.txt\u001b[m\r\n",
      "\t\u001b[31mtime_acrcy_dict_sample.json\u001b[m\r\n",
      "\t\u001b[31mtime_itr_dict_20,45,15,720_clstr_dict-Erlich-cut(q=4).json\u001b[m\r\n",
      "\t\u001b[31mtime_itr_dict_sample.json\u001b[m\r\n",
      "\t\u001b[31m../DNACodes_Survey.pdf\u001b[m\r\n",
      "\t\u001b[31m../Scaling of Errors with cluster size/\u001b[m\r\n",
      "\r\n",
      "no changes added to commit (use \"git add\" and/or \"git commit -a\")\r\n"
     ]
    }
   ],
   "source": [
    " !git status "
   ]
  },
  {
   "cell_type": "code",
   "execution_count": 91,
   "metadata": {},
   "outputs": [],
   "source": [
    "!git add Clustering-algorithm-sample.ipynb"
   ]
  },
  {
   "cell_type": "code",
   "execution_count": 65,
   "metadata": {},
   "outputs": [],
   "source": [
    "!git add -u && git status && git commit -m \"Samp\" && git push origin master "
   ]
  },
  {
   "cell_type": "code",
   "execution_count": null,
   "metadata": {},
   "outputs": [],
   "source": []
  }
 ],
 "metadata": {
  "kernelspec": {
   "display_name": "Python 3",
   "language": "python",
   "name": "python3"
  },
  "language_info": {
   "codemirror_mode": {
    "name": "ipython",
    "version": 3
   },
   "file_extension": ".py",
   "mimetype": "text/x-python",
   "name": "python",
   "nbconvert_exporter": "python",
   "pygments_lexer": "ipython3",
   "version": "3.8.5"
  }
 },
 "nbformat": 4,
 "nbformat_minor": 4
}
