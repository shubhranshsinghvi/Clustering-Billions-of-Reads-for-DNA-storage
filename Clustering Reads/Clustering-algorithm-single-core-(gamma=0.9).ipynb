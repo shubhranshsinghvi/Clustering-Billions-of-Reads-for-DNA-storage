{
 "cells": [
  {
   "cell_type": "code",
   "execution_count": 3,
   "metadata": {},
   "outputs": [],
   "source": [
    "import numpy as np\n",
    "import pandas as pd \n",
    "import string\n",
    "import random\n",
    "import csv\n",
    "import time\n",
    "import math\n",
    "import multiset \n",
    "import plotly.express as px\n",
    "import json "
   ]
  },
  {
   "cell_type": "markdown",
   "metadata": {},
   "source": [
    "## Reading Data Files "
   ]
  },
  {
   "cell_type": "code",
   "execution_count": 4,
   "metadata": {},
   "outputs": [],
   "source": [
    "# The target file includes the original sequences that encodes the data. \n",
    "with open('targetBlawat et al.LDPC.txt') as f:\n",
    "    reads = f.readlines()\n",
    "for i in range(0,len(reads)):\n",
    "    reads[i] = reads[i][0:len(reads[i])-1]\n",
    "# reads "
   ]
  },
  {
   "cell_type": "code",
   "execution_count": 5,
   "metadata": {},
   "outputs": [
    {
     "data": {
      "text/plain": [
       "9608"
      ]
     },
     "execution_count": 5,
     "metadata": {},
     "output_type": "execute_result"
    }
   ],
   "source": [
    "np.size(reads)"
   ]
  },
  {
   "cell_type": "code",
   "execution_count": 6,
   "metadata": {},
   "outputs": [],
   "source": [
    "# The errors_shuffled file include the erroneous copies shuffled. \n",
    "with open('errors_shuffled.txt') as f:\n",
    "    reads_err = f.readlines()\n",
    "for i in range(0,len(reads_err)):\n",
    "#     reads_err[i] = reads_err[i][0:len(reads_err[i])-1]\n",
    "    reads_err[i] = reads_err[i].strip()\n",
    "# reads_err"
   ]
  },
  {
   "cell_type": "code",
   "execution_count": 7,
   "metadata": {},
   "outputs": [
    {
     "data": {
      "text/plain": [
       "1161706"
      ]
     },
     "execution_count": 7,
     "metadata": {},
     "output_type": "execute_result"
    }
   ],
   "source": [
    "np.size(reads_err)"
   ]
  },
  {
   "cell_type": "code",
   "execution_count": 8,
   "metadata": {},
   "outputs": [],
   "source": [
    "# evyat.txt include the erroneous copies clustered and labeled. \n",
    "with open('evyat.txt') as f:\n",
    "    reads_cl = f.readlines()\n",
    "for i in range(0,len(reads_cl)):\n",
    "    reads_cl[i] = reads_cl[i].strip()\n",
    "# reads_cl"
   ]
  },
  {
   "cell_type": "markdown",
   "metadata": {},
   "source": [
    "# Functions\n"
   ]
  },
  {
   "cell_type": "code",
   "execution_count": 9,
   "metadata": {},
   "outputs": [],
   "source": [
    "def hash_fun_ind(x,a,w,l): \n",
    "    cnt = 0 \n",
    "    for i in range(0,len(x)):\n",
    "        if x[i] == a[cnt]:\n",
    "            cnt += 1  \n",
    "        else:\n",
    "            cnt = 0 \n",
    "        if cnt == w:\n",
    "            return i-w+1 \n",
    "    return -1\n",
    "\n",
    "def hash_fun(x,a,w,l):\n",
    "    ind = hash_fun_ind(x,a,w,l)\n",
    "    return x[ind:min(len(x),ind+w+l)]\n",
    "\n",
    "def ind_st(st):\n",
    "    #All 3-grams: AAA,AAG,AAC,AAT,AGA,AGC,...,TTA,TTG,TTC,TTT\n",
    "    # A-0, G-1, C-2, T-3\n",
    "    # index of CAT = Decimal representaion of (203)\n",
    "    N_q = {\"A\":0,\"C\":1,\"G\":2,\"T\":3}\n",
    "    dec = 0\n",
    "    for i in range(0,len(st)):\n",
    "        dec += N_q[st[i]]*(4**(len(st)-i-1))\n",
    "    return dec \n",
    "    \n",
    "def bin_sig(x,q):\n",
    "    bs = [0]*(4**q) \n",
    "    for i in range(0,len(x)-q+1):\n",
    "        st = x[i:i+q]\n",
    "        bs[ind_st(st)] = 1\n",
    "    return bs \n",
    "        \n",
    "def ham_dis(x,y):\n",
    "    dis = 0\n",
    "    for i in range(0,len(x)):\n",
    "        if(x[i]!= y[i]):\n",
    "            dis += 1\n",
    "    return dis \n",
    "\n",
    "def rand_perm(w):\n",
    "    return ''.join(random.choice('ACGT') for _ in range(w))\n",
    "\n",
    "def merge(x,y,parent):\n",
    "    parent[x]= min(parent[x],parent[y])\n",
    "    parent[y]= min(parent[x],parent[y])\n",
    "    return parent\n",
    "    \n",
    "def rep_find(inp,parent):\n",
    "    temp = inp\n",
    "    cnt = 0\n",
    "    while(parent[temp]!=temp and cnt<10):\n",
    "        cnt += 1\n",
    "        temp=parent[temp]\n",
    "    return temp \n",
    "\n",
    "def edit_dis(s1, s2):\n",
    "    m=len(s1)+1\n",
    "    n=len(s2)+1\n",
    "\n",
    "    tbl = {}\n",
    "    for i in range(m): tbl[i,0]=i\n",
    "    for j in range(n): tbl[0,j]=j\n",
    "    for i in range(1, m):\n",
    "        for j in range(1, n):\n",
    "            cost = 0 if s1[i-1] == s2[j-1] else 1\n",
    "            tbl[i,j] = min(tbl[i, j-1]+1, tbl[i-1, j]+1, tbl[i-1, j-1]+cost)\n",
    "\n",
    "    return tbl[i,j]\n",
    "\n",
    "def find_in_arr(el,parent):\n",
    "    cnt = 0\n",
    "    for i in range(0,len(parent)):\n",
    "        if parent[i] == el: \n",
    "            cnt += 1 \n",
    "    return cnt \n",
    "        \n",
    "def readFile(fileName):\n",
    "        fileObj = open(fileName, \"r\") #opens the file in read mode\n",
    "        words = fileObj.read().splitlines() #puts the file into an array\n",
    "        fileObj.close()\n",
    "        for i in range(0,len(words)):\n",
    "            words[i] = int(words[i])\n",
    "        return words\n",
    "\n",
    "def read_file_dict(array):\n",
    "    d = dict(enumerate(array.flatten()))\n",
    "    return d[0]\n",
    "    \n",
    "def display_parent(parent):\n",
    "    clstr = {}\n",
    "    for i in range(0,len(parent)):\n",
    "        clstr[i]=[]\n",
    "    for i in range(0,len(parent)):\n",
    "        clstr[rep_find(i,parent)].append(i)\n",
    "    return clstr\n",
    "\n",
    "def display_parent_ver2(parent,C_til_prev,parent_prev):\n",
    "    clstr = C_til_prev\n",
    "    for i in range(0,len(parent)):\n",
    "        if(parent[i]!=parent_prev[i]):\n",
    "#                 print(i,rep_find(i,parent_prev),clstr[rep_find(i,parent_prev)])\n",
    "            clstr[rep_find(i,parent)].extend(clstr[i])\n",
    "            clstr[rep_find(i,parent_prev)] = []\n",
    "    return clstr"
   ]
  },
  {
   "cell_type": "code",
   "execution_count": 10,
   "metadata": {},
   "outputs": [
    {
     "data": {
      "text/plain": [
       "23"
      ]
     },
     "execution_count": 10,
     "metadata": {},
     "output_type": "execute_result"
    }
   ],
   "source": [
    "q =  3\n",
    "x = \"AACCTCTAGACACACAACTATTAGTACCTATTATAAACACAACATAAGGTCAAGATAAGCAGAGA\"\n",
    "y = \"AACACGAAATAACACACCACGAAGAGACACGACACAACACAACAGAGCACAACAGAGCACAACAC\"\n",
    "ham_dis(bin_sig(x,q),bin_sig(y,q))"
   ]
  },
  {
   "cell_type": "code",
   "execution_count": 11,
   "metadata": {},
   "outputs": [
    {
     "data": {
      "text/plain": [
       "3"
      ]
     },
     "execution_count": 11,
     "metadata": {},
     "output_type": "execute_result"
    }
   ],
   "source": [
    "q"
   ]
  },
  {
   "cell_type": "code",
   "execution_count": 12,
   "metadata": {},
   "outputs": [
    {
     "data": {
      "text/plain": [
       "28"
      ]
     },
     "execution_count": 12,
     "metadata": {},
     "output_type": "execute_result"
    }
   ],
   "source": [
    "edit_dis(x,y)"
   ]
  },
  {
   "cell_type": "code",
   "execution_count": 13,
   "metadata": {},
   "outputs": [
    {
     "data": {
      "text/plain": [
       "7"
      ]
     },
     "execution_count": 13,
     "metadata": {},
     "output_type": "execute_result"
    }
   ],
   "source": [
    "x = reads_err[1]\n",
    "y = reads_err[215]\n",
    "ham_dis(bin_sig(x,q),bin_sig(y,q))"
   ]
  },
  {
   "cell_type": "code",
   "execution_count": 14,
   "metadata": {},
   "outputs": [
    {
     "data": {
      "text/plain": [
       "4"
      ]
     },
     "execution_count": 14,
     "metadata": {},
     "output_type": "execute_result"
    }
   ],
   "source": [
    "edit_dis(x,y)"
   ]
  },
  {
   "cell_type": "markdown",
   "metadata": {},
   "source": [
    "# Clustering Algorithm"
   ]
  },
  {
   "cell_type": "code",
   "execution_count": 15,
   "metadata": {},
   "outputs": [],
   "source": [
    "def rep_in_C(read,C_reps):\n",
    "    lower = 0;\n",
    "    upper = len(C_reps) - 1;\n",
    "    while (lower <= upper):\n",
    "        mid = lower + int((upper - lower) / 2)\n",
    "#         print(upper,mid)\n",
    "        res = -1\n",
    "        if (read == (C_reps[mid][0])):\n",
    "            return C_reps[mid][1]\n",
    "        if (read > (C_reps[mid][0])):\n",
    "            lower = mid + 1;\n",
    "        else:\n",
    "            upper = mid - 1;\n",
    "    return -1;\n",
    "\n",
    "def comp_clstrs(alg_clstr,org_clstr,gamma):\n",
    "    num_exist = 0\n",
    "    if(len(alg_clstr)>len(org_clstr)):\n",
    "#         print(alg_clstr)\n",
    "        return 0 \n",
    "    else:\n",
    "        for i in range(0,len(alg_clstr)):\n",
    "            flg_exist = 0\n",
    "            for j in range(0,len(org_clstr)):\n",
    "                if(reads_err[alg_clstr[i]] == org_clstr[j]):\n",
    "                    flg_exist = 1\n",
    "                    num_exist +=1\n",
    "                    break\n",
    "            if(flg_exist == 0):\n",
    "                return 0\n",
    "        if(num_exist < gamma*len(org_clstr)):\n",
    "            return 0\n",
    "            \n",
    "        return 1 \n",
    "    \n",
    "def calc_acrcy(clustering,C_dict,C_reps,gamma):\n",
    "#     clustering = display_parent(parent)\n",
    "    acrcy = 0\n",
    "    for i in range(0,len(clustering)):\n",
    "        if(len(clustering[i])>=1):\n",
    "            acrcy = acrcy + comp_clstrs(clustering[i],C_dict[rep_in_C(reads_err[clustering[i][0]],C_reps)],gamma)\n",
    "    return acrcy\n",
    "\n",
    "def min_max(val1,val2):\n",
    "    min_val = min(val1,val2)\n",
    "    max_val = max(val1,val2)\n",
    "    return min_val,max_val\n",
    "    "
   ]
  },
  {
   "cell_type": "code",
   "execution_count": 16,
   "metadata": {},
   "outputs": [],
   "source": [
    "# (Read, Cluster rep of the cluster to which the read belongs to)\n",
    "C_reps = []\n",
    "C_dict = {}\n",
    "rep = reads_cl[0]\n",
    "for i in range(1,len(reads_cl)):\n",
    "    if reads_cl[i] != \"\":\n",
    "        if reads_cl[i][0] == \"*\":\n",
    "            if(len(C_reps)>0):\n",
    "                C_dict[rep].pop()\n",
    "                C_reps.pop()\n",
    "            rep=reads_cl[i-1]\n",
    "            C_dict[rep]=[]\n",
    "        else:\n",
    "#             print(C_dict)\n",
    "            C_dict[rep].append(reads_cl[i])\n",
    "            C_reps.append((reads_cl[i],rep))\n",
    "C_reps.sort(key=lambda x:x[0])"
   ]
  },
  {
   "cell_type": "code",
   "execution_count": 17,
   "metadata": {},
   "outputs": [
    {
     "data": {
      "text/plain": [
       "[('AAAAAAACCGGAATATCAATCGAGCGAATGGGATACTACATTAAGGGATATCACTTGATCACAAG',\n",
       "  'AACGAAACCGGAATATCAATCGAGCGAATGGGATACTACATTAAGGGATATCACTTGATCACAAG'),\n",
       " ('AAAAAAAGGTGAACTCGAAGACGTTAACGATATGACCCGTCAATTAAATGACGTATACACTACT',\n",
       "  'AACTAAAGGTGAACTCGAAGATCGTTAACGATATGACCCGTCAATTAAATGACGTATACACTACT'),\n",
       " ('AAAAACACACTCAACGATACCTCTAACGGATAATCCGGTCACTAACATAAGAAGCACGCAAT',\n",
       "  'AACTACAAACACACTCAACGATACTCTAACGGATAATCCGGTCACTAACATAAGAAGCACGCAAT'),\n",
       " ('AAAAACACCAATCAGATAAGAGTATAAGAGATAAGAACATCTACGAATCCACGCAATATGACG',\n",
       "  'AACCAAACACCAATCAGATAAGAGTATAAGAGATAAGAACATCTACGAATCCACGCAATATGACG'),\n",
       " ('AAAAACACTTAGAAACATCAAGAGCAGCATATCTACCTCGAGTCCGTCTGCACACAACGTAGC',\n",
       "  'AACTAAACACTTAGAAACATCAAGAGCAGCATATCAACCTCGAGTCCGTCTGCACACAACGTAGC')]"
      ]
     },
     "execution_count": 17,
     "metadata": {},
     "output_type": "execute_result"
    }
   ],
   "source": [
    "C_reps[0:5]"
   ]
  },
  {
   "cell_type": "code",
   "execution_count": 18,
   "metadata": {},
   "outputs": [
    {
     "data": {
      "text/plain": [
       "['AATCTCTAGACACACAACTATTAGTACCTATTATAAACACAACATAAGGTCAAGATAAGCAGAGA',\n",
       " 'AACCTCTAGACACACAACTATTAGTACCTATTATAAACACAACATAAGGTCAAGATAAGCAGAGA',\n",
       " 'AACCTCTAGACACACAACTATTAGTACCTATTACAAACACAACATAAGGTCAAGATAAGCAGAGA',\n",
       " 'AACCTCTAGACACACAACTATTAGTACCTATTATAAACACAACATAAGGTCAAGATAAGCAGAGA',\n",
       " 'AACCTCTAGACAACACAACTATTAGTACCTATTATAAACACAACATAAGGTCAAGATAAGCAGAGA']"
      ]
     },
     "execution_count": 18,
     "metadata": {},
     "output_type": "execute_result"
    }
   ],
   "source": [
    "C_dict[list(C_dict.keys())[0]][0:5]"
   ]
  },
  {
   "cell_type": "code",
   "execution_count": 19,
   "metadata": {},
   "outputs": [],
   "source": [
    "# Precompute all the binary signatures\n",
    "q = 3\n",
    "bin_sig_arr  = [0]*(len(reads_err))\n",
    "for i in range(0,len(reads_err)):\n",
    "    bin_sig_arr[i]=bin_sig(reads_err[i],q)"
   ]
  },
  {
   "cell_type": "code",
   "execution_count": 39,
   "metadata": {
    "scrolled": true
   },
   "outputs": [
    {
     "name": "stdout",
     "output_type": "stream",
     "text": [
      "15.45773720741272\n",
      "0 157393\n",
      "Accuracy: 0.040383014154870944\n",
      "31.007004022598267\n",
      "1 227996\n",
      "6.942460775375366\n",
      "2 26368\n",
      "9.525096893310547\n",
      "3 73128\n",
      "16.082895517349243\n",
      "4 145812\n",
      "14.806723833084106\n",
      "5 147094\n",
      "7.043916702270508\n",
      "6 45546\n",
      "4.341088056564331\n",
      "7 15000\n",
      "10.400493144989014\n",
      "8 82262\n",
      "7.002124547958374\n",
      "9 43309\n",
      "5.750988960266113\n",
      "10 32049\n",
      "Accuracy: 0.5650499583680266\n",
      "10.280920028686523\n",
      "11 22119\n",
      "3.047398805618286\n",
      "12 11411\n",
      "4.283706426620483\n",
      "13 21150\n",
      "3.0793333053588867\n",
      "14 10558\n",
      "2.6242516040802\n",
      "15 8288\n",
      "2.6016595363616943\n",
      "16 7308\n",
      "2.5363049507141113\n",
      "17 6508\n",
      "2.7517378330230713\n",
      "18 9276\n",
      "1.6707422733306885\n",
      "19 2952\n",
      "4.188446283340454\n",
      "20 15906\n",
      "Accuracy: 0.8331598667776853\n",
      "6.901150226593018\n",
      "21 4579\n",
      "1.9147279262542725\n",
      "22 3842\n",
      "2.013178586959839\n",
      "23 4098\n",
      "1.768744945526123\n",
      "24 2559\n",
      "1.545722484588623\n",
      "25 2440\n",
      "1.8054633140563965\n",
      "26 3188\n",
      "1.8545324802398682\n",
      "27 3087\n",
      "1.1081087589263916\n",
      "28 502\n",
      "1.8523929119110107\n",
      "29 2481\n",
      "1.5186996459960938\n",
      "30 1790\n",
      "Accuracy: 0.9486885928393006\n",
      "5.778714656829834\n",
      "31 813\n",
      "0.9951179027557373\n",
      "32 136\n",
      "1.1162121295928955\n",
      "33 402\n",
      "1.41353440284729\n",
      "34 1354\n",
      "0.965059757232666\n",
      "35 100\n",
      "1.230900764465332\n",
      "36 779\n",
      "1.0384163856506348\n",
      "37 316\n",
      "0.9163057804107666\n",
      "38 0\n",
      "0.9902386665344238\n",
      "39 219\n",
      "1.193451166152954\n",
      "40 738\n",
      "Accuracy: 0.9779350541215653\n",
      "5.351526975631714\n",
      "41 46\n",
      "1.178760051727295\n",
      "42 668\n",
      "0.9751389026641846\n",
      "43 138\n",
      "1.0821890830993652\n",
      "44 417\n",
      "0.9119241237640381\n",
      "45 37\n",
      "1.1264092922210693\n",
      "46 472\n",
      "0.9920668601989746\n",
      "47 267\n",
      "1.0539093017578125\n",
      "48 469\n",
      "0.9719390869140625\n",
      "49 209\n",
      "1.0778584480285645\n",
      "50 364\n",
      "Accuracy: 0.9915695253955037\n",
      "5.273436069488525\n",
      "51 96\n",
      "0.9043936729431152\n",
      "52 33\n",
      "0.9685258865356445\n",
      "53 211\n",
      "0.9400758743286133\n",
      "54 151\n",
      "1.0605883598327637\n",
      "55 325\n",
      "0.8854012489318848\n",
      "56 6\n",
      "0.9772062301635742\n",
      "57 182\n",
      "0.9781482219696045\n",
      "58 146\n",
      "0.9222633838653564\n",
      "59 37\n",
      "0.9529268741607666\n",
      "60 138\n",
      "Accuracy: 0.9964612822647794\n",
      "5.264984369277954\n",
      "61 150\n",
      "0.9807181358337402\n",
      "62 153\n",
      "0.9571576118469238\n",
      "63 117\n",
      "0.9259774684906006\n",
      "64 99\n",
      "0.962242603302002\n",
      "65 286\n",
      "0.8753526210784912\n",
      "66 7\n",
      "0.983102560043335\n",
      "67 165\n",
      "0.943112850189209\n",
      "68 25\n",
      "0.8922061920166016\n",
      "69 25\n",
      "0.9230954647064209\n",
      "70 68\n",
      "Accuracy: 0.9984388009991674\n",
      "5.191206455230713\n",
      "71 16\n",
      "0.9166202545166016\n",
      "72 52\n",
      "0.9446609020233154\n",
      "73 86\n",
      "0.921065092086792\n",
      "74 88\n",
      "0.913555383682251\n",
      "75 63\n",
      "0.8892958164215088\n",
      "76 19\n",
      "0.8978471755981445\n",
      "77 27\n",
      "0.9172470569610596\n",
      "78 9\n",
      "0.8642759323120117\n",
      "79 0\n",
      "0.9107279777526855\n",
      "80 8\n",
      "Accuracy: 0.9994796003330558\n",
      "5.201963663101196\n",
      "81 21\n",
      "0.8814160823822021\n",
      "82 17\n",
      "0.913175106048584\n",
      "83 47\n",
      "0.8739345073699951\n",
      "84 22\n",
      "2.583089590072632\n",
      "85 3\n",
      "0.9146623611450195\n",
      "86 42\n",
      "0.8944973945617676\n",
      "87 32\n",
      "0.8872179985046387\n",
      "88 5\n",
      "0.9076621532440186\n",
      "89 39\n",
      "0.9599943161010742\n",
      "90 89\n",
      "Accuracy: 0.9996877601998335\n",
      "5.205148696899414\n",
      "91 24\n",
      "0.8713645935058594\n",
      "92 2\n",
      "0.9066386222839355\n",
      "93 32\n",
      "0.8936276435852051\n",
      "94 27\n",
      "0.8920884132385254\n",
      "95 36\n",
      "0.8589005470275879\n",
      "96 2\n",
      "0.9116020202636719\n",
      "97 28\n",
      "0.8889577388763428\n",
      "98 4\n",
      "0.9001388549804688\n",
      "99 10\n",
      "0.9182412624359131\n",
      "100 54\n",
      "Accuracy: 0.9996877601998335\n",
      "5.221342325210571\n",
      "101 24\n",
      "0.8824968338012695\n",
      "102 8\n",
      "0.875725507736206\n",
      "103 5\n",
      "0.8913123607635498\n",
      "104 26\n",
      "0.9424030780792236\n",
      "105 90\n",
      "0.8637175559997559\n",
      "106 2\n",
      "0.8826875686645508\n",
      "107 17\n",
      "0.8821713924407959\n",
      "108 12\n",
      "0.883450984954834\n",
      "109 10\n",
      "0.8799526691436768\n",
      "110 13\n",
      "Accuracy: 0.9998959200666112\n",
      "5.194474697113037\n",
      "111 1\n",
      "0.8828034400939941\n",
      "112 7\n",
      "0.8731369972229004\n",
      "113 3\n",
      "0.8907010555267334\n",
      "114 20\n",
      "0.8779458999633789\n",
      "115 5\n",
      "0.8669106960296631\n",
      "116 8\n",
      "0.8843953609466553\n",
      "117 13\n",
      "0.8616399765014648\n",
      "118 1\n",
      "0.8716175556182861\n",
      "119 5\n",
      "0.8599424362182617\n",
      "120 1\n",
      "Accuracy: 0.9998959200666112\n",
      "5.262112855911255\n",
      "121 7\n",
      "0.8861870765686035\n",
      "122 5\n",
      "0.8693561553955078\n",
      "123 12\n",
      "0.8806006908416748\n",
      "124 3\n",
      "0.8860597610473633\n",
      "125 13\n",
      "0.8695671558380127\n",
      "126 2\n",
      "0.8900806903839111\n",
      "127 25\n",
      "0.9259510040283203\n",
      "128 7\n",
      "0.8734409809112549\n",
      "129 3\n",
      "0.886754035949707\n",
      "130 11\n",
      "Accuracy: 0.9998959200666112\n",
      "5.222658634185791\n",
      "131 17\n",
      "0.8845388889312744\n",
      "132 6\n",
      "0.8664939403533936\n",
      "133 1\n",
      "0.9012861251831055\n",
      "134 8\n",
      "0.8875746726989746\n",
      "135 8\n",
      "0.8616440296173096\n",
      "136 0\n",
      "0.861572265625\n",
      "137 4\n",
      "0.8708906173706055\n",
      "138 2\n",
      "0.8778591156005859\n",
      "139 7\n",
      "0.8700940608978271\n",
      "140 1\n",
      "Accuracy: 1.0\n",
      "5.183769941329956\n",
      "141 1\n",
      "0.8680801391601562\n",
      "142 1\n",
      "0.884401798248291\n",
      "143 4\n",
      "0.8635392189025879\n",
      "144 1\n",
      "0.8912804126739502\n",
      "145 10\n",
      "0.8871686458587646\n",
      "146 7\n",
      "0.8625872135162354\n",
      "147 0\n",
      "0.8709108829498291\n",
      "148 1\n",
      "0.8703515529632568\n",
      "149 2\n",
      "0.8801546096801758\n",
      "150 6\n",
      "Accuracy: 1.0\n",
      "5.216851234436035\n",
      "151 3\n",
      "0.8775360584259033\n",
      "152 6\n",
      "0.8691248893737793\n",
      "153 3\n",
      "0.8595757484436035\n",
      "154 2\n",
      "0.86370849609375\n",
      "155 0\n",
      "0.8637828826904297\n",
      "156 0\n",
      "0.8707826137542725\n",
      "157 0\n",
      "0.8682403564453125\n",
      "158 1\n",
      "0.917802095413208\n",
      "159 6\n",
      "0.8691258430480957\n",
      "160 0\n",
      "Accuracy: 1.0\n",
      "5.181887865066528\n",
      "161 0\n",
      "0.8857390880584717\n",
      "162 1\n",
      "0.8703558444976807\n",
      "163 0\n",
      "0.8667020797729492\n",
      "164 0\n",
      "0.8676388263702393\n",
      "165 1\n",
      "0.8758773803710938\n",
      "166 3\n",
      "0.873490571975708\n",
      "167 3\n",
      "0.8749771118164062\n",
      "168 1\n",
      "0.8628053665161133\n",
      "169 1\n",
      "0.8698697090148926\n",
      "170 1\n",
      "Accuracy: 1.0\n",
      "5.200871706008911\n",
      "171 2\n",
      "0.8849971294403076\n",
      "172 2\n",
      "0.8736865520477295\n",
      "173 0\n",
      "0.8749077320098877\n",
      "174 4\n",
      "0.8686554431915283\n",
      "175 3\n",
      "0.8910212516784668\n",
      "176 1\n",
      "0.8894553184509277\n",
      "177 3\n",
      "0.8722662925720215\n",
      "178 3\n",
      "0.9285500049591064\n",
      "179 7\n",
      "0.8800079822540283\n",
      "180 0\n",
      "Accuracy: 1.0\n",
      "5.1854567527771\n",
      "181 1\n",
      "0.8877158164978027\n",
      "182 4\n",
      "0.8712520599365234\n",
      "183 4\n",
      "0.8659553527832031\n",
      "184 1\n",
      "0.8648579120635986\n",
      "185 2\n",
      "0.8696010112762451\n",
      "186 0\n",
      "0.87076735496521\n",
      "187 0\n",
      "0.8734676837921143\n",
      "188 2\n",
      "0.8684124946594238\n",
      "189 2\n",
      "0.8665969371795654\n",
      "190 1\n",
      "Accuracy: 1.0\n",
      "5.200244426727295\n",
      "191 1\n",
      "0.8812685012817383\n",
      "192 2\n",
      "0.8671646118164062\n",
      "193 1\n",
      "0.8776836395263672\n",
      "194 3\n",
      "0.871873140335083\n",
      "195 3\n",
      "0.8678529262542725\n",
      "196 0\n",
      "0.8742568492889404\n",
      "197 1\n",
      "0.8700847625732422\n",
      "198 0\n",
      "0.8600418567657471\n",
      "199 0\n",
      "0.8630986213684082\n",
      "200 0\n",
      "Accuracy: 1.0\n",
      "5.208820104598999\n",
      "201 4\n",
      "0.8741645812988281\n",
      "202 1\n",
      "0.8933818340301514\n",
      "203 0\n",
      "0.8756308555603027\n",
      "204 1\n",
      "0.9064362049102783\n",
      "205 1\n",
      "0.8985109329223633\n",
      "206 1\n",
      "0.8653817176818848\n",
      "207 1\n",
      "0.8614945411682129\n",
      "208 0\n",
      "0.8665463924407959\n",
      "209 1\n",
      "0.8639340400695801\n",
      "210 0\n",
      "Accuracy: 1.0\n",
      "5.171176433563232\n",
      "211 0\n",
      "0.8848469257354736\n",
      "212 5\n",
      "0.8707256317138672\n",
      "213 1\n",
      "0.8599269390106201\n",
      "214 0\n",
      "0.887631893157959\n",
      "215 4\n",
      "0.8839819431304932\n",
      "216 2\n",
      "0.8565824031829834\n",
      "217 2\n",
      "0.8661270141601562\n",
      "218 1\n",
      "0.9004483222961426\n",
      "219 0\n",
      "0.8544046878814697\n",
      "220 0\n",
      "Accuracy: 1.0\n",
      "5.189716100692749\n",
      "221 0\n",
      "0.8720817565917969\n",
      "222 0\n",
      "0.8722379207611084\n",
      "223 1\n",
      "0.8645799160003662\n",
      "224 0\n",
      "0.8675899505615234\n",
      "225 1\n",
      "0.8963932991027832\n",
      "226 0\n",
      "0.8670053482055664\n",
      "227 0\n",
      "0.8742492198944092\n",
      "228 3\n",
      "0.8687059879302979\n",
      "229 0\n",
      "0.8624069690704346\n",
      "230 0\n",
      "Accuracy: 1.0\n",
      "5.161774396896362\n",
      "231 0\n",
      "0.8676557540893555\n",
      "232 0\n",
      "0.8814826011657715\n",
      "233 9\n",
      "0.8586788177490234\n",
      "234 1\n",
      "0.8770506381988525\n",
      "235 1\n",
      "0.8626143932342529\n",
      "236 0\n",
      "0.8763017654418945\n",
      "237 1\n",
      "0.863011360168457\n",
      "238 0\n",
      "0.8739268779754639\n",
      "239 0\n",
      "0.8609127998352051\n",
      "240 0\n",
      "Accuracy: 1.0\n",
      "5.158374786376953\n",
      "241 0\n",
      "0.8738865852355957\n",
      "242 0\n",
      "0.8659143447875977\n",
      "243 0\n",
      "0.863739013671875\n",
      "244 0\n",
      "0.9088165760040283\n",
      "245 2\n",
      "0.9103751182556152\n",
      "246 0\n",
      "0.8781547546386719\n",
      "247 1\n",
      "0.8789498805999756\n",
      "248 0\n",
      "0.875683069229126\n",
      "249 2\n",
      "0.8682746887207031\n",
      "250 1\n",
      "Accuracy: 1.0\n",
      "5.177421569824219\n",
      "251 3\n",
      "0.8731682300567627\n",
      "252 1\n",
      "0.8658430576324463\n",
      "253 0\n",
      "0.8668739795684814\n",
      "254 1\n",
      "0.8757057189941406\n",
      "255 0\n",
      "0.8779149055480957\n",
      "256 1\n",
      "0.8625319004058838\n",
      "257 0\n",
      "0.8853185176849365\n",
      "258 1\n",
      "0.8665683269500732\n",
      "259 0\n",
      "0.8652453422546387\n",
      "260 1\n",
      "Accuracy: 1.0\n",
      "5.186845779418945\n",
      "261 1\n",
      "0.8643743991851807\n",
      "262 0\n",
      "0.872398853302002\n",
      "263 2\n",
      "0.8676304817199707\n",
      "264 1\n",
      "0.8732936382293701\n",
      "265 2\n",
      "0.8579089641571045\n",
      "266 0\n",
      "0.8758556842803955\n",
      "267 2\n",
      "0.8779401779174805\n",
      "268 2\n",
      "0.8650181293487549\n",
      "269 0\n",
      "0.8617253303527832\n",
      "270 1\n",
      "Accuracy: 1.0\n",
      "5.182689428329468\n",
      "271 1\n",
      "0.8807075023651123\n",
      "272 0\n",
      "0.8608064651489258\n",
      "273 0\n",
      "0.8803791999816895\n",
      "274 1\n",
      "0.8646323680877686\n",
      "275 0\n",
      "0.8667075634002686\n",
      "276 2\n",
      "0.8602197170257568\n",
      "277 0\n",
      "0.858832597732544\n",
      "278 0\n",
      "0.8685433864593506\n",
      "279 0\n",
      "0.8604199886322021\n",
      "280 2\n",
      "Accuracy: 1.0\n",
      "5.225245714187622\n",
      "281 1\n",
      "0.8761453628540039\n",
      "282 0\n",
      "0.8601579666137695\n",
      "283 0\n",
      "0.8704211711883545\n",
      "284 0\n",
      "0.857323408126831\n",
      "285 0\n",
      "0.8536949157714844\n",
      "286 1\n",
      "0.8650274276733398\n",
      "287 0\n",
      "0.8767526149749756\n",
      "288 1\n",
      "0.8581206798553467\n",
      "289 0\n",
      "0.8694062232971191\n",
      "290 1\n",
      "Accuracy: 1.0\n",
      "5.146746635437012\n",
      "291 1\n",
      "0.8877954483032227\n",
      "292 2\n",
      "0.8591282367706299\n",
      "293 0\n",
      "0.8728628158569336\n",
      "294 0\n",
      "0.8608582019805908\n",
      "295 0\n",
      "0.8653686046600342\n",
      "296 0\n",
      "0.8710124492645264\n",
      "297 1\n",
      "0.869239091873169\n",
      "298 0\n",
      "0.8584425449371338\n",
      "299 0\n"
     ]
    }
   ],
   "source": [
    "reads_err_ind  = [0]*(len(reads_err))\n",
    "parent = [0]*(len(reads_err))\n",
    "for i in range(0,len(reads_err)):\n",
    "    reads_err_ind[i] = (i,reads_err[i]) \n",
    "    parent[i] = i\n",
    "\n",
    "C_til = display_parent(parent)\n",
    "acrcy_dict = {}\n",
    "time_itr_dict = {}\n",
    "# parent_dict = {}\n",
    "# parent_dict[0] = parent.copy() \n",
    "\n",
    "DESIRED_ACRCY = 0.99\n",
    "gamma = 0.9\n",
    "card_C = len(reads)\n",
    "local_comm = 300\n",
    "\n",
    "q = 3\n",
    "th_high = 12\n",
    "th_low  = 8\n",
    "r = 6\n",
    "w = math.ceil(math.log(len(reads_err[0]),4))\n",
    "l = math.ceil(math.log(len(reads_err),4))\n",
    "\n",
    "lcl_step = 0\n",
    "acrcy = 0\n",
    "\n",
    "for lcl_step in range(0,local_comm):\n",
    "# while(acrcy < DESIRED_ACRCY):   \n",
    "    time_start = time.time()\n",
    "\n",
    "    hash_select = [0]*(len(reads_err))    \n",
    "    for i in range(0,len(C_til)):\n",
    "        if(len(C_til[i])!=0):    \n",
    "            hash_select[random.choice(C_til[i])]=1\n",
    "            \n",
    "    a = rand_perm(w)\n",
    "    hash_C_til = [0]*(len(reads_err))\n",
    "    for i in range(0,len(reads_err_ind)):\n",
    "        if(hash_select[i]==0):\n",
    "            hash_C_til[i] = (i,\"\")\n",
    "        else:\n",
    "            hash_C_til[i] = (i,hash_fun(reads_err_ind[i][1],a,w,l))    \n",
    "    hash_C_til.sort(key=lambda x:x[1])\n",
    "\n",
    "    cnt = 0\n",
    "    for i in range(0,len(hash_C_til)-1):\n",
    "        if(hash_C_til[i][1] == \"\"):\n",
    "            continue \n",
    "        else:\n",
    "            if hash_C_til[i][1] == hash_C_til[i+1][1]:\n",
    "#                 if rep_find(i,parent) == rep_find(i+1,parent):\n",
    "#                     continue \n",
    "                x = reads_err[hash_C_til[i][0]]\n",
    "                y = reads_err[hash_C_til[i+1][0]]\n",
    "                if((ham_dis(bin_sig_arr[hash_C_til[i][0]],bin_sig_arr[hash_C_til[i+1][0]]) <= th_low) or ((ham_dis(bin_sig_arr[hash_C_til[i][0]],bin_sig_arr[hash_C_til[i+1][0]]) <= th_high) and edit_dis(x,y)<=r)):\n",
    "                    cnt +=  1                   \n",
    "                    min_temp,max_temp = min_max(rep_find(hash_C_til[i][0],parent),rep_find(hash_C_til[i+1][0],parent))                    \n",
    "                    C_til[min_temp].extend(C_til[max_temp])\n",
    "                    C_til[max_temp] = []        \n",
    "                    parent[max_temp] = min_temp                    \n",
    "\n",
    "    if lcl_step%10==1:\n",
    "        acrcy = calc_acrcy(C_til,C_dict,C_reps,gamma)/card_C\n",
    "        acrcy_dict[lcl_step+1] = acrcy\n",
    "        print(\"Accuracy:\", acrcy)\n",
    "        \n",
    "    \n",
    "#     parent_dict[lcl_step+1]=parent.copy()\n",
    "    \n",
    "    time_itr = time.time() - time_start\n",
    "    time_itr_dict[lcl_step+1]=time_itr\n",
    "    \n",
    "    print(time_itr)\n",
    "    print(lcl_step,cnt)\n",
    "    \n",
    "#     lcl_step += 1"
   ]
  },
  {
   "cell_type": "code",
   "execution_count": 44,
   "metadata": {},
   "outputs": [],
   "source": [
    "with open('time_itr_dict_12,8,6,300,0.9_clstr_dict.json', 'w') as fp:\n",
    "    json.dump(time_itr_dict, fp)\n",
    "with open('acrcy_dict_12,8,6,300,0.9_clstr_dict.json', 'w') as fp:\n",
    "    json.dump(acrcy_dict, fp)"
   ]
  },
  {
   "cell_type": "code",
   "execution_count": 45,
   "metadata": {},
   "outputs": [
    {
     "data": {
      "text/plain": [
       "547.6208755970001"
      ]
     },
     "execution_count": 45,
     "metadata": {},
     "output_type": "execute_result"
    }
   ],
   "source": [
    "total_time = 0\n",
    "for i in range(1,len(time_itr_dict)+1):\n",
    "    total_time += time_itr_dict[i]\n",
    "total_time"
   ]
  },
  {
   "cell_type": "code",
   "execution_count": 46,
   "metadata": {},
   "outputs": [
    {
     "data": {
      "text/plain": [
       "{2: 0.040383014154870944,\n",
       " 12: 0.5650499583680266,\n",
       " 22: 0.8331598667776853,\n",
       " 32: 0.9486885928393006,\n",
       " 42: 0.9779350541215653,\n",
       " 52: 0.9915695253955037,\n",
       " 62: 0.9964612822647794,\n",
       " 72: 0.9984388009991674,\n",
       " 82: 0.9994796003330558,\n",
       " 92: 0.9996877601998335,\n",
       " 102: 0.9996877601998335,\n",
       " 112: 0.9998959200666112,\n",
       " 122: 0.9998959200666112,\n",
       " 132: 0.9998959200666112,\n",
       " 142: 1.0,\n",
       " 152: 1.0,\n",
       " 162: 1.0,\n",
       " 172: 1.0,\n",
       " 182: 1.0,\n",
       " 192: 1.0,\n",
       " 202: 1.0,\n",
       " 212: 1.0,\n",
       " 222: 1.0,\n",
       " 232: 1.0,\n",
       " 242: 1.0,\n",
       " 252: 1.0,\n",
       " 262: 1.0,\n",
       " 272: 1.0,\n",
       " 282: 1.0,\n",
       " 292: 1.0}"
      ]
     },
     "execution_count": 46,
     "metadata": {},
     "output_type": "execute_result"
    }
   ],
   "source": [
    "acrcy_dict"
   ]
  },
  {
   "cell_type": "code",
   "execution_count": 47,
   "metadata": {},
   "outputs": [
    {
     "data": {
      "application/vnd.plotly.v1+json": {
       "config": {
        "plotlyServerURL": "https://plot.ly"
       },
       "data": [
        {
         "hovertemplate": "x=%{x}<br>y=%{y}<extra></extra>",
         "legendgroup": "",
         "line": {
          "color": "#636efa",
          "dash": "solid"
         },
         "mode": "lines",
         "name": "",
         "orientation": "v",
         "showlegend": false,
         "type": "scatter",
         "x": [
          2,
          12,
          22,
          32,
          42,
          52,
          62,
          72,
          82,
          92,
          102,
          112,
          122,
          132,
          142,
          152,
          162,
          172,
          182,
          192,
          202,
          212,
          222,
          232,
          242,
          252,
          262,
          272,
          282,
          292
         ],
         "xaxis": "x",
         "y": [
          0.040383014154870944,
          0.5650499583680266,
          0.8331598667776853,
          0.9486885928393006,
          0.9779350541215653,
          0.9915695253955037,
          0.9964612822647794,
          0.9984388009991674,
          0.9994796003330558,
          0.9996877601998335,
          0.9996877601998335,
          0.9998959200666112,
          0.9998959200666112,
          0.9998959200666112,
          1,
          1,
          1,
          1,
          1,
          1,
          1,
          1,
          1,
          1,
          1,
          1,
          1,
          1,
          1,
          1
         ],
         "yaxis": "y"
        }
       ],
       "layout": {
        "legend": {
         "tracegroupgap": 0
        },
        "margin": {
         "t": 60
        },
        "template": {
         "data": {
          "bar": [
           {
            "error_x": {
             "color": "#2a3f5f"
            },
            "error_y": {
             "color": "#2a3f5f"
            },
            "marker": {
             "line": {
              "color": "#E5ECF6",
              "width": 0.5
             }
            },
            "type": "bar"
           }
          ],
          "barpolar": [
           {
            "marker": {
             "line": {
              "color": "#E5ECF6",
              "width": 0.5
             }
            },
            "type": "barpolar"
           }
          ],
          "carpet": [
           {
            "aaxis": {
             "endlinecolor": "#2a3f5f",
             "gridcolor": "white",
             "linecolor": "white",
             "minorgridcolor": "white",
             "startlinecolor": "#2a3f5f"
            },
            "baxis": {
             "endlinecolor": "#2a3f5f",
             "gridcolor": "white",
             "linecolor": "white",
             "minorgridcolor": "white",
             "startlinecolor": "#2a3f5f"
            },
            "type": "carpet"
           }
          ],
          "choropleth": [
           {
            "colorbar": {
             "outlinewidth": 0,
             "ticks": ""
            },
            "type": "choropleth"
           }
          ],
          "contour": [
           {
            "colorbar": {
             "outlinewidth": 0,
             "ticks": ""
            },
            "colorscale": [
             [
              0,
              "#0d0887"
             ],
             [
              0.1111111111111111,
              "#46039f"
             ],
             [
              0.2222222222222222,
              "#7201a8"
             ],
             [
              0.3333333333333333,
              "#9c179e"
             ],
             [
              0.4444444444444444,
              "#bd3786"
             ],
             [
              0.5555555555555556,
              "#d8576b"
             ],
             [
              0.6666666666666666,
              "#ed7953"
             ],
             [
              0.7777777777777778,
              "#fb9f3a"
             ],
             [
              0.8888888888888888,
              "#fdca26"
             ],
             [
              1,
              "#f0f921"
             ]
            ],
            "type": "contour"
           }
          ],
          "contourcarpet": [
           {
            "colorbar": {
             "outlinewidth": 0,
             "ticks": ""
            },
            "type": "contourcarpet"
           }
          ],
          "heatmap": [
           {
            "colorbar": {
             "outlinewidth": 0,
             "ticks": ""
            },
            "colorscale": [
             [
              0,
              "#0d0887"
             ],
             [
              0.1111111111111111,
              "#46039f"
             ],
             [
              0.2222222222222222,
              "#7201a8"
             ],
             [
              0.3333333333333333,
              "#9c179e"
             ],
             [
              0.4444444444444444,
              "#bd3786"
             ],
             [
              0.5555555555555556,
              "#d8576b"
             ],
             [
              0.6666666666666666,
              "#ed7953"
             ],
             [
              0.7777777777777778,
              "#fb9f3a"
             ],
             [
              0.8888888888888888,
              "#fdca26"
             ],
             [
              1,
              "#f0f921"
             ]
            ],
            "type": "heatmap"
           }
          ],
          "heatmapgl": [
           {
            "colorbar": {
             "outlinewidth": 0,
             "ticks": ""
            },
            "colorscale": [
             [
              0,
              "#0d0887"
             ],
             [
              0.1111111111111111,
              "#46039f"
             ],
             [
              0.2222222222222222,
              "#7201a8"
             ],
             [
              0.3333333333333333,
              "#9c179e"
             ],
             [
              0.4444444444444444,
              "#bd3786"
             ],
             [
              0.5555555555555556,
              "#d8576b"
             ],
             [
              0.6666666666666666,
              "#ed7953"
             ],
             [
              0.7777777777777778,
              "#fb9f3a"
             ],
             [
              0.8888888888888888,
              "#fdca26"
             ],
             [
              1,
              "#f0f921"
             ]
            ],
            "type": "heatmapgl"
           }
          ],
          "histogram": [
           {
            "marker": {
             "colorbar": {
              "outlinewidth": 0,
              "ticks": ""
             }
            },
            "type": "histogram"
           }
          ],
          "histogram2d": [
           {
            "colorbar": {
             "outlinewidth": 0,
             "ticks": ""
            },
            "colorscale": [
             [
              0,
              "#0d0887"
             ],
             [
              0.1111111111111111,
              "#46039f"
             ],
             [
              0.2222222222222222,
              "#7201a8"
             ],
             [
              0.3333333333333333,
              "#9c179e"
             ],
             [
              0.4444444444444444,
              "#bd3786"
             ],
             [
              0.5555555555555556,
              "#d8576b"
             ],
             [
              0.6666666666666666,
              "#ed7953"
             ],
             [
              0.7777777777777778,
              "#fb9f3a"
             ],
             [
              0.8888888888888888,
              "#fdca26"
             ],
             [
              1,
              "#f0f921"
             ]
            ],
            "type": "histogram2d"
           }
          ],
          "histogram2dcontour": [
           {
            "colorbar": {
             "outlinewidth": 0,
             "ticks": ""
            },
            "colorscale": [
             [
              0,
              "#0d0887"
             ],
             [
              0.1111111111111111,
              "#46039f"
             ],
             [
              0.2222222222222222,
              "#7201a8"
             ],
             [
              0.3333333333333333,
              "#9c179e"
             ],
             [
              0.4444444444444444,
              "#bd3786"
             ],
             [
              0.5555555555555556,
              "#d8576b"
             ],
             [
              0.6666666666666666,
              "#ed7953"
             ],
             [
              0.7777777777777778,
              "#fb9f3a"
             ],
             [
              0.8888888888888888,
              "#fdca26"
             ],
             [
              1,
              "#f0f921"
             ]
            ],
            "type": "histogram2dcontour"
           }
          ],
          "mesh3d": [
           {
            "colorbar": {
             "outlinewidth": 0,
             "ticks": ""
            },
            "type": "mesh3d"
           }
          ],
          "parcoords": [
           {
            "line": {
             "colorbar": {
              "outlinewidth": 0,
              "ticks": ""
             }
            },
            "type": "parcoords"
           }
          ],
          "pie": [
           {
            "automargin": true,
            "type": "pie"
           }
          ],
          "scatter": [
           {
            "marker": {
             "colorbar": {
              "outlinewidth": 0,
              "ticks": ""
             }
            },
            "type": "scatter"
           }
          ],
          "scatter3d": [
           {
            "line": {
             "colorbar": {
              "outlinewidth": 0,
              "ticks": ""
             }
            },
            "marker": {
             "colorbar": {
              "outlinewidth": 0,
              "ticks": ""
             }
            },
            "type": "scatter3d"
           }
          ],
          "scattercarpet": [
           {
            "marker": {
             "colorbar": {
              "outlinewidth": 0,
              "ticks": ""
             }
            },
            "type": "scattercarpet"
           }
          ],
          "scattergeo": [
           {
            "marker": {
             "colorbar": {
              "outlinewidth": 0,
              "ticks": ""
             }
            },
            "type": "scattergeo"
           }
          ],
          "scattergl": [
           {
            "marker": {
             "colorbar": {
              "outlinewidth": 0,
              "ticks": ""
             }
            },
            "type": "scattergl"
           }
          ],
          "scattermapbox": [
           {
            "marker": {
             "colorbar": {
              "outlinewidth": 0,
              "ticks": ""
             }
            },
            "type": "scattermapbox"
           }
          ],
          "scatterpolar": [
           {
            "marker": {
             "colorbar": {
              "outlinewidth": 0,
              "ticks": ""
             }
            },
            "type": "scatterpolar"
           }
          ],
          "scatterpolargl": [
           {
            "marker": {
             "colorbar": {
              "outlinewidth": 0,
              "ticks": ""
             }
            },
            "type": "scatterpolargl"
           }
          ],
          "scatterternary": [
           {
            "marker": {
             "colorbar": {
              "outlinewidth": 0,
              "ticks": ""
             }
            },
            "type": "scatterternary"
           }
          ],
          "surface": [
           {
            "colorbar": {
             "outlinewidth": 0,
             "ticks": ""
            },
            "colorscale": [
             [
              0,
              "#0d0887"
             ],
             [
              0.1111111111111111,
              "#46039f"
             ],
             [
              0.2222222222222222,
              "#7201a8"
             ],
             [
              0.3333333333333333,
              "#9c179e"
             ],
             [
              0.4444444444444444,
              "#bd3786"
             ],
             [
              0.5555555555555556,
              "#d8576b"
             ],
             [
              0.6666666666666666,
              "#ed7953"
             ],
             [
              0.7777777777777778,
              "#fb9f3a"
             ],
             [
              0.8888888888888888,
              "#fdca26"
             ],
             [
              1,
              "#f0f921"
             ]
            ],
            "type": "surface"
           }
          ],
          "table": [
           {
            "cells": {
             "fill": {
              "color": "#EBF0F8"
             },
             "line": {
              "color": "white"
             }
            },
            "header": {
             "fill": {
              "color": "#C8D4E3"
             },
             "line": {
              "color": "white"
             }
            },
            "type": "table"
           }
          ]
         },
         "layout": {
          "annotationdefaults": {
           "arrowcolor": "#2a3f5f",
           "arrowhead": 0,
           "arrowwidth": 1
          },
          "autotypenumbers": "strict",
          "coloraxis": {
           "colorbar": {
            "outlinewidth": 0,
            "ticks": ""
           }
          },
          "colorscale": {
           "diverging": [
            [
             0,
             "#8e0152"
            ],
            [
             0.1,
             "#c51b7d"
            ],
            [
             0.2,
             "#de77ae"
            ],
            [
             0.3,
             "#f1b6da"
            ],
            [
             0.4,
             "#fde0ef"
            ],
            [
             0.5,
             "#f7f7f7"
            ],
            [
             0.6,
             "#e6f5d0"
            ],
            [
             0.7,
             "#b8e186"
            ],
            [
             0.8,
             "#7fbc41"
            ],
            [
             0.9,
             "#4d9221"
            ],
            [
             1,
             "#276419"
            ]
           ],
           "sequential": [
            [
             0,
             "#0d0887"
            ],
            [
             0.1111111111111111,
             "#46039f"
            ],
            [
             0.2222222222222222,
             "#7201a8"
            ],
            [
             0.3333333333333333,
             "#9c179e"
            ],
            [
             0.4444444444444444,
             "#bd3786"
            ],
            [
             0.5555555555555556,
             "#d8576b"
            ],
            [
             0.6666666666666666,
             "#ed7953"
            ],
            [
             0.7777777777777778,
             "#fb9f3a"
            ],
            [
             0.8888888888888888,
             "#fdca26"
            ],
            [
             1,
             "#f0f921"
            ]
           ],
           "sequentialminus": [
            [
             0,
             "#0d0887"
            ],
            [
             0.1111111111111111,
             "#46039f"
            ],
            [
             0.2222222222222222,
             "#7201a8"
            ],
            [
             0.3333333333333333,
             "#9c179e"
            ],
            [
             0.4444444444444444,
             "#bd3786"
            ],
            [
             0.5555555555555556,
             "#d8576b"
            ],
            [
             0.6666666666666666,
             "#ed7953"
            ],
            [
             0.7777777777777778,
             "#fb9f3a"
            ],
            [
             0.8888888888888888,
             "#fdca26"
            ],
            [
             1,
             "#f0f921"
            ]
           ]
          },
          "colorway": [
           "#636efa",
           "#EF553B",
           "#00cc96",
           "#ab63fa",
           "#FFA15A",
           "#19d3f3",
           "#FF6692",
           "#B6E880",
           "#FF97FF",
           "#FECB52"
          ],
          "font": {
           "color": "#2a3f5f"
          },
          "geo": {
           "bgcolor": "white",
           "lakecolor": "white",
           "landcolor": "#E5ECF6",
           "showlakes": true,
           "showland": true,
           "subunitcolor": "white"
          },
          "hoverlabel": {
           "align": "left"
          },
          "hovermode": "closest",
          "mapbox": {
           "style": "light"
          },
          "paper_bgcolor": "white",
          "plot_bgcolor": "#E5ECF6",
          "polar": {
           "angularaxis": {
            "gridcolor": "white",
            "linecolor": "white",
            "ticks": ""
           },
           "bgcolor": "#E5ECF6",
           "radialaxis": {
            "gridcolor": "white",
            "linecolor": "white",
            "ticks": ""
           }
          },
          "scene": {
           "xaxis": {
            "backgroundcolor": "#E5ECF6",
            "gridcolor": "white",
            "gridwidth": 2,
            "linecolor": "white",
            "showbackground": true,
            "ticks": "",
            "zerolinecolor": "white"
           },
           "yaxis": {
            "backgroundcolor": "#E5ECF6",
            "gridcolor": "white",
            "gridwidth": 2,
            "linecolor": "white",
            "showbackground": true,
            "ticks": "",
            "zerolinecolor": "white"
           },
           "zaxis": {
            "backgroundcolor": "#E5ECF6",
            "gridcolor": "white",
            "gridwidth": 2,
            "linecolor": "white",
            "showbackground": true,
            "ticks": "",
            "zerolinecolor": "white"
           }
          },
          "shapedefaults": {
           "line": {
            "color": "#2a3f5f"
           }
          },
          "ternary": {
           "aaxis": {
            "gridcolor": "white",
            "linecolor": "white",
            "ticks": ""
           },
           "baxis": {
            "gridcolor": "white",
            "linecolor": "white",
            "ticks": ""
           },
           "bgcolor": "#E5ECF6",
           "caxis": {
            "gridcolor": "white",
            "linecolor": "white",
            "ticks": ""
           }
          },
          "title": {
           "x": 0.05
          },
          "xaxis": {
           "automargin": true,
           "gridcolor": "white",
           "linecolor": "white",
           "ticks": "",
           "title": {
            "standoff": 15
           },
           "zerolinecolor": "white",
           "zerolinewidth": 2
          },
          "yaxis": {
           "automargin": true,
           "gridcolor": "white",
           "linecolor": "white",
           "ticks": "",
           "title": {
            "standoff": 15
           },
           "zerolinecolor": "white",
           "zerolinewidth": 2
          }
         }
        },
        "xaxis": {
         "anchor": "y",
         "domain": [
          0,
          1
         ],
         "title": {
          "text": "x"
         }
        },
        "yaxis": {
         "anchor": "x",
         "domain": [
          0,
          1
         ],
         "title": {
          "text": "y"
         }
        }
       }
      },
      "text/html": [
       "<div>                            <div id=\"8cfc35af-fb39-4b8b-bd6c-f5fc9adfe4f3\" class=\"plotly-graph-div\" style=\"height:525px; width:100%;\"></div>            <script type=\"text/javascript\">                require([\"plotly\"], function(Plotly) {                    window.PLOTLYENV=window.PLOTLYENV || {};                                    if (document.getElementById(\"8cfc35af-fb39-4b8b-bd6c-f5fc9adfe4f3\")) {                    Plotly.newPlot(                        \"8cfc35af-fb39-4b8b-bd6c-f5fc9adfe4f3\",                        [{\"hovertemplate\": \"x=%{x}<br>y=%{y}<extra></extra>\", \"legendgroup\": \"\", \"line\": {\"color\": \"#636efa\", \"dash\": \"solid\"}, \"mode\": \"lines\", \"name\": \"\", \"orientation\": \"v\", \"showlegend\": false, \"type\": \"scatter\", \"x\": [2, 12, 22, 32, 42, 52, 62, 72, 82, 92, 102, 112, 122, 132, 142, 152, 162, 172, 182, 192, 202, 212, 222, 232, 242, 252, 262, 272, 282, 292], \"xaxis\": \"x\", \"y\": [0.040383014154870944, 0.5650499583680266, 0.8331598667776853, 0.9486885928393006, 0.9779350541215653, 0.9915695253955037, 0.9964612822647794, 0.9984388009991674, 0.9994796003330558, 0.9996877601998335, 0.9996877601998335, 0.9998959200666112, 0.9998959200666112, 0.9998959200666112, 1.0, 1.0, 1.0, 1.0, 1.0, 1.0, 1.0, 1.0, 1.0, 1.0, 1.0, 1.0, 1.0, 1.0, 1.0, 1.0], \"yaxis\": \"y\"}],                        {\"legend\": {\"tracegroupgap\": 0}, \"margin\": {\"t\": 60}, \"template\": {\"data\": {\"bar\": [{\"error_x\": {\"color\": \"#2a3f5f\"}, \"error_y\": {\"color\": \"#2a3f5f\"}, \"marker\": {\"line\": {\"color\": \"#E5ECF6\", \"width\": 0.5}}, \"type\": \"bar\"}], \"barpolar\": [{\"marker\": {\"line\": {\"color\": \"#E5ECF6\", \"width\": 0.5}}, \"type\": \"barpolar\"}], \"carpet\": [{\"aaxis\": {\"endlinecolor\": \"#2a3f5f\", \"gridcolor\": \"white\", \"linecolor\": \"white\", \"minorgridcolor\": \"white\", \"startlinecolor\": \"#2a3f5f\"}, \"baxis\": {\"endlinecolor\": \"#2a3f5f\", \"gridcolor\": \"white\", \"linecolor\": \"white\", \"minorgridcolor\": \"white\", \"startlinecolor\": \"#2a3f5f\"}, \"type\": \"carpet\"}], \"choropleth\": [{\"colorbar\": {\"outlinewidth\": 0, \"ticks\": \"\"}, \"type\": \"choropleth\"}], \"contour\": [{\"colorbar\": {\"outlinewidth\": 0, \"ticks\": \"\"}, \"colorscale\": [[0.0, \"#0d0887\"], [0.1111111111111111, \"#46039f\"], [0.2222222222222222, \"#7201a8\"], [0.3333333333333333, \"#9c179e\"], [0.4444444444444444, \"#bd3786\"], [0.5555555555555556, \"#d8576b\"], [0.6666666666666666, \"#ed7953\"], [0.7777777777777778, \"#fb9f3a\"], [0.8888888888888888, \"#fdca26\"], [1.0, \"#f0f921\"]], \"type\": \"contour\"}], \"contourcarpet\": [{\"colorbar\": {\"outlinewidth\": 0, \"ticks\": \"\"}, \"type\": \"contourcarpet\"}], \"heatmap\": [{\"colorbar\": {\"outlinewidth\": 0, \"ticks\": \"\"}, \"colorscale\": [[0.0, \"#0d0887\"], [0.1111111111111111, \"#46039f\"], [0.2222222222222222, \"#7201a8\"], [0.3333333333333333, \"#9c179e\"], [0.4444444444444444, \"#bd3786\"], [0.5555555555555556, \"#d8576b\"], [0.6666666666666666, \"#ed7953\"], [0.7777777777777778, \"#fb9f3a\"], [0.8888888888888888, \"#fdca26\"], [1.0, \"#f0f921\"]], \"type\": \"heatmap\"}], \"heatmapgl\": [{\"colorbar\": {\"outlinewidth\": 0, \"ticks\": \"\"}, \"colorscale\": [[0.0, \"#0d0887\"], [0.1111111111111111, \"#46039f\"], [0.2222222222222222, \"#7201a8\"], [0.3333333333333333, \"#9c179e\"], [0.4444444444444444, \"#bd3786\"], [0.5555555555555556, \"#d8576b\"], [0.6666666666666666, \"#ed7953\"], [0.7777777777777778, \"#fb9f3a\"], [0.8888888888888888, \"#fdca26\"], [1.0, \"#f0f921\"]], \"type\": \"heatmapgl\"}], \"histogram\": [{\"marker\": {\"colorbar\": {\"outlinewidth\": 0, \"ticks\": \"\"}}, \"type\": \"histogram\"}], \"histogram2d\": [{\"colorbar\": {\"outlinewidth\": 0, \"ticks\": \"\"}, \"colorscale\": [[0.0, \"#0d0887\"], [0.1111111111111111, \"#46039f\"], [0.2222222222222222, \"#7201a8\"], [0.3333333333333333, \"#9c179e\"], [0.4444444444444444, \"#bd3786\"], [0.5555555555555556, \"#d8576b\"], [0.6666666666666666, \"#ed7953\"], [0.7777777777777778, \"#fb9f3a\"], [0.8888888888888888, \"#fdca26\"], [1.0, \"#f0f921\"]], \"type\": \"histogram2d\"}], \"histogram2dcontour\": [{\"colorbar\": {\"outlinewidth\": 0, \"ticks\": \"\"}, \"colorscale\": [[0.0, \"#0d0887\"], [0.1111111111111111, \"#46039f\"], [0.2222222222222222, \"#7201a8\"], [0.3333333333333333, \"#9c179e\"], [0.4444444444444444, \"#bd3786\"], [0.5555555555555556, \"#d8576b\"], [0.6666666666666666, \"#ed7953\"], [0.7777777777777778, \"#fb9f3a\"], [0.8888888888888888, \"#fdca26\"], [1.0, \"#f0f921\"]], \"type\": \"histogram2dcontour\"}], \"mesh3d\": [{\"colorbar\": {\"outlinewidth\": 0, \"ticks\": \"\"}, \"type\": \"mesh3d\"}], \"parcoords\": [{\"line\": {\"colorbar\": {\"outlinewidth\": 0, \"ticks\": \"\"}}, \"type\": \"parcoords\"}], \"pie\": [{\"automargin\": true, \"type\": \"pie\"}], \"scatter\": [{\"marker\": {\"colorbar\": {\"outlinewidth\": 0, \"ticks\": \"\"}}, \"type\": \"scatter\"}], \"scatter3d\": [{\"line\": {\"colorbar\": {\"outlinewidth\": 0, \"ticks\": \"\"}}, \"marker\": {\"colorbar\": {\"outlinewidth\": 0, \"ticks\": \"\"}}, \"type\": \"scatter3d\"}], \"scattercarpet\": [{\"marker\": {\"colorbar\": {\"outlinewidth\": 0, \"ticks\": \"\"}}, \"type\": \"scattercarpet\"}], \"scattergeo\": [{\"marker\": {\"colorbar\": {\"outlinewidth\": 0, \"ticks\": \"\"}}, \"type\": \"scattergeo\"}], \"scattergl\": [{\"marker\": {\"colorbar\": {\"outlinewidth\": 0, \"ticks\": \"\"}}, \"type\": \"scattergl\"}], \"scattermapbox\": [{\"marker\": {\"colorbar\": {\"outlinewidth\": 0, \"ticks\": \"\"}}, \"type\": \"scattermapbox\"}], \"scatterpolar\": [{\"marker\": {\"colorbar\": {\"outlinewidth\": 0, \"ticks\": \"\"}}, \"type\": \"scatterpolar\"}], \"scatterpolargl\": [{\"marker\": {\"colorbar\": {\"outlinewidth\": 0, \"ticks\": \"\"}}, \"type\": \"scatterpolargl\"}], \"scatterternary\": [{\"marker\": {\"colorbar\": {\"outlinewidth\": 0, \"ticks\": \"\"}}, \"type\": \"scatterternary\"}], \"surface\": [{\"colorbar\": {\"outlinewidth\": 0, \"ticks\": \"\"}, \"colorscale\": [[0.0, \"#0d0887\"], [0.1111111111111111, \"#46039f\"], [0.2222222222222222, \"#7201a8\"], [0.3333333333333333, \"#9c179e\"], [0.4444444444444444, \"#bd3786\"], [0.5555555555555556, \"#d8576b\"], [0.6666666666666666, \"#ed7953\"], [0.7777777777777778, \"#fb9f3a\"], [0.8888888888888888, \"#fdca26\"], [1.0, \"#f0f921\"]], \"type\": \"surface\"}], \"table\": [{\"cells\": {\"fill\": {\"color\": \"#EBF0F8\"}, \"line\": {\"color\": \"white\"}}, \"header\": {\"fill\": {\"color\": \"#C8D4E3\"}, \"line\": {\"color\": \"white\"}}, \"type\": \"table\"}]}, \"layout\": {\"annotationdefaults\": {\"arrowcolor\": \"#2a3f5f\", \"arrowhead\": 0, \"arrowwidth\": 1}, \"autotypenumbers\": \"strict\", \"coloraxis\": {\"colorbar\": {\"outlinewidth\": 0, \"ticks\": \"\"}}, \"colorscale\": {\"diverging\": [[0, \"#8e0152\"], [0.1, \"#c51b7d\"], [0.2, \"#de77ae\"], [0.3, \"#f1b6da\"], [0.4, \"#fde0ef\"], [0.5, \"#f7f7f7\"], [0.6, \"#e6f5d0\"], [0.7, \"#b8e186\"], [0.8, \"#7fbc41\"], [0.9, \"#4d9221\"], [1, \"#276419\"]], \"sequential\": [[0.0, \"#0d0887\"], [0.1111111111111111, \"#46039f\"], [0.2222222222222222, \"#7201a8\"], [0.3333333333333333, \"#9c179e\"], [0.4444444444444444, \"#bd3786\"], [0.5555555555555556, \"#d8576b\"], [0.6666666666666666, \"#ed7953\"], [0.7777777777777778, \"#fb9f3a\"], [0.8888888888888888, \"#fdca26\"], [1.0, \"#f0f921\"]], \"sequentialminus\": [[0.0, \"#0d0887\"], [0.1111111111111111, \"#46039f\"], [0.2222222222222222, \"#7201a8\"], [0.3333333333333333, \"#9c179e\"], [0.4444444444444444, \"#bd3786\"], [0.5555555555555556, \"#d8576b\"], [0.6666666666666666, \"#ed7953\"], [0.7777777777777778, \"#fb9f3a\"], [0.8888888888888888, \"#fdca26\"], [1.0, \"#f0f921\"]]}, \"colorway\": [\"#636efa\", \"#EF553B\", \"#00cc96\", \"#ab63fa\", \"#FFA15A\", \"#19d3f3\", \"#FF6692\", \"#B6E880\", \"#FF97FF\", \"#FECB52\"], \"font\": {\"color\": \"#2a3f5f\"}, \"geo\": {\"bgcolor\": \"white\", \"lakecolor\": \"white\", \"landcolor\": \"#E5ECF6\", \"showlakes\": true, \"showland\": true, \"subunitcolor\": \"white\"}, \"hoverlabel\": {\"align\": \"left\"}, \"hovermode\": \"closest\", \"mapbox\": {\"style\": \"light\"}, \"paper_bgcolor\": \"white\", \"plot_bgcolor\": \"#E5ECF6\", \"polar\": {\"angularaxis\": {\"gridcolor\": \"white\", \"linecolor\": \"white\", \"ticks\": \"\"}, \"bgcolor\": \"#E5ECF6\", \"radialaxis\": {\"gridcolor\": \"white\", \"linecolor\": \"white\", \"ticks\": \"\"}}, \"scene\": {\"xaxis\": {\"backgroundcolor\": \"#E5ECF6\", \"gridcolor\": \"white\", \"gridwidth\": 2, \"linecolor\": \"white\", \"showbackground\": true, \"ticks\": \"\", \"zerolinecolor\": \"white\"}, \"yaxis\": {\"backgroundcolor\": \"#E5ECF6\", \"gridcolor\": \"white\", \"gridwidth\": 2, \"linecolor\": \"white\", \"showbackground\": true, \"ticks\": \"\", \"zerolinecolor\": \"white\"}, \"zaxis\": {\"backgroundcolor\": \"#E5ECF6\", \"gridcolor\": \"white\", \"gridwidth\": 2, \"linecolor\": \"white\", \"showbackground\": true, \"ticks\": \"\", \"zerolinecolor\": \"white\"}}, \"shapedefaults\": {\"line\": {\"color\": \"#2a3f5f\"}}, \"ternary\": {\"aaxis\": {\"gridcolor\": \"white\", \"linecolor\": \"white\", \"ticks\": \"\"}, \"baxis\": {\"gridcolor\": \"white\", \"linecolor\": \"white\", \"ticks\": \"\"}, \"bgcolor\": \"#E5ECF6\", \"caxis\": {\"gridcolor\": \"white\", \"linecolor\": \"white\", \"ticks\": \"\"}}, \"title\": {\"x\": 0.05}, \"xaxis\": {\"automargin\": true, \"gridcolor\": \"white\", \"linecolor\": \"white\", \"ticks\": \"\", \"title\": {\"standoff\": 15}, \"zerolinecolor\": \"white\", \"zerolinewidth\": 2}, \"yaxis\": {\"automargin\": true, \"gridcolor\": \"white\", \"linecolor\": \"white\", \"ticks\": \"\", \"title\": {\"standoff\": 15}, \"zerolinecolor\": \"white\", \"zerolinewidth\": 2}}}, \"xaxis\": {\"anchor\": \"y\", \"domain\": [0.0, 1.0], \"title\": {\"text\": \"x\"}}, \"yaxis\": {\"anchor\": \"x\", \"domain\": [0.0, 1.0], \"title\": {\"text\": \"y\"}}},                        {\"responsive\": true}                    ).then(function(){\n",
       "                            \n",
       "var gd = document.getElementById('8cfc35af-fb39-4b8b-bd6c-f5fc9adfe4f3');\n",
       "var x = new MutationObserver(function (mutations, observer) {{\n",
       "        var display = window.getComputedStyle(gd).display;\n",
       "        if (!display || display === 'none') {{\n",
       "            console.log([gd, 'removed!']);\n",
       "            Plotly.purge(gd);\n",
       "            observer.disconnect();\n",
       "        }}\n",
       "}});\n",
       "\n",
       "// Listen for the removal of the full notebook cells\n",
       "var notebookContainer = gd.closest('#notebook-container');\n",
       "if (notebookContainer) {{\n",
       "    x.observe(notebookContainer, {childList: true});\n",
       "}}\n",
       "\n",
       "// Listen for the clearing of the current output cell\n",
       "var outputEl = gd.closest('.output');\n",
       "if (outputEl) {{\n",
       "    x.observe(outputEl, {childList: true});\n",
       "}}\n",
       "\n",
       "                        })                };                });            </script>        </div>"
      ]
     },
     "metadata": {},
     "output_type": "display_data"
    }
   ],
   "source": [
    "keys = acrcy_dict.keys()\n",
    "values = acrcy_dict.values()\n",
    "px.line(x=keys,y=values)"
   ]
  },
  {
   "cell_type": "code",
   "execution_count": 48,
   "metadata": {},
   "outputs": [
    {
     "data": {
      "application/vnd.plotly.v1+json": {
       "config": {
        "plotlyServerURL": "https://plot.ly"
       },
       "data": [
        {
         "hovertemplate": "x=%{x}<br>y=%{y}<extra></extra>",
         "legendgroup": "",
         "line": {
          "color": "#636efa",
          "dash": "solid"
         },
         "mode": "lines",
         "name": "",
         "orientation": "v",
         "showlegend": false,
         "type": "scatter",
         "x": [
          1,
          2,
          3,
          4,
          5,
          6,
          7,
          8,
          9,
          10,
          11,
          12,
          13,
          14,
          15,
          16,
          17,
          18,
          19,
          20,
          21,
          22,
          23,
          24,
          25,
          26,
          27,
          28,
          29,
          30,
          31,
          32,
          33,
          34,
          35,
          36,
          37,
          38,
          39,
          40,
          41,
          42,
          43,
          44,
          45,
          46,
          47,
          48,
          49,
          50,
          51,
          52,
          53,
          54,
          55,
          56,
          57,
          58,
          59,
          60,
          61,
          62,
          63,
          64,
          65,
          66,
          67,
          68,
          69,
          70,
          71,
          72,
          73,
          74,
          75,
          76,
          77,
          78,
          79,
          80,
          81,
          82,
          83,
          84,
          85,
          86,
          87,
          88,
          89,
          90,
          91,
          92,
          93,
          94,
          95,
          96,
          97,
          98,
          99,
          100,
          101,
          102,
          103,
          104,
          105,
          106,
          107,
          108,
          109,
          110,
          111,
          112,
          113,
          114,
          115,
          116,
          117,
          118,
          119,
          120,
          121,
          122,
          123,
          124,
          125,
          126,
          127,
          128,
          129,
          130,
          131,
          132,
          133,
          134,
          135,
          136,
          137,
          138,
          139,
          140,
          141,
          142,
          143,
          144,
          145,
          146,
          147,
          148,
          149,
          150,
          151,
          152,
          153,
          154,
          155,
          156,
          157,
          158,
          159,
          160,
          161,
          162,
          163,
          164,
          165,
          166,
          167,
          168,
          169,
          170,
          171,
          172,
          173,
          174,
          175,
          176,
          177,
          178,
          179,
          180,
          181,
          182,
          183,
          184,
          185,
          186,
          187,
          188,
          189,
          190,
          191,
          192,
          193,
          194,
          195,
          196,
          197,
          198,
          199,
          200,
          201,
          202,
          203,
          204,
          205,
          206,
          207,
          208,
          209,
          210,
          211,
          212,
          213,
          214,
          215,
          216,
          217,
          218,
          219,
          220,
          221,
          222,
          223,
          224,
          225,
          226,
          227,
          228,
          229,
          230,
          231,
          232,
          233,
          234,
          235,
          236,
          237,
          238,
          239,
          240,
          241,
          242,
          243,
          244,
          245,
          246,
          247,
          248,
          249,
          250,
          251,
          252,
          253,
          254,
          255,
          256,
          257,
          258,
          259,
          260,
          261,
          262,
          263,
          264,
          265,
          266,
          267,
          268,
          269,
          270,
          271,
          272,
          273,
          274,
          275,
          276,
          277,
          278,
          279,
          280,
          281,
          282,
          283,
          284,
          285,
          286,
          287,
          288,
          289,
          290,
          291,
          292,
          293,
          294,
          295,
          296,
          297,
          298,
          299,
          300
         ],
         "xaxis": "x",
         "y": [
          15.45773720741272,
          31.007004022598267,
          6.942460775375366,
          9.525096893310547,
          16.082895517349243,
          14.806723833084106,
          7.043916702270508,
          4.341088056564331,
          10.400493144989014,
          7.002124547958374,
          5.750988960266113,
          10.280920028686523,
          3.047398805618286,
          4.283706426620483,
          3.0793333053588867,
          2.6242516040802,
          2.6016595363616943,
          2.5363049507141113,
          2.7517378330230713,
          1.6707422733306885,
          4.188446283340454,
          6.901150226593018,
          1.9147279262542725,
          2.013178586959839,
          1.768744945526123,
          1.545722484588623,
          1.8054633140563965,
          1.8545324802398682,
          1.1081087589263916,
          1.8523929119110107,
          1.5186996459960938,
          5.778714656829834,
          0.9951179027557373,
          1.1162121295928955,
          1.41353440284729,
          0.965059757232666,
          1.230900764465332,
          1.0384163856506348,
          0.9163057804107666,
          0.9902386665344238,
          1.193451166152954,
          5.351526975631714,
          1.178760051727295,
          0.9751389026641846,
          1.0821890830993652,
          0.9119241237640381,
          1.1264092922210693,
          0.9920668601989746,
          1.0539093017578125,
          0.9719390869140625,
          1.0778584480285645,
          5.273436069488525,
          0.9043936729431152,
          0.9685258865356445,
          0.9400758743286133,
          1.0605883598327637,
          0.8854012489318848,
          0.9772062301635742,
          0.9781482219696045,
          0.9222633838653564,
          0.9529268741607666,
          5.264984369277954,
          0.9807181358337402,
          0.9571576118469238,
          0.9259774684906006,
          0.962242603302002,
          0.8753526210784912,
          0.983102560043335,
          0.943112850189209,
          0.8922061920166016,
          0.9230954647064209,
          5.191206455230713,
          0.9166202545166016,
          0.9446609020233154,
          0.921065092086792,
          0.913555383682251,
          0.8892958164215088,
          0.8978471755981445,
          0.9172470569610596,
          0.8642759323120117,
          0.9107279777526855,
          5.201963663101196,
          0.8814160823822021,
          0.913175106048584,
          0.8739345073699951,
          2.583089590072632,
          0.9146623611450195,
          0.8944973945617676,
          0.8872179985046387,
          0.9076621532440186,
          0.9599943161010742,
          5.205148696899414,
          0.8713645935058594,
          0.9066386222839355,
          0.8936276435852051,
          0.8920884132385254,
          0.8589005470275879,
          0.9116020202636719,
          0.8889577388763428,
          0.9001388549804688,
          0.9182412624359131,
          5.221342325210571,
          0.8824968338012695,
          0.875725507736206,
          0.8913123607635498,
          0.9424030780792236,
          0.8637175559997559,
          0.8826875686645508,
          0.8821713924407959,
          0.883450984954834,
          0.8799526691436768,
          5.194474697113037,
          0.8828034400939941,
          0.8731369972229004,
          0.8907010555267334,
          0.8779458999633789,
          0.8669106960296631,
          0.8843953609466553,
          0.8616399765014648,
          0.8716175556182861,
          0.8599424362182617,
          5.262112855911255,
          0.8861870765686035,
          0.8693561553955078,
          0.8806006908416748,
          0.8860597610473633,
          0.8695671558380127,
          0.8900806903839111,
          0.9259510040283203,
          0.8734409809112549,
          0.886754035949707,
          5.222658634185791,
          0.8845388889312744,
          0.8664939403533936,
          0.9012861251831055,
          0.8875746726989746,
          0.8616440296173096,
          0.861572265625,
          0.8708906173706055,
          0.8778591156005859,
          0.8700940608978271,
          5.183769941329956,
          0.8680801391601562,
          0.884401798248291,
          0.8635392189025879,
          0.8912804126739502,
          0.8871686458587646,
          0.8625872135162354,
          0.8709108829498291,
          0.8703515529632568,
          0.8801546096801758,
          5.216851234436035,
          0.8775360584259033,
          0.8691248893737793,
          0.8595757484436035,
          0.86370849609375,
          0.8637828826904297,
          0.8707826137542725,
          0.8682403564453125,
          0.917802095413208,
          0.8691258430480957,
          5.181887865066528,
          0.8857390880584717,
          0.8703558444976807,
          0.8667020797729492,
          0.8676388263702393,
          0.8758773803710938,
          0.873490571975708,
          0.8749771118164062,
          0.8628053665161133,
          0.8698697090148926,
          5.200871706008911,
          0.8849971294403076,
          0.8736865520477295,
          0.8749077320098877,
          0.8686554431915283,
          0.8910212516784668,
          0.8894553184509277,
          0.8722662925720215,
          0.9285500049591064,
          0.8800079822540283,
          5.1854567527771,
          0.8877158164978027,
          0.8712520599365234,
          0.8659553527832031,
          0.8648579120635986,
          0.8696010112762451,
          0.87076735496521,
          0.8734676837921143,
          0.8684124946594238,
          0.8665969371795654,
          5.200244426727295,
          0.8812685012817383,
          0.8671646118164062,
          0.8776836395263672,
          0.871873140335083,
          0.8678529262542725,
          0.8742568492889404,
          0.8700847625732422,
          0.8600418567657471,
          0.8630986213684082,
          5.208820104598999,
          0.8741645812988281,
          0.8933818340301514,
          0.8756308555603027,
          0.9064362049102783,
          0.8985109329223633,
          0.8653817176818848,
          0.8614945411682129,
          0.8665463924407959,
          0.8639340400695801,
          5.171176433563232,
          0.8848469257354736,
          0.8707256317138672,
          0.8599269390106201,
          0.887631893157959,
          0.8839819431304932,
          0.8565824031829834,
          0.8661270141601562,
          0.9004483222961426,
          0.8544046878814697,
          5.189716100692749,
          0.8720817565917969,
          0.8722379207611084,
          0.8645799160003662,
          0.8675899505615234,
          0.8963932991027832,
          0.8670053482055664,
          0.8742492198944092,
          0.8687059879302979,
          0.8624069690704346,
          5.161774396896362,
          0.8676557540893555,
          0.8814826011657715,
          0.8586788177490234,
          0.8770506381988525,
          0.8626143932342529,
          0.8763017654418945,
          0.863011360168457,
          0.8739268779754639,
          0.8609127998352051,
          5.158374786376953,
          0.8738865852355957,
          0.8659143447875977,
          0.863739013671875,
          0.9088165760040283,
          0.9103751182556152,
          0.8781547546386719,
          0.8789498805999756,
          0.875683069229126,
          0.8682746887207031,
          5.177421569824219,
          0.8731682300567627,
          0.8658430576324463,
          0.8668739795684814,
          0.8757057189941406,
          0.8779149055480957,
          0.8625319004058838,
          0.8853185176849365,
          0.8665683269500732,
          0.8652453422546387,
          5.186845779418945,
          0.8643743991851807,
          0.872398853302002,
          0.8676304817199707,
          0.8732936382293701,
          0.8579089641571045,
          0.8758556842803955,
          0.8779401779174805,
          0.8650181293487549,
          0.8617253303527832,
          5.182689428329468,
          0.8807075023651123,
          0.8608064651489258,
          0.8803791999816895,
          0.8646323680877686,
          0.8667075634002686,
          0.8602197170257568,
          0.858832597732544,
          0.8685433864593506,
          0.8604199886322021,
          5.225245714187622,
          0.8761453628540039,
          0.8601579666137695,
          0.8704211711883545,
          0.857323408126831,
          0.8536949157714844,
          0.8650274276733398,
          0.8767526149749756,
          0.8581206798553467,
          0.8694062232971191,
          5.146746635437012,
          0.8877954483032227,
          0.8591282367706299,
          0.8728628158569336,
          0.8608582019805908,
          0.8653686046600342,
          0.8710124492645264,
          0.869239091873169,
          0.8584425449371338
         ],
         "yaxis": "y"
        }
       ],
       "layout": {
        "legend": {
         "tracegroupgap": 0
        },
        "margin": {
         "t": 60
        },
        "template": {
         "data": {
          "bar": [
           {
            "error_x": {
             "color": "#2a3f5f"
            },
            "error_y": {
             "color": "#2a3f5f"
            },
            "marker": {
             "line": {
              "color": "#E5ECF6",
              "width": 0.5
             }
            },
            "type": "bar"
           }
          ],
          "barpolar": [
           {
            "marker": {
             "line": {
              "color": "#E5ECF6",
              "width": 0.5
             }
            },
            "type": "barpolar"
           }
          ],
          "carpet": [
           {
            "aaxis": {
             "endlinecolor": "#2a3f5f",
             "gridcolor": "white",
             "linecolor": "white",
             "minorgridcolor": "white",
             "startlinecolor": "#2a3f5f"
            },
            "baxis": {
             "endlinecolor": "#2a3f5f",
             "gridcolor": "white",
             "linecolor": "white",
             "minorgridcolor": "white",
             "startlinecolor": "#2a3f5f"
            },
            "type": "carpet"
           }
          ],
          "choropleth": [
           {
            "colorbar": {
             "outlinewidth": 0,
             "ticks": ""
            },
            "type": "choropleth"
           }
          ],
          "contour": [
           {
            "colorbar": {
             "outlinewidth": 0,
             "ticks": ""
            },
            "colorscale": [
             [
              0,
              "#0d0887"
             ],
             [
              0.1111111111111111,
              "#46039f"
             ],
             [
              0.2222222222222222,
              "#7201a8"
             ],
             [
              0.3333333333333333,
              "#9c179e"
             ],
             [
              0.4444444444444444,
              "#bd3786"
             ],
             [
              0.5555555555555556,
              "#d8576b"
             ],
             [
              0.6666666666666666,
              "#ed7953"
             ],
             [
              0.7777777777777778,
              "#fb9f3a"
             ],
             [
              0.8888888888888888,
              "#fdca26"
             ],
             [
              1,
              "#f0f921"
             ]
            ],
            "type": "contour"
           }
          ],
          "contourcarpet": [
           {
            "colorbar": {
             "outlinewidth": 0,
             "ticks": ""
            },
            "type": "contourcarpet"
           }
          ],
          "heatmap": [
           {
            "colorbar": {
             "outlinewidth": 0,
             "ticks": ""
            },
            "colorscale": [
             [
              0,
              "#0d0887"
             ],
             [
              0.1111111111111111,
              "#46039f"
             ],
             [
              0.2222222222222222,
              "#7201a8"
             ],
             [
              0.3333333333333333,
              "#9c179e"
             ],
             [
              0.4444444444444444,
              "#bd3786"
             ],
             [
              0.5555555555555556,
              "#d8576b"
             ],
             [
              0.6666666666666666,
              "#ed7953"
             ],
             [
              0.7777777777777778,
              "#fb9f3a"
             ],
             [
              0.8888888888888888,
              "#fdca26"
             ],
             [
              1,
              "#f0f921"
             ]
            ],
            "type": "heatmap"
           }
          ],
          "heatmapgl": [
           {
            "colorbar": {
             "outlinewidth": 0,
             "ticks": ""
            },
            "colorscale": [
             [
              0,
              "#0d0887"
             ],
             [
              0.1111111111111111,
              "#46039f"
             ],
             [
              0.2222222222222222,
              "#7201a8"
             ],
             [
              0.3333333333333333,
              "#9c179e"
             ],
             [
              0.4444444444444444,
              "#bd3786"
             ],
             [
              0.5555555555555556,
              "#d8576b"
             ],
             [
              0.6666666666666666,
              "#ed7953"
             ],
             [
              0.7777777777777778,
              "#fb9f3a"
             ],
             [
              0.8888888888888888,
              "#fdca26"
             ],
             [
              1,
              "#f0f921"
             ]
            ],
            "type": "heatmapgl"
           }
          ],
          "histogram": [
           {
            "marker": {
             "colorbar": {
              "outlinewidth": 0,
              "ticks": ""
             }
            },
            "type": "histogram"
           }
          ],
          "histogram2d": [
           {
            "colorbar": {
             "outlinewidth": 0,
             "ticks": ""
            },
            "colorscale": [
             [
              0,
              "#0d0887"
             ],
             [
              0.1111111111111111,
              "#46039f"
             ],
             [
              0.2222222222222222,
              "#7201a8"
             ],
             [
              0.3333333333333333,
              "#9c179e"
             ],
             [
              0.4444444444444444,
              "#bd3786"
             ],
             [
              0.5555555555555556,
              "#d8576b"
             ],
             [
              0.6666666666666666,
              "#ed7953"
             ],
             [
              0.7777777777777778,
              "#fb9f3a"
             ],
             [
              0.8888888888888888,
              "#fdca26"
             ],
             [
              1,
              "#f0f921"
             ]
            ],
            "type": "histogram2d"
           }
          ],
          "histogram2dcontour": [
           {
            "colorbar": {
             "outlinewidth": 0,
             "ticks": ""
            },
            "colorscale": [
             [
              0,
              "#0d0887"
             ],
             [
              0.1111111111111111,
              "#46039f"
             ],
             [
              0.2222222222222222,
              "#7201a8"
             ],
             [
              0.3333333333333333,
              "#9c179e"
             ],
             [
              0.4444444444444444,
              "#bd3786"
             ],
             [
              0.5555555555555556,
              "#d8576b"
             ],
             [
              0.6666666666666666,
              "#ed7953"
             ],
             [
              0.7777777777777778,
              "#fb9f3a"
             ],
             [
              0.8888888888888888,
              "#fdca26"
             ],
             [
              1,
              "#f0f921"
             ]
            ],
            "type": "histogram2dcontour"
           }
          ],
          "mesh3d": [
           {
            "colorbar": {
             "outlinewidth": 0,
             "ticks": ""
            },
            "type": "mesh3d"
           }
          ],
          "parcoords": [
           {
            "line": {
             "colorbar": {
              "outlinewidth": 0,
              "ticks": ""
             }
            },
            "type": "parcoords"
           }
          ],
          "pie": [
           {
            "automargin": true,
            "type": "pie"
           }
          ],
          "scatter": [
           {
            "marker": {
             "colorbar": {
              "outlinewidth": 0,
              "ticks": ""
             }
            },
            "type": "scatter"
           }
          ],
          "scatter3d": [
           {
            "line": {
             "colorbar": {
              "outlinewidth": 0,
              "ticks": ""
             }
            },
            "marker": {
             "colorbar": {
              "outlinewidth": 0,
              "ticks": ""
             }
            },
            "type": "scatter3d"
           }
          ],
          "scattercarpet": [
           {
            "marker": {
             "colorbar": {
              "outlinewidth": 0,
              "ticks": ""
             }
            },
            "type": "scattercarpet"
           }
          ],
          "scattergeo": [
           {
            "marker": {
             "colorbar": {
              "outlinewidth": 0,
              "ticks": ""
             }
            },
            "type": "scattergeo"
           }
          ],
          "scattergl": [
           {
            "marker": {
             "colorbar": {
              "outlinewidth": 0,
              "ticks": ""
             }
            },
            "type": "scattergl"
           }
          ],
          "scattermapbox": [
           {
            "marker": {
             "colorbar": {
              "outlinewidth": 0,
              "ticks": ""
             }
            },
            "type": "scattermapbox"
           }
          ],
          "scatterpolar": [
           {
            "marker": {
             "colorbar": {
              "outlinewidth": 0,
              "ticks": ""
             }
            },
            "type": "scatterpolar"
           }
          ],
          "scatterpolargl": [
           {
            "marker": {
             "colorbar": {
              "outlinewidth": 0,
              "ticks": ""
             }
            },
            "type": "scatterpolargl"
           }
          ],
          "scatterternary": [
           {
            "marker": {
             "colorbar": {
              "outlinewidth": 0,
              "ticks": ""
             }
            },
            "type": "scatterternary"
           }
          ],
          "surface": [
           {
            "colorbar": {
             "outlinewidth": 0,
             "ticks": ""
            },
            "colorscale": [
             [
              0,
              "#0d0887"
             ],
             [
              0.1111111111111111,
              "#46039f"
             ],
             [
              0.2222222222222222,
              "#7201a8"
             ],
             [
              0.3333333333333333,
              "#9c179e"
             ],
             [
              0.4444444444444444,
              "#bd3786"
             ],
             [
              0.5555555555555556,
              "#d8576b"
             ],
             [
              0.6666666666666666,
              "#ed7953"
             ],
             [
              0.7777777777777778,
              "#fb9f3a"
             ],
             [
              0.8888888888888888,
              "#fdca26"
             ],
             [
              1,
              "#f0f921"
             ]
            ],
            "type": "surface"
           }
          ],
          "table": [
           {
            "cells": {
             "fill": {
              "color": "#EBF0F8"
             },
             "line": {
              "color": "white"
             }
            },
            "header": {
             "fill": {
              "color": "#C8D4E3"
             },
             "line": {
              "color": "white"
             }
            },
            "type": "table"
           }
          ]
         },
         "layout": {
          "annotationdefaults": {
           "arrowcolor": "#2a3f5f",
           "arrowhead": 0,
           "arrowwidth": 1
          },
          "autotypenumbers": "strict",
          "coloraxis": {
           "colorbar": {
            "outlinewidth": 0,
            "ticks": ""
           }
          },
          "colorscale": {
           "diverging": [
            [
             0,
             "#8e0152"
            ],
            [
             0.1,
             "#c51b7d"
            ],
            [
             0.2,
             "#de77ae"
            ],
            [
             0.3,
             "#f1b6da"
            ],
            [
             0.4,
             "#fde0ef"
            ],
            [
             0.5,
             "#f7f7f7"
            ],
            [
             0.6,
             "#e6f5d0"
            ],
            [
             0.7,
             "#b8e186"
            ],
            [
             0.8,
             "#7fbc41"
            ],
            [
             0.9,
             "#4d9221"
            ],
            [
             1,
             "#276419"
            ]
           ],
           "sequential": [
            [
             0,
             "#0d0887"
            ],
            [
             0.1111111111111111,
             "#46039f"
            ],
            [
             0.2222222222222222,
             "#7201a8"
            ],
            [
             0.3333333333333333,
             "#9c179e"
            ],
            [
             0.4444444444444444,
             "#bd3786"
            ],
            [
             0.5555555555555556,
             "#d8576b"
            ],
            [
             0.6666666666666666,
             "#ed7953"
            ],
            [
             0.7777777777777778,
             "#fb9f3a"
            ],
            [
             0.8888888888888888,
             "#fdca26"
            ],
            [
             1,
             "#f0f921"
            ]
           ],
           "sequentialminus": [
            [
             0,
             "#0d0887"
            ],
            [
             0.1111111111111111,
             "#46039f"
            ],
            [
             0.2222222222222222,
             "#7201a8"
            ],
            [
             0.3333333333333333,
             "#9c179e"
            ],
            [
             0.4444444444444444,
             "#bd3786"
            ],
            [
             0.5555555555555556,
             "#d8576b"
            ],
            [
             0.6666666666666666,
             "#ed7953"
            ],
            [
             0.7777777777777778,
             "#fb9f3a"
            ],
            [
             0.8888888888888888,
             "#fdca26"
            ],
            [
             1,
             "#f0f921"
            ]
           ]
          },
          "colorway": [
           "#636efa",
           "#EF553B",
           "#00cc96",
           "#ab63fa",
           "#FFA15A",
           "#19d3f3",
           "#FF6692",
           "#B6E880",
           "#FF97FF",
           "#FECB52"
          ],
          "font": {
           "color": "#2a3f5f"
          },
          "geo": {
           "bgcolor": "white",
           "lakecolor": "white",
           "landcolor": "#E5ECF6",
           "showlakes": true,
           "showland": true,
           "subunitcolor": "white"
          },
          "hoverlabel": {
           "align": "left"
          },
          "hovermode": "closest",
          "mapbox": {
           "style": "light"
          },
          "paper_bgcolor": "white",
          "plot_bgcolor": "#E5ECF6",
          "polar": {
           "angularaxis": {
            "gridcolor": "white",
            "linecolor": "white",
            "ticks": ""
           },
           "bgcolor": "#E5ECF6",
           "radialaxis": {
            "gridcolor": "white",
            "linecolor": "white",
            "ticks": ""
           }
          },
          "scene": {
           "xaxis": {
            "backgroundcolor": "#E5ECF6",
            "gridcolor": "white",
            "gridwidth": 2,
            "linecolor": "white",
            "showbackground": true,
            "ticks": "",
            "zerolinecolor": "white"
           },
           "yaxis": {
            "backgroundcolor": "#E5ECF6",
            "gridcolor": "white",
            "gridwidth": 2,
            "linecolor": "white",
            "showbackground": true,
            "ticks": "",
            "zerolinecolor": "white"
           },
           "zaxis": {
            "backgroundcolor": "#E5ECF6",
            "gridcolor": "white",
            "gridwidth": 2,
            "linecolor": "white",
            "showbackground": true,
            "ticks": "",
            "zerolinecolor": "white"
           }
          },
          "shapedefaults": {
           "line": {
            "color": "#2a3f5f"
           }
          },
          "ternary": {
           "aaxis": {
            "gridcolor": "white",
            "linecolor": "white",
            "ticks": ""
           },
           "baxis": {
            "gridcolor": "white",
            "linecolor": "white",
            "ticks": ""
           },
           "bgcolor": "#E5ECF6",
           "caxis": {
            "gridcolor": "white",
            "linecolor": "white",
            "ticks": ""
           }
          },
          "title": {
           "x": 0.05
          },
          "xaxis": {
           "automargin": true,
           "gridcolor": "white",
           "linecolor": "white",
           "ticks": "",
           "title": {
            "standoff": 15
           },
           "zerolinecolor": "white",
           "zerolinewidth": 2
          },
          "yaxis": {
           "automargin": true,
           "gridcolor": "white",
           "linecolor": "white",
           "ticks": "",
           "title": {
            "standoff": 15
           },
           "zerolinecolor": "white",
           "zerolinewidth": 2
          }
         }
        },
        "xaxis": {
         "anchor": "y",
         "domain": [
          0,
          1
         ],
         "title": {
          "text": "x"
         }
        },
        "yaxis": {
         "anchor": "x",
         "domain": [
          0,
          1
         ],
         "title": {
          "text": "y"
         }
        }
       }
      },
      "text/html": [
       "<div>                            <div id=\"fde84ba3-543a-4031-a177-cf5c167229f7\" class=\"plotly-graph-div\" style=\"height:525px; width:100%;\"></div>            <script type=\"text/javascript\">                require([\"plotly\"], function(Plotly) {                    window.PLOTLYENV=window.PLOTLYENV || {};                                    if (document.getElementById(\"fde84ba3-543a-4031-a177-cf5c167229f7\")) {                    Plotly.newPlot(                        \"fde84ba3-543a-4031-a177-cf5c167229f7\",                        [{\"hovertemplate\": \"x=%{x}<br>y=%{y}<extra></extra>\", \"legendgroup\": \"\", \"line\": {\"color\": \"#636efa\", \"dash\": \"solid\"}, \"mode\": \"lines\", \"name\": \"\", \"orientation\": \"v\", \"showlegend\": false, \"type\": \"scatter\", \"x\": [1, 2, 3, 4, 5, 6, 7, 8, 9, 10, 11, 12, 13, 14, 15, 16, 17, 18, 19, 20, 21, 22, 23, 24, 25, 26, 27, 28, 29, 30, 31, 32, 33, 34, 35, 36, 37, 38, 39, 40, 41, 42, 43, 44, 45, 46, 47, 48, 49, 50, 51, 52, 53, 54, 55, 56, 57, 58, 59, 60, 61, 62, 63, 64, 65, 66, 67, 68, 69, 70, 71, 72, 73, 74, 75, 76, 77, 78, 79, 80, 81, 82, 83, 84, 85, 86, 87, 88, 89, 90, 91, 92, 93, 94, 95, 96, 97, 98, 99, 100, 101, 102, 103, 104, 105, 106, 107, 108, 109, 110, 111, 112, 113, 114, 115, 116, 117, 118, 119, 120, 121, 122, 123, 124, 125, 126, 127, 128, 129, 130, 131, 132, 133, 134, 135, 136, 137, 138, 139, 140, 141, 142, 143, 144, 145, 146, 147, 148, 149, 150, 151, 152, 153, 154, 155, 156, 157, 158, 159, 160, 161, 162, 163, 164, 165, 166, 167, 168, 169, 170, 171, 172, 173, 174, 175, 176, 177, 178, 179, 180, 181, 182, 183, 184, 185, 186, 187, 188, 189, 190, 191, 192, 193, 194, 195, 196, 197, 198, 199, 200, 201, 202, 203, 204, 205, 206, 207, 208, 209, 210, 211, 212, 213, 214, 215, 216, 217, 218, 219, 220, 221, 222, 223, 224, 225, 226, 227, 228, 229, 230, 231, 232, 233, 234, 235, 236, 237, 238, 239, 240, 241, 242, 243, 244, 245, 246, 247, 248, 249, 250, 251, 252, 253, 254, 255, 256, 257, 258, 259, 260, 261, 262, 263, 264, 265, 266, 267, 268, 269, 270, 271, 272, 273, 274, 275, 276, 277, 278, 279, 280, 281, 282, 283, 284, 285, 286, 287, 288, 289, 290, 291, 292, 293, 294, 295, 296, 297, 298, 299, 300], \"xaxis\": \"x\", \"y\": [15.45773720741272, 31.007004022598267, 6.942460775375366, 9.525096893310547, 16.082895517349243, 14.806723833084106, 7.043916702270508, 4.341088056564331, 10.400493144989014, 7.002124547958374, 5.750988960266113, 10.280920028686523, 3.047398805618286, 4.283706426620483, 3.0793333053588867, 2.6242516040802, 2.6016595363616943, 2.5363049507141113, 2.7517378330230713, 1.6707422733306885, 4.188446283340454, 6.901150226593018, 1.9147279262542725, 2.013178586959839, 1.768744945526123, 1.545722484588623, 1.8054633140563965, 1.8545324802398682, 1.1081087589263916, 1.8523929119110107, 1.5186996459960938, 5.778714656829834, 0.9951179027557373, 1.1162121295928955, 1.41353440284729, 0.965059757232666, 1.230900764465332, 1.0384163856506348, 0.9163057804107666, 0.9902386665344238, 1.193451166152954, 5.351526975631714, 1.178760051727295, 0.9751389026641846, 1.0821890830993652, 0.9119241237640381, 1.1264092922210693, 0.9920668601989746, 1.0539093017578125, 0.9719390869140625, 1.0778584480285645, 5.273436069488525, 0.9043936729431152, 0.9685258865356445, 0.9400758743286133, 1.0605883598327637, 0.8854012489318848, 0.9772062301635742, 0.9781482219696045, 0.9222633838653564, 0.9529268741607666, 5.264984369277954, 0.9807181358337402, 0.9571576118469238, 0.9259774684906006, 0.962242603302002, 0.8753526210784912, 0.983102560043335, 0.943112850189209, 0.8922061920166016, 0.9230954647064209, 5.191206455230713, 0.9166202545166016, 0.9446609020233154, 0.921065092086792, 0.913555383682251, 0.8892958164215088, 0.8978471755981445, 0.9172470569610596, 0.8642759323120117, 0.9107279777526855, 5.201963663101196, 0.8814160823822021, 0.913175106048584, 0.8739345073699951, 2.583089590072632, 0.9146623611450195, 0.8944973945617676, 0.8872179985046387, 0.9076621532440186, 0.9599943161010742, 5.205148696899414, 0.8713645935058594, 0.9066386222839355, 0.8936276435852051, 0.8920884132385254, 0.8589005470275879, 0.9116020202636719, 0.8889577388763428, 0.9001388549804688, 0.9182412624359131, 5.221342325210571, 0.8824968338012695, 0.875725507736206, 0.8913123607635498, 0.9424030780792236, 0.8637175559997559, 0.8826875686645508, 0.8821713924407959, 0.883450984954834, 0.8799526691436768, 5.194474697113037, 0.8828034400939941, 0.8731369972229004, 0.8907010555267334, 0.8779458999633789, 0.8669106960296631, 0.8843953609466553, 0.8616399765014648, 0.8716175556182861, 0.8599424362182617, 5.262112855911255, 0.8861870765686035, 0.8693561553955078, 0.8806006908416748, 0.8860597610473633, 0.8695671558380127, 0.8900806903839111, 0.9259510040283203, 0.8734409809112549, 0.886754035949707, 5.222658634185791, 0.8845388889312744, 0.8664939403533936, 0.9012861251831055, 0.8875746726989746, 0.8616440296173096, 0.861572265625, 0.8708906173706055, 0.8778591156005859, 0.8700940608978271, 5.183769941329956, 0.8680801391601562, 0.884401798248291, 0.8635392189025879, 0.8912804126739502, 0.8871686458587646, 0.8625872135162354, 0.8709108829498291, 0.8703515529632568, 0.8801546096801758, 5.216851234436035, 0.8775360584259033, 0.8691248893737793, 0.8595757484436035, 0.86370849609375, 0.8637828826904297, 0.8707826137542725, 0.8682403564453125, 0.917802095413208, 0.8691258430480957, 5.181887865066528, 0.8857390880584717, 0.8703558444976807, 0.8667020797729492, 0.8676388263702393, 0.8758773803710938, 0.873490571975708, 0.8749771118164062, 0.8628053665161133, 0.8698697090148926, 5.200871706008911, 0.8849971294403076, 0.8736865520477295, 0.8749077320098877, 0.8686554431915283, 0.8910212516784668, 0.8894553184509277, 0.8722662925720215, 0.9285500049591064, 0.8800079822540283, 5.1854567527771, 0.8877158164978027, 0.8712520599365234, 0.8659553527832031, 0.8648579120635986, 0.8696010112762451, 0.87076735496521, 0.8734676837921143, 0.8684124946594238, 0.8665969371795654, 5.200244426727295, 0.8812685012817383, 0.8671646118164062, 0.8776836395263672, 0.871873140335083, 0.8678529262542725, 0.8742568492889404, 0.8700847625732422, 0.8600418567657471, 0.8630986213684082, 5.208820104598999, 0.8741645812988281, 0.8933818340301514, 0.8756308555603027, 0.9064362049102783, 0.8985109329223633, 0.8653817176818848, 0.8614945411682129, 0.8665463924407959, 0.8639340400695801, 5.171176433563232, 0.8848469257354736, 0.8707256317138672, 0.8599269390106201, 0.887631893157959, 0.8839819431304932, 0.8565824031829834, 0.8661270141601562, 0.9004483222961426, 0.8544046878814697, 5.189716100692749, 0.8720817565917969, 0.8722379207611084, 0.8645799160003662, 0.8675899505615234, 0.8963932991027832, 0.8670053482055664, 0.8742492198944092, 0.8687059879302979, 0.8624069690704346, 5.161774396896362, 0.8676557540893555, 0.8814826011657715, 0.8586788177490234, 0.8770506381988525, 0.8626143932342529, 0.8763017654418945, 0.863011360168457, 0.8739268779754639, 0.8609127998352051, 5.158374786376953, 0.8738865852355957, 0.8659143447875977, 0.863739013671875, 0.9088165760040283, 0.9103751182556152, 0.8781547546386719, 0.8789498805999756, 0.875683069229126, 0.8682746887207031, 5.177421569824219, 0.8731682300567627, 0.8658430576324463, 0.8668739795684814, 0.8757057189941406, 0.8779149055480957, 0.8625319004058838, 0.8853185176849365, 0.8665683269500732, 0.8652453422546387, 5.186845779418945, 0.8643743991851807, 0.872398853302002, 0.8676304817199707, 0.8732936382293701, 0.8579089641571045, 0.8758556842803955, 0.8779401779174805, 0.8650181293487549, 0.8617253303527832, 5.182689428329468, 0.8807075023651123, 0.8608064651489258, 0.8803791999816895, 0.8646323680877686, 0.8667075634002686, 0.8602197170257568, 0.858832597732544, 0.8685433864593506, 0.8604199886322021, 5.225245714187622, 0.8761453628540039, 0.8601579666137695, 0.8704211711883545, 0.857323408126831, 0.8536949157714844, 0.8650274276733398, 0.8767526149749756, 0.8581206798553467, 0.8694062232971191, 5.146746635437012, 0.8877954483032227, 0.8591282367706299, 0.8728628158569336, 0.8608582019805908, 0.8653686046600342, 0.8710124492645264, 0.869239091873169, 0.8584425449371338], \"yaxis\": \"y\"}],                        {\"legend\": {\"tracegroupgap\": 0}, \"margin\": {\"t\": 60}, \"template\": {\"data\": {\"bar\": [{\"error_x\": {\"color\": \"#2a3f5f\"}, \"error_y\": {\"color\": \"#2a3f5f\"}, \"marker\": {\"line\": {\"color\": \"#E5ECF6\", \"width\": 0.5}}, \"type\": \"bar\"}], \"barpolar\": [{\"marker\": {\"line\": {\"color\": \"#E5ECF6\", \"width\": 0.5}}, \"type\": \"barpolar\"}], \"carpet\": [{\"aaxis\": {\"endlinecolor\": \"#2a3f5f\", \"gridcolor\": \"white\", \"linecolor\": \"white\", \"minorgridcolor\": \"white\", \"startlinecolor\": \"#2a3f5f\"}, \"baxis\": {\"endlinecolor\": \"#2a3f5f\", \"gridcolor\": \"white\", \"linecolor\": \"white\", \"minorgridcolor\": \"white\", \"startlinecolor\": \"#2a3f5f\"}, \"type\": \"carpet\"}], \"choropleth\": [{\"colorbar\": {\"outlinewidth\": 0, \"ticks\": \"\"}, \"type\": \"choropleth\"}], \"contour\": [{\"colorbar\": {\"outlinewidth\": 0, \"ticks\": \"\"}, \"colorscale\": [[0.0, \"#0d0887\"], [0.1111111111111111, \"#46039f\"], [0.2222222222222222, \"#7201a8\"], [0.3333333333333333, \"#9c179e\"], [0.4444444444444444, \"#bd3786\"], [0.5555555555555556, \"#d8576b\"], [0.6666666666666666, \"#ed7953\"], [0.7777777777777778, \"#fb9f3a\"], [0.8888888888888888, \"#fdca26\"], [1.0, \"#f0f921\"]], \"type\": \"contour\"}], \"contourcarpet\": [{\"colorbar\": {\"outlinewidth\": 0, \"ticks\": \"\"}, \"type\": \"contourcarpet\"}], \"heatmap\": [{\"colorbar\": {\"outlinewidth\": 0, \"ticks\": \"\"}, \"colorscale\": [[0.0, \"#0d0887\"], [0.1111111111111111, \"#46039f\"], [0.2222222222222222, \"#7201a8\"], [0.3333333333333333, \"#9c179e\"], [0.4444444444444444, \"#bd3786\"], [0.5555555555555556, \"#d8576b\"], [0.6666666666666666, \"#ed7953\"], [0.7777777777777778, \"#fb9f3a\"], [0.8888888888888888, \"#fdca26\"], [1.0, \"#f0f921\"]], \"type\": \"heatmap\"}], \"heatmapgl\": [{\"colorbar\": {\"outlinewidth\": 0, \"ticks\": \"\"}, \"colorscale\": [[0.0, \"#0d0887\"], [0.1111111111111111, \"#46039f\"], [0.2222222222222222, \"#7201a8\"], [0.3333333333333333, \"#9c179e\"], [0.4444444444444444, \"#bd3786\"], [0.5555555555555556, \"#d8576b\"], [0.6666666666666666, \"#ed7953\"], [0.7777777777777778, \"#fb9f3a\"], [0.8888888888888888, \"#fdca26\"], [1.0, \"#f0f921\"]], \"type\": \"heatmapgl\"}], \"histogram\": [{\"marker\": {\"colorbar\": {\"outlinewidth\": 0, \"ticks\": \"\"}}, \"type\": \"histogram\"}], \"histogram2d\": [{\"colorbar\": {\"outlinewidth\": 0, \"ticks\": \"\"}, \"colorscale\": [[0.0, \"#0d0887\"], [0.1111111111111111, \"#46039f\"], [0.2222222222222222, \"#7201a8\"], [0.3333333333333333, \"#9c179e\"], [0.4444444444444444, \"#bd3786\"], [0.5555555555555556, \"#d8576b\"], [0.6666666666666666, \"#ed7953\"], [0.7777777777777778, \"#fb9f3a\"], [0.8888888888888888, \"#fdca26\"], [1.0, \"#f0f921\"]], \"type\": \"histogram2d\"}], \"histogram2dcontour\": [{\"colorbar\": {\"outlinewidth\": 0, \"ticks\": \"\"}, \"colorscale\": [[0.0, \"#0d0887\"], [0.1111111111111111, \"#46039f\"], [0.2222222222222222, \"#7201a8\"], [0.3333333333333333, \"#9c179e\"], [0.4444444444444444, \"#bd3786\"], [0.5555555555555556, \"#d8576b\"], [0.6666666666666666, \"#ed7953\"], [0.7777777777777778, \"#fb9f3a\"], [0.8888888888888888, \"#fdca26\"], [1.0, \"#f0f921\"]], \"type\": \"histogram2dcontour\"}], \"mesh3d\": [{\"colorbar\": {\"outlinewidth\": 0, \"ticks\": \"\"}, \"type\": \"mesh3d\"}], \"parcoords\": [{\"line\": {\"colorbar\": {\"outlinewidth\": 0, \"ticks\": \"\"}}, \"type\": \"parcoords\"}], \"pie\": [{\"automargin\": true, \"type\": \"pie\"}], \"scatter\": [{\"marker\": {\"colorbar\": {\"outlinewidth\": 0, \"ticks\": \"\"}}, \"type\": \"scatter\"}], \"scatter3d\": [{\"line\": {\"colorbar\": {\"outlinewidth\": 0, \"ticks\": \"\"}}, \"marker\": {\"colorbar\": {\"outlinewidth\": 0, \"ticks\": \"\"}}, \"type\": \"scatter3d\"}], \"scattercarpet\": [{\"marker\": {\"colorbar\": {\"outlinewidth\": 0, \"ticks\": \"\"}}, \"type\": \"scattercarpet\"}], \"scattergeo\": [{\"marker\": {\"colorbar\": {\"outlinewidth\": 0, \"ticks\": \"\"}}, \"type\": \"scattergeo\"}], \"scattergl\": [{\"marker\": {\"colorbar\": {\"outlinewidth\": 0, \"ticks\": \"\"}}, \"type\": \"scattergl\"}], \"scattermapbox\": [{\"marker\": {\"colorbar\": {\"outlinewidth\": 0, \"ticks\": \"\"}}, \"type\": \"scattermapbox\"}], \"scatterpolar\": [{\"marker\": {\"colorbar\": {\"outlinewidth\": 0, \"ticks\": \"\"}}, \"type\": \"scatterpolar\"}], \"scatterpolargl\": [{\"marker\": {\"colorbar\": {\"outlinewidth\": 0, \"ticks\": \"\"}}, \"type\": \"scatterpolargl\"}], \"scatterternary\": [{\"marker\": {\"colorbar\": {\"outlinewidth\": 0, \"ticks\": \"\"}}, \"type\": \"scatterternary\"}], \"surface\": [{\"colorbar\": {\"outlinewidth\": 0, \"ticks\": \"\"}, \"colorscale\": [[0.0, \"#0d0887\"], [0.1111111111111111, \"#46039f\"], [0.2222222222222222, \"#7201a8\"], [0.3333333333333333, \"#9c179e\"], [0.4444444444444444, \"#bd3786\"], [0.5555555555555556, \"#d8576b\"], [0.6666666666666666, \"#ed7953\"], [0.7777777777777778, \"#fb9f3a\"], [0.8888888888888888, \"#fdca26\"], [1.0, \"#f0f921\"]], \"type\": \"surface\"}], \"table\": [{\"cells\": {\"fill\": {\"color\": \"#EBF0F8\"}, \"line\": {\"color\": \"white\"}}, \"header\": {\"fill\": {\"color\": \"#C8D4E3\"}, \"line\": {\"color\": \"white\"}}, \"type\": \"table\"}]}, \"layout\": {\"annotationdefaults\": {\"arrowcolor\": \"#2a3f5f\", \"arrowhead\": 0, \"arrowwidth\": 1}, \"autotypenumbers\": \"strict\", \"coloraxis\": {\"colorbar\": {\"outlinewidth\": 0, \"ticks\": \"\"}}, \"colorscale\": {\"diverging\": [[0, \"#8e0152\"], [0.1, \"#c51b7d\"], [0.2, \"#de77ae\"], [0.3, \"#f1b6da\"], [0.4, \"#fde0ef\"], [0.5, \"#f7f7f7\"], [0.6, \"#e6f5d0\"], [0.7, \"#b8e186\"], [0.8, \"#7fbc41\"], [0.9, \"#4d9221\"], [1, \"#276419\"]], \"sequential\": [[0.0, \"#0d0887\"], [0.1111111111111111, \"#46039f\"], [0.2222222222222222, \"#7201a8\"], [0.3333333333333333, \"#9c179e\"], [0.4444444444444444, \"#bd3786\"], [0.5555555555555556, \"#d8576b\"], [0.6666666666666666, \"#ed7953\"], [0.7777777777777778, \"#fb9f3a\"], [0.8888888888888888, \"#fdca26\"], [1.0, \"#f0f921\"]], \"sequentialminus\": [[0.0, \"#0d0887\"], [0.1111111111111111, \"#46039f\"], [0.2222222222222222, \"#7201a8\"], [0.3333333333333333, \"#9c179e\"], [0.4444444444444444, \"#bd3786\"], [0.5555555555555556, \"#d8576b\"], [0.6666666666666666, \"#ed7953\"], [0.7777777777777778, \"#fb9f3a\"], [0.8888888888888888, \"#fdca26\"], [1.0, \"#f0f921\"]]}, \"colorway\": [\"#636efa\", \"#EF553B\", \"#00cc96\", \"#ab63fa\", \"#FFA15A\", \"#19d3f3\", \"#FF6692\", \"#B6E880\", \"#FF97FF\", \"#FECB52\"], \"font\": {\"color\": \"#2a3f5f\"}, \"geo\": {\"bgcolor\": \"white\", \"lakecolor\": \"white\", \"landcolor\": \"#E5ECF6\", \"showlakes\": true, \"showland\": true, \"subunitcolor\": \"white\"}, \"hoverlabel\": {\"align\": \"left\"}, \"hovermode\": \"closest\", \"mapbox\": {\"style\": \"light\"}, \"paper_bgcolor\": \"white\", \"plot_bgcolor\": \"#E5ECF6\", \"polar\": {\"angularaxis\": {\"gridcolor\": \"white\", \"linecolor\": \"white\", \"ticks\": \"\"}, \"bgcolor\": \"#E5ECF6\", \"radialaxis\": {\"gridcolor\": \"white\", \"linecolor\": \"white\", \"ticks\": \"\"}}, \"scene\": {\"xaxis\": {\"backgroundcolor\": \"#E5ECF6\", \"gridcolor\": \"white\", \"gridwidth\": 2, \"linecolor\": \"white\", \"showbackground\": true, \"ticks\": \"\", \"zerolinecolor\": \"white\"}, \"yaxis\": {\"backgroundcolor\": \"#E5ECF6\", \"gridcolor\": \"white\", \"gridwidth\": 2, \"linecolor\": \"white\", \"showbackground\": true, \"ticks\": \"\", \"zerolinecolor\": \"white\"}, \"zaxis\": {\"backgroundcolor\": \"#E5ECF6\", \"gridcolor\": \"white\", \"gridwidth\": 2, \"linecolor\": \"white\", \"showbackground\": true, \"ticks\": \"\", \"zerolinecolor\": \"white\"}}, \"shapedefaults\": {\"line\": {\"color\": \"#2a3f5f\"}}, \"ternary\": {\"aaxis\": {\"gridcolor\": \"white\", \"linecolor\": \"white\", \"ticks\": \"\"}, \"baxis\": {\"gridcolor\": \"white\", \"linecolor\": \"white\", \"ticks\": \"\"}, \"bgcolor\": \"#E5ECF6\", \"caxis\": {\"gridcolor\": \"white\", \"linecolor\": \"white\", \"ticks\": \"\"}}, \"title\": {\"x\": 0.05}, \"xaxis\": {\"automargin\": true, \"gridcolor\": \"white\", \"linecolor\": \"white\", \"ticks\": \"\", \"title\": {\"standoff\": 15}, \"zerolinecolor\": \"white\", \"zerolinewidth\": 2}, \"yaxis\": {\"automargin\": true, \"gridcolor\": \"white\", \"linecolor\": \"white\", \"ticks\": \"\", \"title\": {\"standoff\": 15}, \"zerolinecolor\": \"white\", \"zerolinewidth\": 2}}}, \"xaxis\": {\"anchor\": \"y\", \"domain\": [0.0, 1.0], \"title\": {\"text\": \"x\"}}, \"yaxis\": {\"anchor\": \"x\", \"domain\": [0.0, 1.0], \"title\": {\"text\": \"y\"}}},                        {\"responsive\": true}                    ).then(function(){\n",
       "                            \n",
       "var gd = document.getElementById('fde84ba3-543a-4031-a177-cf5c167229f7');\n",
       "var x = new MutationObserver(function (mutations, observer) {{\n",
       "        var display = window.getComputedStyle(gd).display;\n",
       "        if (!display || display === 'none') {{\n",
       "            console.log([gd, 'removed!']);\n",
       "            Plotly.purge(gd);\n",
       "            observer.disconnect();\n",
       "        }}\n",
       "}});\n",
       "\n",
       "// Listen for the removal of the full notebook cells\n",
       "var notebookContainer = gd.closest('#notebook-container');\n",
       "if (notebookContainer) {{\n",
       "    x.observe(notebookContainer, {childList: true});\n",
       "}}\n",
       "\n",
       "// Listen for the clearing of the current output cell\n",
       "var outputEl = gd.closest('.output');\n",
       "if (outputEl) {{\n",
       "    x.observe(outputEl, {childList: true});\n",
       "}}\n",
       "\n",
       "                        })                };                });            </script>        </div>"
      ]
     },
     "metadata": {},
     "output_type": "display_data"
    }
   ],
   "source": [
    "keys = time_itr_dict.keys()\n",
    "values = time_itr_dict.values()\n",
    "\n",
    "px.line(x=keys,y=values)"
   ]
  },
  {
   "cell_type": "code",
   "execution_count": 49,
   "metadata": {},
   "outputs": [
    {
     "name": "stdout",
     "output_type": "stream",
     "text": [
      "On branch master\r\n",
      "Changes not staged for commit:\r\n",
      "  (use \"git add/rm <file>...\" to update what will be committed)\r\n",
      "  (use \"git restore <file>...\" to discard changes in working directory)\r\n",
      "\t\u001b[31mdeleted:    Clustering-algorithm-single-core-clstr-diction-(120,0.9).ipynb\u001b[m\r\n",
      "\t\u001b[31mdeleted:    Clustering-algorithm-single-core-parent-array-(120,0.9).ipynb\u001b[m\r\n",
      "\t\u001b[31mdeleted:    Clustering-parent_array.ipynb\u001b[m\r\n",
      "\r\n",
      "Untracked files:\r\n",
      "  (use \"git add <file>...\" to include in what will be committed)\r\n",
      "\t\u001b[31m.ipynb_checkpoints/\u001b[m\r\n",
      "\t\u001b[31mClustering-algorithm-single-core-(gamma=0.9).ipynb\u001b[m\r\n",
      "\t\u001b[31macrcy_dict_12,8,6,200,0.9_par_arr.json\u001b[m\r\n",
      "\t\u001b[31macrcy_dict_12,8,6,300,0.9_clstr_dict.json\u001b[m\r\n",
      "\t\u001b[31merrors_shuffled.txt\u001b[m\r\n",
      "\t\u001b[31mevyat.txt\u001b[m\r\n",
      "\t\u001b[31mnips-2017-camera-long.pdf\u001b[m\r\n",
      "\t\u001b[31mtargetBlawat et al.LDPC.txt\u001b[m\r\n",
      "\t\u001b[31mtime_itr_dict_12,8,6,200,0.9_par_arr.json\u001b[m\r\n",
      "\t\u001b[31mtime_itr_dict_12,8,6,300,0.9_clstr_dict.json\u001b[m\r\n",
      "\t\u001b[31m../Scaling of Errors with cluster size/\u001b[m\r\n",
      "\r\n",
      "no changes added to commit (use \"git add\" and/or \"git commit -a\")\r\n"
     ]
    }
   ],
   "source": [
    "!git status "
   ]
  },
  {
   "cell_type": "code",
   "execution_count": null,
   "metadata": {},
   "outputs": [],
   "source": [
    "!git add Clustering-algorithm-single-core-\\(gamma=0.9).ipynb"
   ]
  },
  {
   "cell_type": "code",
   "execution_count": 29,
   "metadata": {},
   "outputs": [],
   "source": [
    "# !git add -u && git status && git commit -m \"clstr_dict and parent_arr approaches\" && git push origin master "
   ]
  },
  {
   "cell_type": "code",
   "execution_count": 31,
   "metadata": {},
   "outputs": [
    {
     "name": "stdout",
     "output_type": "stream",
     "text": [
      "Defaulting to user installation because normal site-packages is not writeable\n",
      "Collecting line_profiler\n",
      "  Downloading line_profiler-3.2.6-cp38-cp38-manylinux2010_x86_64.whl (65 kB)\n",
      "\u001b[K     |████████████████████████████████| 65 kB 757 kB/s eta 0:00:011\n",
      "\u001b[?25hRequirement already satisfied: IPython>=0.13 in /home/shubhransh/.local/lib/python3.8/site-packages (from line_profiler) (7.23.1)\n",
      "Requirement already satisfied: decorator in /home/shubhransh/.local/lib/python3.8/site-packages (from IPython>=0.13->line_profiler) (4.4.2)\n",
      "Requirement already satisfied: pickleshare in /home/shubhransh/.local/lib/python3.8/site-packages (from IPython>=0.13->line_profiler) (0.7.5)\n",
      "Requirement already satisfied: setuptools>=18.5 in /usr/lib/python3/dist-packages (from IPython>=0.13->line_profiler) (45.2.0)\n",
      "Requirement already satisfied: jedi>=0.16 in /home/shubhransh/.local/lib/python3.8/site-packages (from IPython>=0.13->line_profiler) (0.17.2)\n",
      "Requirement already satisfied: traitlets>=4.2 in /home/shubhransh/.local/lib/python3.8/site-packages (from IPython>=0.13->line_profiler) (5.0.4)\n",
      "Requirement already satisfied: pygments in /home/shubhransh/.local/lib/python3.8/site-packages (from IPython>=0.13->line_profiler) (2.7.1)\n",
      "Requirement already satisfied: prompt-toolkit!=3.0.0,!=3.0.1,<3.1.0,>=2.0.0 in /home/shubhransh/.local/lib/python3.8/site-packages (from IPython>=0.13->line_profiler) (3.0.7)\n",
      "Requirement already satisfied: pexpect>4.3 in /usr/lib/python3/dist-packages (from IPython>=0.13->line_profiler) (4.6.0)\n",
      "Requirement already satisfied: matplotlib-inline in /home/shubhransh/.local/lib/python3.8/site-packages (from IPython>=0.13->line_profiler) (0.1.2)\n",
      "Requirement already satisfied: backcall in /home/shubhransh/.local/lib/python3.8/site-packages (from IPython>=0.13->line_profiler) (0.2.0)\n",
      "Requirement already satisfied: parso<0.8.0,>=0.7.0 in /home/shubhransh/.local/lib/python3.8/site-packages (from jedi>=0.16->IPython>=0.13->line_profiler) (0.7.1)\n",
      "Requirement already satisfied: wcwidth in /home/shubhransh/.local/lib/python3.8/site-packages (from prompt-toolkit!=3.0.0,!=3.0.1,<3.1.0,>=2.0.0->IPython>=0.13->line_profiler) (0.2.5)\n",
      "Requirement already satisfied: ipython-genutils in /home/shubhransh/.local/lib/python3.8/site-packages (from traitlets>=4.2->IPython>=0.13->line_profiler) (0.2.0)\n",
      "Installing collected packages: line-profiler\n",
      "Successfully installed line-profiler-3.2.6\n",
      "\u001b[33mWARNING: You are using pip version 21.1.1; however, version 21.1.2 is available.\n",
      "You should consider upgrading via the '/usr/bin/python3 -m pip install --upgrade pip' command.\u001b[0m\n"
     ]
    }
   ],
   "source": [
    "!pip install line_profiler"
   ]
  },
  {
   "cell_type": "code",
   "execution_count": null,
   "metadata": {},
   "outputs": [],
   "source": []
  }
 ],
 "metadata": {
  "kernelspec": {
   "display_name": "Python 3",
   "language": "python",
   "name": "python3"
  },
  "language_info": {
   "codemirror_mode": {
    "name": "ipython",
    "version": 3
   },
   "file_extension": ".py",
   "mimetype": "text/x-python",
   "name": "python",
   "nbconvert_exporter": "python",
   "pygments_lexer": "ipython3",
   "version": "3.8.5"
  }
 },
 "nbformat": 4,
 "nbformat_minor": 4
}
