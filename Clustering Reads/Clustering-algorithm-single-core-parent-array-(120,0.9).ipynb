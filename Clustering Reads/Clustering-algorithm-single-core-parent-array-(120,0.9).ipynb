{
 "cells": [
  {
   "cell_type": "code",
   "execution_count": 1,
   "metadata": {},
   "outputs": [],
   "source": [
    "import numpy as np\n",
    "import pandas as pd \n",
    "import string\n",
    "import random\n",
    "import csv\n",
    "import time\n",
    "import math\n",
    "import multiset "
   ]
  },
  {
   "cell_type": "markdown",
   "metadata": {},
   "source": [
    "## Reading Data Files "
   ]
  },
  {
   "cell_type": "code",
   "execution_count": 2,
   "metadata": {},
   "outputs": [],
   "source": [
    "# The target file includes the original sequences that encodes the data. \n",
    "with open('targetBlawat et al.LDPC.txt') as f:\n",
    "    reads = f.readlines()\n",
    "for i in range(0,len(reads)):\n",
    "    reads[i] = reads[i][0:len(reads[i])-1]\n",
    "# reads "
   ]
  },
  {
   "cell_type": "code",
   "execution_count": 3,
   "metadata": {},
   "outputs": [
    {
     "data": {
      "text/plain": [
       "9608"
      ]
     },
     "execution_count": 3,
     "metadata": {},
     "output_type": "execute_result"
    }
   ],
   "source": [
    "np.size(reads)"
   ]
  },
  {
   "cell_type": "code",
   "execution_count": 4,
   "metadata": {},
   "outputs": [],
   "source": [
    "# The errors_shuffled file include the erroneous copies shuffled. \n",
    "with open('errors_shuffled.txt') as f:\n",
    "    reads_err = f.readlines()\n",
    "for i in range(0,len(reads_err)):\n",
    "#     reads_err[i] = reads_err[i][0:len(reads_err[i])-1]\n",
    "    reads_err[i] = reads_err[i].strip()\n",
    "# reads_err"
   ]
  },
  {
   "cell_type": "code",
   "execution_count": 5,
   "metadata": {},
   "outputs": [
    {
     "data": {
      "text/plain": [
       "1161706"
      ]
     },
     "execution_count": 5,
     "metadata": {},
     "output_type": "execute_result"
    }
   ],
   "source": [
    "np.size(reads_err)"
   ]
  },
  {
   "cell_type": "code",
   "execution_count": 6,
   "metadata": {},
   "outputs": [],
   "source": [
    "# evyat.txt include the erroneous copies clustered and labeled. \n",
    "with open('evyat.txt') as f:\n",
    "    reads_cl = f.readlines()\n",
    "for i in range(0,len(reads_cl)):\n",
    "    reads_cl[i] = reads_cl[i].strip()\n",
    "# reads_cl"
   ]
  },
  {
   "cell_type": "markdown",
   "metadata": {},
   "source": [
    "# Functions\n"
   ]
  },
  {
   "cell_type": "code",
   "execution_count": 7,
   "metadata": {},
   "outputs": [],
   "source": [
    "def hash_fun_ind(x,a,w,l): \n",
    "    cnt = 0 \n",
    "    for i in range(0,len(x)):\n",
    "        if x[i] == a[cnt]:\n",
    "            cnt += 1  \n",
    "        else:\n",
    "            cnt = 0 \n",
    "        if cnt == w:\n",
    "            return i-w+1 \n",
    "    return -1\n",
    "\n",
    "def hash_fun(x,a,w,l):\n",
    "    ind = hash_fun_ind(x,a,w,l)\n",
    "    return x[ind:min(len(x),ind+w+l)]\n",
    "\n",
    "def ind_st(st):\n",
    "    #All 3-grams: AAA,AAG,AAC,AAT,AGA,AGC,...,TTA,TTG,TTC,TTT\n",
    "    # A-0, G-1, C-2, T-3\n",
    "    # index of CAT = Decimal representaion of (203)\n",
    "    N_q = {\"A\":0,\"C\":1,\"G\":2,\"T\":3}\n",
    "    dec = 0\n",
    "    for i in range(0,len(st)):\n",
    "        dec += N_q[st[i]]*(4**(len(st)-i-1))\n",
    "    return dec \n",
    "    \n",
    "def bin_sig(x,q):\n",
    "    bs = [0]*(4**q) \n",
    "    for i in range(0,len(x)-q+1):\n",
    "        st = x[i:i+q]\n",
    "        bs[ind_st(st)] = 1\n",
    "    return bs \n",
    "        \n",
    "def ham_dis(x,y):\n",
    "    dis = 0\n",
    "    for i in range(0,len(x)):\n",
    "        if(x[i]!= y[i]):\n",
    "            dis += 1\n",
    "    return dis \n",
    "\n",
    "def rand_perm(w):\n",
    "    return ''.join(random.choice('ACGT') for _ in range(w))\n",
    "\n",
    "def merge(x,y,parent):\n",
    "    parent[x]= min(parent[x],parent[y])\n",
    "    parent[y]= min(parent[x],parent[y])\n",
    "    return parent\n",
    "    \n",
    "def rep_find(inp,parent):\n",
    "    temp = inp\n",
    "    cnt = 0\n",
    "    while(parent[temp]!=temp and cnt<10):\n",
    "        cnt += 1\n",
    "        temp=parent[temp]\n",
    "    return temp \n",
    "\n",
    "def edit_dis(s1, s2):\n",
    "    m=len(s1)+1\n",
    "    n=len(s2)+1\n",
    "\n",
    "    tbl = {}\n",
    "    for i in range(m): tbl[i,0]=i\n",
    "    for j in range(n): tbl[0,j]=j\n",
    "    for i in range(1, m):\n",
    "        for j in range(1, n):\n",
    "            cost = 0 if s1[i-1] == s2[j-1] else 1\n",
    "            tbl[i,j] = min(tbl[i, j-1]+1, tbl[i-1, j]+1, tbl[i-1, j-1]+cost)\n",
    "\n",
    "    return tbl[i,j]\n",
    "\n",
    "def find_in_arr(el,parent):\n",
    "    cnt = 0\n",
    "    for i in range(0,len(parent)):\n",
    "        if parent[i] == el: \n",
    "            cnt += 1 \n",
    "    return cnt \n",
    "        \n",
    "def readFile(fileName):\n",
    "        fileObj = open(fileName, \"r\") #opens the file in read mode\n",
    "        words = fileObj.read().splitlines() #puts the file into an array\n",
    "        fileObj.close()\n",
    "        for i in range(0,len(words)):\n",
    "            words[i] = int(words[i])\n",
    "        return words\n",
    "\n",
    "def read_file_dict(array):\n",
    "    d = dict(enumerate(array.flatten()))\n",
    "    return d[0]\n",
    "    \n",
    "def display_parent(parent):\n",
    "    clstr = {}\n",
    "    for i in range(0,len(parent)):\n",
    "        clstr[i]=[]\n",
    "    for i in range(0,len(parent)):\n",
    "        clstr[rep_find(i,parent)].append(i)\n",
    "    return clstr"
   ]
  },
  {
   "cell_type": "code",
   "execution_count": 8,
   "metadata": {},
   "outputs": [
    {
     "data": {
      "text/plain": [
       "23"
      ]
     },
     "execution_count": 8,
     "metadata": {},
     "output_type": "execute_result"
    }
   ],
   "source": [
    "q =  3\n",
    "x = \"AACCTCTAGACACACAACTATTAGTACCTATTATAAACACAACATAAGGTCAAGATAAGCAGAGA\"\n",
    "y = \"AACACGAAATAACACACCACGAAGAGACACGACACAACACAACAGAGCACAACAGAGCACAACAC\"\n",
    "ham_dis(bin_sig(x,q),bin_sig(y,q))"
   ]
  },
  {
   "cell_type": "code",
   "execution_count": 9,
   "metadata": {},
   "outputs": [
    {
     "data": {
      "text/plain": [
       "3"
      ]
     },
     "execution_count": 9,
     "metadata": {},
     "output_type": "execute_result"
    }
   ],
   "source": [
    "q"
   ]
  },
  {
   "cell_type": "code",
   "execution_count": 10,
   "metadata": {},
   "outputs": [
    {
     "data": {
      "text/plain": [
       "28"
      ]
     },
     "execution_count": 10,
     "metadata": {},
     "output_type": "execute_result"
    }
   ],
   "source": [
    "edit_dis(x,y)"
   ]
  },
  {
   "cell_type": "code",
   "execution_count": 11,
   "metadata": {},
   "outputs": [
    {
     "data": {
      "text/plain": [
       "7"
      ]
     },
     "execution_count": 11,
     "metadata": {},
     "output_type": "execute_result"
    }
   ],
   "source": [
    "x = reads_err[1]\n",
    "y = reads_err[215]\n",
    "ham_dis(bin_sig(x,q),bin_sig(y,q))"
   ]
  },
  {
   "cell_type": "code",
   "execution_count": 12,
   "metadata": {},
   "outputs": [
    {
     "data": {
      "text/plain": [
       "4"
      ]
     },
     "execution_count": 12,
     "metadata": {},
     "output_type": "execute_result"
    }
   ],
   "source": [
    "edit_dis(x,y)"
   ]
  },
  {
   "cell_type": "markdown",
   "metadata": {},
   "source": [
    "# Clustering Algorithm"
   ]
  },
  {
   "cell_type": "code",
   "execution_count": 13,
   "metadata": {},
   "outputs": [],
   "source": [
    "def rep_in_C(read,C_reps):\n",
    "    lower = 0;\n",
    "    upper = len(C_reps) - 1;\n",
    "    while (lower <= upper):\n",
    "        mid = lower + int((upper - lower) / 2)\n",
    "#         print(upper,mid)\n",
    "        res = -1\n",
    "        if (read == (C_reps[mid][0])):\n",
    "            return C_reps[mid][1]\n",
    "        if (read > (C_reps[mid][0])):\n",
    "            lower = mid + 1;\n",
    "        else:\n",
    "            upper = mid - 1;\n",
    "    return -1;\n",
    "\n",
    "def comp_clstrs(alg_clstr,org_clstr,gamma):\n",
    "    num_exist = 0\n",
    "    if(len(alg_clstr)>len(org_clstr)):\n",
    "#         print(alg_clstr)\n",
    "        return 0 \n",
    "    else:\n",
    "        for i in range(0,len(alg_clstr)):\n",
    "            flg_exist = 0\n",
    "            for j in range(0,len(org_clstr)):\n",
    "                if(reads_err[alg_clstr[i]] == org_clstr[j]):\n",
    "                    flg_exist = 1\n",
    "                    num_exist +=1\n",
    "                    break\n",
    "            if(flg_exist == 0):\n",
    "                return 0\n",
    "        if(num_exist < gamma*len(org_clstr)):\n",
    "            return 0\n",
    "            \n",
    "        return 1 \n",
    "    \n",
    "def calc_acrcy(parent,C_dict,C_reps,gamma):\n",
    "    clustering = display_parent(parent)\n",
    "    acrcy = 0\n",
    "    for i in range(0,len(clustering)):\n",
    "        if(len(clustering[i])>=1):\n",
    "            acrcy = acrcy + comp_clstrs(clustering[i],C_dict[rep_in_C(reads_err[clustering[i][0]],C_reps)],gamma)\n",
    "    return acrcy"
   ]
  },
  {
   "cell_type": "code",
   "execution_count": 14,
   "metadata": {},
   "outputs": [],
   "source": [
    "# (Read, Cluster rep of the cluster to which the read belongs to)\n",
    "C_reps = []\n",
    "C_dict = {}\n",
    "rep = reads_cl[0]\n",
    "for i in range(1,len(reads_cl)):\n",
    "    if reads_cl[i] != \"\":\n",
    "        if reads_cl[i][0] == \"*\":\n",
    "            if(len(C_reps)>0):\n",
    "                C_dict[rep].pop()\n",
    "                C_reps.pop()\n",
    "            rep=reads_cl[i-1]\n",
    "            C_dict[rep]=[]\n",
    "        else:\n",
    "#             print(C_dict)\n",
    "            C_dict[rep].append(reads_cl[i])\n",
    "            C_reps.append((reads_cl[i],rep))\n",
    "C_reps.sort(key=lambda x:x[0])"
   ]
  },
  {
   "cell_type": "code",
   "execution_count": 52,
   "metadata": {},
   "outputs": [
    {
     "data": {
      "text/plain": [
       "[('AAAAAAACCGGAATATCAATCGAGCGAATGGGATACTACATTAAGGGATATCACTTGATCACAAG',\n",
       "  'AACGAAACCGGAATATCAATCGAGCGAATGGGATACTACATTAAGGGATATCACTTGATCACAAG'),\n",
       " ('AAAAAAAGGTGAACTCGAAGACGTTAACGATATGACCCGTCAATTAAATGACGTATACACTACT',\n",
       "  'AACTAAAGGTGAACTCGAAGATCGTTAACGATATGACCCGTCAATTAAATGACGTATACACTACT'),\n",
       " ('AAAAACACACTCAACGATACCTCTAACGGATAATCCGGTCACTAACATAAGAAGCACGCAAT',\n",
       "  'AACTACAAACACACTCAACGATACTCTAACGGATAATCCGGTCACTAACATAAGAAGCACGCAAT'),\n",
       " ('AAAAACACCAATCAGATAAGAGTATAAGAGATAAGAACATCTACGAATCCACGCAATATGACG',\n",
       "  'AACCAAACACCAATCAGATAAGAGTATAAGAGATAAGAACATCTACGAATCCACGCAATATGACG'),\n",
       " ('AAAAACACTTAGAAACATCAAGAGCAGCATATCTACCTCGAGTCCGTCTGCACACAACGTAGC',\n",
       "  'AACTAAACACTTAGAAACATCAAGAGCAGCATATCAACCTCGAGTCCGTCTGCACACAACGTAGC')]"
      ]
     },
     "execution_count": 52,
     "metadata": {},
     "output_type": "execute_result"
    }
   ],
   "source": [
    "C_reps[0:5]"
   ]
  },
  {
   "cell_type": "code",
   "execution_count": 53,
   "metadata": {},
   "outputs": [
    {
     "data": {
      "text/plain": [
       "['AATCTCTAGACACACAACTATTAGTACCTATTATAAACACAACATAAGGTCAAGATAAGCAGAGA',\n",
       " 'AACCTCTAGACACACAACTATTAGTACCTATTATAAACACAACATAAGGTCAAGATAAGCAGAGA',\n",
       " 'AACCTCTAGACACACAACTATTAGTACCTATTACAAACACAACATAAGGTCAAGATAAGCAGAGA',\n",
       " 'AACCTCTAGACACACAACTATTAGTACCTATTATAAACACAACATAAGGTCAAGATAAGCAGAGA',\n",
       " 'AACCTCTAGACAACACAACTATTAGTACCTATTATAAACACAACATAAGGTCAAGATAAGCAGAGA']"
      ]
     },
     "execution_count": 53,
     "metadata": {},
     "output_type": "execute_result"
    }
   ],
   "source": [
    "C_dict[list(C_dict.keys())[0]][0:5]"
   ]
  },
  {
   "cell_type": "code",
   "execution_count": 37,
   "metadata": {},
   "outputs": [
    {
     "name": "stdout",
     "output_type": "stream",
     "text": [
      "107\n",
      "0 281715\n",
      "332\n",
      "1 92751\n",
      "843\n",
      "2 201478\n",
      "1152\n",
      "3 104436\n",
      "2010\n",
      "4 267554\n",
      "2198\n",
      "5 71827\n",
      "2798\n",
      "6 179121\n",
      "3585\n",
      "7 227293\n",
      "3708\n",
      "8 33678\n",
      "3708\n",
      "9 613\n",
      "3823\n",
      "10 29291\n",
      "4420\n",
      "11 187749\n",
      "4781\n",
      "12 114062\n",
      "4890\n",
      "13 33048\n",
      "5334\n",
      "14 143210\n",
      "5657\n",
      "15 136841\n",
      "5974\n",
      "16 134168\n",
      "6499\n",
      "17 258154\n",
      "6603\n",
      "18 40723\n",
      "6781\n",
      "19 130627\n",
      "7004\n",
      "20 228290\n",
      "7004\n",
      "21 491\n",
      "7362\n",
      "22 216801\n",
      "7549\n",
      "23 110686\n",
      "7759\n",
      "24 158149\n",
      "8092\n",
      "25 270857\n",
      "8098\n",
      "26 136838\n",
      "8101\n",
      "27 130625\n",
      "8104\n",
      "28 92748\n",
      "8224\n",
      "29 113748\n",
      "8290\n",
      "30 74389\n",
      "8290\n",
      "31 469\n",
      "8501\n",
      "32 233617\n",
      "8793\n",
      "33 282081\n",
      "8945\n",
      "34 229488\n",
      "9016\n",
      "35 189930\n",
      "9028\n",
      "36 51220\n",
      "9061\n",
      "37 68668\n",
      "9065\n",
      "38 136838\n",
      "9081\n",
      "39 72274\n",
      "9109\n",
      "40 104471\n",
      "9164\n",
      "41 109717\n",
      "9212\n",
      "42 145933\n",
      "9265\n",
      "43 156186\n",
      "9333\n",
      "44 239122\n",
      "9375\n",
      "45 221419\n",
      "9380\n",
      "46 228285\n",
      "9414\n",
      "47 119483\n",
      "9425\n",
      "48 174422\n",
      "9445\n",
      "49 157380\n",
      "9445\n",
      "50 618\n",
      "9463\n",
      "51 197889\n",
      "9479\n",
      "52 107450\n",
      "9489\n",
      "53 58548\n",
      "9508\n",
      "54 220125\n",
      "9520\n",
      "55 162687\n",
      "9520\n",
      "56 40723\n",
      "9521\n",
      "57 45721\n",
      "9534\n",
      "58 175450\n",
      "9535\n",
      "59 469\n",
      "9543\n",
      "60 179814\n",
      "9553\n",
      "61 269288\n",
      "9553\n",
      "62 113747\n",
      "9553\n",
      "63 81781\n",
      "9553\n",
      "64 51092\n",
      "9558\n",
      "65 160128\n",
      "9558\n",
      "66 844\n",
      "9559\n",
      "67 190475\n",
      "9558\n",
      "68 116106\n",
      "9558\n",
      "69 116106\n",
      "9558\n",
      "70 126150\n",
      "9559\n",
      "71 181073\n",
      "9564\n",
      "72 236998\n",
      "9574\n",
      "73 348830\n",
      "9574\n",
      "74 92747\n",
      "9574\n",
      "75 25536\n",
      "9575\n",
      "76 216797\n",
      "9575\n",
      "77 67152\n",
      "9575\n",
      "78 78188\n",
      "9576\n",
      "79 57092\n",
      "9576\n",
      "80 47703\n",
      "9577\n",
      "81 13183\n",
      "9577\n",
      "82 198335\n",
      "9577\n",
      "83 27376\n",
      "9576\n",
      "84 217370\n",
      "9576\n",
      "85 51220\n",
      "9576\n",
      "86 127008\n",
      "9576\n",
      "87 150778\n",
      "9576\n",
      "88 158148\n",
      "9576\n",
      "89 51023\n",
      "9576\n",
      "90 67152\n",
      "9576\n",
      "91 217370\n",
      "9576\n",
      "92 223623\n",
      "9576\n",
      "93 29491\n",
      "9577\n",
      "94 108834\n",
      "9578\n",
      "95 397761\n",
      "9578\n",
      "96 47703\n",
      "9578\n",
      "97 55221\n",
      "9578\n",
      "98 78806\n",
      "9577\n",
      "99 207976\n"
     ]
    }
   ],
   "source": [
    "C_til  = [0]*(len(reads_err))\n",
    "parent = [0]*(len(reads_err))\n",
    "for i in range(0,len(reads_err)):\n",
    "    C_til[i] = (i,reads_err[i]) \n",
    "    parent[i] = i\n",
    "\n",
    "acrcy_dict = {}\n",
    "parent_dict = {}\n",
    "parent_dict[0] = parent.copy() \n",
    "\n",
    "gamma = 0.9\n",
    "local_comm = 100\n",
    "\n",
    "q = 3\n",
    "th_high = 12\n",
    "th_low  = 8\n",
    "r = 6\n",
    "w = math.ceil(math.log(len(reads_err[0]),4))\n",
    "l = math.ceil(math.log(len(reads_err),4))\n",
    "\n",
    "\n",
    "for lcl_step in range(0,local_comm):   \n",
    "    a = rand_perm(w)\n",
    "    hash_C_til = [0]*(len(reads_err))\n",
    "\n",
    "    for i in range(0,len(C_til)):\n",
    "        hash_C_til[i] = (i,hash_fun(C_til[i][1],a,w,l))\n",
    "    \n",
    "    hash_C_til.sort(key=lambda x:x[1])\n",
    "\n",
    "    cnt =0\n",
    "    for i in range(0,len(reads_err)-1):\n",
    "        if(hash_C_til[i][1] == \"\"):\n",
    "            continue \n",
    "        else:\n",
    "            if hash_C_til[i][1] == hash_C_til[i+1][1]:\n",
    "                if rep_find(i,parent) == rep_find(i+1,parent):\n",
    "                    continue \n",
    "                x = reads_err[hash_C_til[i][0]]\n",
    "                y = reads_err[hash_C_til[i+1][0]]\n",
    "                if((ham_dis(bin_sig(x,q),bin_sig(y,q)) <= th_low) or ((ham_dis(bin_sig(x,q),bin_sig(y,q)) <= th_high) and edit_dis(x,y)<=r)):\n",
    "                    cnt +=  1\n",
    "                    parent = merge(hash_C_til[i][0],hash_C_til[i+1][0],parent)                    \n",
    "    acrcy_dict[lcl_step+1]=calc_acrcy(parent,C_dict,C_reps,gamma)\n",
    "    parent_dict[lcl_step+1]=parent.copy()\n",
    "    print(acrcy_dict[lcl_step+1]) \n",
    "    print(lcl_step,cnt)"
   ]
  },
  {
   "cell_type": "code",
   "execution_count": 38,
   "metadata": {},
   "outputs": [],
   "source": [
    "import json \n",
    "with open('parent_dict_12_8_6_120_0.9.json', 'w') as fp:\n",
    "    json.dump(parent_dict, fp)\n",
    "with open('acrcy_dict_12_8_6_120_0.9.json', 'w') as fp:\n",
    "    json.dump(acrcy_dict, fp)"
   ]
  },
  {
   "cell_type": "code",
   "execution_count": 40,
   "metadata": {},
   "outputs": [
    {
     "data": {
      "text/plain": [
       "{1: 107,\n",
       " 2: 332,\n",
       " 3: 843,\n",
       " 4: 1152,\n",
       " 5: 2010,\n",
       " 6: 2198,\n",
       " 7: 2798,\n",
       " 8: 3585,\n",
       " 9: 3708,\n",
       " 10: 3708,\n",
       " 11: 3823,\n",
       " 12: 4420,\n",
       " 13: 4781,\n",
       " 14: 4890,\n",
       " 15: 5334,\n",
       " 16: 5657,\n",
       " 17: 5974,\n",
       " 18: 6499,\n",
       " 19: 6603,\n",
       " 20: 6781,\n",
       " 21: 7004,\n",
       " 22: 7004,\n",
       " 23: 7362,\n",
       " 24: 7549,\n",
       " 25: 7759,\n",
       " 26: 8092,\n",
       " 27: 8098,\n",
       " 28: 8101,\n",
       " 29: 8104,\n",
       " 30: 8224,\n",
       " 31: 8290,\n",
       " 32: 8290,\n",
       " 33: 8501,\n",
       " 34: 8793,\n",
       " 35: 8945,\n",
       " 36: 9016,\n",
       " 37: 9028,\n",
       " 38: 9061,\n",
       " 39: 9065,\n",
       " 40: 9081,\n",
       " 41: 9109,\n",
       " 42: 9164,\n",
       " 43: 9212,\n",
       " 44: 9265,\n",
       " 45: 9333,\n",
       " 46: 9375,\n",
       " 47: 9380,\n",
       " 48: 9414,\n",
       " 49: 9425,\n",
       " 50: 9445,\n",
       " 51: 9445,\n",
       " 52: 9463,\n",
       " 53: 9479,\n",
       " 54: 9489,\n",
       " 55: 9508,\n",
       " 56: 9520,\n",
       " 57: 9520,\n",
       " 58: 9521,\n",
       " 59: 9534,\n",
       " 60: 9535,\n",
       " 61: 9543,\n",
       " 62: 9553,\n",
       " 63: 9553,\n",
       " 64: 9553,\n",
       " 65: 9553,\n",
       " 66: 9558,\n",
       " 67: 9558,\n",
       " 68: 9559,\n",
       " 69: 9558,\n",
       " 70: 9558,\n",
       " 71: 9558,\n",
       " 72: 9559,\n",
       " 73: 9564,\n",
       " 74: 9574,\n",
       " 75: 9574,\n",
       " 76: 9574,\n",
       " 77: 9575,\n",
       " 78: 9575,\n",
       " 79: 9575,\n",
       " 80: 9576,\n",
       " 81: 9576,\n",
       " 82: 9577,\n",
       " 83: 9577,\n",
       " 84: 9577,\n",
       " 85: 9576,\n",
       " 86: 9576,\n",
       " 87: 9576,\n",
       " 88: 9576,\n",
       " 89: 9576,\n",
       " 90: 9576,\n",
       " 91: 9576,\n",
       " 92: 9576,\n",
       " 93: 9576,\n",
       " 94: 9576,\n",
       " 95: 9577,\n",
       " 96: 9578,\n",
       " 97: 9578,\n",
       " 98: 9578,\n",
       " 99: 9578,\n",
       " 100: 9577}"
      ]
     },
     "execution_count": 40,
     "metadata": {},
     "output_type": "execute_result"
    }
   ],
   "source": [
    "acrcy_dict "
   ]
  },
  {
   "cell_type": "code",
   "execution_count": 66,
   "metadata": {},
   "outputs": [
    {
     "data": {
      "application/vnd.plotly.v1+json": {
       "config": {
        "plotlyServerURL": "https://plot.ly"
       },
       "data": [
        {
         "hovertemplate": "x=%{x}<br>y=%{y}<extra></extra>",
         "legendgroup": "",
         "marker": {
          "color": "#636efa",
          "symbol": "circle"
         },
         "mode": "markers",
         "name": "",
         "orientation": "v",
         "showlegend": false,
         "type": "scatter",
         "x": [
          1,
          2,
          3,
          4,
          5,
          6,
          7,
          8,
          9,
          10,
          11,
          12,
          13,
          14,
          15,
          16,
          17,
          18,
          19,
          20,
          21,
          22,
          23,
          24,
          25,
          26,
          27,
          28,
          29,
          30,
          31,
          32,
          33,
          34,
          35,
          36,
          37,
          38,
          39,
          40,
          41,
          42,
          43,
          44,
          45,
          46,
          47,
          48,
          49,
          50,
          51,
          52,
          53,
          54,
          55,
          56,
          57,
          58,
          59,
          60,
          61,
          62,
          63,
          64,
          65,
          66,
          67,
          68,
          69,
          70,
          71,
          72,
          73,
          74,
          75,
          76,
          77,
          78,
          79,
          80,
          81,
          82,
          83,
          84,
          85,
          86,
          87,
          88,
          89,
          90,
          91,
          92,
          93,
          94,
          95,
          96,
          97,
          98,
          99,
          100
         ],
         "xaxis": "x",
         "y": [
          107,
          332,
          843,
          1152,
          2010,
          2198,
          2798,
          3585,
          3708,
          3708,
          3823,
          4420,
          4781,
          4890,
          5334,
          5657,
          5974,
          6499,
          6603,
          6781,
          7004,
          7004,
          7362,
          7549,
          7759,
          8092,
          8098,
          8101,
          8104,
          8224,
          8290,
          8290,
          8501,
          8793,
          8945,
          9016,
          9028,
          9061,
          9065,
          9081,
          9109,
          9164,
          9212,
          9265,
          9333,
          9375,
          9380,
          9414,
          9425,
          9445,
          9445,
          9463,
          9479,
          9489,
          9508,
          9520,
          9520,
          9521,
          9534,
          9535,
          9543,
          9553,
          9553,
          9553,
          9553,
          9558,
          9558,
          9559,
          9558,
          9558,
          9558,
          9559,
          9564,
          9574,
          9574,
          9574,
          9575,
          9575,
          9575,
          9576,
          9576,
          9577,
          9577,
          9577,
          9576,
          9576,
          9576,
          9576,
          9576,
          9576,
          9576,
          9576,
          9576,
          9576,
          9577,
          9578,
          9578,
          9578,
          9578,
          9577
         ],
         "yaxis": "y"
        }
       ],
       "layout": {
        "legend": {
         "tracegroupgap": 0
        },
        "margin": {
         "t": 60
        },
        "template": {
         "data": {
          "bar": [
           {
            "error_x": {
             "color": "#2a3f5f"
            },
            "error_y": {
             "color": "#2a3f5f"
            },
            "marker": {
             "line": {
              "color": "#E5ECF6",
              "width": 0.5
             }
            },
            "type": "bar"
           }
          ],
          "barpolar": [
           {
            "marker": {
             "line": {
              "color": "#E5ECF6",
              "width": 0.5
             }
            },
            "type": "barpolar"
           }
          ],
          "carpet": [
           {
            "aaxis": {
             "endlinecolor": "#2a3f5f",
             "gridcolor": "white",
             "linecolor": "white",
             "minorgridcolor": "white",
             "startlinecolor": "#2a3f5f"
            },
            "baxis": {
             "endlinecolor": "#2a3f5f",
             "gridcolor": "white",
             "linecolor": "white",
             "minorgridcolor": "white",
             "startlinecolor": "#2a3f5f"
            },
            "type": "carpet"
           }
          ],
          "choropleth": [
           {
            "colorbar": {
             "outlinewidth": 0,
             "ticks": ""
            },
            "type": "choropleth"
           }
          ],
          "contour": [
           {
            "colorbar": {
             "outlinewidth": 0,
             "ticks": ""
            },
            "colorscale": [
             [
              0,
              "#0d0887"
             ],
             [
              0.1111111111111111,
              "#46039f"
             ],
             [
              0.2222222222222222,
              "#7201a8"
             ],
             [
              0.3333333333333333,
              "#9c179e"
             ],
             [
              0.4444444444444444,
              "#bd3786"
             ],
             [
              0.5555555555555556,
              "#d8576b"
             ],
             [
              0.6666666666666666,
              "#ed7953"
             ],
             [
              0.7777777777777778,
              "#fb9f3a"
             ],
             [
              0.8888888888888888,
              "#fdca26"
             ],
             [
              1,
              "#f0f921"
             ]
            ],
            "type": "contour"
           }
          ],
          "contourcarpet": [
           {
            "colorbar": {
             "outlinewidth": 0,
             "ticks": ""
            },
            "type": "contourcarpet"
           }
          ],
          "heatmap": [
           {
            "colorbar": {
             "outlinewidth": 0,
             "ticks": ""
            },
            "colorscale": [
             [
              0,
              "#0d0887"
             ],
             [
              0.1111111111111111,
              "#46039f"
             ],
             [
              0.2222222222222222,
              "#7201a8"
             ],
             [
              0.3333333333333333,
              "#9c179e"
             ],
             [
              0.4444444444444444,
              "#bd3786"
             ],
             [
              0.5555555555555556,
              "#d8576b"
             ],
             [
              0.6666666666666666,
              "#ed7953"
             ],
             [
              0.7777777777777778,
              "#fb9f3a"
             ],
             [
              0.8888888888888888,
              "#fdca26"
             ],
             [
              1,
              "#f0f921"
             ]
            ],
            "type": "heatmap"
           }
          ],
          "heatmapgl": [
           {
            "colorbar": {
             "outlinewidth": 0,
             "ticks": ""
            },
            "colorscale": [
             [
              0,
              "#0d0887"
             ],
             [
              0.1111111111111111,
              "#46039f"
             ],
             [
              0.2222222222222222,
              "#7201a8"
             ],
             [
              0.3333333333333333,
              "#9c179e"
             ],
             [
              0.4444444444444444,
              "#bd3786"
             ],
             [
              0.5555555555555556,
              "#d8576b"
             ],
             [
              0.6666666666666666,
              "#ed7953"
             ],
             [
              0.7777777777777778,
              "#fb9f3a"
             ],
             [
              0.8888888888888888,
              "#fdca26"
             ],
             [
              1,
              "#f0f921"
             ]
            ],
            "type": "heatmapgl"
           }
          ],
          "histogram": [
           {
            "marker": {
             "colorbar": {
              "outlinewidth": 0,
              "ticks": ""
             }
            },
            "type": "histogram"
           }
          ],
          "histogram2d": [
           {
            "colorbar": {
             "outlinewidth": 0,
             "ticks": ""
            },
            "colorscale": [
             [
              0,
              "#0d0887"
             ],
             [
              0.1111111111111111,
              "#46039f"
             ],
             [
              0.2222222222222222,
              "#7201a8"
             ],
             [
              0.3333333333333333,
              "#9c179e"
             ],
             [
              0.4444444444444444,
              "#bd3786"
             ],
             [
              0.5555555555555556,
              "#d8576b"
             ],
             [
              0.6666666666666666,
              "#ed7953"
             ],
             [
              0.7777777777777778,
              "#fb9f3a"
             ],
             [
              0.8888888888888888,
              "#fdca26"
             ],
             [
              1,
              "#f0f921"
             ]
            ],
            "type": "histogram2d"
           }
          ],
          "histogram2dcontour": [
           {
            "colorbar": {
             "outlinewidth": 0,
             "ticks": ""
            },
            "colorscale": [
             [
              0,
              "#0d0887"
             ],
             [
              0.1111111111111111,
              "#46039f"
             ],
             [
              0.2222222222222222,
              "#7201a8"
             ],
             [
              0.3333333333333333,
              "#9c179e"
             ],
             [
              0.4444444444444444,
              "#bd3786"
             ],
             [
              0.5555555555555556,
              "#d8576b"
             ],
             [
              0.6666666666666666,
              "#ed7953"
             ],
             [
              0.7777777777777778,
              "#fb9f3a"
             ],
             [
              0.8888888888888888,
              "#fdca26"
             ],
             [
              1,
              "#f0f921"
             ]
            ],
            "type": "histogram2dcontour"
           }
          ],
          "mesh3d": [
           {
            "colorbar": {
             "outlinewidth": 0,
             "ticks": ""
            },
            "type": "mesh3d"
           }
          ],
          "parcoords": [
           {
            "line": {
             "colorbar": {
              "outlinewidth": 0,
              "ticks": ""
             }
            },
            "type": "parcoords"
           }
          ],
          "pie": [
           {
            "automargin": true,
            "type": "pie"
           }
          ],
          "scatter": [
           {
            "marker": {
             "colorbar": {
              "outlinewidth": 0,
              "ticks": ""
             }
            },
            "type": "scatter"
           }
          ],
          "scatter3d": [
           {
            "line": {
             "colorbar": {
              "outlinewidth": 0,
              "ticks": ""
             }
            },
            "marker": {
             "colorbar": {
              "outlinewidth": 0,
              "ticks": ""
             }
            },
            "type": "scatter3d"
           }
          ],
          "scattercarpet": [
           {
            "marker": {
             "colorbar": {
              "outlinewidth": 0,
              "ticks": ""
             }
            },
            "type": "scattercarpet"
           }
          ],
          "scattergeo": [
           {
            "marker": {
             "colorbar": {
              "outlinewidth": 0,
              "ticks": ""
             }
            },
            "type": "scattergeo"
           }
          ],
          "scattergl": [
           {
            "marker": {
             "colorbar": {
              "outlinewidth": 0,
              "ticks": ""
             }
            },
            "type": "scattergl"
           }
          ],
          "scattermapbox": [
           {
            "marker": {
             "colorbar": {
              "outlinewidth": 0,
              "ticks": ""
             }
            },
            "type": "scattermapbox"
           }
          ],
          "scatterpolar": [
           {
            "marker": {
             "colorbar": {
              "outlinewidth": 0,
              "ticks": ""
             }
            },
            "type": "scatterpolar"
           }
          ],
          "scatterpolargl": [
           {
            "marker": {
             "colorbar": {
              "outlinewidth": 0,
              "ticks": ""
             }
            },
            "type": "scatterpolargl"
           }
          ],
          "scatterternary": [
           {
            "marker": {
             "colorbar": {
              "outlinewidth": 0,
              "ticks": ""
             }
            },
            "type": "scatterternary"
           }
          ],
          "surface": [
           {
            "colorbar": {
             "outlinewidth": 0,
             "ticks": ""
            },
            "colorscale": [
             [
              0,
              "#0d0887"
             ],
             [
              0.1111111111111111,
              "#46039f"
             ],
             [
              0.2222222222222222,
              "#7201a8"
             ],
             [
              0.3333333333333333,
              "#9c179e"
             ],
             [
              0.4444444444444444,
              "#bd3786"
             ],
             [
              0.5555555555555556,
              "#d8576b"
             ],
             [
              0.6666666666666666,
              "#ed7953"
             ],
             [
              0.7777777777777778,
              "#fb9f3a"
             ],
             [
              0.8888888888888888,
              "#fdca26"
             ],
             [
              1,
              "#f0f921"
             ]
            ],
            "type": "surface"
           }
          ],
          "table": [
           {
            "cells": {
             "fill": {
              "color": "#EBF0F8"
             },
             "line": {
              "color": "white"
             }
            },
            "header": {
             "fill": {
              "color": "#C8D4E3"
             },
             "line": {
              "color": "white"
             }
            },
            "type": "table"
           }
          ]
         },
         "layout": {
          "annotationdefaults": {
           "arrowcolor": "#2a3f5f",
           "arrowhead": 0,
           "arrowwidth": 1
          },
          "autotypenumbers": "strict",
          "coloraxis": {
           "colorbar": {
            "outlinewidth": 0,
            "ticks": ""
           }
          },
          "colorscale": {
           "diverging": [
            [
             0,
             "#8e0152"
            ],
            [
             0.1,
             "#c51b7d"
            ],
            [
             0.2,
             "#de77ae"
            ],
            [
             0.3,
             "#f1b6da"
            ],
            [
             0.4,
             "#fde0ef"
            ],
            [
             0.5,
             "#f7f7f7"
            ],
            [
             0.6,
             "#e6f5d0"
            ],
            [
             0.7,
             "#b8e186"
            ],
            [
             0.8,
             "#7fbc41"
            ],
            [
             0.9,
             "#4d9221"
            ],
            [
             1,
             "#276419"
            ]
           ],
           "sequential": [
            [
             0,
             "#0d0887"
            ],
            [
             0.1111111111111111,
             "#46039f"
            ],
            [
             0.2222222222222222,
             "#7201a8"
            ],
            [
             0.3333333333333333,
             "#9c179e"
            ],
            [
             0.4444444444444444,
             "#bd3786"
            ],
            [
             0.5555555555555556,
             "#d8576b"
            ],
            [
             0.6666666666666666,
             "#ed7953"
            ],
            [
             0.7777777777777778,
             "#fb9f3a"
            ],
            [
             0.8888888888888888,
             "#fdca26"
            ],
            [
             1,
             "#f0f921"
            ]
           ],
           "sequentialminus": [
            [
             0,
             "#0d0887"
            ],
            [
             0.1111111111111111,
             "#46039f"
            ],
            [
             0.2222222222222222,
             "#7201a8"
            ],
            [
             0.3333333333333333,
             "#9c179e"
            ],
            [
             0.4444444444444444,
             "#bd3786"
            ],
            [
             0.5555555555555556,
             "#d8576b"
            ],
            [
             0.6666666666666666,
             "#ed7953"
            ],
            [
             0.7777777777777778,
             "#fb9f3a"
            ],
            [
             0.8888888888888888,
             "#fdca26"
            ],
            [
             1,
             "#f0f921"
            ]
           ]
          },
          "colorway": [
           "#636efa",
           "#EF553B",
           "#00cc96",
           "#ab63fa",
           "#FFA15A",
           "#19d3f3",
           "#FF6692",
           "#B6E880",
           "#FF97FF",
           "#FECB52"
          ],
          "font": {
           "color": "#2a3f5f"
          },
          "geo": {
           "bgcolor": "white",
           "lakecolor": "white",
           "landcolor": "#E5ECF6",
           "showlakes": true,
           "showland": true,
           "subunitcolor": "white"
          },
          "hoverlabel": {
           "align": "left"
          },
          "hovermode": "closest",
          "mapbox": {
           "style": "light"
          },
          "paper_bgcolor": "white",
          "plot_bgcolor": "#E5ECF6",
          "polar": {
           "angularaxis": {
            "gridcolor": "white",
            "linecolor": "white",
            "ticks": ""
           },
           "bgcolor": "#E5ECF6",
           "radialaxis": {
            "gridcolor": "white",
            "linecolor": "white",
            "ticks": ""
           }
          },
          "scene": {
           "xaxis": {
            "backgroundcolor": "#E5ECF6",
            "gridcolor": "white",
            "gridwidth": 2,
            "linecolor": "white",
            "showbackground": true,
            "ticks": "",
            "zerolinecolor": "white"
           },
           "yaxis": {
            "backgroundcolor": "#E5ECF6",
            "gridcolor": "white",
            "gridwidth": 2,
            "linecolor": "white",
            "showbackground": true,
            "ticks": "",
            "zerolinecolor": "white"
           },
           "zaxis": {
            "backgroundcolor": "#E5ECF6",
            "gridcolor": "white",
            "gridwidth": 2,
            "linecolor": "white",
            "showbackground": true,
            "ticks": "",
            "zerolinecolor": "white"
           }
          },
          "shapedefaults": {
           "line": {
            "color": "#2a3f5f"
           }
          },
          "ternary": {
           "aaxis": {
            "gridcolor": "white",
            "linecolor": "white",
            "ticks": ""
           },
           "baxis": {
            "gridcolor": "white",
            "linecolor": "white",
            "ticks": ""
           },
           "bgcolor": "#E5ECF6",
           "caxis": {
            "gridcolor": "white",
            "linecolor": "white",
            "ticks": ""
           }
          },
          "title": {
           "x": 0.05
          },
          "xaxis": {
           "automargin": true,
           "gridcolor": "white",
           "linecolor": "white",
           "ticks": "",
           "title": {
            "standoff": 15
           },
           "zerolinecolor": "white",
           "zerolinewidth": 2
          },
          "yaxis": {
           "automargin": true,
           "gridcolor": "white",
           "linecolor": "white",
           "ticks": "",
           "title": {
            "standoff": 15
           },
           "zerolinecolor": "white",
           "zerolinewidth": 2
          }
         }
        },
        "xaxis": {
         "anchor": "y",
         "domain": [
          0,
          1
         ],
         "title": {
          "text": "x"
         }
        },
        "yaxis": {
         "anchor": "x",
         "domain": [
          0,
          1
         ],
         "title": {
          "text": "y"
         }
        }
       }
      },
      "text/html": [
       "<div>                            <div id=\"54881809-b0d0-49a9-88fa-9769effa1a0a\" class=\"plotly-graph-div\" style=\"height:525px; width:100%;\"></div>            <script type=\"text/javascript\">                require([\"plotly\"], function(Plotly) {                    window.PLOTLYENV=window.PLOTLYENV || {};                                    if (document.getElementById(\"54881809-b0d0-49a9-88fa-9769effa1a0a\")) {                    Plotly.newPlot(                        \"54881809-b0d0-49a9-88fa-9769effa1a0a\",                        [{\"hovertemplate\": \"x=%{x}<br>y=%{y}<extra></extra>\", \"legendgroup\": \"\", \"marker\": {\"color\": \"#636efa\", \"symbol\": \"circle\"}, \"mode\": \"markers\", \"name\": \"\", \"orientation\": \"v\", \"showlegend\": false, \"type\": \"scatter\", \"x\": [1, 2, 3, 4, 5, 6, 7, 8, 9, 10, 11, 12, 13, 14, 15, 16, 17, 18, 19, 20, 21, 22, 23, 24, 25, 26, 27, 28, 29, 30, 31, 32, 33, 34, 35, 36, 37, 38, 39, 40, 41, 42, 43, 44, 45, 46, 47, 48, 49, 50, 51, 52, 53, 54, 55, 56, 57, 58, 59, 60, 61, 62, 63, 64, 65, 66, 67, 68, 69, 70, 71, 72, 73, 74, 75, 76, 77, 78, 79, 80, 81, 82, 83, 84, 85, 86, 87, 88, 89, 90, 91, 92, 93, 94, 95, 96, 97, 98, 99, 100], \"xaxis\": \"x\", \"y\": [107, 332, 843, 1152, 2010, 2198, 2798, 3585, 3708, 3708, 3823, 4420, 4781, 4890, 5334, 5657, 5974, 6499, 6603, 6781, 7004, 7004, 7362, 7549, 7759, 8092, 8098, 8101, 8104, 8224, 8290, 8290, 8501, 8793, 8945, 9016, 9028, 9061, 9065, 9081, 9109, 9164, 9212, 9265, 9333, 9375, 9380, 9414, 9425, 9445, 9445, 9463, 9479, 9489, 9508, 9520, 9520, 9521, 9534, 9535, 9543, 9553, 9553, 9553, 9553, 9558, 9558, 9559, 9558, 9558, 9558, 9559, 9564, 9574, 9574, 9574, 9575, 9575, 9575, 9576, 9576, 9577, 9577, 9577, 9576, 9576, 9576, 9576, 9576, 9576, 9576, 9576, 9576, 9576, 9577, 9578, 9578, 9578, 9578, 9577], \"yaxis\": \"y\"}],                        {\"legend\": {\"tracegroupgap\": 0}, \"margin\": {\"t\": 60}, \"template\": {\"data\": {\"bar\": [{\"error_x\": {\"color\": \"#2a3f5f\"}, \"error_y\": {\"color\": \"#2a3f5f\"}, \"marker\": {\"line\": {\"color\": \"#E5ECF6\", \"width\": 0.5}}, \"type\": \"bar\"}], \"barpolar\": [{\"marker\": {\"line\": {\"color\": \"#E5ECF6\", \"width\": 0.5}}, \"type\": \"barpolar\"}], \"carpet\": [{\"aaxis\": {\"endlinecolor\": \"#2a3f5f\", \"gridcolor\": \"white\", \"linecolor\": \"white\", \"minorgridcolor\": \"white\", \"startlinecolor\": \"#2a3f5f\"}, \"baxis\": {\"endlinecolor\": \"#2a3f5f\", \"gridcolor\": \"white\", \"linecolor\": \"white\", \"minorgridcolor\": \"white\", \"startlinecolor\": \"#2a3f5f\"}, \"type\": \"carpet\"}], \"choropleth\": [{\"colorbar\": {\"outlinewidth\": 0, \"ticks\": \"\"}, \"type\": \"choropleth\"}], \"contour\": [{\"colorbar\": {\"outlinewidth\": 0, \"ticks\": \"\"}, \"colorscale\": [[0.0, \"#0d0887\"], [0.1111111111111111, \"#46039f\"], [0.2222222222222222, \"#7201a8\"], [0.3333333333333333, \"#9c179e\"], [0.4444444444444444, \"#bd3786\"], [0.5555555555555556, \"#d8576b\"], [0.6666666666666666, \"#ed7953\"], [0.7777777777777778, \"#fb9f3a\"], [0.8888888888888888, \"#fdca26\"], [1.0, \"#f0f921\"]], \"type\": \"contour\"}], \"contourcarpet\": [{\"colorbar\": {\"outlinewidth\": 0, \"ticks\": \"\"}, \"type\": \"contourcarpet\"}], \"heatmap\": [{\"colorbar\": {\"outlinewidth\": 0, \"ticks\": \"\"}, \"colorscale\": [[0.0, \"#0d0887\"], [0.1111111111111111, \"#46039f\"], [0.2222222222222222, \"#7201a8\"], [0.3333333333333333, \"#9c179e\"], [0.4444444444444444, \"#bd3786\"], [0.5555555555555556, \"#d8576b\"], [0.6666666666666666, \"#ed7953\"], [0.7777777777777778, \"#fb9f3a\"], [0.8888888888888888, \"#fdca26\"], [1.0, \"#f0f921\"]], \"type\": \"heatmap\"}], \"heatmapgl\": [{\"colorbar\": {\"outlinewidth\": 0, \"ticks\": \"\"}, \"colorscale\": [[0.0, \"#0d0887\"], [0.1111111111111111, \"#46039f\"], [0.2222222222222222, \"#7201a8\"], [0.3333333333333333, \"#9c179e\"], [0.4444444444444444, \"#bd3786\"], [0.5555555555555556, \"#d8576b\"], [0.6666666666666666, \"#ed7953\"], [0.7777777777777778, \"#fb9f3a\"], [0.8888888888888888, \"#fdca26\"], [1.0, \"#f0f921\"]], \"type\": \"heatmapgl\"}], \"histogram\": [{\"marker\": {\"colorbar\": {\"outlinewidth\": 0, \"ticks\": \"\"}}, \"type\": \"histogram\"}], \"histogram2d\": [{\"colorbar\": {\"outlinewidth\": 0, \"ticks\": \"\"}, \"colorscale\": [[0.0, \"#0d0887\"], [0.1111111111111111, \"#46039f\"], [0.2222222222222222, \"#7201a8\"], [0.3333333333333333, \"#9c179e\"], [0.4444444444444444, \"#bd3786\"], [0.5555555555555556, \"#d8576b\"], [0.6666666666666666, \"#ed7953\"], [0.7777777777777778, \"#fb9f3a\"], [0.8888888888888888, \"#fdca26\"], [1.0, \"#f0f921\"]], \"type\": \"histogram2d\"}], \"histogram2dcontour\": [{\"colorbar\": {\"outlinewidth\": 0, \"ticks\": \"\"}, \"colorscale\": [[0.0, \"#0d0887\"], [0.1111111111111111, \"#46039f\"], [0.2222222222222222, \"#7201a8\"], [0.3333333333333333, \"#9c179e\"], [0.4444444444444444, \"#bd3786\"], [0.5555555555555556, \"#d8576b\"], [0.6666666666666666, \"#ed7953\"], [0.7777777777777778, \"#fb9f3a\"], [0.8888888888888888, \"#fdca26\"], [1.0, \"#f0f921\"]], \"type\": \"histogram2dcontour\"}], \"mesh3d\": [{\"colorbar\": {\"outlinewidth\": 0, \"ticks\": \"\"}, \"type\": \"mesh3d\"}], \"parcoords\": [{\"line\": {\"colorbar\": {\"outlinewidth\": 0, \"ticks\": \"\"}}, \"type\": \"parcoords\"}], \"pie\": [{\"automargin\": true, \"type\": \"pie\"}], \"scatter\": [{\"marker\": {\"colorbar\": {\"outlinewidth\": 0, \"ticks\": \"\"}}, \"type\": \"scatter\"}], \"scatter3d\": [{\"line\": {\"colorbar\": {\"outlinewidth\": 0, \"ticks\": \"\"}}, \"marker\": {\"colorbar\": {\"outlinewidth\": 0, \"ticks\": \"\"}}, \"type\": \"scatter3d\"}], \"scattercarpet\": [{\"marker\": {\"colorbar\": {\"outlinewidth\": 0, \"ticks\": \"\"}}, \"type\": \"scattercarpet\"}], \"scattergeo\": [{\"marker\": {\"colorbar\": {\"outlinewidth\": 0, \"ticks\": \"\"}}, \"type\": \"scattergeo\"}], \"scattergl\": [{\"marker\": {\"colorbar\": {\"outlinewidth\": 0, \"ticks\": \"\"}}, \"type\": \"scattergl\"}], \"scattermapbox\": [{\"marker\": {\"colorbar\": {\"outlinewidth\": 0, \"ticks\": \"\"}}, \"type\": \"scattermapbox\"}], \"scatterpolar\": [{\"marker\": {\"colorbar\": {\"outlinewidth\": 0, \"ticks\": \"\"}}, \"type\": \"scatterpolar\"}], \"scatterpolargl\": [{\"marker\": {\"colorbar\": {\"outlinewidth\": 0, \"ticks\": \"\"}}, \"type\": \"scatterpolargl\"}], \"scatterternary\": [{\"marker\": {\"colorbar\": {\"outlinewidth\": 0, \"ticks\": \"\"}}, \"type\": \"scatterternary\"}], \"surface\": [{\"colorbar\": {\"outlinewidth\": 0, \"ticks\": \"\"}, \"colorscale\": [[0.0, \"#0d0887\"], [0.1111111111111111, \"#46039f\"], [0.2222222222222222, \"#7201a8\"], [0.3333333333333333, \"#9c179e\"], [0.4444444444444444, \"#bd3786\"], [0.5555555555555556, \"#d8576b\"], [0.6666666666666666, \"#ed7953\"], [0.7777777777777778, \"#fb9f3a\"], [0.8888888888888888, \"#fdca26\"], [1.0, \"#f0f921\"]], \"type\": \"surface\"}], \"table\": [{\"cells\": {\"fill\": {\"color\": \"#EBF0F8\"}, \"line\": {\"color\": \"white\"}}, \"header\": {\"fill\": {\"color\": \"#C8D4E3\"}, \"line\": {\"color\": \"white\"}}, \"type\": \"table\"}]}, \"layout\": {\"annotationdefaults\": {\"arrowcolor\": \"#2a3f5f\", \"arrowhead\": 0, \"arrowwidth\": 1}, \"autotypenumbers\": \"strict\", \"coloraxis\": {\"colorbar\": {\"outlinewidth\": 0, \"ticks\": \"\"}}, \"colorscale\": {\"diverging\": [[0, \"#8e0152\"], [0.1, \"#c51b7d\"], [0.2, \"#de77ae\"], [0.3, \"#f1b6da\"], [0.4, \"#fde0ef\"], [0.5, \"#f7f7f7\"], [0.6, \"#e6f5d0\"], [0.7, \"#b8e186\"], [0.8, \"#7fbc41\"], [0.9, \"#4d9221\"], [1, \"#276419\"]], \"sequential\": [[0.0, \"#0d0887\"], [0.1111111111111111, \"#46039f\"], [0.2222222222222222, \"#7201a8\"], [0.3333333333333333, \"#9c179e\"], [0.4444444444444444, \"#bd3786\"], [0.5555555555555556, \"#d8576b\"], [0.6666666666666666, \"#ed7953\"], [0.7777777777777778, \"#fb9f3a\"], [0.8888888888888888, \"#fdca26\"], [1.0, \"#f0f921\"]], \"sequentialminus\": [[0.0, \"#0d0887\"], [0.1111111111111111, \"#46039f\"], [0.2222222222222222, \"#7201a8\"], [0.3333333333333333, \"#9c179e\"], [0.4444444444444444, \"#bd3786\"], [0.5555555555555556, \"#d8576b\"], [0.6666666666666666, \"#ed7953\"], [0.7777777777777778, \"#fb9f3a\"], [0.8888888888888888, \"#fdca26\"], [1.0, \"#f0f921\"]]}, \"colorway\": [\"#636efa\", \"#EF553B\", \"#00cc96\", \"#ab63fa\", \"#FFA15A\", \"#19d3f3\", \"#FF6692\", \"#B6E880\", \"#FF97FF\", \"#FECB52\"], \"font\": {\"color\": \"#2a3f5f\"}, \"geo\": {\"bgcolor\": \"white\", \"lakecolor\": \"white\", \"landcolor\": \"#E5ECF6\", \"showlakes\": true, \"showland\": true, \"subunitcolor\": \"white\"}, \"hoverlabel\": {\"align\": \"left\"}, \"hovermode\": \"closest\", \"mapbox\": {\"style\": \"light\"}, \"paper_bgcolor\": \"white\", \"plot_bgcolor\": \"#E5ECF6\", \"polar\": {\"angularaxis\": {\"gridcolor\": \"white\", \"linecolor\": \"white\", \"ticks\": \"\"}, \"bgcolor\": \"#E5ECF6\", \"radialaxis\": {\"gridcolor\": \"white\", \"linecolor\": \"white\", \"ticks\": \"\"}}, \"scene\": {\"xaxis\": {\"backgroundcolor\": \"#E5ECF6\", \"gridcolor\": \"white\", \"gridwidth\": 2, \"linecolor\": \"white\", \"showbackground\": true, \"ticks\": \"\", \"zerolinecolor\": \"white\"}, \"yaxis\": {\"backgroundcolor\": \"#E5ECF6\", \"gridcolor\": \"white\", \"gridwidth\": 2, \"linecolor\": \"white\", \"showbackground\": true, \"ticks\": \"\", \"zerolinecolor\": \"white\"}, \"zaxis\": {\"backgroundcolor\": \"#E5ECF6\", \"gridcolor\": \"white\", \"gridwidth\": 2, \"linecolor\": \"white\", \"showbackground\": true, \"ticks\": \"\", \"zerolinecolor\": \"white\"}}, \"shapedefaults\": {\"line\": {\"color\": \"#2a3f5f\"}}, \"ternary\": {\"aaxis\": {\"gridcolor\": \"white\", \"linecolor\": \"white\", \"ticks\": \"\"}, \"baxis\": {\"gridcolor\": \"white\", \"linecolor\": \"white\", \"ticks\": \"\"}, \"bgcolor\": \"#E5ECF6\", \"caxis\": {\"gridcolor\": \"white\", \"linecolor\": \"white\", \"ticks\": \"\"}}, \"title\": {\"x\": 0.05}, \"xaxis\": {\"automargin\": true, \"gridcolor\": \"white\", \"linecolor\": \"white\", \"ticks\": \"\", \"title\": {\"standoff\": 15}, \"zerolinecolor\": \"white\", \"zerolinewidth\": 2}, \"yaxis\": {\"automargin\": true, \"gridcolor\": \"white\", \"linecolor\": \"white\", \"ticks\": \"\", \"title\": {\"standoff\": 15}, \"zerolinecolor\": \"white\", \"zerolinewidth\": 2}}}, \"xaxis\": {\"anchor\": \"y\", \"domain\": [0.0, 1.0], \"title\": {\"text\": \"x\"}}, \"yaxis\": {\"anchor\": \"x\", \"domain\": [0.0, 1.0], \"title\": {\"text\": \"y\"}}},                        {\"responsive\": true}                    ).then(function(){\n",
       "                            \n",
       "var gd = document.getElementById('54881809-b0d0-49a9-88fa-9769effa1a0a');\n",
       "var x = new MutationObserver(function (mutations, observer) {{\n",
       "        var display = window.getComputedStyle(gd).display;\n",
       "        if (!display || display === 'none') {{\n",
       "            console.log([gd, 'removed!']);\n",
       "            Plotly.purge(gd);\n",
       "            observer.disconnect();\n",
       "        }}\n",
       "}});\n",
       "\n",
       "// Listen for the removal of the full notebook cells\n",
       "var notebookContainer = gd.closest('#notebook-container');\n",
       "if (notebookContainer) {{\n",
       "    x.observe(notebookContainer, {childList: true});\n",
       "}}\n",
       "\n",
       "// Listen for the clearing of the current output cell\n",
       "var outputEl = gd.closest('.output');\n",
       "if (outputEl) {{\n",
       "    x.observe(outputEl, {childList: true});\n",
       "}}\n",
       "\n",
       "                        })                };                });            </script>        </div>"
      ]
     },
     "metadata": {},
     "output_type": "display_data"
    }
   ],
   "source": [
    "import plotly.express as px\n",
    "keys = acrcy_dict.keys()\n",
    "values = acrcy_dict.values()\n",
    "\n",
    "px.scatter(x=keys,y=values)"
   ]
  },
  {
   "cell_type": "code",
   "execution_count": 41,
   "metadata": {},
   "outputs": [
    {
     "data": {
      "text/plain": [
       "0"
      ]
     },
     "execution_count": 41,
     "metadata": {},
     "output_type": "execute_result"
    }
   ],
   "source": [
    "# Returns the number of times an element occurs in a list\n",
    "find_in_arr(994,parent_dict[99])"
   ]
  },
  {
   "cell_type": "code",
   "execution_count": 54,
   "metadata": {},
   "outputs": [
    {
     "data": {
      "text/plain": [
       "[0,\n",
       " 9872,\n",
       " 21601,\n",
       " 23924,\n",
       " 25815,\n",
       " 48380,\n",
       " 50272,\n",
       " 51978,\n",
       " 113706,\n",
       " 159978,\n",
       " 174077,\n",
       " 176345,\n",
       " 197538,\n",
       " 209200,\n",
       " 209577,\n",
       " 214115,\n",
       " 225798,\n",
       " 226294,\n",
       " 227588,\n",
       " 234524,\n",
       " 246956,\n",
       " 258959,\n",
       " 262767,\n",
       " 262981,\n",
       " 273525,\n",
       " 277238,\n",
       " 281451,\n",
       " 289510,\n",
       " 289529,\n",
       " 312364,\n",
       " 315654,\n",
       " 358120,\n",
       " 359534,\n",
       " 383872,\n",
       " 386324,\n",
       " 397438,\n",
       " 422114,\n",
       " 424832,\n",
       " 469150,\n",
       " 470816,\n",
       " 474113,\n",
       " 476475,\n",
       " 480454,\n",
       " 486103,\n",
       " 501504,\n",
       " 508355,\n",
       " 520956,\n",
       " 532232,\n",
       " 536392,\n",
       " 538353,\n",
       " 538926,\n",
       " 543350,\n",
       " 546103,\n",
       " 559236,\n",
       " 571839,\n",
       " 632881,\n",
       " 640682,\n",
       " 649480,\n",
       " 668177,\n",
       " 680060,\n",
       " 681985,\n",
       " 727081,\n",
       " 745442,\n",
       " 754649,\n",
       " 770806,\n",
       " 776832,\n",
       " 780117,\n",
       " 796973,\n",
       " 811466,\n",
       " 822770,\n",
       " 831203,\n",
       " 855636,\n",
       " 855882,\n",
       " 881473,\n",
       " 888676,\n",
       " 892619,\n",
       " 914870,\n",
       " 926108,\n",
       " 926739,\n",
       " 932556,\n",
       " 934436,\n",
       " 935009,\n",
       " 940439,\n",
       " 951968,\n",
       " 958551,\n",
       " 975463,\n",
       " 996552,\n",
       " 1000017,\n",
       " 1006128,\n",
       " 1035903,\n",
       " 1058670,\n",
       " 1114543,\n",
       " 1115259,\n",
       " 1136864,\n",
       " 1140122,\n",
       " 1146995]"
      ]
     },
     "execution_count": 54,
     "metadata": {},
     "output_type": "execute_result"
    }
   ],
   "source": [
    "clustering1 = display_parent(parent_dict[77])\n",
    "clustering1[0]"
   ]
  },
  {
   "cell_type": "code",
   "execution_count": 55,
   "metadata": {},
   "outputs": [
    {
     "data": {
      "text/plain": [
       "[0,\n",
       " 9872,\n",
       " 21601,\n",
       " 23924,\n",
       " 25815,\n",
       " 48380,\n",
       " 50272,\n",
       " 51978,\n",
       " 113706,\n",
       " 159978,\n",
       " 174077,\n",
       " 176345,\n",
       " 197538,\n",
       " 209200,\n",
       " 209577,\n",
       " 214115,\n",
       " 225798,\n",
       " 226294,\n",
       " 227588,\n",
       " 234524,\n",
       " 246956,\n",
       " 258959,\n",
       " 262767,\n",
       " 262981,\n",
       " 273525,\n",
       " 277238,\n",
       " 281451,\n",
       " 289510,\n",
       " 289529,\n",
       " 312364,\n",
       " 315654,\n",
       " 358120,\n",
       " 359534,\n",
       " 383872,\n",
       " 386324,\n",
       " 397438,\n",
       " 422114,\n",
       " 424832,\n",
       " 469150,\n",
       " 470816,\n",
       " 474113,\n",
       " 476475,\n",
       " 480454,\n",
       " 486103,\n",
       " 501504,\n",
       " 508355,\n",
       " 520956,\n",
       " 532232,\n",
       " 536392,\n",
       " 538353,\n",
       " 538926,\n",
       " 543350,\n",
       " 546103,\n",
       " 559236,\n",
       " 571839,\n",
       " 632881,\n",
       " 640682,\n",
       " 649480,\n",
       " 668177,\n",
       " 680060,\n",
       " 681985,\n",
       " 727081,\n",
       " 745442,\n",
       " 754649,\n",
       " 770806,\n",
       " 776832,\n",
       " 780117,\n",
       " 796973,\n",
       " 811466,\n",
       " 822770,\n",
       " 831203,\n",
       " 855636,\n",
       " 855882,\n",
       " 881473,\n",
       " 888676,\n",
       " 892619,\n",
       " 914870,\n",
       " 926108,\n",
       " 926739,\n",
       " 932556,\n",
       " 934436,\n",
       " 935009,\n",
       " 940439,\n",
       " 951968,\n",
       " 958551,\n",
       " 975463,\n",
       " 996552,\n",
       " 1000017,\n",
       " 1006128,\n",
       " 1035903,\n",
       " 1058670,\n",
       " 1114543,\n",
       " 1115259,\n",
       " 1136864,\n",
       " 1140122,\n",
       " 1146995]"
      ]
     },
     "execution_count": 55,
     "metadata": {},
     "output_type": "execute_result"
    }
   ],
   "source": [
    "clustering2 = display_parent(parent_dict[78])\n",
    "clustering2[0]"
   ]
  },
  {
   "cell_type": "code",
   "execution_count": 56,
   "metadata": {},
   "outputs": [
    {
     "data": {
      "text/plain": [
       "False"
      ]
     },
     "execution_count": 56,
     "metadata": {},
     "output_type": "execute_result"
    }
   ],
   "source": [
    "clustering1 == clustering2"
   ]
  },
  {
   "cell_type": "code",
   "execution_count": 57,
   "metadata": {},
   "outputs": [
    {
     "data": {
      "text/plain": [
       "False"
      ]
     },
     "execution_count": 57,
     "metadata": {},
     "output_type": "execute_result"
    }
   ],
   "source": [
    "parent_dict[0]==parent_dict[3] "
   ]
  },
  {
   "cell_type": "code",
   "execution_count": 35,
   "metadata": {},
   "outputs": [],
   "source": [
    "# !git status "
   ]
  },
  {
   "cell_type": "code",
   "execution_count": 36,
   "metadata": {},
   "outputs": [],
   "source": [
    "# !git add Clustering-algorithm-single-core-\\(120,0.9\\).ipynb"
   ]
  },
  {
   "cell_type": "code",
   "execution_count": 34,
   "metadata": {},
   "outputs": [
    {
     "name": "stdout",
     "output_type": "stream",
     "text": [
      "On branch master\n",
      "Changes to be committed:\n",
      "  (use \"git restore --staged <file>...\" to unstage)\n",
      "\t\u001b[32mdeleted:    Clustering -Copy1.ipynb\u001b[m\n",
      "\t\u001b[32mdeleted:    Clustering -Copy2.ipynb\u001b[m\n",
      "\t\u001b[32mnew file:   Clustering-algorithm-single-core-(120,0.9).ipynb\u001b[m\n",
      "\t\u001b[32mmodified:   Clustering-parent_array.ipynb\u001b[m\n",
      "\t\u001b[32mdeleted:    parent_file_12_6_6.txt\u001b[m\n",
      "\t\u001b[32mdeleted:    parent_file_16_8_6.txt\u001b[m\n",
      "\n",
      "Untracked files:\n",
      "  (use \"git add <file>...\" to include in what will be committed)\n",
      "\t\u001b[31m.ipynb_checkpoints/\u001b[m\n",
      "\t\u001b[31mClustering-algorithm-accuracy-measure.ipynb\u001b[m\n",
      "\t\u001b[31mClustering-algorithm-single-core-(200,0.6).ipynb\u001b[m\n",
      "\t\u001b[31macrcy_dict_12_8_6_120_0.9.json\u001b[m\n",
      "\t\u001b[31merrors_shuffled.txt\u001b[m\n",
      "\t\u001b[31mevyat.txt\u001b[m\n",
      "\t\u001b[31mnips-2017-camera-long.pdf\u001b[m\n",
      "\t\u001b[31mparent_dict_12_8_6_120_0.9.json\u001b[m\n",
      "\t\u001b[31mparent_file_12_8_6.txt\u001b[m\n",
      "\t\u001b[31mparent_file_12_8_6_120_0.9.txt\u001b[m\n",
      "\t\u001b[31mparent_file_12_8_6_acrcy.txt\u001b[m\n",
      "\t\u001b[31mparent_file_12_8_6_acrcy_120_0.9.txt\u001b[m\n",
      "\t\u001b[31mparent_file_12_8_6_ver2.txt\u001b[m\n",
      "\t\u001b[31mtargetBlawat et al.LDPC.txt\u001b[m\n",
      "\t\u001b[31m../Scaling of Errors with cluster size/\u001b[m\n",
      "\n",
      "[master 95e8b74] fixed bugs in acrcy_dict\n",
      " 6 files changed, 283364 insertions(+), 2569276 deletions(-)\n",
      " delete mode 100644 Clustering Reads/Clustering -Copy1.ipynb\n",
      " delete mode 100644 Clustering Reads/Clustering -Copy2.ipynb\n",
      " create mode 100644 Clustering Reads/Clustering-algorithm-single-core-(120,0.9).ipynb\n",
      " delete mode 100644 Clustering Reads/parent_file_12_6_6.txt\n",
      " delete mode 100644 Clustering Reads/parent_file_16_8_6.txt\n",
      "Enumerating objects: 8, done.\n",
      "Counting objects: 100% (8/8), done.\n",
      "Delta compression using up to 8 threads\n",
      "Compressing objects: 100% (5/5), done.\n",
      "Writing objects: 100% (5/5), 1.22 MiB | 2.24 MiB/s, done.\n",
      "Total 5 (delta 1), reused 0 (delta 0)\n",
      "remote: Resolving deltas: 100% (1/1), completed with 1 local object.\u001b[K\n",
      "To github.com:shubhranshsinghvi/DNADS.git\n",
      "   bcf7b66..95e8b74  master -> master\n"
     ]
    }
   ],
   "source": [
    "# !git add -u && git status && git commit -m \"fixed bugs in acrcy_dict\" && git push origin master "
   ]
  },
  {
   "cell_type": "code",
   "execution_count": null,
   "metadata": {},
   "outputs": [],
   "source": []
  }
 ],
 "metadata": {
  "kernelspec": {
   "display_name": "Python 3",
   "language": "python",
   "name": "python3"
  },
  "language_info": {
   "codemirror_mode": {
    "name": "ipython",
    "version": 3
   },
   "file_extension": ".py",
   "mimetype": "text/x-python",
   "name": "python",
   "nbconvert_exporter": "python",
   "pygments_lexer": "ipython3",
   "version": "3.8.5"
  }
 },
 "nbformat": 4,
 "nbformat_minor": 4
}
